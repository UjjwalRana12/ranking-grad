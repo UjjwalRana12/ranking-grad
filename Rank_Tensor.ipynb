{
  "nbformat": 4,
  "nbformat_minor": 0,
  "metadata": {
    "colab": {
      "provenance": [],
      "authorship_tag": "ABX9TyM/V4Yt9X58o0XOrcMJ1yU0"
    },
    "kernelspec": {
      "name": "python3",
      "display_name": "Python 3"
    },
    "language_info": {
      "name": "python"
    }
  },
  "cells": [
    {
      "cell_type": "code",
      "source": [
        "import math"
      ],
      "metadata": {
        "id": "2c5725h8h9Md"
      },
      "execution_count": 364,
      "outputs": []
    },
    {
      "cell_type": "code",
      "source": [
        "class Rank:\n",
        "  def __init__(self,data,_children=(),_op='',label=''):\n",
        "    self.data=data\n",
        "    self._backward = lambda: None\n",
        "    self.grad=0\n",
        "    self._children=set(_children)\n",
        "    self._op=_op\n",
        "    self.label=label\n",
        "\n",
        "  def __repr__(self):\n",
        "    return f\"Rank({self.data})\"\n",
        "\n",
        "  def __add__(self, other):\n",
        "      out = Rank(self.data + other.data, (self, other), '+')\n",
        "\n",
        "      def _backward():\n",
        "        self.grad += 1.0 * out.grad\n",
        "        other.grad += 1.0 * out.grad\n",
        "      out._backward = _backward\n",
        "\n",
        "      return out\n",
        "\n",
        "  def __mul__(self, other):\n",
        "    out = Rank(self.data * other.data, (self, other), '*')\n",
        "\n",
        "    def _backward():\n",
        "      self.grad += other.data * out.grad\n",
        "      other.grad += self.data * out.grad\n",
        "    out._backward = _backward\n",
        "\n",
        "    return out\n",
        "\n",
        "  def tanh(self):\n",
        "    x = self.data\n",
        "    t = (math.exp(2*x) - 1)/(math.exp(2*x) + 1)\n",
        "    out = Rank(t, (self, ), 'tanh')\n",
        "\n",
        "    def _backward():\n",
        "      self.grad += (1 - t**2) * out.grad\n",
        "    out._backward = _backward\n",
        "\n",
        "\n",
        "    return out\n",
        "\n",
        "  def backward(self):\n",
        "\n",
        "    topo = []\n",
        "    visited = set()\n",
        "    def build_topo(v):\n",
        "      if v not in visited:\n",
        "        visited.add(v)\n",
        "        for child in v._children:\n",
        "          build_topo(child)\n",
        "        topo.append(v)\n",
        "    build_topo(self)\n",
        "\n",
        "    self.grad = 1.0\n",
        "    for node in reversed(topo):\n",
        "      node._backward()\n",
        "\n",
        "\n",
        "\n"
      ],
      "metadata": {
        "id": "RP3Gal3xXJVU"
      },
      "execution_count": 365,
      "outputs": []
    },
    {
      "cell_type": "code",
      "source": [],
      "metadata": {
        "id": "s1DFOmxCh8jR"
      },
      "execution_count": 365,
      "outputs": []
    },
    {
      "cell_type": "code",
      "source": [
        "# a=Rank(2)\n",
        "# a"
      ],
      "metadata": {
        "id": "T9OAqk-3XJeN"
      },
      "execution_count": 366,
      "outputs": []
    },
    {
      "cell_type": "code",
      "source": [
        "# b=Rank(2)\n",
        "# b"
      ],
      "metadata": {
        "id": "2fbzzktzaCXh"
      },
      "execution_count": 367,
      "outputs": []
    },
    {
      "cell_type": "code",
      "source": [
        "# a.__add__(b)"
      ],
      "metadata": {
        "id": "qXo2fQQjaAO9"
      },
      "execution_count": 368,
      "outputs": []
    },
    {
      "cell_type": "code",
      "source": [
        "# print(a+b)"
      ],
      "metadata": {
        "id": "XNvGylDVaqsB"
      },
      "execution_count": 369,
      "outputs": []
    },
    {
      "cell_type": "code",
      "source": [
        "# c=a+b"
      ],
      "metadata": {
        "id": "DGqftW0HeJds"
      },
      "execution_count": 370,
      "outputs": []
    },
    {
      "cell_type": "code",
      "source": [
        "# c._children"
      ],
      "metadata": {
        "id": "6_dd4RXAeB--"
      },
      "execution_count": 371,
      "outputs": []
    },
    {
      "cell_type": "code",
      "source": [
        "# rank1 = Rank(10)\n",
        "# rank2 = Rank(5)\n",
        "\n",
        "# c = rank1 + rank2\n",
        "# print(c)\n",
        "# print(c._children)"
      ],
      "metadata": {
        "id": "IwlooDECefaE"
      },
      "execution_count": 372,
      "outputs": []
    },
    {
      "cell_type": "code",
      "source": [
        "# c._op"
      ],
      "metadata": {
        "id": "oe9eO-w3eB7F"
      },
      "execution_count": 373,
      "outputs": []
    },
    {
      "cell_type": "code",
      "source": [
        "a=Rank(2,label='a')\n",
        "b=Rank(3,label='b')\n",
        "\n",
        "c=Rank(4,label='c')"
      ],
      "metadata": {
        "id": "-OcPLifrgiFZ"
      },
      "execution_count": 374,
      "outputs": []
    },
    {
      "cell_type": "code",
      "source": [
        "e=a+b"
      ],
      "metadata": {
        "id": "1iNzc5q_cyxz"
      },
      "execution_count": 375,
      "outputs": []
    },
    {
      "cell_type": "code",
      "source": [
        "d=e+c\n",
        "d.label='d'\n",
        "e.label='e'"
      ],
      "metadata": {
        "id": "edNFVI0jf4_m"
      },
      "execution_count": 376,
      "outputs": []
    },
    {
      "cell_type": "code",
      "source": [
        "d"
      ],
      "metadata": {
        "colab": {
          "base_uri": "https://localhost:8080/"
        },
        "id": "cXZnHgZ5f7IG",
        "outputId": "ce14e805-138a-49d6-cf6c-901b3f3de247"
      },
      "execution_count": 377,
      "outputs": [
        {
          "output_type": "execute_result",
          "data": {
            "text/plain": [
              "Rank(9)"
            ]
          },
          "metadata": {},
          "execution_count": 377
        }
      ]
    },
    {
      "cell_type": "code",
      "source": [
        "from graphviz import Digraph\n",
        "\n",
        "def trace(root):\n",
        "  # builds a set of all nodes and edges in a graph\n",
        "  nodes, edges = set(), set()\n",
        "  def build(v):\n",
        "    if v not in nodes:\n",
        "      nodes.add(v)\n",
        "      for child in v._children:\n",
        "        edges.add((child, v))\n",
        "        build(child)\n",
        "  build(root)\n",
        "  return nodes, edges\n",
        "\n",
        "def draw_dot(root):\n",
        "  dot = Digraph(format='svg', graph_attr={'rankdir': 'LR'}) # LR = left to right\n",
        "\n",
        "  nodes, edges = trace(root)\n",
        "  for n in nodes:\n",
        "    uid = str(id(n))\n",
        "    # for any value in the graph, create a rectangular ('record') node for it\n",
        "    dot.node(name = uid, label = \"{  data %.4f }\" % ( n.data), shape='record')\n",
        "    if n._op:\n",
        "      # if this value is a result of some operation, create an op node for it\n",
        "      dot.node(name = uid + n._op, label = n._op)\n",
        "      # and connect this node to it\n",
        "      dot.edge(uid + n._op, uid)\n",
        "\n",
        "  for n1, n2 in edges:\n",
        "    # connect n1 to the op node of n2\n",
        "    dot.edge(str(id(n1)), str(id(n2)) + n2._op)\n",
        "\n",
        "  return dot"
      ],
      "metadata": {
        "id": "R0OxAe2MeB40"
      },
      "execution_count": 378,
      "outputs": []
    },
    {
      "cell_type": "code",
      "source": [
        "draw_dot(d)"
      ],
      "metadata": {
        "colab": {
          "base_uri": "https://localhost:8080/",
          "height": 190
        },
        "id": "LFAa1iKLeB2L",
        "outputId": "ef7a32b1-3e5b-4152-8efd-38a989e64732"
      },
      "execution_count": 379,
      "outputs": [
        {
          "output_type": "execute_result",
          "data": {
            "image/svg+xml": "<?xml version=\"1.0\" encoding=\"UTF-8\" standalone=\"no\"?>\n<!DOCTYPE svg PUBLIC \"-//W3C//DTD SVG 1.1//EN\"\n \"http://www.w3.org/Graphics/SVG/1.1/DTD/svg11.dtd\">\n<!-- Generated by graphviz version 2.43.0 (0)\n -->\n<!-- Title: %3 Pages: 1 -->\n<svg width=\"500pt\" height=\"127pt\"\n viewBox=\"0.00 0.00 500.00 127.00\" xmlns=\"http://www.w3.org/2000/svg\" xmlns:xlink=\"http://www.w3.org/1999/xlink\">\n<g id=\"graph0\" class=\"graph\" transform=\"scale(1 1) rotate(0) translate(4 123)\">\n<title>%3</title>\n<polygon fill=\"white\" stroke=\"transparent\" points=\"-4,4 -4,-123 496,-123 496,4 -4,4\"/>\n<!-- 136787600913552 -->\n<g id=\"node1\" class=\"node\">\n<title>136787600913552</title>\n<polygon fill=\"none\" stroke=\"black\" points=\"206,-82.5 206,-118.5 286,-118.5 286,-82.5 206,-82.5\"/>\n<text text-anchor=\"middle\" x=\"246\" y=\"-96.8\" font-family=\"Times,serif\" font-size=\"14.00\">data 4.0000</text>\n</g>\n<!-- 136787595799376+ -->\n<g id=\"node5\" class=\"node\">\n<title>136787595799376+</title>\n<ellipse fill=\"none\" stroke=\"black\" cx=\"349\" cy=\"-72.5\" rx=\"27\" ry=\"18\"/>\n<text text-anchor=\"middle\" x=\"349\" y=\"-68.8\" font-family=\"Times,serif\" font-size=\"14.00\">+</text>\n</g>\n<!-- 136787600913552&#45;&gt;136787595799376+ -->\n<g id=\"edge6\" class=\"edge\">\n<title>136787600913552&#45;&gt;136787595799376+</title>\n<path fill=\"none\" stroke=\"black\" d=\"M286.05,-89.67C295.24,-87.13 304.98,-84.43 313.93,-81.94\"/>\n<polygon fill=\"black\" stroke=\"black\" points=\"314.94,-85.3 323.65,-79.25 313.07,-78.55 314.94,-85.3\"/>\n</g>\n<!-- 136787593838352 -->\n<g id=\"node2\" class=\"node\">\n<title>136787593838352</title>\n<polygon fill=\"none\" stroke=\"black\" points=\"0,-55.5 0,-91.5 80,-91.5 80,-55.5 0,-55.5\"/>\n<text text-anchor=\"middle\" x=\"40\" y=\"-69.8\" font-family=\"Times,serif\" font-size=\"14.00\">data 3.0000</text>\n</g>\n<!-- 136787593831888+ -->\n<g id=\"node7\" class=\"node\">\n<title>136787593831888+</title>\n<ellipse fill=\"none\" stroke=\"black\" cx=\"143\" cy=\"-45.5\" rx=\"27\" ry=\"18\"/>\n<text text-anchor=\"middle\" x=\"143\" y=\"-41.8\" font-family=\"Times,serif\" font-size=\"14.00\">+</text>\n</g>\n<!-- 136787593838352&#45;&gt;136787593831888+ -->\n<g id=\"edge5\" class=\"edge\">\n<title>136787593838352&#45;&gt;136787593831888+</title>\n<path fill=\"none\" stroke=\"black\" d=\"M80.05,-62.67C89.24,-60.13 98.98,-57.43 107.93,-54.94\"/>\n<polygon fill=\"black\" stroke=\"black\" points=\"108.94,-58.3 117.65,-52.25 107.07,-51.55 108.94,-58.3\"/>\n</g>\n<!-- 136787593789776 -->\n<g id=\"node3\" class=\"node\">\n<title>136787593789776</title>\n<polygon fill=\"none\" stroke=\"black\" points=\"0,-0.5 0,-36.5 80,-36.5 80,-0.5 0,-0.5\"/>\n<text text-anchor=\"middle\" x=\"40\" y=\"-14.8\" font-family=\"Times,serif\" font-size=\"14.00\">data 2.0000</text>\n</g>\n<!-- 136787593789776&#45;&gt;136787593831888+ -->\n<g id=\"edge3\" class=\"edge\">\n<title>136787593789776&#45;&gt;136787593831888+</title>\n<path fill=\"none\" stroke=\"black\" d=\"M80.05,-28.94C89.24,-31.4 98.98,-34 107.93,-36.39\"/>\n<polygon fill=\"black\" stroke=\"black\" points=\"107.08,-39.79 117.65,-38.99 108.89,-33.03 107.08,-39.79\"/>\n</g>\n<!-- 136787595799376 -->\n<g id=\"node4\" class=\"node\">\n<title>136787595799376</title>\n<polygon fill=\"none\" stroke=\"black\" points=\"412,-54.5 412,-90.5 492,-90.5 492,-54.5 412,-54.5\"/>\n<text text-anchor=\"middle\" x=\"452\" y=\"-68.8\" font-family=\"Times,serif\" font-size=\"14.00\">data 9.0000</text>\n</g>\n<!-- 136787595799376+&#45;&gt;136787595799376 -->\n<g id=\"edge1\" class=\"edge\">\n<title>136787595799376+&#45;&gt;136787595799376</title>\n<path fill=\"none\" stroke=\"black\" d=\"M376.01,-72.5C383.82,-72.5 392.67,-72.5 401.48,-72.5\"/>\n<polygon fill=\"black\" stroke=\"black\" points=\"401.73,-76 411.73,-72.5 401.73,-69 401.73,-76\"/>\n</g>\n<!-- 136787593831888 -->\n<g id=\"node6\" class=\"node\">\n<title>136787593831888</title>\n<polygon fill=\"none\" stroke=\"black\" points=\"206,-27.5 206,-63.5 286,-63.5 286,-27.5 206,-27.5\"/>\n<text text-anchor=\"middle\" x=\"246\" y=\"-41.8\" font-family=\"Times,serif\" font-size=\"14.00\">data 5.0000</text>\n</g>\n<!-- 136787593831888&#45;&gt;136787595799376+ -->\n<g id=\"edge4\" class=\"edge\">\n<title>136787593831888&#45;&gt;136787595799376+</title>\n<path fill=\"none\" stroke=\"black\" d=\"M286.05,-55.94C295.24,-58.4 304.98,-61 313.93,-63.39\"/>\n<polygon fill=\"black\" stroke=\"black\" points=\"313.08,-66.79 323.65,-65.99 314.89,-60.03 313.08,-66.79\"/>\n</g>\n<!-- 136787593831888+&#45;&gt;136787593831888 -->\n<g id=\"edge2\" class=\"edge\">\n<title>136787593831888+&#45;&gt;136787593831888</title>\n<path fill=\"none\" stroke=\"black\" d=\"M170.01,-45.5C177.82,-45.5 186.67,-45.5 195.48,-45.5\"/>\n<polygon fill=\"black\" stroke=\"black\" points=\"195.73,-49 205.73,-45.5 195.73,-42 195.73,-49\"/>\n</g>\n</g>\n</svg>\n",
            "text/plain": [
              "<graphviz.graphs.Digraph at 0x7c68580fa250>"
            ]
          },
          "metadata": {},
          "execution_count": 379
        }
      ]
    },
    {
      "cell_type": "code",
      "source": [
        "from graphviz import Digraph\n",
        "\n",
        "def trace(root):\n",
        "  # builds a set of all nodes and edges in a graph\n",
        "  nodes, edges = set(), set()\n",
        "  def build(v):\n",
        "    if v not in nodes:\n",
        "      nodes.add(v)\n",
        "      for child in v._children:\n",
        "        edges.add((child, v))\n",
        "        build(child)\n",
        "  build(root)\n",
        "  return nodes, edges\n",
        "\n",
        "def draw_dot(root):\n",
        "  dot = Digraph(format='svg', graph_attr={'rankdir': 'LR'}) # LR = left to right\n",
        "\n",
        "  nodes, edges = trace(root)\n",
        "  for n in nodes:\n",
        "    uid = str(id(n))\n",
        "    # for any value in the graph, create a rectangular ('record') node for it\n",
        "    dot.node(name = uid, label = \"{  %s |data %.4f  }\" % (n.label, n.data), shape='record')\n",
        "    if n._op:\n",
        "      # if this value is a result of some operation, create an op node for it\n",
        "      dot.node(name = uid + n._op, label = n._op)\n",
        "      # and connect this node to it\n",
        "      dot.edge(uid + n._op, uid)\n",
        "\n",
        "  for n1, n2 in edges:\n",
        "    # connect n1 to the op node of n2\n",
        "    dot.edge(str(id(n1)), str(id(n2)) + n2._op)\n",
        "\n",
        "  return dot"
      ],
      "metadata": {
        "id": "BJSn9hu_eBzn"
      },
      "execution_count": 380,
      "outputs": []
    },
    {
      "cell_type": "code",
      "source": [
        "draw_dot(d)"
      ],
      "metadata": {
        "colab": {
          "base_uri": "https://localhost:8080/",
          "height": 190
        },
        "id": "gtyHbBpOeBw8",
        "outputId": "48966948-0af1-425c-c525-91c6fe8ab0bb"
      },
      "execution_count": 381,
      "outputs": [
        {
          "output_type": "execute_result",
          "data": {
            "image/svg+xml": "<?xml version=\"1.0\" encoding=\"UTF-8\" standalone=\"no\"?>\n<!DOCTYPE svg PUBLIC \"-//W3C//DTD SVG 1.1//EN\"\n \"http://www.w3.org/Graphics/SVG/1.1/DTD/svg11.dtd\">\n<!-- Generated by graphviz version 2.43.0 (0)\n -->\n<!-- Title: %3 Pages: 1 -->\n<svg width=\"569pt\" height=\"127pt\"\n viewBox=\"0.00 0.00 569.00 127.00\" xmlns=\"http://www.w3.org/2000/svg\" xmlns:xlink=\"http://www.w3.org/1999/xlink\">\n<g id=\"graph0\" class=\"graph\" transform=\"scale(1 1) rotate(0) translate(4 123)\">\n<title>%3</title>\n<polygon fill=\"white\" stroke=\"transparent\" points=\"-4,4 -4,-123 565,-123 565,4 -4,4\"/>\n<!-- 136787600913552 -->\n<g id=\"node1\" class=\"node\">\n<title>136787600913552</title>\n<polygon fill=\"none\" stroke=\"black\" points=\"229,-82.5 229,-118.5 332,-118.5 332,-82.5 229,-82.5\"/>\n<text text-anchor=\"middle\" x=\"240.5\" y=\"-96.8\" font-family=\"Times,serif\" font-size=\"14.00\">c</text>\n<polyline fill=\"none\" stroke=\"black\" points=\"252,-82.5 252,-118.5 \"/>\n<text text-anchor=\"middle\" x=\"292\" y=\"-96.8\" font-family=\"Times,serif\" font-size=\"14.00\">data 4.0000</text>\n</g>\n<!-- 136787595799376+ -->\n<g id=\"node5\" class=\"node\">\n<title>136787595799376+</title>\n<ellipse fill=\"none\" stroke=\"black\" cx=\"395\" cy=\"-72.5\" rx=\"27\" ry=\"18\"/>\n<text text-anchor=\"middle\" x=\"395\" y=\"-68.8\" font-family=\"Times,serif\" font-size=\"14.00\">+</text>\n</g>\n<!-- 136787600913552&#45;&gt;136787595799376+ -->\n<g id=\"edge6\" class=\"edge\">\n<title>136787600913552&#45;&gt;136787595799376+</title>\n<path fill=\"none\" stroke=\"black\" d=\"M332.16,-87.89C341.46,-85.58 350.97,-83.21 359.66,-81.05\"/>\n<polygon fill=\"black\" stroke=\"black\" points=\"360.56,-84.43 369.41,-78.62 358.87,-77.64 360.56,-84.43\"/>\n</g>\n<!-- 136787593838352 -->\n<g id=\"node2\" class=\"node\">\n<title>136787593838352</title>\n<polygon fill=\"none\" stroke=\"black\" points=\"0,-55.5 0,-91.5 103,-91.5 103,-55.5 0,-55.5\"/>\n<text text-anchor=\"middle\" x=\"11.5\" y=\"-69.8\" font-family=\"Times,serif\" font-size=\"14.00\">b</text>\n<polyline fill=\"none\" stroke=\"black\" points=\"23,-55.5 23,-91.5 \"/>\n<text text-anchor=\"middle\" x=\"63\" y=\"-69.8\" font-family=\"Times,serif\" font-size=\"14.00\">data 3.0000</text>\n</g>\n<!-- 136787593831888+ -->\n<g id=\"node7\" class=\"node\">\n<title>136787593831888+</title>\n<ellipse fill=\"none\" stroke=\"black\" cx=\"166\" cy=\"-45.5\" rx=\"27\" ry=\"18\"/>\n<text text-anchor=\"middle\" x=\"166\" y=\"-41.8\" font-family=\"Times,serif\" font-size=\"14.00\">+</text>\n</g>\n<!-- 136787593838352&#45;&gt;136787593831888+ -->\n<g id=\"edge5\" class=\"edge\">\n<title>136787593838352&#45;&gt;136787593831888+</title>\n<path fill=\"none\" stroke=\"black\" d=\"M103.16,-60.89C112.46,-58.58 121.97,-56.21 130.66,-54.05\"/>\n<polygon fill=\"black\" stroke=\"black\" points=\"131.56,-57.43 140.41,-51.62 129.87,-50.64 131.56,-57.43\"/>\n</g>\n<!-- 136787593789776 -->\n<g id=\"node3\" class=\"node\">\n<title>136787593789776</title>\n<polygon fill=\"none\" stroke=\"black\" points=\"0,-0.5 0,-36.5 103,-36.5 103,-0.5 0,-0.5\"/>\n<text text-anchor=\"middle\" x=\"11.5\" y=\"-14.8\" font-family=\"Times,serif\" font-size=\"14.00\">a</text>\n<polyline fill=\"none\" stroke=\"black\" points=\"23,-0.5 23,-36.5 \"/>\n<text text-anchor=\"middle\" x=\"63\" y=\"-14.8\" font-family=\"Times,serif\" font-size=\"14.00\">data 2.0000</text>\n</g>\n<!-- 136787593789776&#45;&gt;136787593831888+ -->\n<g id=\"edge3\" class=\"edge\">\n<title>136787593789776&#45;&gt;136787593831888+</title>\n<path fill=\"none\" stroke=\"black\" d=\"M103.16,-30.66C112.46,-32.89 121.97,-35.17 130.66,-37.26\"/>\n<polygon fill=\"black\" stroke=\"black\" points=\"129.87,-40.67 140.41,-39.6 131.51,-33.86 129.87,-40.67\"/>\n</g>\n<!-- 136787595799376 -->\n<g id=\"node4\" class=\"node\">\n<title>136787595799376</title>\n<polygon fill=\"none\" stroke=\"black\" points=\"458,-54.5 458,-90.5 561,-90.5 561,-54.5 458,-54.5\"/>\n<text text-anchor=\"middle\" x=\"469.5\" y=\"-68.8\" font-family=\"Times,serif\" font-size=\"14.00\">d</text>\n<polyline fill=\"none\" stroke=\"black\" points=\"481,-54.5 481,-90.5 \"/>\n<text text-anchor=\"middle\" x=\"521\" y=\"-68.8\" font-family=\"Times,serif\" font-size=\"14.00\">data 9.0000</text>\n</g>\n<!-- 136787595799376+&#45;&gt;136787595799376 -->\n<g id=\"edge1\" class=\"edge\">\n<title>136787595799376+&#45;&gt;136787595799376</title>\n<path fill=\"none\" stroke=\"black\" d=\"M422.09,-72.5C429.83,-72.5 438.64,-72.5 447.61,-72.5\"/>\n<polygon fill=\"black\" stroke=\"black\" points=\"447.76,-76 457.76,-72.5 447.76,-69 447.76,-76\"/>\n</g>\n<!-- 136787593831888 -->\n<g id=\"node6\" class=\"node\">\n<title>136787593831888</title>\n<polygon fill=\"none\" stroke=\"black\" points=\"229,-27.5 229,-63.5 332,-63.5 332,-27.5 229,-27.5\"/>\n<text text-anchor=\"middle\" x=\"240.5\" y=\"-41.8\" font-family=\"Times,serif\" font-size=\"14.00\">e</text>\n<polyline fill=\"none\" stroke=\"black\" points=\"252,-27.5 252,-63.5 \"/>\n<text text-anchor=\"middle\" x=\"292\" y=\"-41.8\" font-family=\"Times,serif\" font-size=\"14.00\">data 5.0000</text>\n</g>\n<!-- 136787593831888&#45;&gt;136787595799376+ -->\n<g id=\"edge4\" class=\"edge\">\n<title>136787593831888&#45;&gt;136787595799376+</title>\n<path fill=\"none\" stroke=\"black\" d=\"M332.16,-57.66C341.46,-59.89 350.97,-62.17 359.66,-64.26\"/>\n<polygon fill=\"black\" stroke=\"black\" points=\"358.87,-67.67 369.41,-66.6 360.51,-60.86 358.87,-67.67\"/>\n</g>\n<!-- 136787593831888+&#45;&gt;136787593831888 -->\n<g id=\"edge2\" class=\"edge\">\n<title>136787593831888+&#45;&gt;136787593831888</title>\n<path fill=\"none\" stroke=\"black\" d=\"M193.09,-45.5C200.83,-45.5 209.64,-45.5 218.61,-45.5\"/>\n<polygon fill=\"black\" stroke=\"black\" points=\"218.76,-49 228.76,-45.5 218.76,-42 218.76,-49\"/>\n</g>\n</g>\n</svg>\n",
            "text/plain": [
              "<graphviz.graphs.Digraph at 0x7c6857f5a410>"
            ]
          },
          "metadata": {},
          "execution_count": 381
        }
      ]
    },
    {
      "cell_type": "code",
      "source": [
        "f=Rank(-2,label='f')\n",
        "L=d*f\n",
        "L.label='L'"
      ],
      "metadata": {
        "id": "9S3nYQR9eBuL"
      },
      "execution_count": 382,
      "outputs": []
    },
    {
      "cell_type": "code",
      "source": [
        "draw_dot(L)"
      ],
      "metadata": {
        "colab": {
          "base_uri": "https://localhost:8080/",
          "height": 192
        },
        "id": "oTB8NQZDeBrW",
        "outputId": "a2fd3902-02af-4741-b731-4934b4ffc849"
      },
      "execution_count": 383,
      "outputs": [
        {
          "output_type": "execute_result",
          "data": {
            "image/svg+xml": "<?xml version=\"1.0\" encoding=\"UTF-8\" standalone=\"no\"?>\n<!DOCTYPE svg PUBLIC \"-//W3C//DTD SVG 1.1//EN\"\n \"http://www.w3.org/Graphics/SVG/1.1/DTD/svg11.dtd\">\n<!-- Generated by graphviz version 2.43.0 (0)\n -->\n<!-- Title: %3 Pages: 1 -->\n<svg width=\"815pt\" height=\"128pt\"\n viewBox=\"0.00 0.00 815.00 128.00\" xmlns=\"http://www.w3.org/2000/svg\" xmlns:xlink=\"http://www.w3.org/1999/xlink\">\n<g id=\"graph0\" class=\"graph\" transform=\"scale(1 1) rotate(0) translate(4 124)\">\n<title>%3</title>\n<polygon fill=\"white\" stroke=\"transparent\" points=\"-4,4 -4,-124 811,-124 811,4 -4,4\"/>\n<!-- 136787600913552 -->\n<g id=\"node1\" class=\"node\">\n<title>136787600913552</title>\n<polygon fill=\"none\" stroke=\"black\" points=\"229,-83.5 229,-119.5 332,-119.5 332,-83.5 229,-83.5\"/>\n<text text-anchor=\"middle\" x=\"240.5\" y=\"-97.8\" font-family=\"Times,serif\" font-size=\"14.00\">c</text>\n<polyline fill=\"none\" stroke=\"black\" points=\"252,-83.5 252,-119.5 \"/>\n<text text-anchor=\"middle\" x=\"292\" y=\"-97.8\" font-family=\"Times,serif\" font-size=\"14.00\">data 4.0000</text>\n</g>\n<!-- 136787595799376+ -->\n<g id=\"node7\" class=\"node\">\n<title>136787595799376+</title>\n<ellipse fill=\"none\" stroke=\"black\" cx=\"395\" cy=\"-73.5\" rx=\"27\" ry=\"18\"/>\n<text text-anchor=\"middle\" x=\"395\" y=\"-69.8\" font-family=\"Times,serif\" font-size=\"14.00\">+</text>\n</g>\n<!-- 136787600913552&#45;&gt;136787595799376+ -->\n<g id=\"edge9\" class=\"edge\">\n<title>136787600913552&#45;&gt;136787595799376+</title>\n<path fill=\"none\" stroke=\"black\" d=\"M332.16,-88.89C341.46,-86.58 350.97,-84.21 359.66,-82.05\"/>\n<polygon fill=\"black\" stroke=\"black\" points=\"360.56,-85.43 369.41,-79.62 358.87,-78.64 360.56,-85.43\"/>\n</g>\n<!-- 136787594151568 -->\n<g id=\"node2\" class=\"node\">\n<title>136787594151568</title>\n<polygon fill=\"none\" stroke=\"black\" points=\"690,-27.5 690,-63.5 807,-63.5 807,-27.5 690,-27.5\"/>\n<text text-anchor=\"middle\" x=\"702.5\" y=\"-41.8\" font-family=\"Times,serif\" font-size=\"14.00\">L</text>\n<polyline fill=\"none\" stroke=\"black\" points=\"715,-27.5 715,-63.5 \"/>\n<text text-anchor=\"middle\" x=\"761\" y=\"-41.8\" font-family=\"Times,serif\" font-size=\"14.00\">data &#45;18.0000</text>\n</g>\n<!-- 136787594151568* -->\n<g id=\"node3\" class=\"node\">\n<title>136787594151568*</title>\n<ellipse fill=\"none\" stroke=\"black\" cx=\"627\" cy=\"-45.5\" rx=\"27\" ry=\"18\"/>\n<text text-anchor=\"middle\" x=\"627\" y=\"-41.8\" font-family=\"Times,serif\" font-size=\"14.00\">*</text>\n</g>\n<!-- 136787594151568*&#45;&gt;136787594151568 -->\n<g id=\"edge1\" class=\"edge\">\n<title>136787594151568*&#45;&gt;136787594151568</title>\n<path fill=\"none\" stroke=\"black\" d=\"M654.22,-45.5C661.91,-45.5 670.69,-45.5 679.73,-45.5\"/>\n<polygon fill=\"black\" stroke=\"black\" points=\"679.98,-49 689.98,-45.5 679.98,-42 679.98,-49\"/>\n</g>\n<!-- 136787593838352 -->\n<g id=\"node4\" class=\"node\">\n<title>136787593838352</title>\n<polygon fill=\"none\" stroke=\"black\" points=\"0,-56.5 0,-92.5 103,-92.5 103,-56.5 0,-56.5\"/>\n<text text-anchor=\"middle\" x=\"11.5\" y=\"-70.8\" font-family=\"Times,serif\" font-size=\"14.00\">b</text>\n<polyline fill=\"none\" stroke=\"black\" points=\"23,-56.5 23,-92.5 \"/>\n<text text-anchor=\"middle\" x=\"63\" y=\"-70.8\" font-family=\"Times,serif\" font-size=\"14.00\">data 3.0000</text>\n</g>\n<!-- 136787593831888+ -->\n<g id=\"node10\" class=\"node\">\n<title>136787593831888+</title>\n<ellipse fill=\"none\" stroke=\"black\" cx=\"166\" cy=\"-46.5\" rx=\"27\" ry=\"18\"/>\n<text text-anchor=\"middle\" x=\"166\" y=\"-42.8\" font-family=\"Times,serif\" font-size=\"14.00\">+</text>\n</g>\n<!-- 136787593838352&#45;&gt;136787593831888+ -->\n<g id=\"edge7\" class=\"edge\">\n<title>136787593838352&#45;&gt;136787593831888+</title>\n<path fill=\"none\" stroke=\"black\" d=\"M103.16,-61.89C112.46,-59.58 121.97,-57.21 130.66,-55.05\"/>\n<polygon fill=\"black\" stroke=\"black\" points=\"131.56,-58.43 140.41,-52.62 129.87,-51.64 131.56,-58.43\"/>\n</g>\n<!-- 136787594162512 -->\n<g id=\"node5\" class=\"node\">\n<title>136787594162512</title>\n<polygon fill=\"none\" stroke=\"black\" points=\"458,-0.5 458,-36.5 564,-36.5 564,-0.5 458,-0.5\"/>\n<text text-anchor=\"middle\" x=\"468.5\" y=\"-14.8\" font-family=\"Times,serif\" font-size=\"14.00\">f</text>\n<polyline fill=\"none\" stroke=\"black\" points=\"479,-0.5 479,-36.5 \"/>\n<text text-anchor=\"middle\" x=\"521.5\" y=\"-14.8\" font-family=\"Times,serif\" font-size=\"14.00\">data &#45;2.0000</text>\n</g>\n<!-- 136787594162512&#45;&gt;136787594151568* -->\n<g id=\"edge6\" class=\"edge\">\n<title>136787594162512&#45;&gt;136787594151568*</title>\n<path fill=\"none\" stroke=\"black\" d=\"M564.33,-30.89C573.48,-33.06 582.8,-35.27 591.33,-37.29\"/>\n<polygon fill=\"black\" stroke=\"black\" points=\"590.73,-40.74 601.27,-39.64 592.34,-33.93 590.73,-40.74\"/>\n</g>\n<!-- 136787595799376 -->\n<g id=\"node6\" class=\"node\">\n<title>136787595799376</title>\n<polygon fill=\"none\" stroke=\"black\" points=\"459.5,-55.5 459.5,-91.5 562.5,-91.5 562.5,-55.5 459.5,-55.5\"/>\n<text text-anchor=\"middle\" x=\"471\" y=\"-69.8\" font-family=\"Times,serif\" font-size=\"14.00\">d</text>\n<polyline fill=\"none\" stroke=\"black\" points=\"482.5,-55.5 482.5,-91.5 \"/>\n<text text-anchor=\"middle\" x=\"522.5\" y=\"-69.8\" font-family=\"Times,serif\" font-size=\"14.00\">data 9.0000</text>\n</g>\n<!-- 136787595799376&#45;&gt;136787594151568* -->\n<g id=\"edge8\" class=\"edge\">\n<title>136787595799376&#45;&gt;136787594151568*</title>\n<path fill=\"none\" stroke=\"black\" d=\"M562.67,-61.06C572.43,-58.66 582.45,-56.2 591.55,-53.96\"/>\n<polygon fill=\"black\" stroke=\"black\" points=\"592.5,-57.33 601.37,-51.55 590.83,-50.54 592.5,-57.33\"/>\n</g>\n<!-- 136787595799376+&#45;&gt;136787595799376 -->\n<g id=\"edge2\" class=\"edge\">\n<title>136787595799376+&#45;&gt;136787595799376</title>\n<path fill=\"none\" stroke=\"black\" d=\"M422.15,-73.5C430.26,-73.5 439.57,-73.5 449.02,-73.5\"/>\n<polygon fill=\"black\" stroke=\"black\" points=\"449.28,-77 459.28,-73.5 449.28,-70 449.28,-77\"/>\n</g>\n<!-- 136787593789776 -->\n<g id=\"node8\" class=\"node\">\n<title>136787593789776</title>\n<polygon fill=\"none\" stroke=\"black\" points=\"0,-1.5 0,-37.5 103,-37.5 103,-1.5 0,-1.5\"/>\n<text text-anchor=\"middle\" x=\"11.5\" y=\"-15.8\" font-family=\"Times,serif\" font-size=\"14.00\">a</text>\n<polyline fill=\"none\" stroke=\"black\" points=\"23,-1.5 23,-37.5 \"/>\n<text text-anchor=\"middle\" x=\"63\" y=\"-15.8\" font-family=\"Times,serif\" font-size=\"14.00\">data 2.0000</text>\n</g>\n<!-- 136787593789776&#45;&gt;136787593831888+ -->\n<g id=\"edge5\" class=\"edge\">\n<title>136787593789776&#45;&gt;136787593831888+</title>\n<path fill=\"none\" stroke=\"black\" d=\"M103.16,-31.66C112.46,-33.89 121.97,-36.17 130.66,-38.26\"/>\n<polygon fill=\"black\" stroke=\"black\" points=\"129.87,-41.67 140.41,-40.6 131.51,-34.86 129.87,-41.67\"/>\n</g>\n<!-- 136787593831888 -->\n<g id=\"node9\" class=\"node\">\n<title>136787593831888</title>\n<polygon fill=\"none\" stroke=\"black\" points=\"229,-28.5 229,-64.5 332,-64.5 332,-28.5 229,-28.5\"/>\n<text text-anchor=\"middle\" x=\"240.5\" y=\"-42.8\" font-family=\"Times,serif\" font-size=\"14.00\">e</text>\n<polyline fill=\"none\" stroke=\"black\" points=\"252,-28.5 252,-64.5 \"/>\n<text text-anchor=\"middle\" x=\"292\" y=\"-42.8\" font-family=\"Times,serif\" font-size=\"14.00\">data 5.0000</text>\n</g>\n<!-- 136787593831888&#45;&gt;136787595799376+ -->\n<g id=\"edge4\" class=\"edge\">\n<title>136787593831888&#45;&gt;136787595799376+</title>\n<path fill=\"none\" stroke=\"black\" d=\"M332.16,-58.66C341.46,-60.89 350.97,-63.17 359.66,-65.26\"/>\n<polygon fill=\"black\" stroke=\"black\" points=\"358.87,-68.67 369.41,-67.6 360.51,-61.86 358.87,-68.67\"/>\n</g>\n<!-- 136787593831888+&#45;&gt;136787593831888 -->\n<g id=\"edge3\" class=\"edge\">\n<title>136787593831888+&#45;&gt;136787593831888</title>\n<path fill=\"none\" stroke=\"black\" d=\"M193.09,-46.5C200.83,-46.5 209.64,-46.5 218.61,-46.5\"/>\n<polygon fill=\"black\" stroke=\"black\" points=\"218.76,-50 228.76,-46.5 218.76,-43 218.76,-50\"/>\n</g>\n</g>\n</svg>\n",
            "text/plain": [
              "<graphviz.graphs.Digraph at 0x7c6857f5ba10>"
            ]
          },
          "metadata": {},
          "execution_count": 383
        }
      ]
    },
    {
      "cell_type": "code",
      "source": [
        "# this is the output of the forward propagation for L=d*f where d=a*b+c"
      ],
      "metadata": {
        "id": "h-_yt_4Fh-cS"
      },
      "execution_count": 384,
      "outputs": []
    },
    {
      "cell_type": "markdown",
      "source": [
        "NOW BACKWARD PROPAGATION"
      ],
      "metadata": {
        "id": "5ERexrK2iNAv"
      }
    },
    {
      "cell_type": "code",
      "source": [
        "from graphviz import Digraph\n",
        "\n",
        "def trace(root):\n",
        "  # builds a set of all nodes and edges in a graph\n",
        "  nodes, edges = set(), set()\n",
        "  def build(v):\n",
        "    if v not in nodes:\n",
        "      nodes.add(v)\n",
        "      for child in v._children:\n",
        "        edges.add((child, v))\n",
        "        build(child)\n",
        "  build(root)\n",
        "  return nodes, edges\n",
        "\n",
        "def draw_dot(root):\n",
        "  dot = Digraph(format='svg', graph_attr={'rankdir': 'LR'}) # LR = left to right\n",
        "\n",
        "  nodes, edges = trace(root)\n",
        "  for n in nodes:\n",
        "    uid = str(id(n))\n",
        "    # for any value in the graph, create a rectangular ('record') node for it\n",
        "    dot.node(name = uid, label = \"{ %s | data %.4f | grad %.4f }\" % (n.label, n.data, n.grad), shape='record')\n",
        "    if n._op:\n",
        "      # if this value is a result of some operation, create an op node for it\n",
        "      dot.node(name = uid + n._op, label = n._op)\n",
        "      # and connect this node to it\n",
        "      dot.edge(uid + n._op, uid)\n",
        "\n",
        "  for n1, n2 in edges:\n",
        "    # connect n1 to the op node of n2\n",
        "    dot.edge(str(id(n1)), str(id(n2)) + n2._op)\n",
        "\n",
        "  return dot"
      ],
      "metadata": {
        "id": "_5AhZCefh-aO"
      },
      "execution_count": 385,
      "outputs": []
    },
    {
      "cell_type": "code",
      "source": [
        "draw_dot(L)"
      ],
      "metadata": {
        "colab": {
          "base_uri": "https://localhost:8080/",
          "height": 192
        },
        "id": "K8vril6Qh-X2",
        "outputId": "f4c00ba8-e2b1-4d7d-eb35-0da6e4b4fe0c"
      },
      "execution_count": 386,
      "outputs": [
        {
          "output_type": "execute_result",
          "data": {
            "image/svg+xml": "<?xml version=\"1.0\" encoding=\"UTF-8\" standalone=\"no\"?>\n<!DOCTYPE svg PUBLIC \"-//W3C//DTD SVG 1.1//EN\"\n \"http://www.w3.org/Graphics/SVG/1.1/DTD/svg11.dtd\">\n<!-- Generated by graphviz version 2.43.0 (0)\n -->\n<!-- Title: %3 Pages: 1 -->\n<svg width=\"1143pt\" height=\"128pt\"\n viewBox=\"0.00 0.00 1143.00 128.00\" xmlns=\"http://www.w3.org/2000/svg\" xmlns:xlink=\"http://www.w3.org/1999/xlink\">\n<g id=\"graph0\" class=\"graph\" transform=\"scale(1 1) rotate(0) translate(4 124)\">\n<title>%3</title>\n<polygon fill=\"white\" stroke=\"transparent\" points=\"-4,4 -4,-124 1139,-124 1139,4 -4,4\"/>\n<!-- 136787600913552 -->\n<g id=\"node1\" class=\"node\">\n<title>136787600913552</title>\n<polygon fill=\"none\" stroke=\"black\" points=\"311,-83.5 311,-119.5 496,-119.5 496,-83.5 311,-83.5\"/>\n<text text-anchor=\"middle\" x=\"322.5\" y=\"-97.8\" font-family=\"Times,serif\" font-size=\"14.00\">c</text>\n<polyline fill=\"none\" stroke=\"black\" points=\"334,-83.5 334,-119.5 \"/>\n<text text-anchor=\"middle\" x=\"374\" y=\"-97.8\" font-family=\"Times,serif\" font-size=\"14.00\">data 4.0000</text>\n<polyline fill=\"none\" stroke=\"black\" points=\"414,-83.5 414,-119.5 \"/>\n<text text-anchor=\"middle\" x=\"455\" y=\"-97.8\" font-family=\"Times,serif\" font-size=\"14.00\">grad 0.0000</text>\n</g>\n<!-- 136787595799376+ -->\n<g id=\"node7\" class=\"node\">\n<title>136787595799376+</title>\n<ellipse fill=\"none\" stroke=\"black\" cx=\"559\" cy=\"-73.5\" rx=\"27\" ry=\"18\"/>\n<text text-anchor=\"middle\" x=\"559\" y=\"-69.8\" font-family=\"Times,serif\" font-size=\"14.00\">+</text>\n</g>\n<!-- 136787600913552&#45;&gt;136787595799376+ -->\n<g id=\"edge9\" class=\"edge\">\n<title>136787600913552&#45;&gt;136787595799376+</title>\n<path fill=\"none\" stroke=\"black\" d=\"M496.01,-84.81C505.49,-83.08 514.66,-81.41 522.9,-79.9\"/>\n<polygon fill=\"black\" stroke=\"black\" points=\"523.6,-83.33 532.81,-78.09 522.35,-76.45 523.6,-83.33\"/>\n</g>\n<!-- 136787594151568 -->\n<g id=\"node2\" class=\"node\">\n<title>136787594151568</title>\n<polygon fill=\"none\" stroke=\"black\" points=\"936,-27.5 936,-63.5 1135,-63.5 1135,-27.5 936,-27.5\"/>\n<text text-anchor=\"middle\" x=\"948.5\" y=\"-41.8\" font-family=\"Times,serif\" font-size=\"14.00\">L</text>\n<polyline fill=\"none\" stroke=\"black\" points=\"961,-27.5 961,-63.5 \"/>\n<text text-anchor=\"middle\" x=\"1007\" y=\"-41.8\" font-family=\"Times,serif\" font-size=\"14.00\">data &#45;18.0000</text>\n<polyline fill=\"none\" stroke=\"black\" points=\"1053,-27.5 1053,-63.5 \"/>\n<text text-anchor=\"middle\" x=\"1094\" y=\"-41.8\" font-family=\"Times,serif\" font-size=\"14.00\">grad 0.0000</text>\n</g>\n<!-- 136787594151568* -->\n<g id=\"node3\" class=\"node\">\n<title>136787594151568*</title>\n<ellipse fill=\"none\" stroke=\"black\" cx=\"873\" cy=\"-45.5\" rx=\"27\" ry=\"18\"/>\n<text text-anchor=\"middle\" x=\"873\" y=\"-41.8\" font-family=\"Times,serif\" font-size=\"14.00\">*</text>\n</g>\n<!-- 136787594151568*&#45;&gt;136787594151568 -->\n<g id=\"edge1\" class=\"edge\">\n<title>136787594151568*&#45;&gt;136787594151568</title>\n<path fill=\"none\" stroke=\"black\" d=\"M900.14,-45.5C907.65,-45.5 916.33,-45.5 925.6,-45.5\"/>\n<polygon fill=\"black\" stroke=\"black\" points=\"925.86,-49 935.86,-45.5 925.86,-42 925.86,-49\"/>\n</g>\n<!-- 136787593838352 -->\n<g id=\"node4\" class=\"node\">\n<title>136787593838352</title>\n<polygon fill=\"none\" stroke=\"black\" points=\"0,-56.5 0,-92.5 185,-92.5 185,-56.5 0,-56.5\"/>\n<text text-anchor=\"middle\" x=\"11.5\" y=\"-70.8\" font-family=\"Times,serif\" font-size=\"14.00\">b</text>\n<polyline fill=\"none\" stroke=\"black\" points=\"23,-56.5 23,-92.5 \"/>\n<text text-anchor=\"middle\" x=\"63\" y=\"-70.8\" font-family=\"Times,serif\" font-size=\"14.00\">data 3.0000</text>\n<polyline fill=\"none\" stroke=\"black\" points=\"103,-56.5 103,-92.5 \"/>\n<text text-anchor=\"middle\" x=\"144\" y=\"-70.8\" font-family=\"Times,serif\" font-size=\"14.00\">grad 0.0000</text>\n</g>\n<!-- 136787593831888+ -->\n<g id=\"node10\" class=\"node\">\n<title>136787593831888+</title>\n<ellipse fill=\"none\" stroke=\"black\" cx=\"248\" cy=\"-46.5\" rx=\"27\" ry=\"18\"/>\n<text text-anchor=\"middle\" x=\"248\" y=\"-42.8\" font-family=\"Times,serif\" font-size=\"14.00\">+</text>\n</g>\n<!-- 136787593838352&#45;&gt;136787593831888+ -->\n<g id=\"edge7\" class=\"edge\">\n<title>136787593838352&#45;&gt;136787593831888+</title>\n<path fill=\"none\" stroke=\"black\" d=\"M185.01,-57.81C194.49,-56.08 203.66,-54.41 211.9,-52.9\"/>\n<polygon fill=\"black\" stroke=\"black\" points=\"212.6,-56.33 221.81,-51.09 211.35,-49.45 212.6,-56.33\"/>\n</g>\n<!-- 136787594162512 -->\n<g id=\"node5\" class=\"node\">\n<title>136787594162512</title>\n<polygon fill=\"none\" stroke=\"black\" points=\"622,-0.5 622,-36.5 810,-36.5 810,-0.5 622,-0.5\"/>\n<text text-anchor=\"middle\" x=\"632.5\" y=\"-14.8\" font-family=\"Times,serif\" font-size=\"14.00\">f</text>\n<polyline fill=\"none\" stroke=\"black\" points=\"643,-0.5 643,-36.5 \"/>\n<text text-anchor=\"middle\" x=\"685.5\" y=\"-14.8\" font-family=\"Times,serif\" font-size=\"14.00\">data &#45;2.0000</text>\n<polyline fill=\"none\" stroke=\"black\" points=\"728,-0.5 728,-36.5 \"/>\n<text text-anchor=\"middle\" x=\"769\" y=\"-14.8\" font-family=\"Times,serif\" font-size=\"14.00\">grad 0.0000</text>\n</g>\n<!-- 136787594162512&#45;&gt;136787594151568* -->\n<g id=\"edge6\" class=\"edge\">\n<title>136787594162512&#45;&gt;136787594151568*</title>\n<path fill=\"none\" stroke=\"black\" d=\"M810.29,-34.75C819.57,-36.37 828.52,-37.93 836.61,-39.33\"/>\n<polygon fill=\"black\" stroke=\"black\" points=\"836.22,-42.82 846.68,-41.09 837.42,-35.92 836.22,-42.82\"/>\n</g>\n<!-- 136787595799376 -->\n<g id=\"node6\" class=\"node\">\n<title>136787595799376</title>\n<polygon fill=\"none\" stroke=\"black\" points=\"623.5,-55.5 623.5,-91.5 808.5,-91.5 808.5,-55.5 623.5,-55.5\"/>\n<text text-anchor=\"middle\" x=\"635\" y=\"-69.8\" font-family=\"Times,serif\" font-size=\"14.00\">d</text>\n<polyline fill=\"none\" stroke=\"black\" points=\"646.5,-55.5 646.5,-91.5 \"/>\n<text text-anchor=\"middle\" x=\"686.5\" y=\"-69.8\" font-family=\"Times,serif\" font-size=\"14.00\">data 9.0000</text>\n<polyline fill=\"none\" stroke=\"black\" points=\"726.5,-55.5 726.5,-91.5 \"/>\n<text text-anchor=\"middle\" x=\"767.5\" y=\"-69.8\" font-family=\"Times,serif\" font-size=\"14.00\">grad 0.0000</text>\n</g>\n<!-- 136787595799376&#45;&gt;136787594151568* -->\n<g id=\"edge8\" class=\"edge\">\n<title>136787595799376&#45;&gt;136787594151568*</title>\n<path fill=\"none\" stroke=\"black\" d=\"M808.51,-56.97C818.48,-55.17 828.13,-53.42 836.77,-51.86\"/>\n<polygon fill=\"black\" stroke=\"black\" points=\"837.55,-55.28 846.77,-50.06 836.3,-48.39 837.55,-55.28\"/>\n</g>\n<!-- 136787595799376+&#45;&gt;136787595799376 -->\n<g id=\"edge2\" class=\"edge\">\n<title>136787595799376+&#45;&gt;136787595799376</title>\n<path fill=\"none\" stroke=\"black\" d=\"M586.29,-73.5C594.26,-73.5 603.54,-73.5 613.39,-73.5\"/>\n<polygon fill=\"black\" stroke=\"black\" points=\"613.41,-77 623.41,-73.5 613.41,-70 613.41,-77\"/>\n</g>\n<!-- 136787593789776 -->\n<g id=\"node8\" class=\"node\">\n<title>136787593789776</title>\n<polygon fill=\"none\" stroke=\"black\" points=\"0,-1.5 0,-37.5 185,-37.5 185,-1.5 0,-1.5\"/>\n<text text-anchor=\"middle\" x=\"11.5\" y=\"-15.8\" font-family=\"Times,serif\" font-size=\"14.00\">a</text>\n<polyline fill=\"none\" stroke=\"black\" points=\"23,-1.5 23,-37.5 \"/>\n<text text-anchor=\"middle\" x=\"63\" y=\"-15.8\" font-family=\"Times,serif\" font-size=\"14.00\">data 2.0000</text>\n<polyline fill=\"none\" stroke=\"black\" points=\"103,-1.5 103,-37.5 \"/>\n<text text-anchor=\"middle\" x=\"144\" y=\"-15.8\" font-family=\"Times,serif\" font-size=\"14.00\">grad 0.0000</text>\n</g>\n<!-- 136787593789776&#45;&gt;136787593831888+ -->\n<g id=\"edge5\" class=\"edge\">\n<title>136787593789776&#45;&gt;136787593831888+</title>\n<path fill=\"none\" stroke=\"black\" d=\"M185.01,-35.6C194.49,-37.26 203.66,-38.88 211.9,-40.33\"/>\n<polygon fill=\"black\" stroke=\"black\" points=\"211.36,-43.78 221.81,-42.07 212.57,-36.89 211.36,-43.78\"/>\n</g>\n<!-- 136787593831888 -->\n<g id=\"node9\" class=\"node\">\n<title>136787593831888</title>\n<polygon fill=\"none\" stroke=\"black\" points=\"311,-28.5 311,-64.5 496,-64.5 496,-28.5 311,-28.5\"/>\n<text text-anchor=\"middle\" x=\"322.5\" y=\"-42.8\" font-family=\"Times,serif\" font-size=\"14.00\">e</text>\n<polyline fill=\"none\" stroke=\"black\" points=\"334,-28.5 334,-64.5 \"/>\n<text text-anchor=\"middle\" x=\"374\" y=\"-42.8\" font-family=\"Times,serif\" font-size=\"14.00\">data 5.0000</text>\n<polyline fill=\"none\" stroke=\"black\" points=\"414,-28.5 414,-64.5 \"/>\n<text text-anchor=\"middle\" x=\"455\" y=\"-42.8\" font-family=\"Times,serif\" font-size=\"14.00\">grad 0.0000</text>\n</g>\n<!-- 136787593831888&#45;&gt;136787595799376+ -->\n<g id=\"edge4\" class=\"edge\">\n<title>136787593831888&#45;&gt;136787595799376+</title>\n<path fill=\"none\" stroke=\"black\" d=\"M496.01,-62.6C505.49,-64.26 514.66,-65.88 522.9,-67.33\"/>\n<polygon fill=\"black\" stroke=\"black\" points=\"522.36,-70.78 532.81,-69.07 523.57,-63.89 522.36,-70.78\"/>\n</g>\n<!-- 136787593831888+&#45;&gt;136787593831888 -->\n<g id=\"edge3\" class=\"edge\">\n<title>136787593831888+&#45;&gt;136787593831888</title>\n<path fill=\"none\" stroke=\"black\" d=\"M275.04,-46.5C282.58,-46.5 291.3,-46.5 300.57,-46.5\"/>\n<polygon fill=\"black\" stroke=\"black\" points=\"300.81,-50 310.81,-46.5 300.81,-43 300.81,-50\"/>\n</g>\n</g>\n</svg>\n",
            "text/plain": [
              "<graphviz.graphs.Digraph at 0x7c6857f587d0>"
            ]
          },
          "metadata": {},
          "execution_count": 386
        }
      ]
    },
    {
      "cell_type": "code",
      "source": [
        "L.grad=1"
      ],
      "metadata": {
        "id": "vfif7jEFh-VV"
      },
      "execution_count": 387,
      "outputs": []
    },
    {
      "cell_type": "code",
      "source": [
        "f"
      ],
      "metadata": {
        "colab": {
          "base_uri": "https://localhost:8080/"
        },
        "id": "ecpY1UCwXaEz",
        "outputId": "a92bc6ea-8e81-4078-a0d7-962121f4dc0e"
      },
      "execution_count": 388,
      "outputs": [
        {
          "output_type": "execute_result",
          "data": {
            "text/plain": [
              "Rank(-2)"
            ]
          },
          "metadata": {},
          "execution_count": 388
        }
      ]
    },
    {
      "cell_type": "code",
      "source": [
        "# L=d*f\n",
        "# so we calculate dL/dd\n",
        "# which is f\n",
        "d.grad=-2\n",
        "f.grad=10"
      ],
      "metadata": {
        "id": "PlFrX9smh-TT"
      },
      "execution_count": 389,
      "outputs": []
    },
    {
      "cell_type": "code",
      "source": [
        "draw_dot(L)"
      ],
      "metadata": {
        "id": "6-WzSpgWh-RD",
        "colab": {
          "base_uri": "https://localhost:8080/",
          "height": 192
        },
        "outputId": "c370d190-cb01-4d1f-833b-a30eaf3aa36c"
      },
      "execution_count": 390,
      "outputs": [
        {
          "output_type": "execute_result",
          "data": {
            "image/svg+xml": "<?xml version=\"1.0\" encoding=\"UTF-8\" standalone=\"no\"?>\n<!DOCTYPE svg PUBLIC \"-//W3C//DTD SVG 1.1//EN\"\n \"http://www.w3.org/Graphics/SVG/1.1/DTD/svg11.dtd\">\n<!-- Generated by graphviz version 2.43.0 (0)\n -->\n<!-- Title: %3 Pages: 1 -->\n<svg width=\"1150pt\" height=\"128pt\"\n viewBox=\"0.00 0.00 1150.00 128.00\" xmlns=\"http://www.w3.org/2000/svg\" xmlns:xlink=\"http://www.w3.org/1999/xlink\">\n<g id=\"graph0\" class=\"graph\" transform=\"scale(1 1) rotate(0) translate(4 124)\">\n<title>%3</title>\n<polygon fill=\"white\" stroke=\"transparent\" points=\"-4,4 -4,-124 1146,-124 1146,4 -4,4\"/>\n<!-- 136787600913552 -->\n<g id=\"node1\" class=\"node\">\n<title>136787600913552</title>\n<polygon fill=\"none\" stroke=\"black\" points=\"311,-83.5 311,-119.5 496,-119.5 496,-83.5 311,-83.5\"/>\n<text text-anchor=\"middle\" x=\"322.5\" y=\"-97.8\" font-family=\"Times,serif\" font-size=\"14.00\">c</text>\n<polyline fill=\"none\" stroke=\"black\" points=\"334,-83.5 334,-119.5 \"/>\n<text text-anchor=\"middle\" x=\"374\" y=\"-97.8\" font-family=\"Times,serif\" font-size=\"14.00\">data 4.0000</text>\n<polyline fill=\"none\" stroke=\"black\" points=\"414,-83.5 414,-119.5 \"/>\n<text text-anchor=\"middle\" x=\"455\" y=\"-97.8\" font-family=\"Times,serif\" font-size=\"14.00\">grad 0.0000</text>\n</g>\n<!-- 136787595799376+ -->\n<g id=\"node7\" class=\"node\">\n<title>136787595799376+</title>\n<ellipse fill=\"none\" stroke=\"black\" cx=\"559\" cy=\"-73.5\" rx=\"27\" ry=\"18\"/>\n<text text-anchor=\"middle\" x=\"559\" y=\"-69.8\" font-family=\"Times,serif\" font-size=\"14.00\">+</text>\n</g>\n<!-- 136787600913552&#45;&gt;136787595799376+ -->\n<g id=\"edge9\" class=\"edge\">\n<title>136787600913552&#45;&gt;136787595799376+</title>\n<path fill=\"none\" stroke=\"black\" d=\"M496.01,-84.81C505.49,-83.08 514.66,-81.41 522.9,-79.9\"/>\n<polygon fill=\"black\" stroke=\"black\" points=\"523.6,-83.33 532.81,-78.09 522.35,-76.45 523.6,-83.33\"/>\n</g>\n<!-- 136787594151568 -->\n<g id=\"node2\" class=\"node\">\n<title>136787594151568</title>\n<polygon fill=\"none\" stroke=\"black\" points=\"943,-27.5 943,-63.5 1142,-63.5 1142,-27.5 943,-27.5\"/>\n<text text-anchor=\"middle\" x=\"955.5\" y=\"-41.8\" font-family=\"Times,serif\" font-size=\"14.00\">L</text>\n<polyline fill=\"none\" stroke=\"black\" points=\"968,-27.5 968,-63.5 \"/>\n<text text-anchor=\"middle\" x=\"1014\" y=\"-41.8\" font-family=\"Times,serif\" font-size=\"14.00\">data &#45;18.0000</text>\n<polyline fill=\"none\" stroke=\"black\" points=\"1060,-27.5 1060,-63.5 \"/>\n<text text-anchor=\"middle\" x=\"1101\" y=\"-41.8\" font-family=\"Times,serif\" font-size=\"14.00\">grad 1.0000</text>\n</g>\n<!-- 136787594151568* -->\n<g id=\"node3\" class=\"node\">\n<title>136787594151568*</title>\n<ellipse fill=\"none\" stroke=\"black\" cx=\"880\" cy=\"-45.5\" rx=\"27\" ry=\"18\"/>\n<text text-anchor=\"middle\" x=\"880\" y=\"-41.8\" font-family=\"Times,serif\" font-size=\"14.00\">*</text>\n</g>\n<!-- 136787594151568*&#45;&gt;136787594151568 -->\n<g id=\"edge1\" class=\"edge\">\n<title>136787594151568*&#45;&gt;136787594151568</title>\n<path fill=\"none\" stroke=\"black\" d=\"M907.14,-45.5C914.65,-45.5 923.33,-45.5 932.6,-45.5\"/>\n<polygon fill=\"black\" stroke=\"black\" points=\"932.86,-49 942.86,-45.5 932.86,-42 932.86,-49\"/>\n</g>\n<!-- 136787593838352 -->\n<g id=\"node4\" class=\"node\">\n<title>136787593838352</title>\n<polygon fill=\"none\" stroke=\"black\" points=\"0,-56.5 0,-92.5 185,-92.5 185,-56.5 0,-56.5\"/>\n<text text-anchor=\"middle\" x=\"11.5\" y=\"-70.8\" font-family=\"Times,serif\" font-size=\"14.00\">b</text>\n<polyline fill=\"none\" stroke=\"black\" points=\"23,-56.5 23,-92.5 \"/>\n<text text-anchor=\"middle\" x=\"63\" y=\"-70.8\" font-family=\"Times,serif\" font-size=\"14.00\">data 3.0000</text>\n<polyline fill=\"none\" stroke=\"black\" points=\"103,-56.5 103,-92.5 \"/>\n<text text-anchor=\"middle\" x=\"144\" y=\"-70.8\" font-family=\"Times,serif\" font-size=\"14.00\">grad 0.0000</text>\n</g>\n<!-- 136787593831888+ -->\n<g id=\"node10\" class=\"node\">\n<title>136787593831888+</title>\n<ellipse fill=\"none\" stroke=\"black\" cx=\"248\" cy=\"-46.5\" rx=\"27\" ry=\"18\"/>\n<text text-anchor=\"middle\" x=\"248\" y=\"-42.8\" font-family=\"Times,serif\" font-size=\"14.00\">+</text>\n</g>\n<!-- 136787593838352&#45;&gt;136787593831888+ -->\n<g id=\"edge7\" class=\"edge\">\n<title>136787593838352&#45;&gt;136787593831888+</title>\n<path fill=\"none\" stroke=\"black\" d=\"M185.01,-57.81C194.49,-56.08 203.66,-54.41 211.9,-52.9\"/>\n<polygon fill=\"black\" stroke=\"black\" points=\"212.6,-56.33 221.81,-51.09 211.35,-49.45 212.6,-56.33\"/>\n</g>\n<!-- 136787594162512 -->\n<g id=\"node5\" class=\"node\">\n<title>136787594162512</title>\n<polygon fill=\"none\" stroke=\"black\" points=\"622,-0.5 622,-36.5 817,-36.5 817,-0.5 622,-0.5\"/>\n<text text-anchor=\"middle\" x=\"632.5\" y=\"-14.8\" font-family=\"Times,serif\" font-size=\"14.00\">f</text>\n<polyline fill=\"none\" stroke=\"black\" points=\"643,-0.5 643,-36.5 \"/>\n<text text-anchor=\"middle\" x=\"685.5\" y=\"-14.8\" font-family=\"Times,serif\" font-size=\"14.00\">data &#45;2.0000</text>\n<polyline fill=\"none\" stroke=\"black\" points=\"728,-0.5 728,-36.5 \"/>\n<text text-anchor=\"middle\" x=\"772.5\" y=\"-14.8\" font-family=\"Times,serif\" font-size=\"14.00\">grad 10.0000</text>\n</g>\n<!-- 136787594162512&#45;&gt;136787594151568* -->\n<g id=\"edge6\" class=\"edge\">\n<title>136787594162512&#45;&gt;136787594151568*</title>\n<path fill=\"none\" stroke=\"black\" d=\"M817.27,-34.98C826.59,-36.57 835.57,-38.1 843.66,-39.48\"/>\n<polygon fill=\"black\" stroke=\"black\" points=\"843.29,-42.97 853.73,-41.2 844.46,-36.07 843.29,-42.97\"/>\n</g>\n<!-- 136787595799376 -->\n<g id=\"node6\" class=\"node\">\n<title>136787595799376</title>\n<polygon fill=\"none\" stroke=\"black\" points=\"625,-55.5 625,-91.5 814,-91.5 814,-55.5 625,-55.5\"/>\n<text text-anchor=\"middle\" x=\"636.5\" y=\"-69.8\" font-family=\"Times,serif\" font-size=\"14.00\">d</text>\n<polyline fill=\"none\" stroke=\"black\" points=\"648,-55.5 648,-91.5 \"/>\n<text text-anchor=\"middle\" x=\"688\" y=\"-69.8\" font-family=\"Times,serif\" font-size=\"14.00\">data 9.0000</text>\n<polyline fill=\"none\" stroke=\"black\" points=\"728,-55.5 728,-91.5 \"/>\n<text text-anchor=\"middle\" x=\"771\" y=\"-69.8\" font-family=\"Times,serif\" font-size=\"14.00\">grad &#45;2.0000</text>\n</g>\n<!-- 136787595799376&#45;&gt;136787594151568* -->\n<g id=\"edge8\" class=\"edge\">\n<title>136787595799376&#45;&gt;136787594151568*</title>\n<path fill=\"none\" stroke=\"black\" d=\"M814.07,-56.97C824.58,-55.11 834.73,-53.32 843.77,-51.72\"/>\n<polygon fill=\"black\" stroke=\"black\" points=\"844.58,-55.14 853.82,-49.95 843.36,-48.24 844.58,-55.14\"/>\n</g>\n<!-- 136787595799376+&#45;&gt;136787595799376 -->\n<g id=\"edge2\" class=\"edge\">\n<title>136787595799376+&#45;&gt;136787595799376</title>\n<path fill=\"none\" stroke=\"black\" d=\"M586.17,-73.5C594.5,-73.5 604.28,-73.5 614.68,-73.5\"/>\n<polygon fill=\"black\" stroke=\"black\" points=\"614.82,-77 624.82,-73.5 614.82,-70 614.82,-77\"/>\n</g>\n<!-- 136787593789776 -->\n<g id=\"node8\" class=\"node\">\n<title>136787593789776</title>\n<polygon fill=\"none\" stroke=\"black\" points=\"0,-1.5 0,-37.5 185,-37.5 185,-1.5 0,-1.5\"/>\n<text text-anchor=\"middle\" x=\"11.5\" y=\"-15.8\" font-family=\"Times,serif\" font-size=\"14.00\">a</text>\n<polyline fill=\"none\" stroke=\"black\" points=\"23,-1.5 23,-37.5 \"/>\n<text text-anchor=\"middle\" x=\"63\" y=\"-15.8\" font-family=\"Times,serif\" font-size=\"14.00\">data 2.0000</text>\n<polyline fill=\"none\" stroke=\"black\" points=\"103,-1.5 103,-37.5 \"/>\n<text text-anchor=\"middle\" x=\"144\" y=\"-15.8\" font-family=\"Times,serif\" font-size=\"14.00\">grad 0.0000</text>\n</g>\n<!-- 136787593789776&#45;&gt;136787593831888+ -->\n<g id=\"edge5\" class=\"edge\">\n<title>136787593789776&#45;&gt;136787593831888+</title>\n<path fill=\"none\" stroke=\"black\" d=\"M185.01,-35.6C194.49,-37.26 203.66,-38.88 211.9,-40.33\"/>\n<polygon fill=\"black\" stroke=\"black\" points=\"211.36,-43.78 221.81,-42.07 212.57,-36.89 211.36,-43.78\"/>\n</g>\n<!-- 136787593831888 -->\n<g id=\"node9\" class=\"node\">\n<title>136787593831888</title>\n<polygon fill=\"none\" stroke=\"black\" points=\"311,-28.5 311,-64.5 496,-64.5 496,-28.5 311,-28.5\"/>\n<text text-anchor=\"middle\" x=\"322.5\" y=\"-42.8\" font-family=\"Times,serif\" font-size=\"14.00\">e</text>\n<polyline fill=\"none\" stroke=\"black\" points=\"334,-28.5 334,-64.5 \"/>\n<text text-anchor=\"middle\" x=\"374\" y=\"-42.8\" font-family=\"Times,serif\" font-size=\"14.00\">data 5.0000</text>\n<polyline fill=\"none\" stroke=\"black\" points=\"414,-28.5 414,-64.5 \"/>\n<text text-anchor=\"middle\" x=\"455\" y=\"-42.8\" font-family=\"Times,serif\" font-size=\"14.00\">grad 0.0000</text>\n</g>\n<!-- 136787593831888&#45;&gt;136787595799376+ -->\n<g id=\"edge4\" class=\"edge\">\n<title>136787593831888&#45;&gt;136787595799376+</title>\n<path fill=\"none\" stroke=\"black\" d=\"M496.01,-62.6C505.49,-64.26 514.66,-65.88 522.9,-67.33\"/>\n<polygon fill=\"black\" stroke=\"black\" points=\"522.36,-70.78 532.81,-69.07 523.57,-63.89 522.36,-70.78\"/>\n</g>\n<!-- 136787593831888+&#45;&gt;136787593831888 -->\n<g id=\"edge3\" class=\"edge\">\n<title>136787593831888+&#45;&gt;136787593831888</title>\n<path fill=\"none\" stroke=\"black\" d=\"M275.04,-46.5C282.58,-46.5 291.3,-46.5 300.57,-46.5\"/>\n<polygon fill=\"black\" stroke=\"black\" points=\"300.81,-50 310.81,-46.5 300.81,-43 300.81,-50\"/>\n</g>\n</g>\n</svg>\n",
            "text/plain": [
              "<graphviz.graphs.Digraph at 0x7c6857f02ed0>"
            ]
          },
          "metadata": {},
          "execution_count": 390
        }
      ]
    },
    {
      "cell_type": "markdown",
      "source": [
        "# basically we are calculating every backpropagation manually\n"
      ],
      "metadata": {
        "id": "C7b1j3YPXkzy"
      }
    },
    {
      "cell_type": "code",
      "source": [
        "def manualBackPropagation():\n",
        "  h=0.001\n",
        "  a=Rank(2,label='a')\n",
        "  b=Rank(3,label='b')\n",
        "  c=Rank(4,label='c')\n",
        "  f=Rank(-2,label='f')\n",
        "  e=a+b\n",
        "  d=e+c\n",
        "  L=d*f\n",
        "  L.label='L'\n",
        "  L1=L.data\n",
        "\n",
        "  a=Rank(2,label='a')\n",
        "  b=Rank(3,label='b')\n",
        "  c=Rank(4,label='c')\n",
        "  f=Rank(-2,label='f')\n",
        "  a.data+=h\n",
        "  e=a+b\n",
        "\n",
        "  d=e+c\n",
        "\n",
        "  L=d*f\n",
        "\n",
        "\n",
        "\n",
        "  L.label='L'\n",
        "  L2=L.data\n",
        "\n",
        "  print((L2-L1)/h)\n",
        "\n",
        "\n",
        "\n",
        "manualBackPropagation()\n"
      ],
      "metadata": {
        "colab": {
          "base_uri": "https://localhost:8080/"
        },
        "id": "T3wrMSeyXl4a",
        "outputId": "8e44749f-be72-4203-85cb-f89be862c219"
      },
      "execution_count": 391,
      "outputs": [
        {
          "output_type": "stream",
          "name": "stdout",
          "text": [
            "-1.9999999999988916\n"
          ]
        }
      ]
    },
    {
      "cell_type": "code",
      "source": [
        "c.grad=-2\n",
        "\n"
      ],
      "metadata": {
        "id": "RDDcbS2ph-Ou"
      },
      "execution_count": 392,
      "outputs": []
    },
    {
      "cell_type": "code",
      "source": [
        "draw_dot(L)"
      ],
      "metadata": {
        "id": "Y9GqcPn0h-Mh",
        "colab": {
          "base_uri": "https://localhost:8080/",
          "height": 192
        },
        "outputId": "fa48cfe0-1877-4d8d-c2af-611709dd2cc1"
      },
      "execution_count": 393,
      "outputs": [
        {
          "output_type": "execute_result",
          "data": {
            "image/svg+xml": "<?xml version=\"1.0\" encoding=\"UTF-8\" standalone=\"no\"?>\n<!DOCTYPE svg PUBLIC \"-//W3C//DTD SVG 1.1//EN\"\n \"http://www.w3.org/Graphics/SVG/1.1/DTD/svg11.dtd\">\n<!-- Generated by graphviz version 2.43.0 (0)\n -->\n<!-- Title: %3 Pages: 1 -->\n<svg width=\"1154pt\" height=\"128pt\"\n viewBox=\"0.00 0.00 1154.00 128.00\" xmlns=\"http://www.w3.org/2000/svg\" xmlns:xlink=\"http://www.w3.org/1999/xlink\">\n<g id=\"graph0\" class=\"graph\" transform=\"scale(1 1) rotate(0) translate(4 124)\">\n<title>%3</title>\n<polygon fill=\"white\" stroke=\"transparent\" points=\"-4,4 -4,-124 1150,-124 1150,4 -4,4\"/>\n<!-- 136787600913552 -->\n<g id=\"node1\" class=\"node\">\n<title>136787600913552</title>\n<polygon fill=\"none\" stroke=\"black\" points=\"311,-83.5 311,-119.5 500,-119.5 500,-83.5 311,-83.5\"/>\n<text text-anchor=\"middle\" x=\"322.5\" y=\"-97.8\" font-family=\"Times,serif\" font-size=\"14.00\">c</text>\n<polyline fill=\"none\" stroke=\"black\" points=\"334,-83.5 334,-119.5 \"/>\n<text text-anchor=\"middle\" x=\"374\" y=\"-97.8\" font-family=\"Times,serif\" font-size=\"14.00\">data 4.0000</text>\n<polyline fill=\"none\" stroke=\"black\" points=\"414,-83.5 414,-119.5 \"/>\n<text text-anchor=\"middle\" x=\"457\" y=\"-97.8\" font-family=\"Times,serif\" font-size=\"14.00\">grad &#45;2.0000</text>\n</g>\n<!-- 136787595799376+ -->\n<g id=\"node7\" class=\"node\">\n<title>136787595799376+</title>\n<ellipse fill=\"none\" stroke=\"black\" cx=\"563\" cy=\"-73.5\" rx=\"27\" ry=\"18\"/>\n<text text-anchor=\"middle\" x=\"563\" y=\"-69.8\" font-family=\"Times,serif\" font-size=\"14.00\">+</text>\n</g>\n<!-- 136787600913552&#45;&gt;136787595799376+ -->\n<g id=\"edge9\" class=\"edge\">\n<title>136787600913552&#45;&gt;136787595799376+</title>\n<path fill=\"none\" stroke=\"black\" d=\"M500.1,-84.65C509.4,-82.97 518.38,-81.35 526.49,-79.89\"/>\n<polygon fill=\"black\" stroke=\"black\" points=\"527.37,-83.29 536.59,-78.07 526.13,-76.4 527.37,-83.29\"/>\n</g>\n<!-- 136787594151568 -->\n<g id=\"node2\" class=\"node\">\n<title>136787594151568</title>\n<polygon fill=\"none\" stroke=\"black\" points=\"947,-27.5 947,-63.5 1146,-63.5 1146,-27.5 947,-27.5\"/>\n<text text-anchor=\"middle\" x=\"959.5\" y=\"-41.8\" font-family=\"Times,serif\" font-size=\"14.00\">L</text>\n<polyline fill=\"none\" stroke=\"black\" points=\"972,-27.5 972,-63.5 \"/>\n<text text-anchor=\"middle\" x=\"1018\" y=\"-41.8\" font-family=\"Times,serif\" font-size=\"14.00\">data &#45;18.0000</text>\n<polyline fill=\"none\" stroke=\"black\" points=\"1064,-27.5 1064,-63.5 \"/>\n<text text-anchor=\"middle\" x=\"1105\" y=\"-41.8\" font-family=\"Times,serif\" font-size=\"14.00\">grad 1.0000</text>\n</g>\n<!-- 136787594151568* -->\n<g id=\"node3\" class=\"node\">\n<title>136787594151568*</title>\n<ellipse fill=\"none\" stroke=\"black\" cx=\"884\" cy=\"-45.5\" rx=\"27\" ry=\"18\"/>\n<text text-anchor=\"middle\" x=\"884\" y=\"-41.8\" font-family=\"Times,serif\" font-size=\"14.00\">*</text>\n</g>\n<!-- 136787594151568*&#45;&gt;136787594151568 -->\n<g id=\"edge1\" class=\"edge\">\n<title>136787594151568*&#45;&gt;136787594151568</title>\n<path fill=\"none\" stroke=\"black\" d=\"M911.14,-45.5C918.65,-45.5 927.33,-45.5 936.6,-45.5\"/>\n<polygon fill=\"black\" stroke=\"black\" points=\"936.86,-49 946.86,-45.5 936.86,-42 936.86,-49\"/>\n</g>\n<!-- 136787593838352 -->\n<g id=\"node4\" class=\"node\">\n<title>136787593838352</title>\n<polygon fill=\"none\" stroke=\"black\" points=\"0,-56.5 0,-92.5 185,-92.5 185,-56.5 0,-56.5\"/>\n<text text-anchor=\"middle\" x=\"11.5\" y=\"-70.8\" font-family=\"Times,serif\" font-size=\"14.00\">b</text>\n<polyline fill=\"none\" stroke=\"black\" points=\"23,-56.5 23,-92.5 \"/>\n<text text-anchor=\"middle\" x=\"63\" y=\"-70.8\" font-family=\"Times,serif\" font-size=\"14.00\">data 3.0000</text>\n<polyline fill=\"none\" stroke=\"black\" points=\"103,-56.5 103,-92.5 \"/>\n<text text-anchor=\"middle\" x=\"144\" y=\"-70.8\" font-family=\"Times,serif\" font-size=\"14.00\">grad 0.0000</text>\n</g>\n<!-- 136787593831888+ -->\n<g id=\"node10\" class=\"node\">\n<title>136787593831888+</title>\n<ellipse fill=\"none\" stroke=\"black\" cx=\"248\" cy=\"-46.5\" rx=\"27\" ry=\"18\"/>\n<text text-anchor=\"middle\" x=\"248\" y=\"-42.8\" font-family=\"Times,serif\" font-size=\"14.00\">+</text>\n</g>\n<!-- 136787593838352&#45;&gt;136787593831888+ -->\n<g id=\"edge7\" class=\"edge\">\n<title>136787593838352&#45;&gt;136787593831888+</title>\n<path fill=\"none\" stroke=\"black\" d=\"M185.01,-57.81C194.49,-56.08 203.66,-54.41 211.9,-52.9\"/>\n<polygon fill=\"black\" stroke=\"black\" points=\"212.6,-56.33 221.81,-51.09 211.35,-49.45 212.6,-56.33\"/>\n</g>\n<!-- 136787594162512 -->\n<g id=\"node5\" class=\"node\">\n<title>136787594162512</title>\n<polygon fill=\"none\" stroke=\"black\" points=\"626,-0.5 626,-36.5 821,-36.5 821,-0.5 626,-0.5\"/>\n<text text-anchor=\"middle\" x=\"636.5\" y=\"-14.8\" font-family=\"Times,serif\" font-size=\"14.00\">f</text>\n<polyline fill=\"none\" stroke=\"black\" points=\"647,-0.5 647,-36.5 \"/>\n<text text-anchor=\"middle\" x=\"689.5\" y=\"-14.8\" font-family=\"Times,serif\" font-size=\"14.00\">data &#45;2.0000</text>\n<polyline fill=\"none\" stroke=\"black\" points=\"732,-0.5 732,-36.5 \"/>\n<text text-anchor=\"middle\" x=\"776.5\" y=\"-14.8\" font-family=\"Times,serif\" font-size=\"14.00\">grad 10.0000</text>\n</g>\n<!-- 136787594162512&#45;&gt;136787594151568* -->\n<g id=\"edge6\" class=\"edge\">\n<title>136787594162512&#45;&gt;136787594151568*</title>\n<path fill=\"none\" stroke=\"black\" d=\"M821.27,-34.98C830.59,-36.57 839.57,-38.1 847.66,-39.48\"/>\n<polygon fill=\"black\" stroke=\"black\" points=\"847.29,-42.97 857.73,-41.2 848.46,-36.07 847.29,-42.97\"/>\n</g>\n<!-- 136787595799376 -->\n<g id=\"node6\" class=\"node\">\n<title>136787595799376</title>\n<polygon fill=\"none\" stroke=\"black\" points=\"629,-55.5 629,-91.5 818,-91.5 818,-55.5 629,-55.5\"/>\n<text text-anchor=\"middle\" x=\"640.5\" y=\"-69.8\" font-family=\"Times,serif\" font-size=\"14.00\">d</text>\n<polyline fill=\"none\" stroke=\"black\" points=\"652,-55.5 652,-91.5 \"/>\n<text text-anchor=\"middle\" x=\"692\" y=\"-69.8\" font-family=\"Times,serif\" font-size=\"14.00\">data 9.0000</text>\n<polyline fill=\"none\" stroke=\"black\" points=\"732,-55.5 732,-91.5 \"/>\n<text text-anchor=\"middle\" x=\"775\" y=\"-69.8\" font-family=\"Times,serif\" font-size=\"14.00\">grad &#45;2.0000</text>\n</g>\n<!-- 136787595799376&#45;&gt;136787594151568* -->\n<g id=\"edge8\" class=\"edge\">\n<title>136787595799376&#45;&gt;136787594151568*</title>\n<path fill=\"none\" stroke=\"black\" d=\"M818.07,-56.97C828.58,-55.11 838.73,-53.32 847.77,-51.72\"/>\n<polygon fill=\"black\" stroke=\"black\" points=\"848.58,-55.14 857.82,-49.95 847.36,-48.24 848.58,-55.14\"/>\n</g>\n<!-- 136787595799376+&#45;&gt;136787595799376 -->\n<g id=\"edge2\" class=\"edge\">\n<title>136787595799376+&#45;&gt;136787595799376</title>\n<path fill=\"none\" stroke=\"black\" d=\"M590.17,-73.5C598.5,-73.5 608.28,-73.5 618.68,-73.5\"/>\n<polygon fill=\"black\" stroke=\"black\" points=\"618.82,-77 628.82,-73.5 618.82,-70 618.82,-77\"/>\n</g>\n<!-- 136787593789776 -->\n<g id=\"node8\" class=\"node\">\n<title>136787593789776</title>\n<polygon fill=\"none\" stroke=\"black\" points=\"0,-1.5 0,-37.5 185,-37.5 185,-1.5 0,-1.5\"/>\n<text text-anchor=\"middle\" x=\"11.5\" y=\"-15.8\" font-family=\"Times,serif\" font-size=\"14.00\">a</text>\n<polyline fill=\"none\" stroke=\"black\" points=\"23,-1.5 23,-37.5 \"/>\n<text text-anchor=\"middle\" x=\"63\" y=\"-15.8\" font-family=\"Times,serif\" font-size=\"14.00\">data 2.0000</text>\n<polyline fill=\"none\" stroke=\"black\" points=\"103,-1.5 103,-37.5 \"/>\n<text text-anchor=\"middle\" x=\"144\" y=\"-15.8\" font-family=\"Times,serif\" font-size=\"14.00\">grad 0.0000</text>\n</g>\n<!-- 136787593789776&#45;&gt;136787593831888+ -->\n<g id=\"edge5\" class=\"edge\">\n<title>136787593789776&#45;&gt;136787593831888+</title>\n<path fill=\"none\" stroke=\"black\" d=\"M185.01,-35.6C194.49,-37.26 203.66,-38.88 211.9,-40.33\"/>\n<polygon fill=\"black\" stroke=\"black\" points=\"211.36,-43.78 221.81,-42.07 212.57,-36.89 211.36,-43.78\"/>\n</g>\n<!-- 136787593831888 -->\n<g id=\"node9\" class=\"node\">\n<title>136787593831888</title>\n<polygon fill=\"none\" stroke=\"black\" points=\"313,-28.5 313,-64.5 498,-64.5 498,-28.5 313,-28.5\"/>\n<text text-anchor=\"middle\" x=\"324.5\" y=\"-42.8\" font-family=\"Times,serif\" font-size=\"14.00\">e</text>\n<polyline fill=\"none\" stroke=\"black\" points=\"336,-28.5 336,-64.5 \"/>\n<text text-anchor=\"middle\" x=\"376\" y=\"-42.8\" font-family=\"Times,serif\" font-size=\"14.00\">data 5.0000</text>\n<polyline fill=\"none\" stroke=\"black\" points=\"416,-28.5 416,-64.5 \"/>\n<text text-anchor=\"middle\" x=\"457\" y=\"-42.8\" font-family=\"Times,serif\" font-size=\"14.00\">grad 0.0000</text>\n</g>\n<!-- 136787593831888&#45;&gt;136787595799376+ -->\n<g id=\"edge4\" class=\"edge\">\n<title>136787593831888&#45;&gt;136787595799376+</title>\n<path fill=\"none\" stroke=\"black\" d=\"M498.3,-62.44C508.31,-64.18 517.99,-65.86 526.66,-67.36\"/>\n<polygon fill=\"black\" stroke=\"black\" points=\"526.23,-70.84 536.69,-69.1 527.43,-63.95 526.23,-70.84\"/>\n</g>\n<!-- 136787593831888+&#45;&gt;136787593831888 -->\n<g id=\"edge3\" class=\"edge\">\n<title>136787593831888+&#45;&gt;136787593831888</title>\n<path fill=\"none\" stroke=\"black\" d=\"M275.03,-46.5C283.13,-46.5 292.61,-46.5 302.69,-46.5\"/>\n<polygon fill=\"black\" stroke=\"black\" points=\"302.93,-50 312.93,-46.5 302.93,-43 302.93,-50\"/>\n</g>\n</g>\n</svg>\n",
            "text/plain": [
              "<graphviz.graphs.Digraph at 0x7c68585ca690>"
            ]
          },
          "metadata": {},
          "execution_count": 393
        }
      ]
    },
    {
      "cell_type": "code",
      "source": [
        "e.grad=-2\n",
        "a.grad=-2\n",
        "b.grad=-2"
      ],
      "metadata": {
        "id": "L_tRsle7da1r"
      },
      "execution_count": 394,
      "outputs": []
    },
    {
      "cell_type": "code",
      "source": [
        "draw_dot(L)"
      ],
      "metadata": {
        "colab": {
          "base_uri": "https://localhost:8080/",
          "height": 192
        },
        "id": "zaM1xJiddaw9",
        "outputId": "4dd9c1f1-2a58-496c-b25a-47a4ef729a82"
      },
      "execution_count": 395,
      "outputs": [
        {
          "output_type": "execute_result",
          "data": {
            "image/svg+xml": "<?xml version=\"1.0\" encoding=\"UTF-8\" standalone=\"no\"?>\n<!DOCTYPE svg PUBLIC \"-//W3C//DTD SVG 1.1//EN\"\n \"http://www.w3.org/Graphics/SVG/1.1/DTD/svg11.dtd\">\n<!-- Generated by graphviz version 2.43.0 (0)\n -->\n<!-- Title: %3 Pages: 1 -->\n<svg width=\"1158pt\" height=\"128pt\"\n viewBox=\"0.00 0.00 1158.00 128.00\" xmlns=\"http://www.w3.org/2000/svg\" xmlns:xlink=\"http://www.w3.org/1999/xlink\">\n<g id=\"graph0\" class=\"graph\" transform=\"scale(1 1) rotate(0) translate(4 124)\">\n<title>%3</title>\n<polygon fill=\"white\" stroke=\"transparent\" points=\"-4,4 -4,-124 1154,-124 1154,4 -4,4\"/>\n<!-- 136787600913552 -->\n<g id=\"node1\" class=\"node\">\n<title>136787600913552</title>\n<polygon fill=\"none\" stroke=\"black\" points=\"315,-83.5 315,-119.5 504,-119.5 504,-83.5 315,-83.5\"/>\n<text text-anchor=\"middle\" x=\"326.5\" y=\"-97.8\" font-family=\"Times,serif\" font-size=\"14.00\">c</text>\n<polyline fill=\"none\" stroke=\"black\" points=\"338,-83.5 338,-119.5 \"/>\n<text text-anchor=\"middle\" x=\"378\" y=\"-97.8\" font-family=\"Times,serif\" font-size=\"14.00\">data 4.0000</text>\n<polyline fill=\"none\" stroke=\"black\" points=\"418,-83.5 418,-119.5 \"/>\n<text text-anchor=\"middle\" x=\"461\" y=\"-97.8\" font-family=\"Times,serif\" font-size=\"14.00\">grad &#45;2.0000</text>\n</g>\n<!-- 136787595799376+ -->\n<g id=\"node7\" class=\"node\">\n<title>136787595799376+</title>\n<ellipse fill=\"none\" stroke=\"black\" cx=\"567\" cy=\"-73.5\" rx=\"27\" ry=\"18\"/>\n<text text-anchor=\"middle\" x=\"567\" y=\"-69.8\" font-family=\"Times,serif\" font-size=\"14.00\">+</text>\n</g>\n<!-- 136787600913552&#45;&gt;136787595799376+ -->\n<g id=\"edge9\" class=\"edge\">\n<title>136787600913552&#45;&gt;136787595799376+</title>\n<path fill=\"none\" stroke=\"black\" d=\"M504.1,-84.65C513.4,-82.97 522.38,-81.35 530.49,-79.89\"/>\n<polygon fill=\"black\" stroke=\"black\" points=\"531.37,-83.29 540.59,-78.07 530.13,-76.4 531.37,-83.29\"/>\n</g>\n<!-- 136787594151568 -->\n<g id=\"node2\" class=\"node\">\n<title>136787594151568</title>\n<polygon fill=\"none\" stroke=\"black\" points=\"951,-27.5 951,-63.5 1150,-63.5 1150,-27.5 951,-27.5\"/>\n<text text-anchor=\"middle\" x=\"963.5\" y=\"-41.8\" font-family=\"Times,serif\" font-size=\"14.00\">L</text>\n<polyline fill=\"none\" stroke=\"black\" points=\"976,-27.5 976,-63.5 \"/>\n<text text-anchor=\"middle\" x=\"1022\" y=\"-41.8\" font-family=\"Times,serif\" font-size=\"14.00\">data &#45;18.0000</text>\n<polyline fill=\"none\" stroke=\"black\" points=\"1068,-27.5 1068,-63.5 \"/>\n<text text-anchor=\"middle\" x=\"1109\" y=\"-41.8\" font-family=\"Times,serif\" font-size=\"14.00\">grad 1.0000</text>\n</g>\n<!-- 136787594151568* -->\n<g id=\"node3\" class=\"node\">\n<title>136787594151568*</title>\n<ellipse fill=\"none\" stroke=\"black\" cx=\"888\" cy=\"-45.5\" rx=\"27\" ry=\"18\"/>\n<text text-anchor=\"middle\" x=\"888\" y=\"-41.8\" font-family=\"Times,serif\" font-size=\"14.00\">*</text>\n</g>\n<!-- 136787594151568*&#45;&gt;136787594151568 -->\n<g id=\"edge1\" class=\"edge\">\n<title>136787594151568*&#45;&gt;136787594151568</title>\n<path fill=\"none\" stroke=\"black\" d=\"M915.14,-45.5C922.65,-45.5 931.33,-45.5 940.6,-45.5\"/>\n<polygon fill=\"black\" stroke=\"black\" points=\"940.86,-49 950.86,-45.5 940.86,-42 940.86,-49\"/>\n</g>\n<!-- 136787593838352 -->\n<g id=\"node4\" class=\"node\">\n<title>136787593838352</title>\n<polygon fill=\"none\" stroke=\"black\" points=\"0,-56.5 0,-92.5 189,-92.5 189,-56.5 0,-56.5\"/>\n<text text-anchor=\"middle\" x=\"11.5\" y=\"-70.8\" font-family=\"Times,serif\" font-size=\"14.00\">b</text>\n<polyline fill=\"none\" stroke=\"black\" points=\"23,-56.5 23,-92.5 \"/>\n<text text-anchor=\"middle\" x=\"63\" y=\"-70.8\" font-family=\"Times,serif\" font-size=\"14.00\">data 3.0000</text>\n<polyline fill=\"none\" stroke=\"black\" points=\"103,-56.5 103,-92.5 \"/>\n<text text-anchor=\"middle\" x=\"146\" y=\"-70.8\" font-family=\"Times,serif\" font-size=\"14.00\">grad &#45;2.0000</text>\n</g>\n<!-- 136787593831888+ -->\n<g id=\"node10\" class=\"node\">\n<title>136787593831888+</title>\n<ellipse fill=\"none\" stroke=\"black\" cx=\"252\" cy=\"-46.5\" rx=\"27\" ry=\"18\"/>\n<text text-anchor=\"middle\" x=\"252\" y=\"-42.8\" font-family=\"Times,serif\" font-size=\"14.00\">+</text>\n</g>\n<!-- 136787593838352&#45;&gt;136787593831888+ -->\n<g id=\"edge7\" class=\"edge\">\n<title>136787593838352&#45;&gt;136787593831888+</title>\n<path fill=\"none\" stroke=\"black\" d=\"M189.1,-57.65C198.4,-55.97 207.38,-54.35 215.49,-52.89\"/>\n<polygon fill=\"black\" stroke=\"black\" points=\"216.37,-56.29 225.59,-51.07 215.13,-49.4 216.37,-56.29\"/>\n</g>\n<!-- 136787594162512 -->\n<g id=\"node5\" class=\"node\">\n<title>136787594162512</title>\n<polygon fill=\"none\" stroke=\"black\" points=\"630,-0.5 630,-36.5 825,-36.5 825,-0.5 630,-0.5\"/>\n<text text-anchor=\"middle\" x=\"640.5\" y=\"-14.8\" font-family=\"Times,serif\" font-size=\"14.00\">f</text>\n<polyline fill=\"none\" stroke=\"black\" points=\"651,-0.5 651,-36.5 \"/>\n<text text-anchor=\"middle\" x=\"693.5\" y=\"-14.8\" font-family=\"Times,serif\" font-size=\"14.00\">data &#45;2.0000</text>\n<polyline fill=\"none\" stroke=\"black\" points=\"736,-0.5 736,-36.5 \"/>\n<text text-anchor=\"middle\" x=\"780.5\" y=\"-14.8\" font-family=\"Times,serif\" font-size=\"14.00\">grad 10.0000</text>\n</g>\n<!-- 136787594162512&#45;&gt;136787594151568* -->\n<g id=\"edge6\" class=\"edge\">\n<title>136787594162512&#45;&gt;136787594151568*</title>\n<path fill=\"none\" stroke=\"black\" d=\"M825.27,-34.98C834.59,-36.57 843.57,-38.1 851.66,-39.48\"/>\n<polygon fill=\"black\" stroke=\"black\" points=\"851.29,-42.97 861.73,-41.2 852.46,-36.07 851.29,-42.97\"/>\n</g>\n<!-- 136787595799376 -->\n<g id=\"node6\" class=\"node\">\n<title>136787595799376</title>\n<polygon fill=\"none\" stroke=\"black\" points=\"633,-55.5 633,-91.5 822,-91.5 822,-55.5 633,-55.5\"/>\n<text text-anchor=\"middle\" x=\"644.5\" y=\"-69.8\" font-family=\"Times,serif\" font-size=\"14.00\">d</text>\n<polyline fill=\"none\" stroke=\"black\" points=\"656,-55.5 656,-91.5 \"/>\n<text text-anchor=\"middle\" x=\"696\" y=\"-69.8\" font-family=\"Times,serif\" font-size=\"14.00\">data 9.0000</text>\n<polyline fill=\"none\" stroke=\"black\" points=\"736,-55.5 736,-91.5 \"/>\n<text text-anchor=\"middle\" x=\"779\" y=\"-69.8\" font-family=\"Times,serif\" font-size=\"14.00\">grad &#45;2.0000</text>\n</g>\n<!-- 136787595799376&#45;&gt;136787594151568* -->\n<g id=\"edge8\" class=\"edge\">\n<title>136787595799376&#45;&gt;136787594151568*</title>\n<path fill=\"none\" stroke=\"black\" d=\"M822.07,-56.97C832.58,-55.11 842.73,-53.32 851.77,-51.72\"/>\n<polygon fill=\"black\" stroke=\"black\" points=\"852.58,-55.14 861.82,-49.95 851.36,-48.24 852.58,-55.14\"/>\n</g>\n<!-- 136787595799376+&#45;&gt;136787595799376 -->\n<g id=\"edge2\" class=\"edge\">\n<title>136787595799376+&#45;&gt;136787595799376</title>\n<path fill=\"none\" stroke=\"black\" d=\"M594.17,-73.5C602.5,-73.5 612.28,-73.5 622.68,-73.5\"/>\n<polygon fill=\"black\" stroke=\"black\" points=\"622.82,-77 632.82,-73.5 622.82,-70 622.82,-77\"/>\n</g>\n<!-- 136787593789776 -->\n<g id=\"node8\" class=\"node\">\n<title>136787593789776</title>\n<polygon fill=\"none\" stroke=\"black\" points=\"0,-1.5 0,-37.5 189,-37.5 189,-1.5 0,-1.5\"/>\n<text text-anchor=\"middle\" x=\"11.5\" y=\"-15.8\" font-family=\"Times,serif\" font-size=\"14.00\">a</text>\n<polyline fill=\"none\" stroke=\"black\" points=\"23,-1.5 23,-37.5 \"/>\n<text text-anchor=\"middle\" x=\"63\" y=\"-15.8\" font-family=\"Times,serif\" font-size=\"14.00\">data 2.0000</text>\n<polyline fill=\"none\" stroke=\"black\" points=\"103,-1.5 103,-37.5 \"/>\n<text text-anchor=\"middle\" x=\"146\" y=\"-15.8\" font-family=\"Times,serif\" font-size=\"14.00\">grad &#45;2.0000</text>\n</g>\n<!-- 136787593789776&#45;&gt;136787593831888+ -->\n<g id=\"edge5\" class=\"edge\">\n<title>136787593789776&#45;&gt;136787593831888+</title>\n<path fill=\"none\" stroke=\"black\" d=\"M189.1,-35.75C198.4,-37.37 207.38,-38.93 215.49,-40.33\"/>\n<polygon fill=\"black\" stroke=\"black\" points=\"215.14,-43.83 225.59,-42.09 216.34,-36.93 215.14,-43.83\"/>\n</g>\n<!-- 136787593831888 -->\n<g id=\"node9\" class=\"node\">\n<title>136787593831888</title>\n<polygon fill=\"none\" stroke=\"black\" points=\"315,-28.5 315,-64.5 504,-64.5 504,-28.5 315,-28.5\"/>\n<text text-anchor=\"middle\" x=\"326.5\" y=\"-42.8\" font-family=\"Times,serif\" font-size=\"14.00\">e</text>\n<polyline fill=\"none\" stroke=\"black\" points=\"338,-28.5 338,-64.5 \"/>\n<text text-anchor=\"middle\" x=\"378\" y=\"-42.8\" font-family=\"Times,serif\" font-size=\"14.00\">data 5.0000</text>\n<polyline fill=\"none\" stroke=\"black\" points=\"418,-28.5 418,-64.5 \"/>\n<text text-anchor=\"middle\" x=\"461\" y=\"-42.8\" font-family=\"Times,serif\" font-size=\"14.00\">grad &#45;2.0000</text>\n</g>\n<!-- 136787593831888&#45;&gt;136787595799376+ -->\n<g id=\"edge4\" class=\"edge\">\n<title>136787593831888&#45;&gt;136787595799376+</title>\n<path fill=\"none\" stroke=\"black\" d=\"M504.1,-62.75C513.4,-64.37 522.38,-65.93 530.49,-67.33\"/>\n<polygon fill=\"black\" stroke=\"black\" points=\"530.14,-70.83 540.59,-69.09 531.34,-63.93 530.14,-70.83\"/>\n</g>\n<!-- 136787593831888+&#45;&gt;136787593831888 -->\n<g id=\"edge3\" class=\"edge\">\n<title>136787593831888+&#45;&gt;136787593831888</title>\n<path fill=\"none\" stroke=\"black\" d=\"M279.03,-46.5C286.66,-46.5 295.52,-46.5 304.94,-46.5\"/>\n<polygon fill=\"black\" stroke=\"black\" points=\"304.94,-50 314.94,-46.5 304.94,-43 304.94,-50\"/>\n</g>\n</g>\n</svg>\n",
            "text/plain": [
              "<graphviz.graphs.Digraph at 0x7c6857f66310>"
            ]
          },
          "metadata": {},
          "execution_count": 395
        }
      ]
    },
    {
      "cell_type": "markdown",
      "source": [
        "# after calculating the grad we can nudge the changeable nodes\n",
        "\n",
        "\n",
        "\n"
      ],
      "metadata": {
        "id": "nZk2Fu-6eMdH"
      }
    },
    {
      "cell_type": "code",
      "source": [
        "a.data+=0.01*a.grad\n",
        "b.data+=0.01*b.grad\n",
        "c.data+=0.01*c.grad\n",
        "f.data+=0.01*f.grad\n",
        "e=a+b\n",
        "d=e+c\n",
        "L=d*f\n",
        "\n",
        "print(L)\n",
        "\n",
        "\n"
      ],
      "metadata": {
        "colab": {
          "base_uri": "https://localhost:8080/"
        },
        "id": "3qbFjwqxdasy",
        "outputId": "67986894-778d-44b1-9932-64117fe76ff6"
      },
      "execution_count": 396,
      "outputs": [
        {
          "output_type": "stream",
          "name": "stdout",
          "text": [
            "Rank(-16.985999999999997)\n"
          ]
        }
      ]
    },
    {
      "cell_type": "code",
      "source": [
        "#the value of  l is changed"
      ],
      "metadata": {
        "id": "ncRY73Okdap8"
      },
      "execution_count": 397,
      "outputs": []
    },
    {
      "cell_type": "markdown",
      "source": [
        "# making whole neural network using tanh as activation function\n",
        "\n",
        "---\n",
        "\n"
      ],
      "metadata": {
        "id": "C5R5aZxWg8iF"
      }
    },
    {
      "cell_type": "code",
      "source": [
        "# inputs x1,x2\n",
        "x1 = Rank(2.0, label='x1')\n",
        "x2 = Rank(0.0, label='x2')\n",
        "# weights w1,w2\n",
        "w1 = Rank(-3.0, label='w1')\n",
        "w2 = Rank(1.0, label='w2')\n",
        "# bias of the neuron\n",
        "b = Rank(6.8813735870195432, label='b')\n",
        "# x1*w1 + x2*w2 + b\n",
        "x1w1 = x1*w1; x1w1.label = 'x1*w1'\n",
        "x2w2 = x2*w2; x2w2.label = 'x2*w2'\n",
        "x1w1x2w2 = x1w1 + x2w2; x1w1x2w2.label = 'x1*w1 + x2*w2'\n",
        "n = x1w1x2w2 + b; n.label = 'n'\n",
        "o = n.tanh()\n",
        "o.label='o'\n"
      ],
      "metadata": {
        "id": "_lvczM-ggoTA"
      },
      "execution_count": 398,
      "outputs": []
    },
    {
      "cell_type": "code",
      "source": [
        "draw_dot(o)"
      ],
      "metadata": {
        "colab": {
          "base_uri": "https://localhost:8080/",
          "height": 321
        },
        "id": "fIQdZPpmgoPc",
        "outputId": "03942ebd-82d1-4bd7-b771-1e3d3b47bdc7"
      },
      "execution_count": 399,
      "outputs": [
        {
          "output_type": "execute_result",
          "data": {
            "image/svg+xml": "<?xml version=\"1.0\" encoding=\"UTF-8\" standalone=\"no\"?>\n<!DOCTYPE svg PUBLIC \"-//W3C//DTD SVG 1.1//EN\"\n \"http://www.w3.org/Graphics/SVG/1.1/DTD/svg11.dtd\">\n<!-- Generated by graphviz version 2.43.0 (0)\n -->\n<!-- Title: %3 Pages: 1 -->\n<svg width=\"1575pt\" height=\"210pt\"\n viewBox=\"0.00 0.00 1575.00 210.00\" xmlns=\"http://www.w3.org/2000/svg\" xmlns:xlink=\"http://www.w3.org/1999/xlink\">\n<g id=\"graph0\" class=\"graph\" transform=\"scale(1 1) rotate(0) translate(4 206)\">\n<title>%3</title>\n<polygon fill=\"white\" stroke=\"transparent\" points=\"-4,4 -4,-206 1571,-206 1571,4 -4,4\"/>\n<!-- 136787594213904 -->\n<g id=\"node1\" class=\"node\">\n<title>136787594213904</title>\n<polygon fill=\"none\" stroke=\"black\" points=\"328.5,-55.5 328.5,-91.5 543.5,-91.5 543.5,-55.5 328.5,-55.5\"/>\n<text text-anchor=\"middle\" x=\"355\" y=\"-69.8\" font-family=\"Times,serif\" font-size=\"14.00\">x2*w2</text>\n<polyline fill=\"none\" stroke=\"black\" points=\"381.5,-55.5 381.5,-91.5 \"/>\n<text text-anchor=\"middle\" x=\"421.5\" y=\"-69.8\" font-family=\"Times,serif\" font-size=\"14.00\">data 0.0000</text>\n<polyline fill=\"none\" stroke=\"black\" points=\"461.5,-55.5 461.5,-91.5 \"/>\n<text text-anchor=\"middle\" x=\"502.5\" y=\"-69.8\" font-family=\"Times,serif\" font-size=\"14.00\">grad 0.0000</text>\n</g>\n<!-- 136787594214032+ -->\n<g id=\"node4\" class=\"node\">\n<title>136787594214032+</title>\n<ellipse fill=\"none\" stroke=\"black\" cx=\"609\" cy=\"-100.5\" rx=\"27\" ry=\"18\"/>\n<text text-anchor=\"middle\" x=\"609\" y=\"-96.8\" font-family=\"Times,serif\" font-size=\"14.00\">+</text>\n</g>\n<!-- 136787594213904&#45;&gt;136787594214032+ -->\n<g id=\"edge8\" class=\"edge\">\n<title>136787594213904&#45;&gt;136787594214032+</title>\n<path fill=\"none\" stroke=\"black\" d=\"M543.84,-90.37C554.01,-91.98 563.76,-93.51 572.44,-94.89\"/>\n<polygon fill=\"black\" stroke=\"black\" points=\"572.05,-98.37 582.47,-96.47 573.14,-91.45 572.05,-98.37\"/>\n</g>\n<!-- 136787594213904* -->\n<g id=\"node2\" class=\"node\">\n<title>136787594213904*</title>\n<ellipse fill=\"none\" stroke=\"black\" cx=\"263\" cy=\"-73.5\" rx=\"27\" ry=\"18\"/>\n<text text-anchor=\"middle\" x=\"263\" y=\"-69.8\" font-family=\"Times,serif\" font-size=\"14.00\">*</text>\n</g>\n<!-- 136787594213904*&#45;&gt;136787594213904 -->\n<g id=\"edge1\" class=\"edge\">\n<title>136787594213904*&#45;&gt;136787594213904</title>\n<path fill=\"none\" stroke=\"black\" d=\"M290.34,-73.5C298.51,-73.5 308.08,-73.5 318.36,-73.5\"/>\n<polygon fill=\"black\" stroke=\"black\" points=\"318.39,-77 328.39,-73.5 318.39,-70 318.39,-77\"/>\n</g>\n<!-- 136787594214032 -->\n<g id=\"node3\" class=\"node\">\n<title>136787594214032</title>\n<polygon fill=\"none\" stroke=\"black\" points=\"672,-82.5 672,-118.5 945,-118.5 945,-82.5 672,-82.5\"/>\n<text text-anchor=\"middle\" x=\"725\" y=\"-96.8\" font-family=\"Times,serif\" font-size=\"14.00\">x1*w1 + x2*w2</text>\n<polyline fill=\"none\" stroke=\"black\" points=\"778,-82.5 778,-118.5 \"/>\n<text text-anchor=\"middle\" x=\"820.5\" y=\"-96.8\" font-family=\"Times,serif\" font-size=\"14.00\">data &#45;6.0000</text>\n<polyline fill=\"none\" stroke=\"black\" points=\"863,-82.5 863,-118.5 \"/>\n<text text-anchor=\"middle\" x=\"904\" y=\"-96.8\" font-family=\"Times,serif\" font-size=\"14.00\">grad 0.0000</text>\n</g>\n<!-- 136787594213776+ -->\n<g id=\"node13\" class=\"node\">\n<title>136787594213776+</title>\n<ellipse fill=\"none\" stroke=\"black\" cx=\"1008\" cy=\"-127.5\" rx=\"27\" ry=\"18\"/>\n<text text-anchor=\"middle\" x=\"1008\" y=\"-123.8\" font-family=\"Times,serif\" font-size=\"14.00\">+</text>\n</g>\n<!-- 136787594214032&#45;&gt;136787594213776+ -->\n<g id=\"edge13\" class=\"edge\">\n<title>136787594214032&#45;&gt;136787594213776+</title>\n<path fill=\"none\" stroke=\"black\" d=\"M941.24,-118.51C952.12,-120 962.4,-121.4 971.45,-122.64\"/>\n<polygon fill=\"black\" stroke=\"black\" points=\"971.11,-126.13 981.49,-124.01 972.05,-119.19 971.11,-126.13\"/>\n</g>\n<!-- 136787594214032+&#45;&gt;136787594214032 -->\n<g id=\"edge2\" class=\"edge\">\n<title>136787594214032+&#45;&gt;136787594214032</title>\n<path fill=\"none\" stroke=\"black\" d=\"M636.23,-100.5C643.7,-100.5 652.41,-100.5 661.87,-100.5\"/>\n<polygon fill=\"black\" stroke=\"black\" points=\"661.98,-104 671.98,-100.5 661.98,-97 661.98,-104\"/>\n</g>\n<!-- 136787594213520 -->\n<g id=\"node5\" class=\"node\">\n<title>136787594213520</title>\n<polygon fill=\"none\" stroke=\"black\" points=\"326,-110.5 326,-146.5 546,-146.5 546,-110.5 326,-110.5\"/>\n<text text-anchor=\"middle\" x=\"352.5\" y=\"-124.8\" font-family=\"Times,serif\" font-size=\"14.00\">x1*w1</text>\n<polyline fill=\"none\" stroke=\"black\" points=\"379,-110.5 379,-146.5 \"/>\n<text text-anchor=\"middle\" x=\"421.5\" y=\"-124.8\" font-family=\"Times,serif\" font-size=\"14.00\">data &#45;6.0000</text>\n<polyline fill=\"none\" stroke=\"black\" points=\"464,-110.5 464,-146.5 \"/>\n<text text-anchor=\"middle\" x=\"505\" y=\"-124.8\" font-family=\"Times,serif\" font-size=\"14.00\">grad 0.0000</text>\n</g>\n<!-- 136787594213520&#45;&gt;136787594214032+ -->\n<g id=\"edge14\" class=\"edge\">\n<title>136787594213520&#45;&gt;136787594214032+</title>\n<path fill=\"none\" stroke=\"black\" d=\"M546.27,-110.61C555.64,-109.07 564.6,-107.61 572.65,-106.29\"/>\n<polygon fill=\"black\" stroke=\"black\" points=\"573.35,-109.72 582.65,-104.65 572.22,-102.81 573.35,-109.72\"/>\n</g>\n<!-- 136787594213520* -->\n<g id=\"node6\" class=\"node\">\n<title>136787594213520*</title>\n<ellipse fill=\"none\" stroke=\"black\" cx=\"263\" cy=\"-128.5\" rx=\"27\" ry=\"18\"/>\n<text text-anchor=\"middle\" x=\"263\" y=\"-124.8\" font-family=\"Times,serif\" font-size=\"14.00\">*</text>\n</g>\n<!-- 136787594213520*&#45;&gt;136787594213520 -->\n<g id=\"edge3\" class=\"edge\">\n<title>136787594213520*&#45;&gt;136787594213520</title>\n<path fill=\"none\" stroke=\"black\" d=\"M290.34,-128.5C297.77,-128.5 306.37,-128.5 315.6,-128.5\"/>\n<polygon fill=\"black\" stroke=\"black\" points=\"315.84,-132 325.84,-128.5 315.84,-125 315.84,-132\"/>\n</g>\n<!-- 136787594213008 -->\n<g id=\"node7\" class=\"node\">\n<title>136787594213008</title>\n<polygon fill=\"none\" stroke=\"black\" points=\"4,-55.5 4,-91.5 196,-91.5 196,-55.5 4,-55.5\"/>\n<text text-anchor=\"middle\" x=\"19\" y=\"-69.8\" font-family=\"Times,serif\" font-size=\"14.00\">x2</text>\n<polyline fill=\"none\" stroke=\"black\" points=\"34,-55.5 34,-91.5 \"/>\n<text text-anchor=\"middle\" x=\"74\" y=\"-69.8\" font-family=\"Times,serif\" font-size=\"14.00\">data 0.0000</text>\n<polyline fill=\"none\" stroke=\"black\" points=\"114,-55.5 114,-91.5 \"/>\n<text text-anchor=\"middle\" x=\"155\" y=\"-69.8\" font-family=\"Times,serif\" font-size=\"14.00\">grad 0.0000</text>\n</g>\n<!-- 136787594213008&#45;&gt;136787594213904* -->\n<g id=\"edge11\" class=\"edge\">\n<title>136787594213008&#45;&gt;136787594213904*</title>\n<path fill=\"none\" stroke=\"black\" d=\"M196.05,-73.5C206.52,-73.5 216.65,-73.5 225.71,-73.5\"/>\n<polygon fill=\"black\" stroke=\"black\" points=\"225.79,-77 235.79,-73.5 225.79,-70 225.79,-77\"/>\n</g>\n<!-- 136787594213584 -->\n<g id=\"node8\" class=\"node\">\n<title>136787594213584</title>\n<polygon fill=\"none\" stroke=\"black\" points=\"0,-165.5 0,-201.5 200,-201.5 200,-165.5 0,-165.5\"/>\n<text text-anchor=\"middle\" x=\"16.5\" y=\"-179.8\" font-family=\"Times,serif\" font-size=\"14.00\">w1</text>\n<polyline fill=\"none\" stroke=\"black\" points=\"33,-165.5 33,-201.5 \"/>\n<text text-anchor=\"middle\" x=\"75.5\" y=\"-179.8\" font-family=\"Times,serif\" font-size=\"14.00\">data &#45;3.0000</text>\n<polyline fill=\"none\" stroke=\"black\" points=\"118,-165.5 118,-201.5 \"/>\n<text text-anchor=\"middle\" x=\"159\" y=\"-179.8\" font-family=\"Times,serif\" font-size=\"14.00\">grad 0.0000</text>\n</g>\n<!-- 136787594213584&#45;&gt;136787594213520* -->\n<g id=\"edge7\" class=\"edge\">\n<title>136787594213584&#45;&gt;136787594213520*</title>\n<path fill=\"none\" stroke=\"black\" d=\"M172.53,-165.44C181.84,-162.67 191.2,-159.67 200,-156.5 210.53,-152.71 221.75,-147.9 231.72,-143.33\"/>\n<polygon fill=\"black\" stroke=\"black\" points=\"233.25,-146.48 240.82,-139.07 230.28,-140.14 233.25,-146.48\"/>\n</g>\n<!-- 136787594213072 -->\n<g id=\"node9\" class=\"node\">\n<title>136787594213072</title>\n<polygon fill=\"none\" stroke=\"black\" points=\"716,-137.5 716,-173.5 901,-173.5 901,-137.5 716,-137.5\"/>\n<text text-anchor=\"middle\" x=\"727.5\" y=\"-151.8\" font-family=\"Times,serif\" font-size=\"14.00\">b</text>\n<polyline fill=\"none\" stroke=\"black\" points=\"739,-137.5 739,-173.5 \"/>\n<text text-anchor=\"middle\" x=\"779\" y=\"-151.8\" font-family=\"Times,serif\" font-size=\"14.00\">data 6.8814</text>\n<polyline fill=\"none\" stroke=\"black\" points=\"819,-137.5 819,-173.5 \"/>\n<text text-anchor=\"middle\" x=\"860\" y=\"-151.8\" font-family=\"Times,serif\" font-size=\"14.00\">grad 0.0000</text>\n</g>\n<!-- 136787594213072&#45;&gt;136787594213776+ -->\n<g id=\"edge9\" class=\"edge\">\n<title>136787594213072&#45;&gt;136787594213776+</title>\n<path fill=\"none\" stroke=\"black\" d=\"M901.02,-142.52C926,-138.98 951.59,-135.36 971.37,-132.55\"/>\n<polygon fill=\"black\" stroke=\"black\" points=\"972.03,-135.99 981.43,-131.12 971.04,-129.06 972.03,-135.99\"/>\n</g>\n<!-- 136787594213712 -->\n<g id=\"node10\" class=\"node\">\n<title>136787594213712</title>\n<polygon fill=\"none\" stroke=\"black\" points=\"2.5,-0.5 2.5,-36.5 197.5,-36.5 197.5,-0.5 2.5,-0.5\"/>\n<text text-anchor=\"middle\" x=\"19\" y=\"-14.8\" font-family=\"Times,serif\" font-size=\"14.00\">w2</text>\n<polyline fill=\"none\" stroke=\"black\" points=\"35.5,-0.5 35.5,-36.5 \"/>\n<text text-anchor=\"middle\" x=\"75.5\" y=\"-14.8\" font-family=\"Times,serif\" font-size=\"14.00\">data 1.0000</text>\n<polyline fill=\"none\" stroke=\"black\" points=\"115.5,-0.5 115.5,-36.5 \"/>\n<text text-anchor=\"middle\" x=\"156.5\" y=\"-14.8\" font-family=\"Times,serif\" font-size=\"14.00\">grad 0.0000</text>\n</g>\n<!-- 136787594213712&#45;&gt;136787594213904* -->\n<g id=\"edge10\" class=\"edge\">\n<title>136787594213712&#45;&gt;136787594213904*</title>\n<path fill=\"none\" stroke=\"black\" d=\"M169.28,-36.5C179.65,-39.61 190.16,-42.98 200,-46.5 210.28,-50.17 221.28,-54.74 231.11,-59.07\"/>\n<polygon fill=\"black\" stroke=\"black\" points=\"229.93,-62.37 240.48,-63.27 232.79,-55.99 229.93,-62.37\"/>\n</g>\n<!-- 136787594212752 -->\n<g id=\"node11\" class=\"node\">\n<title>136787594212752</title>\n<polygon fill=\"none\" stroke=\"black\" points=\"4,-110.5 4,-146.5 196,-146.5 196,-110.5 4,-110.5\"/>\n<text text-anchor=\"middle\" x=\"19\" y=\"-124.8\" font-family=\"Times,serif\" font-size=\"14.00\">x1</text>\n<polyline fill=\"none\" stroke=\"black\" points=\"34,-110.5 34,-146.5 \"/>\n<text text-anchor=\"middle\" x=\"74\" y=\"-124.8\" font-family=\"Times,serif\" font-size=\"14.00\">data 2.0000</text>\n<polyline fill=\"none\" stroke=\"black\" points=\"114,-110.5 114,-146.5 \"/>\n<text text-anchor=\"middle\" x=\"155\" y=\"-124.8\" font-family=\"Times,serif\" font-size=\"14.00\">grad 0.0000</text>\n</g>\n<!-- 136787594212752&#45;&gt;136787594213520* -->\n<g id=\"edge6\" class=\"edge\">\n<title>136787594212752&#45;&gt;136787594213520*</title>\n<path fill=\"none\" stroke=\"black\" d=\"M196.05,-128.5C206.52,-128.5 216.65,-128.5 225.71,-128.5\"/>\n<polygon fill=\"black\" stroke=\"black\" points=\"225.79,-132 235.79,-128.5 225.79,-125 225.79,-132\"/>\n</g>\n<!-- 136787594213776 -->\n<g id=\"node12\" class=\"node\">\n<title>136787594213776</title>\n<polygon fill=\"none\" stroke=\"black\" points=\"1071,-109.5 1071,-145.5 1256,-145.5 1256,-109.5 1071,-109.5\"/>\n<text text-anchor=\"middle\" x=\"1082.5\" y=\"-123.8\" font-family=\"Times,serif\" font-size=\"14.00\">n</text>\n<polyline fill=\"none\" stroke=\"black\" points=\"1094,-109.5 1094,-145.5 \"/>\n<text text-anchor=\"middle\" x=\"1134\" y=\"-123.8\" font-family=\"Times,serif\" font-size=\"14.00\">data 0.8814</text>\n<polyline fill=\"none\" stroke=\"black\" points=\"1174,-109.5 1174,-145.5 \"/>\n<text text-anchor=\"middle\" x=\"1215\" y=\"-123.8\" font-family=\"Times,serif\" font-size=\"14.00\">grad 0.0000</text>\n</g>\n<!-- 136787594214288tanh -->\n<g id=\"node15\" class=\"node\">\n<title>136787594214288tanh</title>\n<ellipse fill=\"none\" stroke=\"black\" cx=\"1319\" cy=\"-127.5\" rx=\"27\" ry=\"18\"/>\n<text text-anchor=\"middle\" x=\"1319\" y=\"-123.8\" font-family=\"Times,serif\" font-size=\"14.00\">tanh</text>\n</g>\n<!-- 136787594213776&#45;&gt;136787594214288tanh -->\n<g id=\"edge12\" class=\"edge\">\n<title>136787594213776&#45;&gt;136787594214288tanh</title>\n<path fill=\"none\" stroke=\"black\" d=\"M1256.01,-127.5C1265.01,-127.5 1273.74,-127.5 1281.66,-127.5\"/>\n<polygon fill=\"black\" stroke=\"black\" points=\"1281.91,-131 1291.91,-127.5 1281.91,-124 1281.91,-131\"/>\n</g>\n<!-- 136787594213776+&#45;&gt;136787594213776 -->\n<g id=\"edge4\" class=\"edge\">\n<title>136787594213776+&#45;&gt;136787594213776</title>\n<path fill=\"none\" stroke=\"black\" d=\"M1035.04,-127.5C1042.58,-127.5 1051.3,-127.5 1060.57,-127.5\"/>\n<polygon fill=\"black\" stroke=\"black\" points=\"1060.81,-131 1070.81,-127.5 1060.81,-124 1060.81,-131\"/>\n</g>\n<!-- 136787594214288 -->\n<g id=\"node14\" class=\"node\">\n<title>136787594214288</title>\n<polygon fill=\"none\" stroke=\"black\" points=\"1382,-109.5 1382,-145.5 1567,-145.5 1567,-109.5 1382,-109.5\"/>\n<text text-anchor=\"middle\" x=\"1393.5\" y=\"-123.8\" font-family=\"Times,serif\" font-size=\"14.00\">o</text>\n<polyline fill=\"none\" stroke=\"black\" points=\"1405,-109.5 1405,-145.5 \"/>\n<text text-anchor=\"middle\" x=\"1445\" y=\"-123.8\" font-family=\"Times,serif\" font-size=\"14.00\">data 0.7071</text>\n<polyline fill=\"none\" stroke=\"black\" points=\"1485,-109.5 1485,-145.5 \"/>\n<text text-anchor=\"middle\" x=\"1526\" y=\"-123.8\" font-family=\"Times,serif\" font-size=\"14.00\">grad 0.0000</text>\n</g>\n<!-- 136787594214288tanh&#45;&gt;136787594214288 -->\n<g id=\"edge5\" class=\"edge\">\n<title>136787594214288tanh&#45;&gt;136787594214288</title>\n<path fill=\"none\" stroke=\"black\" d=\"M1346.04,-127.5C1353.58,-127.5 1362.3,-127.5 1371.57,-127.5\"/>\n<polygon fill=\"black\" stroke=\"black\" points=\"1371.81,-131 1381.81,-127.5 1371.81,-124 1371.81,-131\"/>\n</g>\n</g>\n</svg>\n",
            "text/plain": [
              "<graphviz.graphs.Digraph at 0x7c6857f64f90>"
            ]
          },
          "metadata": {},
          "execution_count": 399
        }
      ]
    },
    {
      "cell_type": "code",
      "source": [
        "o.grad=1"
      ],
      "metadata": {
        "id": "pz7m1sL3goMx"
      },
      "execution_count": 400,
      "outputs": []
    },
    {
      "cell_type": "code",
      "source": [
        "draw_dot(o)"
      ],
      "metadata": {
        "colab": {
          "base_uri": "https://localhost:8080/",
          "height": 321
        },
        "id": "iKAkO8LugoJ5",
        "outputId": "5d265471-6d12-416b-80b0-278215898ee7"
      },
      "execution_count": 401,
      "outputs": [
        {
          "output_type": "execute_result",
          "data": {
            "image/svg+xml": "<?xml version=\"1.0\" encoding=\"UTF-8\" standalone=\"no\"?>\n<!DOCTYPE svg PUBLIC \"-//W3C//DTD SVG 1.1//EN\"\n \"http://www.w3.org/Graphics/SVG/1.1/DTD/svg11.dtd\">\n<!-- Generated by graphviz version 2.43.0 (0)\n -->\n<!-- Title: %3 Pages: 1 -->\n<svg width=\"1575pt\" height=\"210pt\"\n viewBox=\"0.00 0.00 1575.00 210.00\" xmlns=\"http://www.w3.org/2000/svg\" xmlns:xlink=\"http://www.w3.org/1999/xlink\">\n<g id=\"graph0\" class=\"graph\" transform=\"scale(1 1) rotate(0) translate(4 206)\">\n<title>%3</title>\n<polygon fill=\"white\" stroke=\"transparent\" points=\"-4,4 -4,-206 1571,-206 1571,4 -4,4\"/>\n<!-- 136787594213904 -->\n<g id=\"node1\" class=\"node\">\n<title>136787594213904</title>\n<polygon fill=\"none\" stroke=\"black\" points=\"328.5,-55.5 328.5,-91.5 543.5,-91.5 543.5,-55.5 328.5,-55.5\"/>\n<text text-anchor=\"middle\" x=\"355\" y=\"-69.8\" font-family=\"Times,serif\" font-size=\"14.00\">x2*w2</text>\n<polyline fill=\"none\" stroke=\"black\" points=\"381.5,-55.5 381.5,-91.5 \"/>\n<text text-anchor=\"middle\" x=\"421.5\" y=\"-69.8\" font-family=\"Times,serif\" font-size=\"14.00\">data 0.0000</text>\n<polyline fill=\"none\" stroke=\"black\" points=\"461.5,-55.5 461.5,-91.5 \"/>\n<text text-anchor=\"middle\" x=\"502.5\" y=\"-69.8\" font-family=\"Times,serif\" font-size=\"14.00\">grad 0.0000</text>\n</g>\n<!-- 136787594214032+ -->\n<g id=\"node4\" class=\"node\">\n<title>136787594214032+</title>\n<ellipse fill=\"none\" stroke=\"black\" cx=\"609\" cy=\"-100.5\" rx=\"27\" ry=\"18\"/>\n<text text-anchor=\"middle\" x=\"609\" y=\"-96.8\" font-family=\"Times,serif\" font-size=\"14.00\">+</text>\n</g>\n<!-- 136787594213904&#45;&gt;136787594214032+ -->\n<g id=\"edge8\" class=\"edge\">\n<title>136787594213904&#45;&gt;136787594214032+</title>\n<path fill=\"none\" stroke=\"black\" d=\"M543.84,-90.37C554.01,-91.98 563.76,-93.51 572.44,-94.89\"/>\n<polygon fill=\"black\" stroke=\"black\" points=\"572.05,-98.37 582.47,-96.47 573.14,-91.45 572.05,-98.37\"/>\n</g>\n<!-- 136787594213904* -->\n<g id=\"node2\" class=\"node\">\n<title>136787594213904*</title>\n<ellipse fill=\"none\" stroke=\"black\" cx=\"263\" cy=\"-73.5\" rx=\"27\" ry=\"18\"/>\n<text text-anchor=\"middle\" x=\"263\" y=\"-69.8\" font-family=\"Times,serif\" font-size=\"14.00\">*</text>\n</g>\n<!-- 136787594213904*&#45;&gt;136787594213904 -->\n<g id=\"edge1\" class=\"edge\">\n<title>136787594213904*&#45;&gt;136787594213904</title>\n<path fill=\"none\" stroke=\"black\" d=\"M290.34,-73.5C298.51,-73.5 308.08,-73.5 318.36,-73.5\"/>\n<polygon fill=\"black\" stroke=\"black\" points=\"318.39,-77 328.39,-73.5 318.39,-70 318.39,-77\"/>\n</g>\n<!-- 136787594214032 -->\n<g id=\"node3\" class=\"node\">\n<title>136787594214032</title>\n<polygon fill=\"none\" stroke=\"black\" points=\"672,-82.5 672,-118.5 945,-118.5 945,-82.5 672,-82.5\"/>\n<text text-anchor=\"middle\" x=\"725\" y=\"-96.8\" font-family=\"Times,serif\" font-size=\"14.00\">x1*w1 + x2*w2</text>\n<polyline fill=\"none\" stroke=\"black\" points=\"778,-82.5 778,-118.5 \"/>\n<text text-anchor=\"middle\" x=\"820.5\" y=\"-96.8\" font-family=\"Times,serif\" font-size=\"14.00\">data &#45;6.0000</text>\n<polyline fill=\"none\" stroke=\"black\" points=\"863,-82.5 863,-118.5 \"/>\n<text text-anchor=\"middle\" x=\"904\" y=\"-96.8\" font-family=\"Times,serif\" font-size=\"14.00\">grad 0.0000</text>\n</g>\n<!-- 136787594213776+ -->\n<g id=\"node13\" class=\"node\">\n<title>136787594213776+</title>\n<ellipse fill=\"none\" stroke=\"black\" cx=\"1008\" cy=\"-127.5\" rx=\"27\" ry=\"18\"/>\n<text text-anchor=\"middle\" x=\"1008\" y=\"-123.8\" font-family=\"Times,serif\" font-size=\"14.00\">+</text>\n</g>\n<!-- 136787594214032&#45;&gt;136787594213776+ -->\n<g id=\"edge13\" class=\"edge\">\n<title>136787594214032&#45;&gt;136787594213776+</title>\n<path fill=\"none\" stroke=\"black\" d=\"M941.24,-118.51C952.12,-120 962.4,-121.4 971.45,-122.64\"/>\n<polygon fill=\"black\" stroke=\"black\" points=\"971.11,-126.13 981.49,-124.01 972.05,-119.19 971.11,-126.13\"/>\n</g>\n<!-- 136787594214032+&#45;&gt;136787594214032 -->\n<g id=\"edge2\" class=\"edge\">\n<title>136787594214032+&#45;&gt;136787594214032</title>\n<path fill=\"none\" stroke=\"black\" d=\"M636.23,-100.5C643.7,-100.5 652.41,-100.5 661.87,-100.5\"/>\n<polygon fill=\"black\" stroke=\"black\" points=\"661.98,-104 671.98,-100.5 661.98,-97 661.98,-104\"/>\n</g>\n<!-- 136787594213520 -->\n<g id=\"node5\" class=\"node\">\n<title>136787594213520</title>\n<polygon fill=\"none\" stroke=\"black\" points=\"326,-110.5 326,-146.5 546,-146.5 546,-110.5 326,-110.5\"/>\n<text text-anchor=\"middle\" x=\"352.5\" y=\"-124.8\" font-family=\"Times,serif\" font-size=\"14.00\">x1*w1</text>\n<polyline fill=\"none\" stroke=\"black\" points=\"379,-110.5 379,-146.5 \"/>\n<text text-anchor=\"middle\" x=\"421.5\" y=\"-124.8\" font-family=\"Times,serif\" font-size=\"14.00\">data &#45;6.0000</text>\n<polyline fill=\"none\" stroke=\"black\" points=\"464,-110.5 464,-146.5 \"/>\n<text text-anchor=\"middle\" x=\"505\" y=\"-124.8\" font-family=\"Times,serif\" font-size=\"14.00\">grad 0.0000</text>\n</g>\n<!-- 136787594213520&#45;&gt;136787594214032+ -->\n<g id=\"edge14\" class=\"edge\">\n<title>136787594213520&#45;&gt;136787594214032+</title>\n<path fill=\"none\" stroke=\"black\" d=\"M546.27,-110.61C555.64,-109.07 564.6,-107.61 572.65,-106.29\"/>\n<polygon fill=\"black\" stroke=\"black\" points=\"573.35,-109.72 582.65,-104.65 572.22,-102.81 573.35,-109.72\"/>\n</g>\n<!-- 136787594213520* -->\n<g id=\"node6\" class=\"node\">\n<title>136787594213520*</title>\n<ellipse fill=\"none\" stroke=\"black\" cx=\"263\" cy=\"-128.5\" rx=\"27\" ry=\"18\"/>\n<text text-anchor=\"middle\" x=\"263\" y=\"-124.8\" font-family=\"Times,serif\" font-size=\"14.00\">*</text>\n</g>\n<!-- 136787594213520*&#45;&gt;136787594213520 -->\n<g id=\"edge3\" class=\"edge\">\n<title>136787594213520*&#45;&gt;136787594213520</title>\n<path fill=\"none\" stroke=\"black\" d=\"M290.34,-128.5C297.77,-128.5 306.37,-128.5 315.6,-128.5\"/>\n<polygon fill=\"black\" stroke=\"black\" points=\"315.84,-132 325.84,-128.5 315.84,-125 315.84,-132\"/>\n</g>\n<!-- 136787594213008 -->\n<g id=\"node7\" class=\"node\">\n<title>136787594213008</title>\n<polygon fill=\"none\" stroke=\"black\" points=\"4,-55.5 4,-91.5 196,-91.5 196,-55.5 4,-55.5\"/>\n<text text-anchor=\"middle\" x=\"19\" y=\"-69.8\" font-family=\"Times,serif\" font-size=\"14.00\">x2</text>\n<polyline fill=\"none\" stroke=\"black\" points=\"34,-55.5 34,-91.5 \"/>\n<text text-anchor=\"middle\" x=\"74\" y=\"-69.8\" font-family=\"Times,serif\" font-size=\"14.00\">data 0.0000</text>\n<polyline fill=\"none\" stroke=\"black\" points=\"114,-55.5 114,-91.5 \"/>\n<text text-anchor=\"middle\" x=\"155\" y=\"-69.8\" font-family=\"Times,serif\" font-size=\"14.00\">grad 0.0000</text>\n</g>\n<!-- 136787594213008&#45;&gt;136787594213904* -->\n<g id=\"edge11\" class=\"edge\">\n<title>136787594213008&#45;&gt;136787594213904*</title>\n<path fill=\"none\" stroke=\"black\" d=\"M196.05,-73.5C206.52,-73.5 216.65,-73.5 225.71,-73.5\"/>\n<polygon fill=\"black\" stroke=\"black\" points=\"225.79,-77 235.79,-73.5 225.79,-70 225.79,-77\"/>\n</g>\n<!-- 136787594213584 -->\n<g id=\"node8\" class=\"node\">\n<title>136787594213584</title>\n<polygon fill=\"none\" stroke=\"black\" points=\"0,-165.5 0,-201.5 200,-201.5 200,-165.5 0,-165.5\"/>\n<text text-anchor=\"middle\" x=\"16.5\" y=\"-179.8\" font-family=\"Times,serif\" font-size=\"14.00\">w1</text>\n<polyline fill=\"none\" stroke=\"black\" points=\"33,-165.5 33,-201.5 \"/>\n<text text-anchor=\"middle\" x=\"75.5\" y=\"-179.8\" font-family=\"Times,serif\" font-size=\"14.00\">data &#45;3.0000</text>\n<polyline fill=\"none\" stroke=\"black\" points=\"118,-165.5 118,-201.5 \"/>\n<text text-anchor=\"middle\" x=\"159\" y=\"-179.8\" font-family=\"Times,serif\" font-size=\"14.00\">grad 0.0000</text>\n</g>\n<!-- 136787594213584&#45;&gt;136787594213520* -->\n<g id=\"edge7\" class=\"edge\">\n<title>136787594213584&#45;&gt;136787594213520*</title>\n<path fill=\"none\" stroke=\"black\" d=\"M172.53,-165.44C181.84,-162.67 191.2,-159.67 200,-156.5 210.53,-152.71 221.75,-147.9 231.72,-143.33\"/>\n<polygon fill=\"black\" stroke=\"black\" points=\"233.25,-146.48 240.82,-139.07 230.28,-140.14 233.25,-146.48\"/>\n</g>\n<!-- 136787594213072 -->\n<g id=\"node9\" class=\"node\">\n<title>136787594213072</title>\n<polygon fill=\"none\" stroke=\"black\" points=\"716,-137.5 716,-173.5 901,-173.5 901,-137.5 716,-137.5\"/>\n<text text-anchor=\"middle\" x=\"727.5\" y=\"-151.8\" font-family=\"Times,serif\" font-size=\"14.00\">b</text>\n<polyline fill=\"none\" stroke=\"black\" points=\"739,-137.5 739,-173.5 \"/>\n<text text-anchor=\"middle\" x=\"779\" y=\"-151.8\" font-family=\"Times,serif\" font-size=\"14.00\">data 6.8814</text>\n<polyline fill=\"none\" stroke=\"black\" points=\"819,-137.5 819,-173.5 \"/>\n<text text-anchor=\"middle\" x=\"860\" y=\"-151.8\" font-family=\"Times,serif\" font-size=\"14.00\">grad 0.0000</text>\n</g>\n<!-- 136787594213072&#45;&gt;136787594213776+ -->\n<g id=\"edge9\" class=\"edge\">\n<title>136787594213072&#45;&gt;136787594213776+</title>\n<path fill=\"none\" stroke=\"black\" d=\"M901.02,-142.52C926,-138.98 951.59,-135.36 971.37,-132.55\"/>\n<polygon fill=\"black\" stroke=\"black\" points=\"972.03,-135.99 981.43,-131.12 971.04,-129.06 972.03,-135.99\"/>\n</g>\n<!-- 136787594213712 -->\n<g id=\"node10\" class=\"node\">\n<title>136787594213712</title>\n<polygon fill=\"none\" stroke=\"black\" points=\"2.5,-0.5 2.5,-36.5 197.5,-36.5 197.5,-0.5 2.5,-0.5\"/>\n<text text-anchor=\"middle\" x=\"19\" y=\"-14.8\" font-family=\"Times,serif\" font-size=\"14.00\">w2</text>\n<polyline fill=\"none\" stroke=\"black\" points=\"35.5,-0.5 35.5,-36.5 \"/>\n<text text-anchor=\"middle\" x=\"75.5\" y=\"-14.8\" font-family=\"Times,serif\" font-size=\"14.00\">data 1.0000</text>\n<polyline fill=\"none\" stroke=\"black\" points=\"115.5,-0.5 115.5,-36.5 \"/>\n<text text-anchor=\"middle\" x=\"156.5\" y=\"-14.8\" font-family=\"Times,serif\" font-size=\"14.00\">grad 0.0000</text>\n</g>\n<!-- 136787594213712&#45;&gt;136787594213904* -->\n<g id=\"edge10\" class=\"edge\">\n<title>136787594213712&#45;&gt;136787594213904*</title>\n<path fill=\"none\" stroke=\"black\" d=\"M169.28,-36.5C179.65,-39.61 190.16,-42.98 200,-46.5 210.28,-50.17 221.28,-54.74 231.11,-59.07\"/>\n<polygon fill=\"black\" stroke=\"black\" points=\"229.93,-62.37 240.48,-63.27 232.79,-55.99 229.93,-62.37\"/>\n</g>\n<!-- 136787594212752 -->\n<g id=\"node11\" class=\"node\">\n<title>136787594212752</title>\n<polygon fill=\"none\" stroke=\"black\" points=\"4,-110.5 4,-146.5 196,-146.5 196,-110.5 4,-110.5\"/>\n<text text-anchor=\"middle\" x=\"19\" y=\"-124.8\" font-family=\"Times,serif\" font-size=\"14.00\">x1</text>\n<polyline fill=\"none\" stroke=\"black\" points=\"34,-110.5 34,-146.5 \"/>\n<text text-anchor=\"middle\" x=\"74\" y=\"-124.8\" font-family=\"Times,serif\" font-size=\"14.00\">data 2.0000</text>\n<polyline fill=\"none\" stroke=\"black\" points=\"114,-110.5 114,-146.5 \"/>\n<text text-anchor=\"middle\" x=\"155\" y=\"-124.8\" font-family=\"Times,serif\" font-size=\"14.00\">grad 0.0000</text>\n</g>\n<!-- 136787594212752&#45;&gt;136787594213520* -->\n<g id=\"edge6\" class=\"edge\">\n<title>136787594212752&#45;&gt;136787594213520*</title>\n<path fill=\"none\" stroke=\"black\" d=\"M196.05,-128.5C206.52,-128.5 216.65,-128.5 225.71,-128.5\"/>\n<polygon fill=\"black\" stroke=\"black\" points=\"225.79,-132 235.79,-128.5 225.79,-125 225.79,-132\"/>\n</g>\n<!-- 136787594213776 -->\n<g id=\"node12\" class=\"node\">\n<title>136787594213776</title>\n<polygon fill=\"none\" stroke=\"black\" points=\"1071,-109.5 1071,-145.5 1256,-145.5 1256,-109.5 1071,-109.5\"/>\n<text text-anchor=\"middle\" x=\"1082.5\" y=\"-123.8\" font-family=\"Times,serif\" font-size=\"14.00\">n</text>\n<polyline fill=\"none\" stroke=\"black\" points=\"1094,-109.5 1094,-145.5 \"/>\n<text text-anchor=\"middle\" x=\"1134\" y=\"-123.8\" font-family=\"Times,serif\" font-size=\"14.00\">data 0.8814</text>\n<polyline fill=\"none\" stroke=\"black\" points=\"1174,-109.5 1174,-145.5 \"/>\n<text text-anchor=\"middle\" x=\"1215\" y=\"-123.8\" font-family=\"Times,serif\" font-size=\"14.00\">grad 0.0000</text>\n</g>\n<!-- 136787594214288tanh -->\n<g id=\"node15\" class=\"node\">\n<title>136787594214288tanh</title>\n<ellipse fill=\"none\" stroke=\"black\" cx=\"1319\" cy=\"-127.5\" rx=\"27\" ry=\"18\"/>\n<text text-anchor=\"middle\" x=\"1319\" y=\"-123.8\" font-family=\"Times,serif\" font-size=\"14.00\">tanh</text>\n</g>\n<!-- 136787594213776&#45;&gt;136787594214288tanh -->\n<g id=\"edge12\" class=\"edge\">\n<title>136787594213776&#45;&gt;136787594214288tanh</title>\n<path fill=\"none\" stroke=\"black\" d=\"M1256.01,-127.5C1265.01,-127.5 1273.74,-127.5 1281.66,-127.5\"/>\n<polygon fill=\"black\" stroke=\"black\" points=\"1281.91,-131 1291.91,-127.5 1281.91,-124 1281.91,-131\"/>\n</g>\n<!-- 136787594213776+&#45;&gt;136787594213776 -->\n<g id=\"edge4\" class=\"edge\">\n<title>136787594213776+&#45;&gt;136787594213776</title>\n<path fill=\"none\" stroke=\"black\" d=\"M1035.04,-127.5C1042.58,-127.5 1051.3,-127.5 1060.57,-127.5\"/>\n<polygon fill=\"black\" stroke=\"black\" points=\"1060.81,-131 1070.81,-127.5 1060.81,-124 1060.81,-131\"/>\n</g>\n<!-- 136787594214288 -->\n<g id=\"node14\" class=\"node\">\n<title>136787594214288</title>\n<polygon fill=\"none\" stroke=\"black\" points=\"1382,-109.5 1382,-145.5 1567,-145.5 1567,-109.5 1382,-109.5\"/>\n<text text-anchor=\"middle\" x=\"1393.5\" y=\"-123.8\" font-family=\"Times,serif\" font-size=\"14.00\">o</text>\n<polyline fill=\"none\" stroke=\"black\" points=\"1405,-109.5 1405,-145.5 \"/>\n<text text-anchor=\"middle\" x=\"1445\" y=\"-123.8\" font-family=\"Times,serif\" font-size=\"14.00\">data 0.7071</text>\n<polyline fill=\"none\" stroke=\"black\" points=\"1485,-109.5 1485,-145.5 \"/>\n<text text-anchor=\"middle\" x=\"1526\" y=\"-123.8\" font-family=\"Times,serif\" font-size=\"14.00\">grad 1.0000</text>\n</g>\n<!-- 136787594214288tanh&#45;&gt;136787594214288 -->\n<g id=\"edge5\" class=\"edge\">\n<title>136787594214288tanh&#45;&gt;136787594214288</title>\n<path fill=\"none\" stroke=\"black\" d=\"M1346.04,-127.5C1353.58,-127.5 1362.3,-127.5 1371.57,-127.5\"/>\n<polygon fill=\"black\" stroke=\"black\" points=\"1371.81,-131 1381.81,-127.5 1371.81,-124 1371.81,-131\"/>\n</g>\n</g>\n</svg>\n",
            "text/plain": [
              "<graphviz.graphs.Digraph at 0x7c6857f7c350>"
            ]
          },
          "metadata": {},
          "execution_count": 401
        }
      ]
    },
    {
      "cell_type": "code",
      "source": [
        "# d(tanh)/dx= 1 - tanh**2"
      ],
      "metadata": {
        "id": "ji3C4upIgoHV"
      },
      "execution_count": 402,
      "outputs": []
    },
    {
      "cell_type": "code",
      "source": [
        "# o = tanh(n)\n",
        "# do/dn = 1 - o**2"
      ],
      "metadata": {
        "id": "Qw5DUwovgoEt"
      },
      "execution_count": 403,
      "outputs": []
    },
    {
      "cell_type": "code",
      "source": [
        "n.grad=0.5"
      ],
      "metadata": {
        "id": "venXkU4agoB3"
      },
      "execution_count": 404,
      "outputs": []
    },
    {
      "cell_type": "code",
      "source": [
        "x1w1x2w2.grad=0.5\n",
        "x1w1.grad=0.5\n",
        "x2w2.grad=0.5\n",
        "b.grad=0.5\n"
      ],
      "metadata": {
        "id": "trbXo-Q4gn_e"
      },
      "execution_count": 405,
      "outputs": []
    },
    {
      "cell_type": "code",
      "source": [
        "x2.grad=w2.data * x2w2.grad\n",
        "w2.grad= x2.data *x2w2.grad"
      ],
      "metadata": {
        "id": "qpj6GReXgn8p"
      },
      "execution_count": 406,
      "outputs": []
    },
    {
      "cell_type": "code",
      "source": [
        "draw_dot(o)"
      ],
      "metadata": {
        "id": "0iFMBlaVgn55",
        "colab": {
          "base_uri": "https://localhost:8080/",
          "height": 321
        },
        "outputId": "00794874-88c6-41b5-f2e3-88815acc922a"
      },
      "execution_count": 407,
      "outputs": [
        {
          "output_type": "execute_result",
          "data": {
            "image/svg+xml": "<?xml version=\"1.0\" encoding=\"UTF-8\" standalone=\"no\"?>\n<!DOCTYPE svg PUBLIC \"-//W3C//DTD SVG 1.1//EN\"\n \"http://www.w3.org/Graphics/SVG/1.1/DTD/svg11.dtd\">\n<!-- Generated by graphviz version 2.43.0 (0)\n -->\n<!-- Title: %3 Pages: 1 -->\n<svg width=\"1575pt\" height=\"210pt\"\n viewBox=\"0.00 0.00 1575.00 210.00\" xmlns=\"http://www.w3.org/2000/svg\" xmlns:xlink=\"http://www.w3.org/1999/xlink\">\n<g id=\"graph0\" class=\"graph\" transform=\"scale(1 1) rotate(0) translate(4 206)\">\n<title>%3</title>\n<polygon fill=\"white\" stroke=\"transparent\" points=\"-4,4 -4,-206 1571,-206 1571,4 -4,4\"/>\n<!-- 136787594213904 -->\n<g id=\"node1\" class=\"node\">\n<title>136787594213904</title>\n<polygon fill=\"none\" stroke=\"black\" points=\"328.5,-55.5 328.5,-91.5 543.5,-91.5 543.5,-55.5 328.5,-55.5\"/>\n<text text-anchor=\"middle\" x=\"355\" y=\"-69.8\" font-family=\"Times,serif\" font-size=\"14.00\">x2*w2</text>\n<polyline fill=\"none\" stroke=\"black\" points=\"381.5,-55.5 381.5,-91.5 \"/>\n<text text-anchor=\"middle\" x=\"421.5\" y=\"-69.8\" font-family=\"Times,serif\" font-size=\"14.00\">data 0.0000</text>\n<polyline fill=\"none\" stroke=\"black\" points=\"461.5,-55.5 461.5,-91.5 \"/>\n<text text-anchor=\"middle\" x=\"502.5\" y=\"-69.8\" font-family=\"Times,serif\" font-size=\"14.00\">grad 0.5000</text>\n</g>\n<!-- 136787594214032+ -->\n<g id=\"node4\" class=\"node\">\n<title>136787594214032+</title>\n<ellipse fill=\"none\" stroke=\"black\" cx=\"609\" cy=\"-100.5\" rx=\"27\" ry=\"18\"/>\n<text text-anchor=\"middle\" x=\"609\" y=\"-96.8\" font-family=\"Times,serif\" font-size=\"14.00\">+</text>\n</g>\n<!-- 136787594213904&#45;&gt;136787594214032+ -->\n<g id=\"edge8\" class=\"edge\">\n<title>136787594213904&#45;&gt;136787594214032+</title>\n<path fill=\"none\" stroke=\"black\" d=\"M543.84,-90.37C554.01,-91.98 563.76,-93.51 572.44,-94.89\"/>\n<polygon fill=\"black\" stroke=\"black\" points=\"572.05,-98.37 582.47,-96.47 573.14,-91.45 572.05,-98.37\"/>\n</g>\n<!-- 136787594213904* -->\n<g id=\"node2\" class=\"node\">\n<title>136787594213904*</title>\n<ellipse fill=\"none\" stroke=\"black\" cx=\"263\" cy=\"-73.5\" rx=\"27\" ry=\"18\"/>\n<text text-anchor=\"middle\" x=\"263\" y=\"-69.8\" font-family=\"Times,serif\" font-size=\"14.00\">*</text>\n</g>\n<!-- 136787594213904*&#45;&gt;136787594213904 -->\n<g id=\"edge1\" class=\"edge\">\n<title>136787594213904*&#45;&gt;136787594213904</title>\n<path fill=\"none\" stroke=\"black\" d=\"M290.34,-73.5C298.51,-73.5 308.08,-73.5 318.36,-73.5\"/>\n<polygon fill=\"black\" stroke=\"black\" points=\"318.39,-77 328.39,-73.5 318.39,-70 318.39,-77\"/>\n</g>\n<!-- 136787594214032 -->\n<g id=\"node3\" class=\"node\">\n<title>136787594214032</title>\n<polygon fill=\"none\" stroke=\"black\" points=\"672,-82.5 672,-118.5 945,-118.5 945,-82.5 672,-82.5\"/>\n<text text-anchor=\"middle\" x=\"725\" y=\"-96.8\" font-family=\"Times,serif\" font-size=\"14.00\">x1*w1 + x2*w2</text>\n<polyline fill=\"none\" stroke=\"black\" points=\"778,-82.5 778,-118.5 \"/>\n<text text-anchor=\"middle\" x=\"820.5\" y=\"-96.8\" font-family=\"Times,serif\" font-size=\"14.00\">data &#45;6.0000</text>\n<polyline fill=\"none\" stroke=\"black\" points=\"863,-82.5 863,-118.5 \"/>\n<text text-anchor=\"middle\" x=\"904\" y=\"-96.8\" font-family=\"Times,serif\" font-size=\"14.00\">grad 0.5000</text>\n</g>\n<!-- 136787594213776+ -->\n<g id=\"node13\" class=\"node\">\n<title>136787594213776+</title>\n<ellipse fill=\"none\" stroke=\"black\" cx=\"1008\" cy=\"-127.5\" rx=\"27\" ry=\"18\"/>\n<text text-anchor=\"middle\" x=\"1008\" y=\"-123.8\" font-family=\"Times,serif\" font-size=\"14.00\">+</text>\n</g>\n<!-- 136787594214032&#45;&gt;136787594213776+ -->\n<g id=\"edge13\" class=\"edge\">\n<title>136787594214032&#45;&gt;136787594213776+</title>\n<path fill=\"none\" stroke=\"black\" d=\"M941.24,-118.51C952.12,-120 962.4,-121.4 971.45,-122.64\"/>\n<polygon fill=\"black\" stroke=\"black\" points=\"971.11,-126.13 981.49,-124.01 972.05,-119.19 971.11,-126.13\"/>\n</g>\n<!-- 136787594214032+&#45;&gt;136787594214032 -->\n<g id=\"edge2\" class=\"edge\">\n<title>136787594214032+&#45;&gt;136787594214032</title>\n<path fill=\"none\" stroke=\"black\" d=\"M636.23,-100.5C643.7,-100.5 652.41,-100.5 661.87,-100.5\"/>\n<polygon fill=\"black\" stroke=\"black\" points=\"661.98,-104 671.98,-100.5 661.98,-97 661.98,-104\"/>\n</g>\n<!-- 136787594213520 -->\n<g id=\"node5\" class=\"node\">\n<title>136787594213520</title>\n<polygon fill=\"none\" stroke=\"black\" points=\"326,-110.5 326,-146.5 546,-146.5 546,-110.5 326,-110.5\"/>\n<text text-anchor=\"middle\" x=\"352.5\" y=\"-124.8\" font-family=\"Times,serif\" font-size=\"14.00\">x1*w1</text>\n<polyline fill=\"none\" stroke=\"black\" points=\"379,-110.5 379,-146.5 \"/>\n<text text-anchor=\"middle\" x=\"421.5\" y=\"-124.8\" font-family=\"Times,serif\" font-size=\"14.00\">data &#45;6.0000</text>\n<polyline fill=\"none\" stroke=\"black\" points=\"464,-110.5 464,-146.5 \"/>\n<text text-anchor=\"middle\" x=\"505\" y=\"-124.8\" font-family=\"Times,serif\" font-size=\"14.00\">grad 0.5000</text>\n</g>\n<!-- 136787594213520&#45;&gt;136787594214032+ -->\n<g id=\"edge14\" class=\"edge\">\n<title>136787594213520&#45;&gt;136787594214032+</title>\n<path fill=\"none\" stroke=\"black\" d=\"M546.27,-110.61C555.64,-109.07 564.6,-107.61 572.65,-106.29\"/>\n<polygon fill=\"black\" stroke=\"black\" points=\"573.35,-109.72 582.65,-104.65 572.22,-102.81 573.35,-109.72\"/>\n</g>\n<!-- 136787594213520* -->\n<g id=\"node6\" class=\"node\">\n<title>136787594213520*</title>\n<ellipse fill=\"none\" stroke=\"black\" cx=\"263\" cy=\"-128.5\" rx=\"27\" ry=\"18\"/>\n<text text-anchor=\"middle\" x=\"263\" y=\"-124.8\" font-family=\"Times,serif\" font-size=\"14.00\">*</text>\n</g>\n<!-- 136787594213520*&#45;&gt;136787594213520 -->\n<g id=\"edge3\" class=\"edge\">\n<title>136787594213520*&#45;&gt;136787594213520</title>\n<path fill=\"none\" stroke=\"black\" d=\"M290.34,-128.5C297.77,-128.5 306.37,-128.5 315.6,-128.5\"/>\n<polygon fill=\"black\" stroke=\"black\" points=\"315.84,-132 325.84,-128.5 315.84,-125 315.84,-132\"/>\n</g>\n<!-- 136787594213008 -->\n<g id=\"node7\" class=\"node\">\n<title>136787594213008</title>\n<polygon fill=\"none\" stroke=\"black\" points=\"4,-55.5 4,-91.5 196,-91.5 196,-55.5 4,-55.5\"/>\n<text text-anchor=\"middle\" x=\"19\" y=\"-69.8\" font-family=\"Times,serif\" font-size=\"14.00\">x2</text>\n<polyline fill=\"none\" stroke=\"black\" points=\"34,-55.5 34,-91.5 \"/>\n<text text-anchor=\"middle\" x=\"74\" y=\"-69.8\" font-family=\"Times,serif\" font-size=\"14.00\">data 0.0000</text>\n<polyline fill=\"none\" stroke=\"black\" points=\"114,-55.5 114,-91.5 \"/>\n<text text-anchor=\"middle\" x=\"155\" y=\"-69.8\" font-family=\"Times,serif\" font-size=\"14.00\">grad 0.5000</text>\n</g>\n<!-- 136787594213008&#45;&gt;136787594213904* -->\n<g id=\"edge11\" class=\"edge\">\n<title>136787594213008&#45;&gt;136787594213904*</title>\n<path fill=\"none\" stroke=\"black\" d=\"M196.05,-73.5C206.52,-73.5 216.65,-73.5 225.71,-73.5\"/>\n<polygon fill=\"black\" stroke=\"black\" points=\"225.79,-77 235.79,-73.5 225.79,-70 225.79,-77\"/>\n</g>\n<!-- 136787594213584 -->\n<g id=\"node8\" class=\"node\">\n<title>136787594213584</title>\n<polygon fill=\"none\" stroke=\"black\" points=\"0,-165.5 0,-201.5 200,-201.5 200,-165.5 0,-165.5\"/>\n<text text-anchor=\"middle\" x=\"16.5\" y=\"-179.8\" font-family=\"Times,serif\" font-size=\"14.00\">w1</text>\n<polyline fill=\"none\" stroke=\"black\" points=\"33,-165.5 33,-201.5 \"/>\n<text text-anchor=\"middle\" x=\"75.5\" y=\"-179.8\" font-family=\"Times,serif\" font-size=\"14.00\">data &#45;3.0000</text>\n<polyline fill=\"none\" stroke=\"black\" points=\"118,-165.5 118,-201.5 \"/>\n<text text-anchor=\"middle\" x=\"159\" y=\"-179.8\" font-family=\"Times,serif\" font-size=\"14.00\">grad 0.0000</text>\n</g>\n<!-- 136787594213584&#45;&gt;136787594213520* -->\n<g id=\"edge7\" class=\"edge\">\n<title>136787594213584&#45;&gt;136787594213520*</title>\n<path fill=\"none\" stroke=\"black\" d=\"M172.53,-165.44C181.84,-162.67 191.2,-159.67 200,-156.5 210.53,-152.71 221.75,-147.9 231.72,-143.33\"/>\n<polygon fill=\"black\" stroke=\"black\" points=\"233.25,-146.48 240.82,-139.07 230.28,-140.14 233.25,-146.48\"/>\n</g>\n<!-- 136787594213072 -->\n<g id=\"node9\" class=\"node\">\n<title>136787594213072</title>\n<polygon fill=\"none\" stroke=\"black\" points=\"716,-137.5 716,-173.5 901,-173.5 901,-137.5 716,-137.5\"/>\n<text text-anchor=\"middle\" x=\"727.5\" y=\"-151.8\" font-family=\"Times,serif\" font-size=\"14.00\">b</text>\n<polyline fill=\"none\" stroke=\"black\" points=\"739,-137.5 739,-173.5 \"/>\n<text text-anchor=\"middle\" x=\"779\" y=\"-151.8\" font-family=\"Times,serif\" font-size=\"14.00\">data 6.8814</text>\n<polyline fill=\"none\" stroke=\"black\" points=\"819,-137.5 819,-173.5 \"/>\n<text text-anchor=\"middle\" x=\"860\" y=\"-151.8\" font-family=\"Times,serif\" font-size=\"14.00\">grad 0.5000</text>\n</g>\n<!-- 136787594213072&#45;&gt;136787594213776+ -->\n<g id=\"edge9\" class=\"edge\">\n<title>136787594213072&#45;&gt;136787594213776+</title>\n<path fill=\"none\" stroke=\"black\" d=\"M901.02,-142.52C926,-138.98 951.59,-135.36 971.37,-132.55\"/>\n<polygon fill=\"black\" stroke=\"black\" points=\"972.03,-135.99 981.43,-131.12 971.04,-129.06 972.03,-135.99\"/>\n</g>\n<!-- 136787594213712 -->\n<g id=\"node10\" class=\"node\">\n<title>136787594213712</title>\n<polygon fill=\"none\" stroke=\"black\" points=\"2.5,-0.5 2.5,-36.5 197.5,-36.5 197.5,-0.5 2.5,-0.5\"/>\n<text text-anchor=\"middle\" x=\"19\" y=\"-14.8\" font-family=\"Times,serif\" font-size=\"14.00\">w2</text>\n<polyline fill=\"none\" stroke=\"black\" points=\"35.5,-0.5 35.5,-36.5 \"/>\n<text text-anchor=\"middle\" x=\"75.5\" y=\"-14.8\" font-family=\"Times,serif\" font-size=\"14.00\">data 1.0000</text>\n<polyline fill=\"none\" stroke=\"black\" points=\"115.5,-0.5 115.5,-36.5 \"/>\n<text text-anchor=\"middle\" x=\"156.5\" y=\"-14.8\" font-family=\"Times,serif\" font-size=\"14.00\">grad 0.0000</text>\n</g>\n<!-- 136787594213712&#45;&gt;136787594213904* -->\n<g id=\"edge10\" class=\"edge\">\n<title>136787594213712&#45;&gt;136787594213904*</title>\n<path fill=\"none\" stroke=\"black\" d=\"M169.28,-36.5C179.65,-39.61 190.16,-42.98 200,-46.5 210.28,-50.17 221.28,-54.74 231.11,-59.07\"/>\n<polygon fill=\"black\" stroke=\"black\" points=\"229.93,-62.37 240.48,-63.27 232.79,-55.99 229.93,-62.37\"/>\n</g>\n<!-- 136787594212752 -->\n<g id=\"node11\" class=\"node\">\n<title>136787594212752</title>\n<polygon fill=\"none\" stroke=\"black\" points=\"4,-110.5 4,-146.5 196,-146.5 196,-110.5 4,-110.5\"/>\n<text text-anchor=\"middle\" x=\"19\" y=\"-124.8\" font-family=\"Times,serif\" font-size=\"14.00\">x1</text>\n<polyline fill=\"none\" stroke=\"black\" points=\"34,-110.5 34,-146.5 \"/>\n<text text-anchor=\"middle\" x=\"74\" y=\"-124.8\" font-family=\"Times,serif\" font-size=\"14.00\">data 2.0000</text>\n<polyline fill=\"none\" stroke=\"black\" points=\"114,-110.5 114,-146.5 \"/>\n<text text-anchor=\"middle\" x=\"155\" y=\"-124.8\" font-family=\"Times,serif\" font-size=\"14.00\">grad 0.0000</text>\n</g>\n<!-- 136787594212752&#45;&gt;136787594213520* -->\n<g id=\"edge6\" class=\"edge\">\n<title>136787594212752&#45;&gt;136787594213520*</title>\n<path fill=\"none\" stroke=\"black\" d=\"M196.05,-128.5C206.52,-128.5 216.65,-128.5 225.71,-128.5\"/>\n<polygon fill=\"black\" stroke=\"black\" points=\"225.79,-132 235.79,-128.5 225.79,-125 225.79,-132\"/>\n</g>\n<!-- 136787594213776 -->\n<g id=\"node12\" class=\"node\">\n<title>136787594213776</title>\n<polygon fill=\"none\" stroke=\"black\" points=\"1071,-109.5 1071,-145.5 1256,-145.5 1256,-109.5 1071,-109.5\"/>\n<text text-anchor=\"middle\" x=\"1082.5\" y=\"-123.8\" font-family=\"Times,serif\" font-size=\"14.00\">n</text>\n<polyline fill=\"none\" stroke=\"black\" points=\"1094,-109.5 1094,-145.5 \"/>\n<text text-anchor=\"middle\" x=\"1134\" y=\"-123.8\" font-family=\"Times,serif\" font-size=\"14.00\">data 0.8814</text>\n<polyline fill=\"none\" stroke=\"black\" points=\"1174,-109.5 1174,-145.5 \"/>\n<text text-anchor=\"middle\" x=\"1215\" y=\"-123.8\" font-family=\"Times,serif\" font-size=\"14.00\">grad 0.5000</text>\n</g>\n<!-- 136787594214288tanh -->\n<g id=\"node15\" class=\"node\">\n<title>136787594214288tanh</title>\n<ellipse fill=\"none\" stroke=\"black\" cx=\"1319\" cy=\"-127.5\" rx=\"27\" ry=\"18\"/>\n<text text-anchor=\"middle\" x=\"1319\" y=\"-123.8\" font-family=\"Times,serif\" font-size=\"14.00\">tanh</text>\n</g>\n<!-- 136787594213776&#45;&gt;136787594214288tanh -->\n<g id=\"edge12\" class=\"edge\">\n<title>136787594213776&#45;&gt;136787594214288tanh</title>\n<path fill=\"none\" stroke=\"black\" d=\"M1256.01,-127.5C1265.01,-127.5 1273.74,-127.5 1281.66,-127.5\"/>\n<polygon fill=\"black\" stroke=\"black\" points=\"1281.91,-131 1291.91,-127.5 1281.91,-124 1281.91,-131\"/>\n</g>\n<!-- 136787594213776+&#45;&gt;136787594213776 -->\n<g id=\"edge4\" class=\"edge\">\n<title>136787594213776+&#45;&gt;136787594213776</title>\n<path fill=\"none\" stroke=\"black\" d=\"M1035.04,-127.5C1042.58,-127.5 1051.3,-127.5 1060.57,-127.5\"/>\n<polygon fill=\"black\" stroke=\"black\" points=\"1060.81,-131 1070.81,-127.5 1060.81,-124 1060.81,-131\"/>\n</g>\n<!-- 136787594214288 -->\n<g id=\"node14\" class=\"node\">\n<title>136787594214288</title>\n<polygon fill=\"none\" stroke=\"black\" points=\"1382,-109.5 1382,-145.5 1567,-145.5 1567,-109.5 1382,-109.5\"/>\n<text text-anchor=\"middle\" x=\"1393.5\" y=\"-123.8\" font-family=\"Times,serif\" font-size=\"14.00\">o</text>\n<polyline fill=\"none\" stroke=\"black\" points=\"1405,-109.5 1405,-145.5 \"/>\n<text text-anchor=\"middle\" x=\"1445\" y=\"-123.8\" font-family=\"Times,serif\" font-size=\"14.00\">data 0.7071</text>\n<polyline fill=\"none\" stroke=\"black\" points=\"1485,-109.5 1485,-145.5 \"/>\n<text text-anchor=\"middle\" x=\"1526\" y=\"-123.8\" font-family=\"Times,serif\" font-size=\"14.00\">grad 1.0000</text>\n</g>\n<!-- 136787594214288tanh&#45;&gt;136787594214288 -->\n<g id=\"edge5\" class=\"edge\">\n<title>136787594214288tanh&#45;&gt;136787594214288</title>\n<path fill=\"none\" stroke=\"black\" d=\"M1346.04,-127.5C1353.58,-127.5 1362.3,-127.5 1371.57,-127.5\"/>\n<polygon fill=\"black\" stroke=\"black\" points=\"1371.81,-131 1381.81,-127.5 1371.81,-124 1371.81,-131\"/>\n</g>\n</g>\n</svg>\n",
            "text/plain": [
              "<graphviz.graphs.Digraph at 0x7c6857f64390>"
            ]
          },
          "metadata": {},
          "execution_count": 407
        }
      ]
    },
    {
      "cell_type": "code",
      "source": [
        "x1.grad=w1.data * x1w1.grad\n",
        "w1.grad= x1.data * x1w1.grad"
      ],
      "metadata": {
        "id": "I8hBPh0qgn3H"
      },
      "execution_count": 408,
      "outputs": []
    },
    {
      "cell_type": "code",
      "source": [
        "draw_dot(o)"
      ],
      "metadata": {
        "id": "2fJHGlXCgn0c",
        "colab": {
          "base_uri": "https://localhost:8080/",
          "height": 321
        },
        "outputId": "56015abe-9a85-4a0a-9a76-0c5a27284185"
      },
      "execution_count": 409,
      "outputs": [
        {
          "output_type": "execute_result",
          "data": {
            "image/svg+xml": "<?xml version=\"1.0\" encoding=\"UTF-8\" standalone=\"no\"?>\n<!DOCTYPE svg PUBLIC \"-//W3C//DTD SVG 1.1//EN\"\n \"http://www.w3.org/Graphics/SVG/1.1/DTD/svg11.dtd\">\n<!-- Generated by graphviz version 2.43.0 (0)\n -->\n<!-- Title: %3 Pages: 1 -->\n<svg width=\"1575pt\" height=\"210pt\"\n viewBox=\"0.00 0.00 1575.00 210.00\" xmlns=\"http://www.w3.org/2000/svg\" xmlns:xlink=\"http://www.w3.org/1999/xlink\">\n<g id=\"graph0\" class=\"graph\" transform=\"scale(1 1) rotate(0) translate(4 206)\">\n<title>%3</title>\n<polygon fill=\"white\" stroke=\"transparent\" points=\"-4,4 -4,-206 1571,-206 1571,4 -4,4\"/>\n<!-- 136787594213904 -->\n<g id=\"node1\" class=\"node\">\n<title>136787594213904</title>\n<polygon fill=\"none\" stroke=\"black\" points=\"328.5,-55.5 328.5,-91.5 543.5,-91.5 543.5,-55.5 328.5,-55.5\"/>\n<text text-anchor=\"middle\" x=\"355\" y=\"-69.8\" font-family=\"Times,serif\" font-size=\"14.00\">x2*w2</text>\n<polyline fill=\"none\" stroke=\"black\" points=\"381.5,-55.5 381.5,-91.5 \"/>\n<text text-anchor=\"middle\" x=\"421.5\" y=\"-69.8\" font-family=\"Times,serif\" font-size=\"14.00\">data 0.0000</text>\n<polyline fill=\"none\" stroke=\"black\" points=\"461.5,-55.5 461.5,-91.5 \"/>\n<text text-anchor=\"middle\" x=\"502.5\" y=\"-69.8\" font-family=\"Times,serif\" font-size=\"14.00\">grad 0.5000</text>\n</g>\n<!-- 136787594214032+ -->\n<g id=\"node4\" class=\"node\">\n<title>136787594214032+</title>\n<ellipse fill=\"none\" stroke=\"black\" cx=\"609\" cy=\"-100.5\" rx=\"27\" ry=\"18\"/>\n<text text-anchor=\"middle\" x=\"609\" y=\"-96.8\" font-family=\"Times,serif\" font-size=\"14.00\">+</text>\n</g>\n<!-- 136787594213904&#45;&gt;136787594214032+ -->\n<g id=\"edge8\" class=\"edge\">\n<title>136787594213904&#45;&gt;136787594214032+</title>\n<path fill=\"none\" stroke=\"black\" d=\"M543.84,-90.37C554.01,-91.98 563.76,-93.51 572.44,-94.89\"/>\n<polygon fill=\"black\" stroke=\"black\" points=\"572.05,-98.37 582.47,-96.47 573.14,-91.45 572.05,-98.37\"/>\n</g>\n<!-- 136787594213904* -->\n<g id=\"node2\" class=\"node\">\n<title>136787594213904*</title>\n<ellipse fill=\"none\" stroke=\"black\" cx=\"263\" cy=\"-73.5\" rx=\"27\" ry=\"18\"/>\n<text text-anchor=\"middle\" x=\"263\" y=\"-69.8\" font-family=\"Times,serif\" font-size=\"14.00\">*</text>\n</g>\n<!-- 136787594213904*&#45;&gt;136787594213904 -->\n<g id=\"edge1\" class=\"edge\">\n<title>136787594213904*&#45;&gt;136787594213904</title>\n<path fill=\"none\" stroke=\"black\" d=\"M290.34,-73.5C298.51,-73.5 308.08,-73.5 318.36,-73.5\"/>\n<polygon fill=\"black\" stroke=\"black\" points=\"318.39,-77 328.39,-73.5 318.39,-70 318.39,-77\"/>\n</g>\n<!-- 136787594214032 -->\n<g id=\"node3\" class=\"node\">\n<title>136787594214032</title>\n<polygon fill=\"none\" stroke=\"black\" points=\"672,-82.5 672,-118.5 945,-118.5 945,-82.5 672,-82.5\"/>\n<text text-anchor=\"middle\" x=\"725\" y=\"-96.8\" font-family=\"Times,serif\" font-size=\"14.00\">x1*w1 + x2*w2</text>\n<polyline fill=\"none\" stroke=\"black\" points=\"778,-82.5 778,-118.5 \"/>\n<text text-anchor=\"middle\" x=\"820.5\" y=\"-96.8\" font-family=\"Times,serif\" font-size=\"14.00\">data &#45;6.0000</text>\n<polyline fill=\"none\" stroke=\"black\" points=\"863,-82.5 863,-118.5 \"/>\n<text text-anchor=\"middle\" x=\"904\" y=\"-96.8\" font-family=\"Times,serif\" font-size=\"14.00\">grad 0.5000</text>\n</g>\n<!-- 136787594213776+ -->\n<g id=\"node13\" class=\"node\">\n<title>136787594213776+</title>\n<ellipse fill=\"none\" stroke=\"black\" cx=\"1008\" cy=\"-127.5\" rx=\"27\" ry=\"18\"/>\n<text text-anchor=\"middle\" x=\"1008\" y=\"-123.8\" font-family=\"Times,serif\" font-size=\"14.00\">+</text>\n</g>\n<!-- 136787594214032&#45;&gt;136787594213776+ -->\n<g id=\"edge13\" class=\"edge\">\n<title>136787594214032&#45;&gt;136787594213776+</title>\n<path fill=\"none\" stroke=\"black\" d=\"M941.24,-118.51C952.12,-120 962.4,-121.4 971.45,-122.64\"/>\n<polygon fill=\"black\" stroke=\"black\" points=\"971.11,-126.13 981.49,-124.01 972.05,-119.19 971.11,-126.13\"/>\n</g>\n<!-- 136787594214032+&#45;&gt;136787594214032 -->\n<g id=\"edge2\" class=\"edge\">\n<title>136787594214032+&#45;&gt;136787594214032</title>\n<path fill=\"none\" stroke=\"black\" d=\"M636.23,-100.5C643.7,-100.5 652.41,-100.5 661.87,-100.5\"/>\n<polygon fill=\"black\" stroke=\"black\" points=\"661.98,-104 671.98,-100.5 661.98,-97 661.98,-104\"/>\n</g>\n<!-- 136787594213520 -->\n<g id=\"node5\" class=\"node\">\n<title>136787594213520</title>\n<polygon fill=\"none\" stroke=\"black\" points=\"326,-110.5 326,-146.5 546,-146.5 546,-110.5 326,-110.5\"/>\n<text text-anchor=\"middle\" x=\"352.5\" y=\"-124.8\" font-family=\"Times,serif\" font-size=\"14.00\">x1*w1</text>\n<polyline fill=\"none\" stroke=\"black\" points=\"379,-110.5 379,-146.5 \"/>\n<text text-anchor=\"middle\" x=\"421.5\" y=\"-124.8\" font-family=\"Times,serif\" font-size=\"14.00\">data &#45;6.0000</text>\n<polyline fill=\"none\" stroke=\"black\" points=\"464,-110.5 464,-146.5 \"/>\n<text text-anchor=\"middle\" x=\"505\" y=\"-124.8\" font-family=\"Times,serif\" font-size=\"14.00\">grad 0.5000</text>\n</g>\n<!-- 136787594213520&#45;&gt;136787594214032+ -->\n<g id=\"edge14\" class=\"edge\">\n<title>136787594213520&#45;&gt;136787594214032+</title>\n<path fill=\"none\" stroke=\"black\" d=\"M546.27,-110.61C555.64,-109.07 564.6,-107.61 572.65,-106.29\"/>\n<polygon fill=\"black\" stroke=\"black\" points=\"573.35,-109.72 582.65,-104.65 572.22,-102.81 573.35,-109.72\"/>\n</g>\n<!-- 136787594213520* -->\n<g id=\"node6\" class=\"node\">\n<title>136787594213520*</title>\n<ellipse fill=\"none\" stroke=\"black\" cx=\"263\" cy=\"-128.5\" rx=\"27\" ry=\"18\"/>\n<text text-anchor=\"middle\" x=\"263\" y=\"-124.8\" font-family=\"Times,serif\" font-size=\"14.00\">*</text>\n</g>\n<!-- 136787594213520*&#45;&gt;136787594213520 -->\n<g id=\"edge3\" class=\"edge\">\n<title>136787594213520*&#45;&gt;136787594213520</title>\n<path fill=\"none\" stroke=\"black\" d=\"M290.34,-128.5C297.77,-128.5 306.37,-128.5 315.6,-128.5\"/>\n<polygon fill=\"black\" stroke=\"black\" points=\"315.84,-132 325.84,-128.5 315.84,-125 315.84,-132\"/>\n</g>\n<!-- 136787594213008 -->\n<g id=\"node7\" class=\"node\">\n<title>136787594213008</title>\n<polygon fill=\"none\" stroke=\"black\" points=\"4,-55.5 4,-91.5 196,-91.5 196,-55.5 4,-55.5\"/>\n<text text-anchor=\"middle\" x=\"19\" y=\"-69.8\" font-family=\"Times,serif\" font-size=\"14.00\">x2</text>\n<polyline fill=\"none\" stroke=\"black\" points=\"34,-55.5 34,-91.5 \"/>\n<text text-anchor=\"middle\" x=\"74\" y=\"-69.8\" font-family=\"Times,serif\" font-size=\"14.00\">data 0.0000</text>\n<polyline fill=\"none\" stroke=\"black\" points=\"114,-55.5 114,-91.5 \"/>\n<text text-anchor=\"middle\" x=\"155\" y=\"-69.8\" font-family=\"Times,serif\" font-size=\"14.00\">grad 0.5000</text>\n</g>\n<!-- 136787594213008&#45;&gt;136787594213904* -->\n<g id=\"edge11\" class=\"edge\">\n<title>136787594213008&#45;&gt;136787594213904*</title>\n<path fill=\"none\" stroke=\"black\" d=\"M196.05,-73.5C206.52,-73.5 216.65,-73.5 225.71,-73.5\"/>\n<polygon fill=\"black\" stroke=\"black\" points=\"225.79,-77 235.79,-73.5 225.79,-70 225.79,-77\"/>\n</g>\n<!-- 136787594213584 -->\n<g id=\"node8\" class=\"node\">\n<title>136787594213584</title>\n<polygon fill=\"none\" stroke=\"black\" points=\"0,-165.5 0,-201.5 200,-201.5 200,-165.5 0,-165.5\"/>\n<text text-anchor=\"middle\" x=\"16.5\" y=\"-179.8\" font-family=\"Times,serif\" font-size=\"14.00\">w1</text>\n<polyline fill=\"none\" stroke=\"black\" points=\"33,-165.5 33,-201.5 \"/>\n<text text-anchor=\"middle\" x=\"75.5\" y=\"-179.8\" font-family=\"Times,serif\" font-size=\"14.00\">data &#45;3.0000</text>\n<polyline fill=\"none\" stroke=\"black\" points=\"118,-165.5 118,-201.5 \"/>\n<text text-anchor=\"middle\" x=\"159\" y=\"-179.8\" font-family=\"Times,serif\" font-size=\"14.00\">grad 1.0000</text>\n</g>\n<!-- 136787594213584&#45;&gt;136787594213520* -->\n<g id=\"edge7\" class=\"edge\">\n<title>136787594213584&#45;&gt;136787594213520*</title>\n<path fill=\"none\" stroke=\"black\" d=\"M172.53,-165.44C181.84,-162.67 191.2,-159.67 200,-156.5 210.53,-152.71 221.75,-147.9 231.72,-143.33\"/>\n<polygon fill=\"black\" stroke=\"black\" points=\"233.25,-146.48 240.82,-139.07 230.28,-140.14 233.25,-146.48\"/>\n</g>\n<!-- 136787594213072 -->\n<g id=\"node9\" class=\"node\">\n<title>136787594213072</title>\n<polygon fill=\"none\" stroke=\"black\" points=\"716,-137.5 716,-173.5 901,-173.5 901,-137.5 716,-137.5\"/>\n<text text-anchor=\"middle\" x=\"727.5\" y=\"-151.8\" font-family=\"Times,serif\" font-size=\"14.00\">b</text>\n<polyline fill=\"none\" stroke=\"black\" points=\"739,-137.5 739,-173.5 \"/>\n<text text-anchor=\"middle\" x=\"779\" y=\"-151.8\" font-family=\"Times,serif\" font-size=\"14.00\">data 6.8814</text>\n<polyline fill=\"none\" stroke=\"black\" points=\"819,-137.5 819,-173.5 \"/>\n<text text-anchor=\"middle\" x=\"860\" y=\"-151.8\" font-family=\"Times,serif\" font-size=\"14.00\">grad 0.5000</text>\n</g>\n<!-- 136787594213072&#45;&gt;136787594213776+ -->\n<g id=\"edge9\" class=\"edge\">\n<title>136787594213072&#45;&gt;136787594213776+</title>\n<path fill=\"none\" stroke=\"black\" d=\"M901.02,-142.52C926,-138.98 951.59,-135.36 971.37,-132.55\"/>\n<polygon fill=\"black\" stroke=\"black\" points=\"972.03,-135.99 981.43,-131.12 971.04,-129.06 972.03,-135.99\"/>\n</g>\n<!-- 136787594213712 -->\n<g id=\"node10\" class=\"node\">\n<title>136787594213712</title>\n<polygon fill=\"none\" stroke=\"black\" points=\"2.5,-0.5 2.5,-36.5 197.5,-36.5 197.5,-0.5 2.5,-0.5\"/>\n<text text-anchor=\"middle\" x=\"19\" y=\"-14.8\" font-family=\"Times,serif\" font-size=\"14.00\">w2</text>\n<polyline fill=\"none\" stroke=\"black\" points=\"35.5,-0.5 35.5,-36.5 \"/>\n<text text-anchor=\"middle\" x=\"75.5\" y=\"-14.8\" font-family=\"Times,serif\" font-size=\"14.00\">data 1.0000</text>\n<polyline fill=\"none\" stroke=\"black\" points=\"115.5,-0.5 115.5,-36.5 \"/>\n<text text-anchor=\"middle\" x=\"156.5\" y=\"-14.8\" font-family=\"Times,serif\" font-size=\"14.00\">grad 0.0000</text>\n</g>\n<!-- 136787594213712&#45;&gt;136787594213904* -->\n<g id=\"edge10\" class=\"edge\">\n<title>136787594213712&#45;&gt;136787594213904*</title>\n<path fill=\"none\" stroke=\"black\" d=\"M169.28,-36.5C179.65,-39.61 190.16,-42.98 200,-46.5 210.28,-50.17 221.28,-54.74 231.11,-59.07\"/>\n<polygon fill=\"black\" stroke=\"black\" points=\"229.93,-62.37 240.48,-63.27 232.79,-55.99 229.93,-62.37\"/>\n</g>\n<!-- 136787594212752 -->\n<g id=\"node11\" class=\"node\">\n<title>136787594212752</title>\n<polygon fill=\"none\" stroke=\"black\" points=\"2,-110.5 2,-146.5 198,-146.5 198,-110.5 2,-110.5\"/>\n<text text-anchor=\"middle\" x=\"17\" y=\"-124.8\" font-family=\"Times,serif\" font-size=\"14.00\">x1</text>\n<polyline fill=\"none\" stroke=\"black\" points=\"32,-110.5 32,-146.5 \"/>\n<text text-anchor=\"middle\" x=\"72\" y=\"-124.8\" font-family=\"Times,serif\" font-size=\"14.00\">data 2.0000</text>\n<polyline fill=\"none\" stroke=\"black\" points=\"112,-110.5 112,-146.5 \"/>\n<text text-anchor=\"middle\" x=\"155\" y=\"-124.8\" font-family=\"Times,serif\" font-size=\"14.00\">grad &#45;1.5000</text>\n</g>\n<!-- 136787594212752&#45;&gt;136787594213520* -->\n<g id=\"edge6\" class=\"edge\">\n<title>136787594212752&#45;&gt;136787594213520*</title>\n<path fill=\"none\" stroke=\"black\" d=\"M198.37,-128.5C208.05,-128.5 217.4,-128.5 225.8,-128.5\"/>\n<polygon fill=\"black\" stroke=\"black\" points=\"225.91,-132 235.91,-128.5 225.91,-125 225.91,-132\"/>\n</g>\n<!-- 136787594213776 -->\n<g id=\"node12\" class=\"node\">\n<title>136787594213776</title>\n<polygon fill=\"none\" stroke=\"black\" points=\"1071,-109.5 1071,-145.5 1256,-145.5 1256,-109.5 1071,-109.5\"/>\n<text text-anchor=\"middle\" x=\"1082.5\" y=\"-123.8\" font-family=\"Times,serif\" font-size=\"14.00\">n</text>\n<polyline fill=\"none\" stroke=\"black\" points=\"1094,-109.5 1094,-145.5 \"/>\n<text text-anchor=\"middle\" x=\"1134\" y=\"-123.8\" font-family=\"Times,serif\" font-size=\"14.00\">data 0.8814</text>\n<polyline fill=\"none\" stroke=\"black\" points=\"1174,-109.5 1174,-145.5 \"/>\n<text text-anchor=\"middle\" x=\"1215\" y=\"-123.8\" font-family=\"Times,serif\" font-size=\"14.00\">grad 0.5000</text>\n</g>\n<!-- 136787594214288tanh -->\n<g id=\"node15\" class=\"node\">\n<title>136787594214288tanh</title>\n<ellipse fill=\"none\" stroke=\"black\" cx=\"1319\" cy=\"-127.5\" rx=\"27\" ry=\"18\"/>\n<text text-anchor=\"middle\" x=\"1319\" y=\"-123.8\" font-family=\"Times,serif\" font-size=\"14.00\">tanh</text>\n</g>\n<!-- 136787594213776&#45;&gt;136787594214288tanh -->\n<g id=\"edge12\" class=\"edge\">\n<title>136787594213776&#45;&gt;136787594214288tanh</title>\n<path fill=\"none\" stroke=\"black\" d=\"M1256.01,-127.5C1265.01,-127.5 1273.74,-127.5 1281.66,-127.5\"/>\n<polygon fill=\"black\" stroke=\"black\" points=\"1281.91,-131 1291.91,-127.5 1281.91,-124 1281.91,-131\"/>\n</g>\n<!-- 136787594213776+&#45;&gt;136787594213776 -->\n<g id=\"edge4\" class=\"edge\">\n<title>136787594213776+&#45;&gt;136787594213776</title>\n<path fill=\"none\" stroke=\"black\" d=\"M1035.04,-127.5C1042.58,-127.5 1051.3,-127.5 1060.57,-127.5\"/>\n<polygon fill=\"black\" stroke=\"black\" points=\"1060.81,-131 1070.81,-127.5 1060.81,-124 1060.81,-131\"/>\n</g>\n<!-- 136787594214288 -->\n<g id=\"node14\" class=\"node\">\n<title>136787594214288</title>\n<polygon fill=\"none\" stroke=\"black\" points=\"1382,-109.5 1382,-145.5 1567,-145.5 1567,-109.5 1382,-109.5\"/>\n<text text-anchor=\"middle\" x=\"1393.5\" y=\"-123.8\" font-family=\"Times,serif\" font-size=\"14.00\">o</text>\n<polyline fill=\"none\" stroke=\"black\" points=\"1405,-109.5 1405,-145.5 \"/>\n<text text-anchor=\"middle\" x=\"1445\" y=\"-123.8\" font-family=\"Times,serif\" font-size=\"14.00\">data 0.7071</text>\n<polyline fill=\"none\" stroke=\"black\" points=\"1485,-109.5 1485,-145.5 \"/>\n<text text-anchor=\"middle\" x=\"1526\" y=\"-123.8\" font-family=\"Times,serif\" font-size=\"14.00\">grad 1.0000</text>\n</g>\n<!-- 136787594214288tanh&#45;&gt;136787594214288 -->\n<g id=\"edge5\" class=\"edge\">\n<title>136787594214288tanh&#45;&gt;136787594214288</title>\n<path fill=\"none\" stroke=\"black\" d=\"M1346.04,-127.5C1353.58,-127.5 1362.3,-127.5 1371.57,-127.5\"/>\n<polygon fill=\"black\" stroke=\"black\" points=\"1371.81,-131 1381.81,-127.5 1371.81,-124 1371.81,-131\"/>\n</g>\n</g>\n</svg>\n",
            "text/plain": [
              "<graphviz.graphs.Digraph at 0x7c6857f654d0>"
            ]
          },
          "metadata": {},
          "execution_count": 409
        }
      ]
    },
    {
      "cell_type": "markdown",
      "source": [
        "# redefining expression so it can be calculated using backward func"
      ],
      "metadata": {
        "id": "7UntGjUfuLCp"
      }
    },
    {
      "cell_type": "code",
      "source": [
        "# inputs x1,x2\n",
        "x1 = Rank(2.0, label='x1')\n",
        "x2 = Rank(0.0, label='x2')\n",
        "# weights w1,w2\n",
        "w1 = Rank(-3.0, label='w1')\n",
        "w2 = Rank(1.0, label='w2')\n",
        "# bias of the neuron\n",
        "b = Rank(6.8813735870195432, label='b')\n",
        "# x1*w1 + x2*w2 + b\n",
        "x1w1 = x1*w1; x1w1.label = 'x1*w1'\n",
        "x2w2 = x2*w2; x2w2.label = 'x2*w2'\n",
        "x1w1x2w2 = x1w1 + x2w2; x1w1x2w2.label = 'x1*w1 + x2*w2'\n",
        "n = x1w1x2w2 + b; n.label = 'n'\n",
        "o = n.tanh()\n",
        "o.label='o'\n"
      ],
      "metadata": {
        "id": "QtOv-CJ7gnx4"
      },
      "execution_count": 410,
      "outputs": []
    },
    {
      "cell_type": "code",
      "source": [
        "o.grad=1\n",
        "o._backward()"
      ],
      "metadata": {
        "id": "aV25dJ5Tpup7"
      },
      "execution_count": 411,
      "outputs": []
    },
    {
      "cell_type": "code",
      "source": [
        "draw_dot(o)"
      ],
      "metadata": {
        "colab": {
          "base_uri": "https://localhost:8080/",
          "height": 321
        },
        "id": "uM3SilZapuml",
        "outputId": "c1f6dcdb-a2f8-4287-d27c-17770ebd19cf"
      },
      "execution_count": 412,
      "outputs": [
        {
          "output_type": "execute_result",
          "data": {
            "image/svg+xml": "<?xml version=\"1.0\" encoding=\"UTF-8\" standalone=\"no\"?>\n<!DOCTYPE svg PUBLIC \"-//W3C//DTD SVG 1.1//EN\"\n \"http://www.w3.org/Graphics/SVG/1.1/DTD/svg11.dtd\">\n<!-- Generated by graphviz version 2.43.0 (0)\n -->\n<!-- Title: %3 Pages: 1 -->\n<svg width=\"1575pt\" height=\"210pt\"\n viewBox=\"0.00 0.00 1575.00 210.00\" xmlns=\"http://www.w3.org/2000/svg\" xmlns:xlink=\"http://www.w3.org/1999/xlink\">\n<g id=\"graph0\" class=\"graph\" transform=\"scale(1 1) rotate(0) translate(4 206)\">\n<title>%3</title>\n<polygon fill=\"white\" stroke=\"transparent\" points=\"-4,4 -4,-206 1571,-206 1571,4 -4,4\"/>\n<!-- 136787594308112 -->\n<g id=\"node1\" class=\"node\">\n<title>136787594308112</title>\n<polygon fill=\"none\" stroke=\"black\" points=\"0,-165.5 0,-201.5 200,-201.5 200,-165.5 0,-165.5\"/>\n<text text-anchor=\"middle\" x=\"16.5\" y=\"-179.8\" font-family=\"Times,serif\" font-size=\"14.00\">w1</text>\n<polyline fill=\"none\" stroke=\"black\" points=\"33,-165.5 33,-201.5 \"/>\n<text text-anchor=\"middle\" x=\"75.5\" y=\"-179.8\" font-family=\"Times,serif\" font-size=\"14.00\">data &#45;3.0000</text>\n<polyline fill=\"none\" stroke=\"black\" points=\"118,-165.5 118,-201.5 \"/>\n<text text-anchor=\"middle\" x=\"159\" y=\"-179.8\" font-family=\"Times,serif\" font-size=\"14.00\">grad 0.0000</text>\n</g>\n<!-- 136787594308048* -->\n<g id=\"node15\" class=\"node\">\n<title>136787594308048*</title>\n<ellipse fill=\"none\" stroke=\"black\" cx=\"263\" cy=\"-128.5\" rx=\"27\" ry=\"18\"/>\n<text text-anchor=\"middle\" x=\"263\" y=\"-124.8\" font-family=\"Times,serif\" font-size=\"14.00\">*</text>\n</g>\n<!-- 136787594308112&#45;&gt;136787594308048* -->\n<g id=\"edge7\" class=\"edge\">\n<title>136787594308112&#45;&gt;136787594308048*</title>\n<path fill=\"none\" stroke=\"black\" d=\"M172.53,-165.44C181.84,-162.67 191.2,-159.67 200,-156.5 210.53,-152.71 221.75,-147.9 231.72,-143.33\"/>\n<polygon fill=\"black\" stroke=\"black\" points=\"233.25,-146.48 240.82,-139.07 230.28,-140.14 233.25,-146.48\"/>\n</g>\n<!-- 136787594308176 -->\n<g id=\"node2\" class=\"node\">\n<title>136787594308176</title>\n<polygon fill=\"none\" stroke=\"black\" points=\"1071,-54.5 1071,-90.5 1256,-90.5 1256,-54.5 1071,-54.5\"/>\n<text text-anchor=\"middle\" x=\"1082.5\" y=\"-68.8\" font-family=\"Times,serif\" font-size=\"14.00\">n</text>\n<polyline fill=\"none\" stroke=\"black\" points=\"1094,-54.5 1094,-90.5 \"/>\n<text text-anchor=\"middle\" x=\"1134\" y=\"-68.8\" font-family=\"Times,serif\" font-size=\"14.00\">data 0.8814</text>\n<polyline fill=\"none\" stroke=\"black\" points=\"1174,-54.5 1174,-90.5 \"/>\n<text text-anchor=\"middle\" x=\"1215\" y=\"-68.8\" font-family=\"Times,serif\" font-size=\"14.00\">grad 0.5000</text>\n</g>\n<!-- 136787594162064tanh -->\n<g id=\"node13\" class=\"node\">\n<title>136787594162064tanh</title>\n<ellipse fill=\"none\" stroke=\"black\" cx=\"1319\" cy=\"-72.5\" rx=\"27\" ry=\"18\"/>\n<text text-anchor=\"middle\" x=\"1319\" y=\"-68.8\" font-family=\"Times,serif\" font-size=\"14.00\">tanh</text>\n</g>\n<!-- 136787594308176&#45;&gt;136787594162064tanh -->\n<g id=\"edge11\" class=\"edge\">\n<title>136787594308176&#45;&gt;136787594162064tanh</title>\n<path fill=\"none\" stroke=\"black\" d=\"M1256.01,-72.5C1265.01,-72.5 1273.74,-72.5 1281.66,-72.5\"/>\n<polygon fill=\"black\" stroke=\"black\" points=\"1281.91,-76 1291.91,-72.5 1281.91,-69 1281.91,-76\"/>\n</g>\n<!-- 136787594308176+ -->\n<g id=\"node3\" class=\"node\">\n<title>136787594308176+</title>\n<ellipse fill=\"none\" stroke=\"black\" cx=\"1008\" cy=\"-72.5\" rx=\"27\" ry=\"18\"/>\n<text text-anchor=\"middle\" x=\"1008\" y=\"-68.8\" font-family=\"Times,serif\" font-size=\"14.00\">+</text>\n</g>\n<!-- 136787594308176+&#45;&gt;136787594308176 -->\n<g id=\"edge1\" class=\"edge\">\n<title>136787594308176+&#45;&gt;136787594308176</title>\n<path fill=\"none\" stroke=\"black\" d=\"M1035.04,-72.5C1042.58,-72.5 1051.3,-72.5 1060.57,-72.5\"/>\n<polygon fill=\"black\" stroke=\"black\" points=\"1060.81,-76 1070.81,-72.5 1060.81,-69 1060.81,-76\"/>\n</g>\n<!-- 136787594307216 -->\n<g id=\"node4\" class=\"node\">\n<title>136787594307216</title>\n<polygon fill=\"none\" stroke=\"black\" points=\"4,-110.5 4,-146.5 196,-146.5 196,-110.5 4,-110.5\"/>\n<text text-anchor=\"middle\" x=\"19\" y=\"-124.8\" font-family=\"Times,serif\" font-size=\"14.00\">x1</text>\n<polyline fill=\"none\" stroke=\"black\" points=\"34,-110.5 34,-146.5 \"/>\n<text text-anchor=\"middle\" x=\"74\" y=\"-124.8\" font-family=\"Times,serif\" font-size=\"14.00\">data 2.0000</text>\n<polyline fill=\"none\" stroke=\"black\" points=\"114,-110.5 114,-146.5 \"/>\n<text text-anchor=\"middle\" x=\"155\" y=\"-124.8\" font-family=\"Times,serif\" font-size=\"14.00\">grad 0.0000</text>\n</g>\n<!-- 136787594307216&#45;&gt;136787594308048* -->\n<g id=\"edge6\" class=\"edge\">\n<title>136787594307216&#45;&gt;136787594308048*</title>\n<path fill=\"none\" stroke=\"black\" d=\"M196.05,-128.5C206.52,-128.5 216.65,-128.5 225.71,-128.5\"/>\n<polygon fill=\"black\" stroke=\"black\" points=\"225.79,-132 235.79,-128.5 225.79,-125 225.79,-132\"/>\n</g>\n<!-- 136787594308304 -->\n<g id=\"node5\" class=\"node\">\n<title>136787594308304</title>\n<polygon fill=\"none\" stroke=\"black\" points=\"328.5,-55.5 328.5,-91.5 543.5,-91.5 543.5,-55.5 328.5,-55.5\"/>\n<text text-anchor=\"middle\" x=\"355\" y=\"-69.8\" font-family=\"Times,serif\" font-size=\"14.00\">x2*w2</text>\n<polyline fill=\"none\" stroke=\"black\" points=\"381.5,-55.5 381.5,-91.5 \"/>\n<text text-anchor=\"middle\" x=\"421.5\" y=\"-69.8\" font-family=\"Times,serif\" font-size=\"14.00\">data 0.0000</text>\n<polyline fill=\"none\" stroke=\"black\" points=\"461.5,-55.5 461.5,-91.5 \"/>\n<text text-anchor=\"middle\" x=\"502.5\" y=\"-69.8\" font-family=\"Times,serif\" font-size=\"14.00\">grad 0.0000</text>\n</g>\n<!-- 136787594308432+ -->\n<g id=\"node11\" class=\"node\">\n<title>136787594308432+</title>\n<ellipse fill=\"none\" stroke=\"black\" cx=\"609\" cy=\"-100.5\" rx=\"27\" ry=\"18\"/>\n<text text-anchor=\"middle\" x=\"609\" y=\"-96.8\" font-family=\"Times,serif\" font-size=\"14.00\">+</text>\n</g>\n<!-- 136787594308304&#45;&gt;136787594308432+ -->\n<g id=\"edge12\" class=\"edge\">\n<title>136787594308304&#45;&gt;136787594308432+</title>\n<path fill=\"none\" stroke=\"black\" d=\"M543.84,-90.37C554.01,-91.98 563.76,-93.51 572.44,-94.89\"/>\n<polygon fill=\"black\" stroke=\"black\" points=\"572.05,-98.37 582.47,-96.47 573.14,-91.45 572.05,-98.37\"/>\n</g>\n<!-- 136787594308304* -->\n<g id=\"node6\" class=\"node\">\n<title>136787594308304*</title>\n<ellipse fill=\"none\" stroke=\"black\" cx=\"263\" cy=\"-73.5\" rx=\"27\" ry=\"18\"/>\n<text text-anchor=\"middle\" x=\"263\" y=\"-69.8\" font-family=\"Times,serif\" font-size=\"14.00\">*</text>\n</g>\n<!-- 136787594308304*&#45;&gt;136787594308304 -->\n<g id=\"edge2\" class=\"edge\">\n<title>136787594308304*&#45;&gt;136787594308304</title>\n<path fill=\"none\" stroke=\"black\" d=\"M290.34,-73.5C298.51,-73.5 308.08,-73.5 318.36,-73.5\"/>\n<polygon fill=\"black\" stroke=\"black\" points=\"318.39,-77 328.39,-73.5 318.39,-70 318.39,-77\"/>\n</g>\n<!-- 136787594307472 -->\n<g id=\"node7\" class=\"node\">\n<title>136787594307472</title>\n<polygon fill=\"none\" stroke=\"black\" points=\"4,-55.5 4,-91.5 196,-91.5 196,-55.5 4,-55.5\"/>\n<text text-anchor=\"middle\" x=\"19\" y=\"-69.8\" font-family=\"Times,serif\" font-size=\"14.00\">x2</text>\n<polyline fill=\"none\" stroke=\"black\" points=\"34,-55.5 34,-91.5 \"/>\n<text text-anchor=\"middle\" x=\"74\" y=\"-69.8\" font-family=\"Times,serif\" font-size=\"14.00\">data 0.0000</text>\n<polyline fill=\"none\" stroke=\"black\" points=\"114,-55.5 114,-91.5 \"/>\n<text text-anchor=\"middle\" x=\"155\" y=\"-69.8\" font-family=\"Times,serif\" font-size=\"14.00\">grad 0.0000</text>\n</g>\n<!-- 136787594307472&#45;&gt;136787594308304* -->\n<g id=\"edge9\" class=\"edge\">\n<title>136787594307472&#45;&gt;136787594308304*</title>\n<path fill=\"none\" stroke=\"black\" d=\"M196.05,-73.5C206.52,-73.5 216.65,-73.5 225.71,-73.5\"/>\n<polygon fill=\"black\" stroke=\"black\" points=\"225.79,-77 235.79,-73.5 225.79,-70 225.79,-77\"/>\n</g>\n<!-- 136787594307984 -->\n<g id=\"node8\" class=\"node\">\n<title>136787594307984</title>\n<polygon fill=\"none\" stroke=\"black\" points=\"2.5,-0.5 2.5,-36.5 197.5,-36.5 197.5,-0.5 2.5,-0.5\"/>\n<text text-anchor=\"middle\" x=\"19\" y=\"-14.8\" font-family=\"Times,serif\" font-size=\"14.00\">w2</text>\n<polyline fill=\"none\" stroke=\"black\" points=\"35.5,-0.5 35.5,-36.5 \"/>\n<text text-anchor=\"middle\" x=\"75.5\" y=\"-14.8\" font-family=\"Times,serif\" font-size=\"14.00\">data 1.0000</text>\n<polyline fill=\"none\" stroke=\"black\" points=\"115.5,-0.5 115.5,-36.5 \"/>\n<text text-anchor=\"middle\" x=\"156.5\" y=\"-14.8\" font-family=\"Times,serif\" font-size=\"14.00\">grad 0.0000</text>\n</g>\n<!-- 136787594307984&#45;&gt;136787594308304* -->\n<g id=\"edge14\" class=\"edge\">\n<title>136787594307984&#45;&gt;136787594308304*</title>\n<path fill=\"none\" stroke=\"black\" d=\"M169.28,-36.5C179.65,-39.61 190.16,-42.98 200,-46.5 210.28,-50.17 221.28,-54.74 231.11,-59.07\"/>\n<polygon fill=\"black\" stroke=\"black\" points=\"229.93,-62.37 240.48,-63.27 232.79,-55.99 229.93,-62.37\"/>\n</g>\n<!-- 136787594307408 -->\n<g id=\"node9\" class=\"node\">\n<title>136787594307408</title>\n<polygon fill=\"none\" stroke=\"black\" points=\"716,-27.5 716,-63.5 901,-63.5 901,-27.5 716,-27.5\"/>\n<text text-anchor=\"middle\" x=\"727.5\" y=\"-41.8\" font-family=\"Times,serif\" font-size=\"14.00\">b</text>\n<polyline fill=\"none\" stroke=\"black\" points=\"739,-27.5 739,-63.5 \"/>\n<text text-anchor=\"middle\" x=\"779\" y=\"-41.8\" font-family=\"Times,serif\" font-size=\"14.00\">data 6.8814</text>\n<polyline fill=\"none\" stroke=\"black\" points=\"819,-27.5 819,-63.5 \"/>\n<text text-anchor=\"middle\" x=\"860\" y=\"-41.8\" font-family=\"Times,serif\" font-size=\"14.00\">grad 0.0000</text>\n</g>\n<!-- 136787594307408&#45;&gt;136787594308176+ -->\n<g id=\"edge10\" class=\"edge\">\n<title>136787594307408&#45;&gt;136787594308176+</title>\n<path fill=\"none\" stroke=\"black\" d=\"M901.02,-58.01C926,-61.43 951.59,-64.93 971.37,-67.63\"/>\n<polygon fill=\"black\" stroke=\"black\" points=\"971.05,-71.12 981.43,-69.01 972,-64.18 971.05,-71.12\"/>\n</g>\n<!-- 136787594308432 -->\n<g id=\"node10\" class=\"node\">\n<title>136787594308432</title>\n<polygon fill=\"none\" stroke=\"black\" points=\"672,-82.5 672,-118.5 945,-118.5 945,-82.5 672,-82.5\"/>\n<text text-anchor=\"middle\" x=\"725\" y=\"-96.8\" font-family=\"Times,serif\" font-size=\"14.00\">x1*w1 + x2*w2</text>\n<polyline fill=\"none\" stroke=\"black\" points=\"778,-82.5 778,-118.5 \"/>\n<text text-anchor=\"middle\" x=\"820.5\" y=\"-96.8\" font-family=\"Times,serif\" font-size=\"14.00\">data &#45;6.0000</text>\n<polyline fill=\"none\" stroke=\"black\" points=\"863,-82.5 863,-118.5 \"/>\n<text text-anchor=\"middle\" x=\"904\" y=\"-96.8\" font-family=\"Times,serif\" font-size=\"14.00\">grad 0.0000</text>\n</g>\n<!-- 136787594308432&#45;&gt;136787594308176+ -->\n<g id=\"edge8\" class=\"edge\">\n<title>136787594308432&#45;&gt;136787594308176+</title>\n<path fill=\"none\" stroke=\"black\" d=\"M936.53,-82.49C949.09,-80.71 960.99,-79.02 971.3,-77.56\"/>\n<polygon fill=\"black\" stroke=\"black\" points=\"972.03,-80.99 981.44,-76.12 971.05,-74.06 972.03,-80.99\"/>\n</g>\n<!-- 136787594308432+&#45;&gt;136787594308432 -->\n<g id=\"edge3\" class=\"edge\">\n<title>136787594308432+&#45;&gt;136787594308432</title>\n<path fill=\"none\" stroke=\"black\" d=\"M636.23,-100.5C643.7,-100.5 652.41,-100.5 661.87,-100.5\"/>\n<polygon fill=\"black\" stroke=\"black\" points=\"661.98,-104 671.98,-100.5 661.98,-97 661.98,-104\"/>\n</g>\n<!-- 136787594162064 -->\n<g id=\"node12\" class=\"node\">\n<title>136787594162064</title>\n<polygon fill=\"none\" stroke=\"black\" points=\"1382,-54.5 1382,-90.5 1567,-90.5 1567,-54.5 1382,-54.5\"/>\n<text text-anchor=\"middle\" x=\"1393.5\" y=\"-68.8\" font-family=\"Times,serif\" font-size=\"14.00\">o</text>\n<polyline fill=\"none\" stroke=\"black\" points=\"1405,-54.5 1405,-90.5 \"/>\n<text text-anchor=\"middle\" x=\"1445\" y=\"-68.8\" font-family=\"Times,serif\" font-size=\"14.00\">data 0.7071</text>\n<polyline fill=\"none\" stroke=\"black\" points=\"1485,-54.5 1485,-90.5 \"/>\n<text text-anchor=\"middle\" x=\"1526\" y=\"-68.8\" font-family=\"Times,serif\" font-size=\"14.00\">grad 1.0000</text>\n</g>\n<!-- 136787594162064tanh&#45;&gt;136787594162064 -->\n<g id=\"edge4\" class=\"edge\">\n<title>136787594162064tanh&#45;&gt;136787594162064</title>\n<path fill=\"none\" stroke=\"black\" d=\"M1346.04,-72.5C1353.58,-72.5 1362.3,-72.5 1371.57,-72.5\"/>\n<polygon fill=\"black\" stroke=\"black\" points=\"1371.81,-76 1381.81,-72.5 1371.81,-69 1371.81,-76\"/>\n</g>\n<!-- 136787594308048 -->\n<g id=\"node14\" class=\"node\">\n<title>136787594308048</title>\n<polygon fill=\"none\" stroke=\"black\" points=\"326,-110.5 326,-146.5 546,-146.5 546,-110.5 326,-110.5\"/>\n<text text-anchor=\"middle\" x=\"352.5\" y=\"-124.8\" font-family=\"Times,serif\" font-size=\"14.00\">x1*w1</text>\n<polyline fill=\"none\" stroke=\"black\" points=\"379,-110.5 379,-146.5 \"/>\n<text text-anchor=\"middle\" x=\"421.5\" y=\"-124.8\" font-family=\"Times,serif\" font-size=\"14.00\">data &#45;6.0000</text>\n<polyline fill=\"none\" stroke=\"black\" points=\"464,-110.5 464,-146.5 \"/>\n<text text-anchor=\"middle\" x=\"505\" y=\"-124.8\" font-family=\"Times,serif\" font-size=\"14.00\">grad 0.0000</text>\n</g>\n<!-- 136787594308048&#45;&gt;136787594308432+ -->\n<g id=\"edge13\" class=\"edge\">\n<title>136787594308048&#45;&gt;136787594308432+</title>\n<path fill=\"none\" stroke=\"black\" d=\"M546.27,-110.61C555.64,-109.07 564.6,-107.61 572.65,-106.29\"/>\n<polygon fill=\"black\" stroke=\"black\" points=\"573.35,-109.72 582.65,-104.65 572.22,-102.81 573.35,-109.72\"/>\n</g>\n<!-- 136787594308048*&#45;&gt;136787594308048 -->\n<g id=\"edge5\" class=\"edge\">\n<title>136787594308048*&#45;&gt;136787594308048</title>\n<path fill=\"none\" stroke=\"black\" d=\"M290.34,-128.5C297.77,-128.5 306.37,-128.5 315.6,-128.5\"/>\n<polygon fill=\"black\" stroke=\"black\" points=\"315.84,-132 325.84,-128.5 315.84,-125 315.84,-132\"/>\n</g>\n</g>\n</svg>\n",
            "text/plain": [
              "<graphviz.graphs.Digraph at 0x7c6857f7ed10>"
            ]
          },
          "metadata": {},
          "execution_count": 412
        }
      ]
    },
    {
      "cell_type": "code",
      "source": [
        "n._backward()"
      ],
      "metadata": {
        "id": "7rlAKoJ_pugk"
      },
      "execution_count": 413,
      "outputs": []
    },
    {
      "cell_type": "code",
      "source": [
        "draw_dot(o)"
      ],
      "metadata": {
        "colab": {
          "base_uri": "https://localhost:8080/",
          "height": 321
        },
        "id": "-PHGAvlFpudY",
        "outputId": "4730ca36-5871-461c-abd5-abfc7048d05c"
      },
      "execution_count": 414,
      "outputs": [
        {
          "output_type": "execute_result",
          "data": {
            "image/svg+xml": "<?xml version=\"1.0\" encoding=\"UTF-8\" standalone=\"no\"?>\n<!DOCTYPE svg PUBLIC \"-//W3C//DTD SVG 1.1//EN\"\n \"http://www.w3.org/Graphics/SVG/1.1/DTD/svg11.dtd\">\n<!-- Generated by graphviz version 2.43.0 (0)\n -->\n<!-- Title: %3 Pages: 1 -->\n<svg width=\"1575pt\" height=\"210pt\"\n viewBox=\"0.00 0.00 1575.00 210.00\" xmlns=\"http://www.w3.org/2000/svg\" xmlns:xlink=\"http://www.w3.org/1999/xlink\">\n<g id=\"graph0\" class=\"graph\" transform=\"scale(1 1) rotate(0) translate(4 206)\">\n<title>%3</title>\n<polygon fill=\"white\" stroke=\"transparent\" points=\"-4,4 -4,-206 1571,-206 1571,4 -4,4\"/>\n<!-- 136787594308112 -->\n<g id=\"node1\" class=\"node\">\n<title>136787594308112</title>\n<polygon fill=\"none\" stroke=\"black\" points=\"0,-165.5 0,-201.5 200,-201.5 200,-165.5 0,-165.5\"/>\n<text text-anchor=\"middle\" x=\"16.5\" y=\"-179.8\" font-family=\"Times,serif\" font-size=\"14.00\">w1</text>\n<polyline fill=\"none\" stroke=\"black\" points=\"33,-165.5 33,-201.5 \"/>\n<text text-anchor=\"middle\" x=\"75.5\" y=\"-179.8\" font-family=\"Times,serif\" font-size=\"14.00\">data &#45;3.0000</text>\n<polyline fill=\"none\" stroke=\"black\" points=\"118,-165.5 118,-201.5 \"/>\n<text text-anchor=\"middle\" x=\"159\" y=\"-179.8\" font-family=\"Times,serif\" font-size=\"14.00\">grad 0.0000</text>\n</g>\n<!-- 136787594308048* -->\n<g id=\"node15\" class=\"node\">\n<title>136787594308048*</title>\n<ellipse fill=\"none\" stroke=\"black\" cx=\"263\" cy=\"-128.5\" rx=\"27\" ry=\"18\"/>\n<text text-anchor=\"middle\" x=\"263\" y=\"-124.8\" font-family=\"Times,serif\" font-size=\"14.00\">*</text>\n</g>\n<!-- 136787594308112&#45;&gt;136787594308048* -->\n<g id=\"edge7\" class=\"edge\">\n<title>136787594308112&#45;&gt;136787594308048*</title>\n<path fill=\"none\" stroke=\"black\" d=\"M172.53,-165.44C181.84,-162.67 191.2,-159.67 200,-156.5 210.53,-152.71 221.75,-147.9 231.72,-143.33\"/>\n<polygon fill=\"black\" stroke=\"black\" points=\"233.25,-146.48 240.82,-139.07 230.28,-140.14 233.25,-146.48\"/>\n</g>\n<!-- 136787594308176 -->\n<g id=\"node2\" class=\"node\">\n<title>136787594308176</title>\n<polygon fill=\"none\" stroke=\"black\" points=\"1071,-54.5 1071,-90.5 1256,-90.5 1256,-54.5 1071,-54.5\"/>\n<text text-anchor=\"middle\" x=\"1082.5\" y=\"-68.8\" font-family=\"Times,serif\" font-size=\"14.00\">n</text>\n<polyline fill=\"none\" stroke=\"black\" points=\"1094,-54.5 1094,-90.5 \"/>\n<text text-anchor=\"middle\" x=\"1134\" y=\"-68.8\" font-family=\"Times,serif\" font-size=\"14.00\">data 0.8814</text>\n<polyline fill=\"none\" stroke=\"black\" points=\"1174,-54.5 1174,-90.5 \"/>\n<text text-anchor=\"middle\" x=\"1215\" y=\"-68.8\" font-family=\"Times,serif\" font-size=\"14.00\">grad 0.5000</text>\n</g>\n<!-- 136787594162064tanh -->\n<g id=\"node13\" class=\"node\">\n<title>136787594162064tanh</title>\n<ellipse fill=\"none\" stroke=\"black\" cx=\"1319\" cy=\"-72.5\" rx=\"27\" ry=\"18\"/>\n<text text-anchor=\"middle\" x=\"1319\" y=\"-68.8\" font-family=\"Times,serif\" font-size=\"14.00\">tanh</text>\n</g>\n<!-- 136787594308176&#45;&gt;136787594162064tanh -->\n<g id=\"edge11\" class=\"edge\">\n<title>136787594308176&#45;&gt;136787594162064tanh</title>\n<path fill=\"none\" stroke=\"black\" d=\"M1256.01,-72.5C1265.01,-72.5 1273.74,-72.5 1281.66,-72.5\"/>\n<polygon fill=\"black\" stroke=\"black\" points=\"1281.91,-76 1291.91,-72.5 1281.91,-69 1281.91,-76\"/>\n</g>\n<!-- 136787594308176+ -->\n<g id=\"node3\" class=\"node\">\n<title>136787594308176+</title>\n<ellipse fill=\"none\" stroke=\"black\" cx=\"1008\" cy=\"-72.5\" rx=\"27\" ry=\"18\"/>\n<text text-anchor=\"middle\" x=\"1008\" y=\"-68.8\" font-family=\"Times,serif\" font-size=\"14.00\">+</text>\n</g>\n<!-- 136787594308176+&#45;&gt;136787594308176 -->\n<g id=\"edge1\" class=\"edge\">\n<title>136787594308176+&#45;&gt;136787594308176</title>\n<path fill=\"none\" stroke=\"black\" d=\"M1035.04,-72.5C1042.58,-72.5 1051.3,-72.5 1060.57,-72.5\"/>\n<polygon fill=\"black\" stroke=\"black\" points=\"1060.81,-76 1070.81,-72.5 1060.81,-69 1060.81,-76\"/>\n</g>\n<!-- 136787594307216 -->\n<g id=\"node4\" class=\"node\">\n<title>136787594307216</title>\n<polygon fill=\"none\" stroke=\"black\" points=\"4,-110.5 4,-146.5 196,-146.5 196,-110.5 4,-110.5\"/>\n<text text-anchor=\"middle\" x=\"19\" y=\"-124.8\" font-family=\"Times,serif\" font-size=\"14.00\">x1</text>\n<polyline fill=\"none\" stroke=\"black\" points=\"34,-110.5 34,-146.5 \"/>\n<text text-anchor=\"middle\" x=\"74\" y=\"-124.8\" font-family=\"Times,serif\" font-size=\"14.00\">data 2.0000</text>\n<polyline fill=\"none\" stroke=\"black\" points=\"114,-110.5 114,-146.5 \"/>\n<text text-anchor=\"middle\" x=\"155\" y=\"-124.8\" font-family=\"Times,serif\" font-size=\"14.00\">grad 0.0000</text>\n</g>\n<!-- 136787594307216&#45;&gt;136787594308048* -->\n<g id=\"edge6\" class=\"edge\">\n<title>136787594307216&#45;&gt;136787594308048*</title>\n<path fill=\"none\" stroke=\"black\" d=\"M196.05,-128.5C206.52,-128.5 216.65,-128.5 225.71,-128.5\"/>\n<polygon fill=\"black\" stroke=\"black\" points=\"225.79,-132 235.79,-128.5 225.79,-125 225.79,-132\"/>\n</g>\n<!-- 136787594308304 -->\n<g id=\"node5\" class=\"node\">\n<title>136787594308304</title>\n<polygon fill=\"none\" stroke=\"black\" points=\"328.5,-55.5 328.5,-91.5 543.5,-91.5 543.5,-55.5 328.5,-55.5\"/>\n<text text-anchor=\"middle\" x=\"355\" y=\"-69.8\" font-family=\"Times,serif\" font-size=\"14.00\">x2*w2</text>\n<polyline fill=\"none\" stroke=\"black\" points=\"381.5,-55.5 381.5,-91.5 \"/>\n<text text-anchor=\"middle\" x=\"421.5\" y=\"-69.8\" font-family=\"Times,serif\" font-size=\"14.00\">data 0.0000</text>\n<polyline fill=\"none\" stroke=\"black\" points=\"461.5,-55.5 461.5,-91.5 \"/>\n<text text-anchor=\"middle\" x=\"502.5\" y=\"-69.8\" font-family=\"Times,serif\" font-size=\"14.00\">grad 0.0000</text>\n</g>\n<!-- 136787594308432+ -->\n<g id=\"node11\" class=\"node\">\n<title>136787594308432+</title>\n<ellipse fill=\"none\" stroke=\"black\" cx=\"609\" cy=\"-100.5\" rx=\"27\" ry=\"18\"/>\n<text text-anchor=\"middle\" x=\"609\" y=\"-96.8\" font-family=\"Times,serif\" font-size=\"14.00\">+</text>\n</g>\n<!-- 136787594308304&#45;&gt;136787594308432+ -->\n<g id=\"edge12\" class=\"edge\">\n<title>136787594308304&#45;&gt;136787594308432+</title>\n<path fill=\"none\" stroke=\"black\" d=\"M543.84,-90.37C554.01,-91.98 563.76,-93.51 572.44,-94.89\"/>\n<polygon fill=\"black\" stroke=\"black\" points=\"572.05,-98.37 582.47,-96.47 573.14,-91.45 572.05,-98.37\"/>\n</g>\n<!-- 136787594308304* -->\n<g id=\"node6\" class=\"node\">\n<title>136787594308304*</title>\n<ellipse fill=\"none\" stroke=\"black\" cx=\"263\" cy=\"-73.5\" rx=\"27\" ry=\"18\"/>\n<text text-anchor=\"middle\" x=\"263\" y=\"-69.8\" font-family=\"Times,serif\" font-size=\"14.00\">*</text>\n</g>\n<!-- 136787594308304*&#45;&gt;136787594308304 -->\n<g id=\"edge2\" class=\"edge\">\n<title>136787594308304*&#45;&gt;136787594308304</title>\n<path fill=\"none\" stroke=\"black\" d=\"M290.34,-73.5C298.51,-73.5 308.08,-73.5 318.36,-73.5\"/>\n<polygon fill=\"black\" stroke=\"black\" points=\"318.39,-77 328.39,-73.5 318.39,-70 318.39,-77\"/>\n</g>\n<!-- 136787594307472 -->\n<g id=\"node7\" class=\"node\">\n<title>136787594307472</title>\n<polygon fill=\"none\" stroke=\"black\" points=\"4,-55.5 4,-91.5 196,-91.5 196,-55.5 4,-55.5\"/>\n<text text-anchor=\"middle\" x=\"19\" y=\"-69.8\" font-family=\"Times,serif\" font-size=\"14.00\">x2</text>\n<polyline fill=\"none\" stroke=\"black\" points=\"34,-55.5 34,-91.5 \"/>\n<text text-anchor=\"middle\" x=\"74\" y=\"-69.8\" font-family=\"Times,serif\" font-size=\"14.00\">data 0.0000</text>\n<polyline fill=\"none\" stroke=\"black\" points=\"114,-55.5 114,-91.5 \"/>\n<text text-anchor=\"middle\" x=\"155\" y=\"-69.8\" font-family=\"Times,serif\" font-size=\"14.00\">grad 0.0000</text>\n</g>\n<!-- 136787594307472&#45;&gt;136787594308304* -->\n<g id=\"edge9\" class=\"edge\">\n<title>136787594307472&#45;&gt;136787594308304*</title>\n<path fill=\"none\" stroke=\"black\" d=\"M196.05,-73.5C206.52,-73.5 216.65,-73.5 225.71,-73.5\"/>\n<polygon fill=\"black\" stroke=\"black\" points=\"225.79,-77 235.79,-73.5 225.79,-70 225.79,-77\"/>\n</g>\n<!-- 136787594307984 -->\n<g id=\"node8\" class=\"node\">\n<title>136787594307984</title>\n<polygon fill=\"none\" stroke=\"black\" points=\"2.5,-0.5 2.5,-36.5 197.5,-36.5 197.5,-0.5 2.5,-0.5\"/>\n<text text-anchor=\"middle\" x=\"19\" y=\"-14.8\" font-family=\"Times,serif\" font-size=\"14.00\">w2</text>\n<polyline fill=\"none\" stroke=\"black\" points=\"35.5,-0.5 35.5,-36.5 \"/>\n<text text-anchor=\"middle\" x=\"75.5\" y=\"-14.8\" font-family=\"Times,serif\" font-size=\"14.00\">data 1.0000</text>\n<polyline fill=\"none\" stroke=\"black\" points=\"115.5,-0.5 115.5,-36.5 \"/>\n<text text-anchor=\"middle\" x=\"156.5\" y=\"-14.8\" font-family=\"Times,serif\" font-size=\"14.00\">grad 0.0000</text>\n</g>\n<!-- 136787594307984&#45;&gt;136787594308304* -->\n<g id=\"edge14\" class=\"edge\">\n<title>136787594307984&#45;&gt;136787594308304*</title>\n<path fill=\"none\" stroke=\"black\" d=\"M169.28,-36.5C179.65,-39.61 190.16,-42.98 200,-46.5 210.28,-50.17 221.28,-54.74 231.11,-59.07\"/>\n<polygon fill=\"black\" stroke=\"black\" points=\"229.93,-62.37 240.48,-63.27 232.79,-55.99 229.93,-62.37\"/>\n</g>\n<!-- 136787594307408 -->\n<g id=\"node9\" class=\"node\">\n<title>136787594307408</title>\n<polygon fill=\"none\" stroke=\"black\" points=\"716,-27.5 716,-63.5 901,-63.5 901,-27.5 716,-27.5\"/>\n<text text-anchor=\"middle\" x=\"727.5\" y=\"-41.8\" font-family=\"Times,serif\" font-size=\"14.00\">b</text>\n<polyline fill=\"none\" stroke=\"black\" points=\"739,-27.5 739,-63.5 \"/>\n<text text-anchor=\"middle\" x=\"779\" y=\"-41.8\" font-family=\"Times,serif\" font-size=\"14.00\">data 6.8814</text>\n<polyline fill=\"none\" stroke=\"black\" points=\"819,-27.5 819,-63.5 \"/>\n<text text-anchor=\"middle\" x=\"860\" y=\"-41.8\" font-family=\"Times,serif\" font-size=\"14.00\">grad 0.5000</text>\n</g>\n<!-- 136787594307408&#45;&gt;136787594308176+ -->\n<g id=\"edge10\" class=\"edge\">\n<title>136787594307408&#45;&gt;136787594308176+</title>\n<path fill=\"none\" stroke=\"black\" d=\"M901.02,-58.01C926,-61.43 951.59,-64.93 971.37,-67.63\"/>\n<polygon fill=\"black\" stroke=\"black\" points=\"971.05,-71.12 981.43,-69.01 972,-64.18 971.05,-71.12\"/>\n</g>\n<!-- 136787594308432 -->\n<g id=\"node10\" class=\"node\">\n<title>136787594308432</title>\n<polygon fill=\"none\" stroke=\"black\" points=\"672,-82.5 672,-118.5 945,-118.5 945,-82.5 672,-82.5\"/>\n<text text-anchor=\"middle\" x=\"725\" y=\"-96.8\" font-family=\"Times,serif\" font-size=\"14.00\">x1*w1 + x2*w2</text>\n<polyline fill=\"none\" stroke=\"black\" points=\"778,-82.5 778,-118.5 \"/>\n<text text-anchor=\"middle\" x=\"820.5\" y=\"-96.8\" font-family=\"Times,serif\" font-size=\"14.00\">data &#45;6.0000</text>\n<polyline fill=\"none\" stroke=\"black\" points=\"863,-82.5 863,-118.5 \"/>\n<text text-anchor=\"middle\" x=\"904\" y=\"-96.8\" font-family=\"Times,serif\" font-size=\"14.00\">grad 0.5000</text>\n</g>\n<!-- 136787594308432&#45;&gt;136787594308176+ -->\n<g id=\"edge8\" class=\"edge\">\n<title>136787594308432&#45;&gt;136787594308176+</title>\n<path fill=\"none\" stroke=\"black\" d=\"M936.53,-82.49C949.09,-80.71 960.99,-79.02 971.3,-77.56\"/>\n<polygon fill=\"black\" stroke=\"black\" points=\"972.03,-80.99 981.44,-76.12 971.05,-74.06 972.03,-80.99\"/>\n</g>\n<!-- 136787594308432+&#45;&gt;136787594308432 -->\n<g id=\"edge3\" class=\"edge\">\n<title>136787594308432+&#45;&gt;136787594308432</title>\n<path fill=\"none\" stroke=\"black\" d=\"M636.23,-100.5C643.7,-100.5 652.41,-100.5 661.87,-100.5\"/>\n<polygon fill=\"black\" stroke=\"black\" points=\"661.98,-104 671.98,-100.5 661.98,-97 661.98,-104\"/>\n</g>\n<!-- 136787594162064 -->\n<g id=\"node12\" class=\"node\">\n<title>136787594162064</title>\n<polygon fill=\"none\" stroke=\"black\" points=\"1382,-54.5 1382,-90.5 1567,-90.5 1567,-54.5 1382,-54.5\"/>\n<text text-anchor=\"middle\" x=\"1393.5\" y=\"-68.8\" font-family=\"Times,serif\" font-size=\"14.00\">o</text>\n<polyline fill=\"none\" stroke=\"black\" points=\"1405,-54.5 1405,-90.5 \"/>\n<text text-anchor=\"middle\" x=\"1445\" y=\"-68.8\" font-family=\"Times,serif\" font-size=\"14.00\">data 0.7071</text>\n<polyline fill=\"none\" stroke=\"black\" points=\"1485,-54.5 1485,-90.5 \"/>\n<text text-anchor=\"middle\" x=\"1526\" y=\"-68.8\" font-family=\"Times,serif\" font-size=\"14.00\">grad 1.0000</text>\n</g>\n<!-- 136787594162064tanh&#45;&gt;136787594162064 -->\n<g id=\"edge4\" class=\"edge\">\n<title>136787594162064tanh&#45;&gt;136787594162064</title>\n<path fill=\"none\" stroke=\"black\" d=\"M1346.04,-72.5C1353.58,-72.5 1362.3,-72.5 1371.57,-72.5\"/>\n<polygon fill=\"black\" stroke=\"black\" points=\"1371.81,-76 1381.81,-72.5 1371.81,-69 1371.81,-76\"/>\n</g>\n<!-- 136787594308048 -->\n<g id=\"node14\" class=\"node\">\n<title>136787594308048</title>\n<polygon fill=\"none\" stroke=\"black\" points=\"326,-110.5 326,-146.5 546,-146.5 546,-110.5 326,-110.5\"/>\n<text text-anchor=\"middle\" x=\"352.5\" y=\"-124.8\" font-family=\"Times,serif\" font-size=\"14.00\">x1*w1</text>\n<polyline fill=\"none\" stroke=\"black\" points=\"379,-110.5 379,-146.5 \"/>\n<text text-anchor=\"middle\" x=\"421.5\" y=\"-124.8\" font-family=\"Times,serif\" font-size=\"14.00\">data &#45;6.0000</text>\n<polyline fill=\"none\" stroke=\"black\" points=\"464,-110.5 464,-146.5 \"/>\n<text text-anchor=\"middle\" x=\"505\" y=\"-124.8\" font-family=\"Times,serif\" font-size=\"14.00\">grad 0.0000</text>\n</g>\n<!-- 136787594308048&#45;&gt;136787594308432+ -->\n<g id=\"edge13\" class=\"edge\">\n<title>136787594308048&#45;&gt;136787594308432+</title>\n<path fill=\"none\" stroke=\"black\" d=\"M546.27,-110.61C555.64,-109.07 564.6,-107.61 572.65,-106.29\"/>\n<polygon fill=\"black\" stroke=\"black\" points=\"573.35,-109.72 582.65,-104.65 572.22,-102.81 573.35,-109.72\"/>\n</g>\n<!-- 136787594308048*&#45;&gt;136787594308048 -->\n<g id=\"edge5\" class=\"edge\">\n<title>136787594308048*&#45;&gt;136787594308048</title>\n<path fill=\"none\" stroke=\"black\" d=\"M290.34,-128.5C297.77,-128.5 306.37,-128.5 315.6,-128.5\"/>\n<polygon fill=\"black\" stroke=\"black\" points=\"315.84,-132 325.84,-128.5 315.84,-125 315.84,-132\"/>\n</g>\n</g>\n</svg>\n",
            "text/plain": [
              "<graphviz.graphs.Digraph at 0x7c6857f7edd0>"
            ]
          },
          "metadata": {},
          "execution_count": 414
        }
      ]
    },
    {
      "cell_type": "code",
      "source": [
        "b._backward()"
      ],
      "metadata": {
        "id": "n2l4LneognvT"
      },
      "execution_count": 415,
      "outputs": []
    },
    {
      "cell_type": "code",
      "source": [
        "x1w1x2w2._backward()\n",
        "x1w1._backward()\n",
        "b._backward()"
      ],
      "metadata": {
        "id": "mXPPE54Tgnsv"
      },
      "execution_count": 416,
      "outputs": []
    },
    {
      "cell_type": "markdown",
      "source": [
        "#using backward function"
      ],
      "metadata": {
        "id": "fRQ0z7ufyrA0"
      }
    },
    {
      "cell_type": "code",
      "source": [
        "# inputs x1,x2\n",
        "x1 = Rank(2.0, label='x1')\n",
        "x2 = Rank(0.0, label='x2')\n",
        "# weights w1,w2\n",
        "w1 = Rank(-3.0, label='w1')\n",
        "w2 = Rank(1.0, label='w2')\n",
        "# bias of the neuron\n",
        "b = Rank(6.8813735870195432, label='b')\n",
        "# x1*w1 + x2*w2 + b\n",
        "x1w1 = x1*w1; x1w1.label = 'x1*w1'\n",
        "x2w2 = x2*w2; x2w2.label = 'x2*w2'\n",
        "x1w1x2w2 = x1w1 + x2w2; x1w1x2w2.label = 'x1*w1 + x2*w2'\n",
        "n = x1w1x2w2 + b; n.label = 'n'\n",
        "o = n.tanh()\n",
        "o.label='o'\n"
      ],
      "metadata": {
        "id": "LDsE6CGagnqM"
      },
      "execution_count": 417,
      "outputs": []
    },
    {
      "cell_type": "code",
      "source": [
        "draw_dot(o)"
      ],
      "metadata": {
        "id": "vJvcUO5ignni",
        "colab": {
          "base_uri": "https://localhost:8080/",
          "height": 321
        },
        "outputId": "09fe3c3d-9d2d-44c6-aef4-ae7e65ad4a4c"
      },
      "execution_count": 418,
      "outputs": [
        {
          "output_type": "execute_result",
          "data": {
            "image/svg+xml": "<?xml version=\"1.0\" encoding=\"UTF-8\" standalone=\"no\"?>\n<!DOCTYPE svg PUBLIC \"-//W3C//DTD SVG 1.1//EN\"\n \"http://www.w3.org/Graphics/SVG/1.1/DTD/svg11.dtd\">\n<!-- Generated by graphviz version 2.43.0 (0)\n -->\n<!-- Title: %3 Pages: 1 -->\n<svg width=\"1575pt\" height=\"210pt\"\n viewBox=\"0.00 0.00 1575.00 210.00\" xmlns=\"http://www.w3.org/2000/svg\" xmlns:xlink=\"http://www.w3.org/1999/xlink\">\n<g id=\"graph0\" class=\"graph\" transform=\"scale(1 1) rotate(0) translate(4 206)\">\n<title>%3</title>\n<polygon fill=\"white\" stroke=\"transparent\" points=\"-4,4 -4,-206 1571,-206 1571,4 -4,4\"/>\n<!-- 136787594398736 -->\n<g id=\"node1\" class=\"node\">\n<title>136787594398736</title>\n<polygon fill=\"none\" stroke=\"black\" points=\"2.5,-165.5 2.5,-201.5 197.5,-201.5 197.5,-165.5 2.5,-165.5\"/>\n<text text-anchor=\"middle\" x=\"19\" y=\"-179.8\" font-family=\"Times,serif\" font-size=\"14.00\">w2</text>\n<polyline fill=\"none\" stroke=\"black\" points=\"35.5,-165.5 35.5,-201.5 \"/>\n<text text-anchor=\"middle\" x=\"75.5\" y=\"-179.8\" font-family=\"Times,serif\" font-size=\"14.00\">data 1.0000</text>\n<polyline fill=\"none\" stroke=\"black\" points=\"115.5,-165.5 115.5,-201.5 \"/>\n<text text-anchor=\"middle\" x=\"156.5\" y=\"-179.8\" font-family=\"Times,serif\" font-size=\"14.00\">grad 0.0000</text>\n</g>\n<!-- 136787594399440* -->\n<g id=\"node9\" class=\"node\">\n<title>136787594399440*</title>\n<ellipse fill=\"none\" stroke=\"black\" cx=\"263\" cy=\"-128.5\" rx=\"27\" ry=\"18\"/>\n<text text-anchor=\"middle\" x=\"263\" y=\"-124.8\" font-family=\"Times,serif\" font-size=\"14.00\">*</text>\n</g>\n<!-- 136787594398736&#45;&gt;136787594399440* -->\n<g id=\"edge10\" class=\"edge\">\n<title>136787594398736&#45;&gt;136787594399440*</title>\n<path fill=\"none\" stroke=\"black\" d=\"M172.53,-165.44C181.84,-162.67 191.2,-159.67 200,-156.5 210.53,-152.71 221.75,-147.9 231.72,-143.33\"/>\n<polygon fill=\"black\" stroke=\"black\" points=\"233.25,-146.48 240.82,-139.07 230.28,-140.14 233.25,-146.48\"/>\n</g>\n<!-- 136787594399632 -->\n<g id=\"node2\" class=\"node\">\n<title>136787594399632</title>\n<polygon fill=\"none\" stroke=\"black\" points=\"672,-82.5 672,-118.5 945,-118.5 945,-82.5 672,-82.5\"/>\n<text text-anchor=\"middle\" x=\"725\" y=\"-96.8\" font-family=\"Times,serif\" font-size=\"14.00\">x1*w1 + x2*w2</text>\n<polyline fill=\"none\" stroke=\"black\" points=\"778,-82.5 778,-118.5 \"/>\n<text text-anchor=\"middle\" x=\"820.5\" y=\"-96.8\" font-family=\"Times,serif\" font-size=\"14.00\">data &#45;6.0000</text>\n<polyline fill=\"none\" stroke=\"black\" points=\"863,-82.5 863,-118.5 \"/>\n<text text-anchor=\"middle\" x=\"904\" y=\"-96.8\" font-family=\"Times,serif\" font-size=\"14.00\">grad 0.0000</text>\n</g>\n<!-- 136787594398480+ -->\n<g id=\"node12\" class=\"node\">\n<title>136787594398480+</title>\n<ellipse fill=\"none\" stroke=\"black\" cx=\"1008\" cy=\"-72.5\" rx=\"27\" ry=\"18\"/>\n<text text-anchor=\"middle\" x=\"1008\" y=\"-68.8\" font-family=\"Times,serif\" font-size=\"14.00\">+</text>\n</g>\n<!-- 136787594399632&#45;&gt;136787594398480+ -->\n<g id=\"edge9\" class=\"edge\">\n<title>136787594399632&#45;&gt;136787594398480+</title>\n<path fill=\"none\" stroke=\"black\" d=\"M936.53,-82.49C949.09,-80.71 960.99,-79.02 971.3,-77.56\"/>\n<polygon fill=\"black\" stroke=\"black\" points=\"972.03,-80.99 981.44,-76.12 971.05,-74.06 972.03,-80.99\"/>\n</g>\n<!-- 136787594399632+ -->\n<g id=\"node3\" class=\"node\">\n<title>136787594399632+</title>\n<ellipse fill=\"none\" stroke=\"black\" cx=\"609\" cy=\"-100.5\" rx=\"27\" ry=\"18\"/>\n<text text-anchor=\"middle\" x=\"609\" y=\"-96.8\" font-family=\"Times,serif\" font-size=\"14.00\">+</text>\n</g>\n<!-- 136787594399632+&#45;&gt;136787594399632 -->\n<g id=\"edge1\" class=\"edge\">\n<title>136787594399632+&#45;&gt;136787594399632</title>\n<path fill=\"none\" stroke=\"black\" d=\"M636.23,-100.5C643.7,-100.5 652.41,-100.5 661.87,-100.5\"/>\n<polygon fill=\"black\" stroke=\"black\" points=\"661.98,-104 671.98,-100.5 661.98,-97 661.98,-104\"/>\n</g>\n<!-- 136787594399312 -->\n<g id=\"node4\" class=\"node\">\n<title>136787594399312</title>\n<polygon fill=\"none\" stroke=\"black\" points=\"326,-55.5 326,-91.5 546,-91.5 546,-55.5 326,-55.5\"/>\n<text text-anchor=\"middle\" x=\"352.5\" y=\"-69.8\" font-family=\"Times,serif\" font-size=\"14.00\">x1*w1</text>\n<polyline fill=\"none\" stroke=\"black\" points=\"379,-55.5 379,-91.5 \"/>\n<text text-anchor=\"middle\" x=\"421.5\" y=\"-69.8\" font-family=\"Times,serif\" font-size=\"14.00\">data &#45;6.0000</text>\n<polyline fill=\"none\" stroke=\"black\" points=\"464,-55.5 464,-91.5 \"/>\n<text text-anchor=\"middle\" x=\"505\" y=\"-69.8\" font-family=\"Times,serif\" font-size=\"14.00\">grad 0.0000</text>\n</g>\n<!-- 136787594399312&#45;&gt;136787594399632+ -->\n<g id=\"edge6\" class=\"edge\">\n<title>136787594399312&#45;&gt;136787594399632+</title>\n<path fill=\"none\" stroke=\"black\" d=\"M546.27,-90.75C555.64,-92.23 564.6,-93.65 572.65,-94.92\"/>\n<polygon fill=\"black\" stroke=\"black\" points=\"572.23,-98.4 582.65,-96.5 573.32,-91.48 572.23,-98.4\"/>\n</g>\n<!-- 136787594399312* -->\n<g id=\"node5\" class=\"node\">\n<title>136787594399312*</title>\n<ellipse fill=\"none\" stroke=\"black\" cx=\"263\" cy=\"-73.5\" rx=\"27\" ry=\"18\"/>\n<text text-anchor=\"middle\" x=\"263\" y=\"-69.8\" font-family=\"Times,serif\" font-size=\"14.00\">*</text>\n</g>\n<!-- 136787594399312*&#45;&gt;136787594399312 -->\n<g id=\"edge2\" class=\"edge\">\n<title>136787594399312*&#45;&gt;136787594399312</title>\n<path fill=\"none\" stroke=\"black\" d=\"M290.34,-73.5C297.77,-73.5 306.37,-73.5 315.6,-73.5\"/>\n<polygon fill=\"black\" stroke=\"black\" points=\"315.84,-77 325.84,-73.5 315.84,-70 315.84,-77\"/>\n</g>\n<!-- 136787594399376 -->\n<g id=\"node6\" class=\"node\">\n<title>136787594399376</title>\n<polygon fill=\"none\" stroke=\"black\" points=\"1382,-54.5 1382,-90.5 1567,-90.5 1567,-54.5 1382,-54.5\"/>\n<text text-anchor=\"middle\" x=\"1393.5\" y=\"-68.8\" font-family=\"Times,serif\" font-size=\"14.00\">o</text>\n<polyline fill=\"none\" stroke=\"black\" points=\"1405,-54.5 1405,-90.5 \"/>\n<text text-anchor=\"middle\" x=\"1445\" y=\"-68.8\" font-family=\"Times,serif\" font-size=\"14.00\">data 0.7071</text>\n<polyline fill=\"none\" stroke=\"black\" points=\"1485,-54.5 1485,-90.5 \"/>\n<text text-anchor=\"middle\" x=\"1526\" y=\"-68.8\" font-family=\"Times,serif\" font-size=\"14.00\">grad 0.0000</text>\n</g>\n<!-- 136787594399376tanh -->\n<g id=\"node7\" class=\"node\">\n<title>136787594399376tanh</title>\n<ellipse fill=\"none\" stroke=\"black\" cx=\"1319\" cy=\"-72.5\" rx=\"27\" ry=\"18\"/>\n<text text-anchor=\"middle\" x=\"1319\" y=\"-68.8\" font-family=\"Times,serif\" font-size=\"14.00\">tanh</text>\n</g>\n<!-- 136787594399376tanh&#45;&gt;136787594399376 -->\n<g id=\"edge3\" class=\"edge\">\n<title>136787594399376tanh&#45;&gt;136787594399376</title>\n<path fill=\"none\" stroke=\"black\" d=\"M1346.04,-72.5C1353.58,-72.5 1362.3,-72.5 1371.57,-72.5\"/>\n<polygon fill=\"black\" stroke=\"black\" points=\"1371.81,-76 1381.81,-72.5 1371.81,-69 1371.81,-76\"/>\n</g>\n<!-- 136787594399440 -->\n<g id=\"node8\" class=\"node\">\n<title>136787594399440</title>\n<polygon fill=\"none\" stroke=\"black\" points=\"328.5,-110.5 328.5,-146.5 543.5,-146.5 543.5,-110.5 328.5,-110.5\"/>\n<text text-anchor=\"middle\" x=\"355\" y=\"-124.8\" font-family=\"Times,serif\" font-size=\"14.00\">x2*w2</text>\n<polyline fill=\"none\" stroke=\"black\" points=\"381.5,-110.5 381.5,-146.5 \"/>\n<text text-anchor=\"middle\" x=\"421.5\" y=\"-124.8\" font-family=\"Times,serif\" font-size=\"14.00\">data 0.0000</text>\n<polyline fill=\"none\" stroke=\"black\" points=\"461.5,-110.5 461.5,-146.5 \"/>\n<text text-anchor=\"middle\" x=\"502.5\" y=\"-124.8\" font-family=\"Times,serif\" font-size=\"14.00\">grad 0.0000</text>\n</g>\n<!-- 136787594399440&#45;&gt;136787594399632+ -->\n<g id=\"edge7\" class=\"edge\">\n<title>136787594399440&#45;&gt;136787594399632+</title>\n<path fill=\"none\" stroke=\"black\" d=\"M543.84,-111.01C554.01,-109.34 563.76,-107.74 572.44,-106.32\"/>\n<polygon fill=\"black\" stroke=\"black\" points=\"573.17,-109.75 582.47,-104.68 572.04,-102.84 573.17,-109.75\"/>\n</g>\n<!-- 136787594399440*&#45;&gt;136787594399440 -->\n<g id=\"edge4\" class=\"edge\">\n<title>136787594399440*&#45;&gt;136787594399440</title>\n<path fill=\"none\" stroke=\"black\" d=\"M290.34,-128.5C298.51,-128.5 308.08,-128.5 318.36,-128.5\"/>\n<polygon fill=\"black\" stroke=\"black\" points=\"318.39,-132 328.39,-128.5 318.39,-125 318.39,-132\"/>\n</g>\n<!-- 136787594398416 -->\n<g id=\"node10\" class=\"node\">\n<title>136787594398416</title>\n<polygon fill=\"none\" stroke=\"black\" points=\"4,-55.5 4,-91.5 196,-91.5 196,-55.5 4,-55.5\"/>\n<text text-anchor=\"middle\" x=\"19\" y=\"-69.8\" font-family=\"Times,serif\" font-size=\"14.00\">x1</text>\n<polyline fill=\"none\" stroke=\"black\" points=\"34,-55.5 34,-91.5 \"/>\n<text text-anchor=\"middle\" x=\"74\" y=\"-69.8\" font-family=\"Times,serif\" font-size=\"14.00\">data 2.0000</text>\n<polyline fill=\"none\" stroke=\"black\" points=\"114,-55.5 114,-91.5 \"/>\n<text text-anchor=\"middle\" x=\"155\" y=\"-69.8\" font-family=\"Times,serif\" font-size=\"14.00\">grad 0.0000</text>\n</g>\n<!-- 136787594398416&#45;&gt;136787594399312* -->\n<g id=\"edge11\" class=\"edge\">\n<title>136787594398416&#45;&gt;136787594399312*</title>\n<path fill=\"none\" stroke=\"black\" d=\"M196.05,-73.5C206.52,-73.5 216.65,-73.5 225.71,-73.5\"/>\n<polygon fill=\"black\" stroke=\"black\" points=\"225.79,-77 235.79,-73.5 225.79,-70 225.79,-77\"/>\n</g>\n<!-- 136787594398480 -->\n<g id=\"node11\" class=\"node\">\n<title>136787594398480</title>\n<polygon fill=\"none\" stroke=\"black\" points=\"1071,-54.5 1071,-90.5 1256,-90.5 1256,-54.5 1071,-54.5\"/>\n<text text-anchor=\"middle\" x=\"1082.5\" y=\"-68.8\" font-family=\"Times,serif\" font-size=\"14.00\">n</text>\n<polyline fill=\"none\" stroke=\"black\" points=\"1094,-54.5 1094,-90.5 \"/>\n<text text-anchor=\"middle\" x=\"1134\" y=\"-68.8\" font-family=\"Times,serif\" font-size=\"14.00\">data 0.8814</text>\n<polyline fill=\"none\" stroke=\"black\" points=\"1174,-54.5 1174,-90.5 \"/>\n<text text-anchor=\"middle\" x=\"1215\" y=\"-68.8\" font-family=\"Times,serif\" font-size=\"14.00\">grad 0.0000</text>\n</g>\n<!-- 136787594398480&#45;&gt;136787594399376tanh -->\n<g id=\"edge8\" class=\"edge\">\n<title>136787594398480&#45;&gt;136787594399376tanh</title>\n<path fill=\"none\" stroke=\"black\" d=\"M1256.01,-72.5C1265.01,-72.5 1273.74,-72.5 1281.66,-72.5\"/>\n<polygon fill=\"black\" stroke=\"black\" points=\"1281.91,-76 1291.91,-72.5 1281.91,-69 1281.91,-76\"/>\n</g>\n<!-- 136787594398480+&#45;&gt;136787594398480 -->\n<g id=\"edge5\" class=\"edge\">\n<title>136787594398480+&#45;&gt;136787594398480</title>\n<path fill=\"none\" stroke=\"black\" d=\"M1035.04,-72.5C1042.58,-72.5 1051.3,-72.5 1060.57,-72.5\"/>\n<polygon fill=\"black\" stroke=\"black\" points=\"1060.81,-76 1070.81,-72.5 1060.81,-69 1060.81,-76\"/>\n</g>\n<!-- 136787594398544 -->\n<g id=\"node13\" class=\"node\">\n<title>136787594398544</title>\n<polygon fill=\"none\" stroke=\"black\" points=\"0,-0.5 0,-36.5 200,-36.5 200,-0.5 0,-0.5\"/>\n<text text-anchor=\"middle\" x=\"16.5\" y=\"-14.8\" font-family=\"Times,serif\" font-size=\"14.00\">w1</text>\n<polyline fill=\"none\" stroke=\"black\" points=\"33,-0.5 33,-36.5 \"/>\n<text text-anchor=\"middle\" x=\"75.5\" y=\"-14.8\" font-family=\"Times,serif\" font-size=\"14.00\">data &#45;3.0000</text>\n<polyline fill=\"none\" stroke=\"black\" points=\"118,-0.5 118,-36.5 \"/>\n<text text-anchor=\"middle\" x=\"159\" y=\"-14.8\" font-family=\"Times,serif\" font-size=\"14.00\">grad 0.0000</text>\n</g>\n<!-- 136787594398544&#45;&gt;136787594399312* -->\n<g id=\"edge14\" class=\"edge\">\n<title>136787594398544&#45;&gt;136787594399312*</title>\n<path fill=\"none\" stroke=\"black\" d=\"M169.28,-36.5C179.65,-39.61 190.16,-42.98 200,-46.5 210.28,-50.17 221.28,-54.74 231.11,-59.07\"/>\n<polygon fill=\"black\" stroke=\"black\" points=\"229.93,-62.37 240.48,-63.27 232.79,-55.99 229.93,-62.37\"/>\n</g>\n<!-- 136787594399120 -->\n<g id=\"node14\" class=\"node\">\n<title>136787594399120</title>\n<polygon fill=\"none\" stroke=\"black\" points=\"4,-110.5 4,-146.5 196,-146.5 196,-110.5 4,-110.5\"/>\n<text text-anchor=\"middle\" x=\"19\" y=\"-124.8\" font-family=\"Times,serif\" font-size=\"14.00\">x2</text>\n<polyline fill=\"none\" stroke=\"black\" points=\"34,-110.5 34,-146.5 \"/>\n<text text-anchor=\"middle\" x=\"74\" y=\"-124.8\" font-family=\"Times,serif\" font-size=\"14.00\">data 0.0000</text>\n<polyline fill=\"none\" stroke=\"black\" points=\"114,-110.5 114,-146.5 \"/>\n<text text-anchor=\"middle\" x=\"155\" y=\"-124.8\" font-family=\"Times,serif\" font-size=\"14.00\">grad 0.0000</text>\n</g>\n<!-- 136787594399120&#45;&gt;136787594399440* -->\n<g id=\"edge13\" class=\"edge\">\n<title>136787594399120&#45;&gt;136787594399440*</title>\n<path fill=\"none\" stroke=\"black\" d=\"M196.05,-128.5C206.52,-128.5 216.65,-128.5 225.71,-128.5\"/>\n<polygon fill=\"black\" stroke=\"black\" points=\"225.79,-132 235.79,-128.5 225.79,-125 225.79,-132\"/>\n</g>\n<!-- 136787594399184 -->\n<g id=\"node15\" class=\"node\">\n<title>136787594399184</title>\n<polygon fill=\"none\" stroke=\"black\" points=\"716,-27.5 716,-63.5 901,-63.5 901,-27.5 716,-27.5\"/>\n<text text-anchor=\"middle\" x=\"727.5\" y=\"-41.8\" font-family=\"Times,serif\" font-size=\"14.00\">b</text>\n<polyline fill=\"none\" stroke=\"black\" points=\"739,-27.5 739,-63.5 \"/>\n<text text-anchor=\"middle\" x=\"779\" y=\"-41.8\" font-family=\"Times,serif\" font-size=\"14.00\">data 6.8814</text>\n<polyline fill=\"none\" stroke=\"black\" points=\"819,-27.5 819,-63.5 \"/>\n<text text-anchor=\"middle\" x=\"860\" y=\"-41.8\" font-family=\"Times,serif\" font-size=\"14.00\">grad 0.0000</text>\n</g>\n<!-- 136787594399184&#45;&gt;136787594398480+ -->\n<g id=\"edge12\" class=\"edge\">\n<title>136787594399184&#45;&gt;136787594398480+</title>\n<path fill=\"none\" stroke=\"black\" d=\"M901.02,-58.01C926,-61.43 951.59,-64.93 971.37,-67.63\"/>\n<polygon fill=\"black\" stroke=\"black\" points=\"971.05,-71.12 981.43,-69.01 972,-64.18 971.05,-71.12\"/>\n</g>\n</g>\n</svg>\n",
            "text/plain": [
              "<graphviz.graphs.Digraph at 0x7c6857f94e10>"
            ]
          },
          "metadata": {},
          "execution_count": 418
        }
      ]
    },
    {
      "cell_type": "code",
      "source": [
        "o.backward()"
      ],
      "metadata": {
        "id": "WMEgOim1dan3"
      },
      "execution_count": 419,
      "outputs": []
    },
    {
      "cell_type": "code",
      "source": [
        "draw_dot(o)"
      ],
      "metadata": {
        "id": "CzROw90MdalD",
        "colab": {
          "base_uri": "https://localhost:8080/",
          "height": 321
        },
        "outputId": "bb8184eb-c8d9-4f74-cfa7-6c18398c07ba"
      },
      "execution_count": 422,
      "outputs": [
        {
          "output_type": "execute_result",
          "data": {
            "image/svg+xml": "<?xml version=\"1.0\" encoding=\"UTF-8\" standalone=\"no\"?>\n<!DOCTYPE svg PUBLIC \"-//W3C//DTD SVG 1.1//EN\"\n \"http://www.w3.org/Graphics/SVG/1.1/DTD/svg11.dtd\">\n<!-- Generated by graphviz version 2.43.0 (0)\n -->\n<!-- Title: %3 Pages: 1 -->\n<svg width=\"1575pt\" height=\"210pt\"\n viewBox=\"0.00 0.00 1575.00 210.00\" xmlns=\"http://www.w3.org/2000/svg\" xmlns:xlink=\"http://www.w3.org/1999/xlink\">\n<g id=\"graph0\" class=\"graph\" transform=\"scale(1 1) rotate(0) translate(4 206)\">\n<title>%3</title>\n<polygon fill=\"white\" stroke=\"transparent\" points=\"-4,4 -4,-206 1571,-206 1571,4 -4,4\"/>\n<!-- 136787594398736 -->\n<g id=\"node1\" class=\"node\">\n<title>136787594398736</title>\n<polygon fill=\"none\" stroke=\"black\" points=\"2.5,-165.5 2.5,-201.5 197.5,-201.5 197.5,-165.5 2.5,-165.5\"/>\n<text text-anchor=\"middle\" x=\"19\" y=\"-179.8\" font-family=\"Times,serif\" font-size=\"14.00\">w2</text>\n<polyline fill=\"none\" stroke=\"black\" points=\"35.5,-165.5 35.5,-201.5 \"/>\n<text text-anchor=\"middle\" x=\"75.5\" y=\"-179.8\" font-family=\"Times,serif\" font-size=\"14.00\">data 1.0000</text>\n<polyline fill=\"none\" stroke=\"black\" points=\"115.5,-165.5 115.5,-201.5 \"/>\n<text text-anchor=\"middle\" x=\"156.5\" y=\"-179.8\" font-family=\"Times,serif\" font-size=\"14.00\">grad 0.0000</text>\n</g>\n<!-- 136787594399440* -->\n<g id=\"node9\" class=\"node\">\n<title>136787594399440*</title>\n<ellipse fill=\"none\" stroke=\"black\" cx=\"263\" cy=\"-128.5\" rx=\"27\" ry=\"18\"/>\n<text text-anchor=\"middle\" x=\"263\" y=\"-124.8\" font-family=\"Times,serif\" font-size=\"14.00\">*</text>\n</g>\n<!-- 136787594398736&#45;&gt;136787594399440* -->\n<g id=\"edge10\" class=\"edge\">\n<title>136787594398736&#45;&gt;136787594399440*</title>\n<path fill=\"none\" stroke=\"black\" d=\"M172.53,-165.44C181.84,-162.67 191.2,-159.67 200,-156.5 210.53,-152.71 221.75,-147.9 231.72,-143.33\"/>\n<polygon fill=\"black\" stroke=\"black\" points=\"233.25,-146.48 240.82,-139.07 230.28,-140.14 233.25,-146.48\"/>\n</g>\n<!-- 136787594399632 -->\n<g id=\"node2\" class=\"node\">\n<title>136787594399632</title>\n<polygon fill=\"none\" stroke=\"black\" points=\"672,-82.5 672,-118.5 945,-118.5 945,-82.5 672,-82.5\"/>\n<text text-anchor=\"middle\" x=\"725\" y=\"-96.8\" font-family=\"Times,serif\" font-size=\"14.00\">x1*w1 + x2*w2</text>\n<polyline fill=\"none\" stroke=\"black\" points=\"778,-82.5 778,-118.5 \"/>\n<text text-anchor=\"middle\" x=\"820.5\" y=\"-96.8\" font-family=\"Times,serif\" font-size=\"14.00\">data &#45;6.0000</text>\n<polyline fill=\"none\" stroke=\"black\" points=\"863,-82.5 863,-118.5 \"/>\n<text text-anchor=\"middle\" x=\"904\" y=\"-96.8\" font-family=\"Times,serif\" font-size=\"14.00\">grad 0.5000</text>\n</g>\n<!-- 136787594398480+ -->\n<g id=\"node12\" class=\"node\">\n<title>136787594398480+</title>\n<ellipse fill=\"none\" stroke=\"black\" cx=\"1008\" cy=\"-72.5\" rx=\"27\" ry=\"18\"/>\n<text text-anchor=\"middle\" x=\"1008\" y=\"-68.8\" font-family=\"Times,serif\" font-size=\"14.00\">+</text>\n</g>\n<!-- 136787594399632&#45;&gt;136787594398480+ -->\n<g id=\"edge9\" class=\"edge\">\n<title>136787594399632&#45;&gt;136787594398480+</title>\n<path fill=\"none\" stroke=\"black\" d=\"M936.53,-82.49C949.09,-80.71 960.99,-79.02 971.3,-77.56\"/>\n<polygon fill=\"black\" stroke=\"black\" points=\"972.03,-80.99 981.44,-76.12 971.05,-74.06 972.03,-80.99\"/>\n</g>\n<!-- 136787594399632+ -->\n<g id=\"node3\" class=\"node\">\n<title>136787594399632+</title>\n<ellipse fill=\"none\" stroke=\"black\" cx=\"609\" cy=\"-100.5\" rx=\"27\" ry=\"18\"/>\n<text text-anchor=\"middle\" x=\"609\" y=\"-96.8\" font-family=\"Times,serif\" font-size=\"14.00\">+</text>\n</g>\n<!-- 136787594399632+&#45;&gt;136787594399632 -->\n<g id=\"edge1\" class=\"edge\">\n<title>136787594399632+&#45;&gt;136787594399632</title>\n<path fill=\"none\" stroke=\"black\" d=\"M636.23,-100.5C643.7,-100.5 652.41,-100.5 661.87,-100.5\"/>\n<polygon fill=\"black\" stroke=\"black\" points=\"661.98,-104 671.98,-100.5 661.98,-97 661.98,-104\"/>\n</g>\n<!-- 136787594399312 -->\n<g id=\"node4\" class=\"node\">\n<title>136787594399312</title>\n<polygon fill=\"none\" stroke=\"black\" points=\"326,-55.5 326,-91.5 546,-91.5 546,-55.5 326,-55.5\"/>\n<text text-anchor=\"middle\" x=\"352.5\" y=\"-69.8\" font-family=\"Times,serif\" font-size=\"14.00\">x1*w1</text>\n<polyline fill=\"none\" stroke=\"black\" points=\"379,-55.5 379,-91.5 \"/>\n<text text-anchor=\"middle\" x=\"421.5\" y=\"-69.8\" font-family=\"Times,serif\" font-size=\"14.00\">data &#45;6.0000</text>\n<polyline fill=\"none\" stroke=\"black\" points=\"464,-55.5 464,-91.5 \"/>\n<text text-anchor=\"middle\" x=\"505\" y=\"-69.8\" font-family=\"Times,serif\" font-size=\"14.00\">grad 0.5000</text>\n</g>\n<!-- 136787594399312&#45;&gt;136787594399632+ -->\n<g id=\"edge6\" class=\"edge\">\n<title>136787594399312&#45;&gt;136787594399632+</title>\n<path fill=\"none\" stroke=\"black\" d=\"M546.27,-90.75C555.64,-92.23 564.6,-93.65 572.65,-94.92\"/>\n<polygon fill=\"black\" stroke=\"black\" points=\"572.23,-98.4 582.65,-96.5 573.32,-91.48 572.23,-98.4\"/>\n</g>\n<!-- 136787594399312* -->\n<g id=\"node5\" class=\"node\">\n<title>136787594399312*</title>\n<ellipse fill=\"none\" stroke=\"black\" cx=\"263\" cy=\"-73.5\" rx=\"27\" ry=\"18\"/>\n<text text-anchor=\"middle\" x=\"263\" y=\"-69.8\" font-family=\"Times,serif\" font-size=\"14.00\">*</text>\n</g>\n<!-- 136787594399312*&#45;&gt;136787594399312 -->\n<g id=\"edge2\" class=\"edge\">\n<title>136787594399312*&#45;&gt;136787594399312</title>\n<path fill=\"none\" stroke=\"black\" d=\"M290.34,-73.5C297.77,-73.5 306.37,-73.5 315.6,-73.5\"/>\n<polygon fill=\"black\" stroke=\"black\" points=\"315.84,-77 325.84,-73.5 315.84,-70 315.84,-77\"/>\n</g>\n<!-- 136787594399376 -->\n<g id=\"node6\" class=\"node\">\n<title>136787594399376</title>\n<polygon fill=\"none\" stroke=\"black\" points=\"1382,-54.5 1382,-90.5 1567,-90.5 1567,-54.5 1382,-54.5\"/>\n<text text-anchor=\"middle\" x=\"1393.5\" y=\"-68.8\" font-family=\"Times,serif\" font-size=\"14.00\">o</text>\n<polyline fill=\"none\" stroke=\"black\" points=\"1405,-54.5 1405,-90.5 \"/>\n<text text-anchor=\"middle\" x=\"1445\" y=\"-68.8\" font-family=\"Times,serif\" font-size=\"14.00\">data 0.7071</text>\n<polyline fill=\"none\" stroke=\"black\" points=\"1485,-54.5 1485,-90.5 \"/>\n<text text-anchor=\"middle\" x=\"1526\" y=\"-68.8\" font-family=\"Times,serif\" font-size=\"14.00\">grad 1.0000</text>\n</g>\n<!-- 136787594399376tanh -->\n<g id=\"node7\" class=\"node\">\n<title>136787594399376tanh</title>\n<ellipse fill=\"none\" stroke=\"black\" cx=\"1319\" cy=\"-72.5\" rx=\"27\" ry=\"18\"/>\n<text text-anchor=\"middle\" x=\"1319\" y=\"-68.8\" font-family=\"Times,serif\" font-size=\"14.00\">tanh</text>\n</g>\n<!-- 136787594399376tanh&#45;&gt;136787594399376 -->\n<g id=\"edge3\" class=\"edge\">\n<title>136787594399376tanh&#45;&gt;136787594399376</title>\n<path fill=\"none\" stroke=\"black\" d=\"M1346.04,-72.5C1353.58,-72.5 1362.3,-72.5 1371.57,-72.5\"/>\n<polygon fill=\"black\" stroke=\"black\" points=\"1371.81,-76 1381.81,-72.5 1371.81,-69 1371.81,-76\"/>\n</g>\n<!-- 136787594399440 -->\n<g id=\"node8\" class=\"node\">\n<title>136787594399440</title>\n<polygon fill=\"none\" stroke=\"black\" points=\"328.5,-110.5 328.5,-146.5 543.5,-146.5 543.5,-110.5 328.5,-110.5\"/>\n<text text-anchor=\"middle\" x=\"355\" y=\"-124.8\" font-family=\"Times,serif\" font-size=\"14.00\">x2*w2</text>\n<polyline fill=\"none\" stroke=\"black\" points=\"381.5,-110.5 381.5,-146.5 \"/>\n<text text-anchor=\"middle\" x=\"421.5\" y=\"-124.8\" font-family=\"Times,serif\" font-size=\"14.00\">data 0.0000</text>\n<polyline fill=\"none\" stroke=\"black\" points=\"461.5,-110.5 461.5,-146.5 \"/>\n<text text-anchor=\"middle\" x=\"502.5\" y=\"-124.8\" font-family=\"Times,serif\" font-size=\"14.00\">grad 0.5000</text>\n</g>\n<!-- 136787594399440&#45;&gt;136787594399632+ -->\n<g id=\"edge7\" class=\"edge\">\n<title>136787594399440&#45;&gt;136787594399632+</title>\n<path fill=\"none\" stroke=\"black\" d=\"M543.84,-111.01C554.01,-109.34 563.76,-107.74 572.44,-106.32\"/>\n<polygon fill=\"black\" stroke=\"black\" points=\"573.17,-109.75 582.47,-104.68 572.04,-102.84 573.17,-109.75\"/>\n</g>\n<!-- 136787594399440*&#45;&gt;136787594399440 -->\n<g id=\"edge4\" class=\"edge\">\n<title>136787594399440*&#45;&gt;136787594399440</title>\n<path fill=\"none\" stroke=\"black\" d=\"M290.34,-128.5C298.51,-128.5 308.08,-128.5 318.36,-128.5\"/>\n<polygon fill=\"black\" stroke=\"black\" points=\"318.39,-132 328.39,-128.5 318.39,-125 318.39,-132\"/>\n</g>\n<!-- 136787594398416 -->\n<g id=\"node10\" class=\"node\">\n<title>136787594398416</title>\n<polygon fill=\"none\" stroke=\"black\" points=\"2,-55.5 2,-91.5 198,-91.5 198,-55.5 2,-55.5\"/>\n<text text-anchor=\"middle\" x=\"17\" y=\"-69.8\" font-family=\"Times,serif\" font-size=\"14.00\">x1</text>\n<polyline fill=\"none\" stroke=\"black\" points=\"32,-55.5 32,-91.5 \"/>\n<text text-anchor=\"middle\" x=\"72\" y=\"-69.8\" font-family=\"Times,serif\" font-size=\"14.00\">data 2.0000</text>\n<polyline fill=\"none\" stroke=\"black\" points=\"112,-55.5 112,-91.5 \"/>\n<text text-anchor=\"middle\" x=\"155\" y=\"-69.8\" font-family=\"Times,serif\" font-size=\"14.00\">grad &#45;1.5000</text>\n</g>\n<!-- 136787594398416&#45;&gt;136787594399312* -->\n<g id=\"edge11\" class=\"edge\">\n<title>136787594398416&#45;&gt;136787594399312*</title>\n<path fill=\"none\" stroke=\"black\" d=\"M198.37,-73.5C208.05,-73.5 217.4,-73.5 225.8,-73.5\"/>\n<polygon fill=\"black\" stroke=\"black\" points=\"225.91,-77 235.91,-73.5 225.91,-70 225.91,-77\"/>\n</g>\n<!-- 136787594398480 -->\n<g id=\"node11\" class=\"node\">\n<title>136787594398480</title>\n<polygon fill=\"none\" stroke=\"black\" points=\"1071,-54.5 1071,-90.5 1256,-90.5 1256,-54.5 1071,-54.5\"/>\n<text text-anchor=\"middle\" x=\"1082.5\" y=\"-68.8\" font-family=\"Times,serif\" font-size=\"14.00\">n</text>\n<polyline fill=\"none\" stroke=\"black\" points=\"1094,-54.5 1094,-90.5 \"/>\n<text text-anchor=\"middle\" x=\"1134\" y=\"-68.8\" font-family=\"Times,serif\" font-size=\"14.00\">data 0.8814</text>\n<polyline fill=\"none\" stroke=\"black\" points=\"1174,-54.5 1174,-90.5 \"/>\n<text text-anchor=\"middle\" x=\"1215\" y=\"-68.8\" font-family=\"Times,serif\" font-size=\"14.00\">grad 0.5000</text>\n</g>\n<!-- 136787594398480&#45;&gt;136787594399376tanh -->\n<g id=\"edge8\" class=\"edge\">\n<title>136787594398480&#45;&gt;136787594399376tanh</title>\n<path fill=\"none\" stroke=\"black\" d=\"M1256.01,-72.5C1265.01,-72.5 1273.74,-72.5 1281.66,-72.5\"/>\n<polygon fill=\"black\" stroke=\"black\" points=\"1281.91,-76 1291.91,-72.5 1281.91,-69 1281.91,-76\"/>\n</g>\n<!-- 136787594398480+&#45;&gt;136787594398480 -->\n<g id=\"edge5\" class=\"edge\">\n<title>136787594398480+&#45;&gt;136787594398480</title>\n<path fill=\"none\" stroke=\"black\" d=\"M1035.04,-72.5C1042.58,-72.5 1051.3,-72.5 1060.57,-72.5\"/>\n<polygon fill=\"black\" stroke=\"black\" points=\"1060.81,-76 1070.81,-72.5 1060.81,-69 1060.81,-76\"/>\n</g>\n<!-- 136787594398544 -->\n<g id=\"node13\" class=\"node\">\n<title>136787594398544</title>\n<polygon fill=\"none\" stroke=\"black\" points=\"0,-0.5 0,-36.5 200,-36.5 200,-0.5 0,-0.5\"/>\n<text text-anchor=\"middle\" x=\"16.5\" y=\"-14.8\" font-family=\"Times,serif\" font-size=\"14.00\">w1</text>\n<polyline fill=\"none\" stroke=\"black\" points=\"33,-0.5 33,-36.5 \"/>\n<text text-anchor=\"middle\" x=\"75.5\" y=\"-14.8\" font-family=\"Times,serif\" font-size=\"14.00\">data &#45;3.0000</text>\n<polyline fill=\"none\" stroke=\"black\" points=\"118,-0.5 118,-36.5 \"/>\n<text text-anchor=\"middle\" x=\"159\" y=\"-14.8\" font-family=\"Times,serif\" font-size=\"14.00\">grad 1.0000</text>\n</g>\n<!-- 136787594398544&#45;&gt;136787594399312* -->\n<g id=\"edge14\" class=\"edge\">\n<title>136787594398544&#45;&gt;136787594399312*</title>\n<path fill=\"none\" stroke=\"black\" d=\"M169.28,-36.5C179.65,-39.61 190.16,-42.98 200,-46.5 210.28,-50.17 221.28,-54.74 231.11,-59.07\"/>\n<polygon fill=\"black\" stroke=\"black\" points=\"229.93,-62.37 240.48,-63.27 232.79,-55.99 229.93,-62.37\"/>\n</g>\n<!-- 136787594399120 -->\n<g id=\"node14\" class=\"node\">\n<title>136787594399120</title>\n<polygon fill=\"none\" stroke=\"black\" points=\"4,-110.5 4,-146.5 196,-146.5 196,-110.5 4,-110.5\"/>\n<text text-anchor=\"middle\" x=\"19\" y=\"-124.8\" font-family=\"Times,serif\" font-size=\"14.00\">x2</text>\n<polyline fill=\"none\" stroke=\"black\" points=\"34,-110.5 34,-146.5 \"/>\n<text text-anchor=\"middle\" x=\"74\" y=\"-124.8\" font-family=\"Times,serif\" font-size=\"14.00\">data 0.0000</text>\n<polyline fill=\"none\" stroke=\"black\" points=\"114,-110.5 114,-146.5 \"/>\n<text text-anchor=\"middle\" x=\"155\" y=\"-124.8\" font-family=\"Times,serif\" font-size=\"14.00\">grad 0.5000</text>\n</g>\n<!-- 136787594399120&#45;&gt;136787594399440* -->\n<g id=\"edge13\" class=\"edge\">\n<title>136787594399120&#45;&gt;136787594399440*</title>\n<path fill=\"none\" stroke=\"black\" d=\"M196.05,-128.5C206.52,-128.5 216.65,-128.5 225.71,-128.5\"/>\n<polygon fill=\"black\" stroke=\"black\" points=\"225.79,-132 235.79,-128.5 225.79,-125 225.79,-132\"/>\n</g>\n<!-- 136787594399184 -->\n<g id=\"node15\" class=\"node\">\n<title>136787594399184</title>\n<polygon fill=\"none\" stroke=\"black\" points=\"716,-27.5 716,-63.5 901,-63.5 901,-27.5 716,-27.5\"/>\n<text text-anchor=\"middle\" x=\"727.5\" y=\"-41.8\" font-family=\"Times,serif\" font-size=\"14.00\">b</text>\n<polyline fill=\"none\" stroke=\"black\" points=\"739,-27.5 739,-63.5 \"/>\n<text text-anchor=\"middle\" x=\"779\" y=\"-41.8\" font-family=\"Times,serif\" font-size=\"14.00\">data 6.8814</text>\n<polyline fill=\"none\" stroke=\"black\" points=\"819,-27.5 819,-63.5 \"/>\n<text text-anchor=\"middle\" x=\"860\" y=\"-41.8\" font-family=\"Times,serif\" font-size=\"14.00\">grad 0.5000</text>\n</g>\n<!-- 136787594399184&#45;&gt;136787594398480+ -->\n<g id=\"edge12\" class=\"edge\">\n<title>136787594399184&#45;&gt;136787594398480+</title>\n<path fill=\"none\" stroke=\"black\" d=\"M901.02,-58.01C926,-61.43 951.59,-64.93 971.37,-67.63\"/>\n<polygon fill=\"black\" stroke=\"black\" points=\"971.05,-71.12 981.43,-69.01 972,-64.18 971.05,-71.12\"/>\n</g>\n</g>\n</svg>\n",
            "text/plain": [
              "<graphviz.graphs.Digraph at 0x7c6857f41dd0>"
            ]
          },
          "metadata": {},
          "execution_count": 422
        }
      ]
    },
    {
      "cell_type": "markdown",
      "source": [
        "# verified using backward function\n"
      ],
      "metadata": {
        "id": "G5MpWEWBzJGx"
      }
    },
    {
      "cell_type": "code",
      "source": [],
      "metadata": {
        "id": "KJczVv10h-KS"
      },
      "execution_count": 419,
      "outputs": []
    },
    {
      "cell_type": "code",
      "source": [],
      "metadata": {
        "id": "iWo8ROVTh-Hm"
      },
      "execution_count": 419,
      "outputs": []
    },
    {
      "cell_type": "code",
      "source": [],
      "metadata": {
        "id": "XK-g1Alyh-Et"
      },
      "execution_count": 419,
      "outputs": []
    },
    {
      "cell_type": "code",
      "source": [],
      "metadata": {
        "id": "OKawz-ZDh-Bo"
      },
      "execution_count": 419,
      "outputs": []
    },
    {
      "cell_type": "code",
      "source": [
        "import torch"
      ],
      "metadata": {
        "id": "-n5CQHJWYmLi"
      },
      "execution_count": 420,
      "outputs": []
    },
    {
      "cell_type": "code",
      "source": [
        "a=torch.tensor(1)\n",
        "a"
      ],
      "metadata": {
        "colab": {
          "base_uri": "https://localhost:8080/"
        },
        "id": "70tYQTk5Y0I-",
        "outputId": "16b4c6cd-3e1d-4720-9496-36e1e1ce5148"
      },
      "execution_count": 421,
      "outputs": [
        {
          "output_type": "execute_result",
          "data": {
            "text/plain": [
              "tensor(1)"
            ]
          },
          "metadata": {},
          "execution_count": 421
        }
      ]
    },
    {
      "cell_type": "code",
      "source": [],
      "metadata": {
        "id": "7vDbmEhiZANC"
      },
      "execution_count": 421,
      "outputs": []
    }
  ]
}