{
  "nbformat": 4,
  "nbformat_minor": 0,
  "metadata": {
    "colab": {
      "provenance": [],
      "authorship_tag": "ABX9TyMvUwLq5G2pTtgTmxlS09WA",
      "include_colab_link": true
    },
    "kernelspec": {
      "name": "python3",
      "display_name": "Python 3"
    },
    "language_info": {
      "name": "python"
    }
  },
  "cells": [
    {
      "cell_type": "markdown",
      "metadata": {
        "id": "view-in-github",
        "colab_type": "text"
      },
      "source": [
        "<a href=\"https://colab.research.google.com/github/UjjwalRana12/ranking-grad/blob/main/Rank_Tensor.ipynb\" target=\"_parent\"><img src=\"https://colab.research.google.com/assets/colab-badge.svg\" alt=\"Open In Colab\"/></a>"
      ]
    },
    {
      "cell_type": "code",
      "source": [
        "import math"
      ],
      "metadata": {
        "id": "2c5725h8h9Md"
      },
      "execution_count": 557,
      "outputs": []
    },
    {
      "cell_type": "code",
      "source": [
        "class Rank:\n",
        "\n",
        "  def __init__(self, data, _children=(), _op='', label=''):\n",
        "    self.data = data\n",
        "    self.grad = 0.0\n",
        "    self._backward = lambda: None\n",
        "    self._children = set(_children)\n",
        "    self._op = _op\n",
        "    self.label = label\n",
        "\n",
        "  def __repr__(self):\n",
        "    return f\"Rank(data={self.data})\"\n",
        "\n",
        "  def __add__(self, other):\n",
        "    other = other if isinstance(other, Rank) else Rank(other)\n",
        "    out = Rank(self.data + other.data, (self, other), '+')\n",
        "\n",
        "    def _backward():\n",
        "      self.grad += 1.0 * out.grad\n",
        "      other.grad += 1.0 * out.grad\n",
        "    out._backward = _backward\n",
        "\n",
        "    return out\n",
        "\n",
        "  def __mul__(self, other):\n",
        "    other = other if isinstance(other, Rank) else Rank(other)\n",
        "    out = Rank(self.data * other.data, (self, other), '*')\n",
        "\n",
        "    def _backward():\n",
        "      self.grad += other.data * out.grad\n",
        "      other.grad += self.data * out.grad\n",
        "    out._backward = _backward\n",
        "\n",
        "    return out\n",
        "\n",
        "  def __pow__(self, other):\n",
        "    assert isinstance(other, (int, float)), \" int and float powers only\"\n",
        "    out = Rank(self.data**other, (self,), f'**{other}')\n",
        "\n",
        "    def _backward():\n",
        "        self.grad += other * (self.data ** (other - 1)) * out.grad\n",
        "    out._backward = _backward\n",
        "\n",
        "    return out\n",
        "\n",
        "  def __rmul__(self, other):\n",
        "    return self * other\n",
        "\n",
        "  def __truediv__(self, other):\n",
        "    return self * other**-1\n",
        "\n",
        "  def __neg__(self):\n",
        "    return self * -1\n",
        "\n",
        "  def __sub__(self, other):\n",
        "    return self + (-other)\n",
        "\n",
        "  def __radd__(self, other):\n",
        "    return self + other\n",
        "\n",
        "  def tanh(self):\n",
        "    x = self.data\n",
        "    t = (math.exp(2*x) - 1)/(math.exp(2*x) + 1)\n",
        "    out = Rank(t, (self, ), 'tanh')\n",
        "\n",
        "    def _backward():\n",
        "      self.grad += (1 - t**2) * out.grad\n",
        "    out._backward = _backward\n",
        "\n",
        "    return out\n",
        "\n",
        "  def exp(self):\n",
        "    x = self.data\n",
        "    out = Rank(math.exp(x), (self, ), 'exp')\n",
        "\n",
        "    def _backward():\n",
        "      self.grad += out.data * out.grad\n",
        "    out._backward = _backward\n",
        "\n",
        "    return out\n",
        "\n",
        "\n",
        "  def backward(self):\n",
        "\n",
        "    topo = []\n",
        "    visited = set()\n",
        "    def build_topo(v):\n",
        "      if v not in visited:\n",
        "        visited.add(v)\n",
        "        for child in v._children:\n",
        "          build_topo(child)\n",
        "        topo.append(v)\n",
        "    build_topo(self)\n",
        "\n",
        "    self.grad = 1.0\n",
        "    for node in reversed(topo):\n",
        "      node._backward()"
      ],
      "metadata": {
        "id": "RP3Gal3xXJVU"
      },
      "execution_count": 558,
      "outputs": []
    },
    {
      "cell_type": "code",
      "source": [],
      "metadata": {
        "id": "s1DFOmxCh8jR"
      },
      "execution_count": 558,
      "outputs": []
    },
    {
      "cell_type": "code",
      "source": [
        "# a=Rank(2)\n",
        "# a"
      ],
      "metadata": {
        "id": "T9OAqk-3XJeN"
      },
      "execution_count": 559,
      "outputs": []
    },
    {
      "cell_type": "code",
      "source": [
        "# b=Rank(2)\n",
        "# b"
      ],
      "metadata": {
        "id": "2fbzzktzaCXh"
      },
      "execution_count": 560,
      "outputs": []
    },
    {
      "cell_type": "code",
      "source": [
        "# a.__add__(b)"
      ],
      "metadata": {
        "id": "qXo2fQQjaAO9"
      },
      "execution_count": 561,
      "outputs": []
    },
    {
      "cell_type": "code",
      "source": [
        "# print(a+b)"
      ],
      "metadata": {
        "id": "XNvGylDVaqsB"
      },
      "execution_count": 562,
      "outputs": []
    },
    {
      "cell_type": "code",
      "source": [
        "# c=a+b"
      ],
      "metadata": {
        "id": "DGqftW0HeJds"
      },
      "execution_count": 563,
      "outputs": []
    },
    {
      "cell_type": "code",
      "source": [
        "# c._children"
      ],
      "metadata": {
        "id": "6_dd4RXAeB--"
      },
      "execution_count": 564,
      "outputs": []
    },
    {
      "cell_type": "code",
      "source": [
        "# rank1 = Rank(10)\n",
        "# rank2 = Rank(5)\n",
        "\n",
        "# c = rank1 + rank2\n",
        "# print(c)\n",
        "# print(c._children)"
      ],
      "metadata": {
        "id": "IwlooDECefaE"
      },
      "execution_count": 565,
      "outputs": []
    },
    {
      "cell_type": "code",
      "source": [
        "# c._op"
      ],
      "metadata": {
        "id": "oe9eO-w3eB7F"
      },
      "execution_count": 566,
      "outputs": []
    },
    {
      "cell_type": "code",
      "source": [
        "a=Rank(2,label='a')\n",
        "b=Rank(3,label='b')\n",
        "\n",
        "c=Rank(4,label='c')"
      ],
      "metadata": {
        "id": "-OcPLifrgiFZ"
      },
      "execution_count": 567,
      "outputs": []
    },
    {
      "cell_type": "code",
      "source": [
        "e=a+b"
      ],
      "metadata": {
        "id": "1iNzc5q_cyxz"
      },
      "execution_count": 568,
      "outputs": []
    },
    {
      "cell_type": "code",
      "source": [
        "d=e+c\n",
        "d.label='d'\n",
        "e.label='e'"
      ],
      "metadata": {
        "id": "edNFVI0jf4_m"
      },
      "execution_count": 569,
      "outputs": []
    },
    {
      "cell_type": "code",
      "source": [
        "d"
      ],
      "metadata": {
        "colab": {
          "base_uri": "https://localhost:8080/"
        },
        "id": "cXZnHgZ5f7IG",
        "outputId": "ecd11eb8-5303-4498-e473-7d1e876ae146"
      },
      "execution_count": 570,
      "outputs": [
        {
          "output_type": "execute_result",
          "data": {
            "text/plain": [
              "Rank(data=9)"
            ]
          },
          "metadata": {},
          "execution_count": 570
        }
      ]
    },
    {
      "cell_type": "code",
      "source": [
        "from graphviz import Digraph\n",
        "\n",
        "def trace(root):\n",
        "  # builds a set of all nodes and edges in a graph\n",
        "  nodes, edges = set(), set()\n",
        "  def build(v):\n",
        "    if v not in nodes:\n",
        "      nodes.add(v)\n",
        "      for child in v._children:\n",
        "        edges.add((child, v))\n",
        "        build(child)\n",
        "  build(root)\n",
        "  return nodes, edges\n",
        "\n",
        "def draw_dot(root):\n",
        "  dot = Digraph(format='svg', graph_attr={'rankdir': 'LR'}) # LR = left to right\n",
        "\n",
        "  nodes, edges = trace(root)\n",
        "  for n in nodes:\n",
        "    uid = str(id(n))\n",
        "    # for any value in the graph, create a rectangular ('record') node for it\n",
        "    dot.node(name = uid, label = \"{  data %.4f }\" % ( n.data), shape='record')\n",
        "    if n._op:\n",
        "      # if this value is a result of some operation, create an op node for it\n",
        "      dot.node(name = uid + n._op, label = n._op)\n",
        "      # and connect this node to it\n",
        "      dot.edge(uid + n._op, uid)\n",
        "\n",
        "  for n1, n2 in edges:\n",
        "    # connect n1 to the op node of n2\n",
        "    dot.edge(str(id(n1)), str(id(n2)) + n2._op)\n",
        "\n",
        "  return dot"
      ],
      "metadata": {
        "id": "R0OxAe2MeB40"
      },
      "execution_count": 571,
      "outputs": []
    },
    {
      "cell_type": "code",
      "source": [
        "draw_dot(d)"
      ],
      "metadata": {
        "colab": {
          "base_uri": "https://localhost:8080/",
          "height": 190
        },
        "id": "LFAa1iKLeB2L",
        "outputId": "14d96f3e-c924-4d7e-a827-a289bc825515"
      },
      "execution_count": 572,
      "outputs": [
        {
          "output_type": "execute_result",
          "data": {
            "image/svg+xml": "<?xml version=\"1.0\" encoding=\"UTF-8\" standalone=\"no\"?>\n<!DOCTYPE svg PUBLIC \"-//W3C//DTD SVG 1.1//EN\"\n \"http://www.w3.org/Graphics/SVG/1.1/DTD/svg11.dtd\">\n<!-- Generated by graphviz version 2.43.0 (0)\n -->\n<!-- Title: %3 Pages: 1 -->\n<svg width=\"500pt\" height=\"127pt\"\n viewBox=\"0.00 0.00 500.00 127.00\" xmlns=\"http://www.w3.org/2000/svg\" xmlns:xlink=\"http://www.w3.org/1999/xlink\">\n<g id=\"graph0\" class=\"graph\" transform=\"scale(1 1) rotate(0) translate(4 123)\">\n<title>%3</title>\n<polygon fill=\"white\" stroke=\"transparent\" points=\"-4,4 -4,-123 496,-123 496,4 -4,4\"/>\n<!-- 136787594163728 -->\n<g id=\"node1\" class=\"node\">\n<title>136787594163728</title>\n<polygon fill=\"none\" stroke=\"black\" points=\"206,-27.5 206,-63.5 286,-63.5 286,-27.5 206,-27.5\"/>\n<text text-anchor=\"middle\" x=\"246\" y=\"-41.8\" font-family=\"Times,serif\" font-size=\"14.00\">data 5.0000</text>\n</g>\n<!-- 136787592776272+ -->\n<g id=\"node4\" class=\"node\">\n<title>136787592776272+</title>\n<ellipse fill=\"none\" stroke=\"black\" cx=\"349\" cy=\"-72.5\" rx=\"27\" ry=\"18\"/>\n<text text-anchor=\"middle\" x=\"349\" y=\"-68.8\" font-family=\"Times,serif\" font-size=\"14.00\">+</text>\n</g>\n<!-- 136787594163728&#45;&gt;136787592776272+ -->\n<g id=\"edge5\" class=\"edge\">\n<title>136787594163728&#45;&gt;136787592776272+</title>\n<path fill=\"none\" stroke=\"black\" d=\"M286.05,-55.94C295.24,-58.4 304.98,-61 313.93,-63.39\"/>\n<polygon fill=\"black\" stroke=\"black\" points=\"313.08,-66.79 323.65,-65.99 314.89,-60.03 313.08,-66.79\"/>\n</g>\n<!-- 136787594163728+ -->\n<g id=\"node2\" class=\"node\">\n<title>136787594163728+</title>\n<ellipse fill=\"none\" stroke=\"black\" cx=\"143\" cy=\"-45.5\" rx=\"27\" ry=\"18\"/>\n<text text-anchor=\"middle\" x=\"143\" y=\"-41.8\" font-family=\"Times,serif\" font-size=\"14.00\">+</text>\n</g>\n<!-- 136787594163728+&#45;&gt;136787594163728 -->\n<g id=\"edge1\" class=\"edge\">\n<title>136787594163728+&#45;&gt;136787594163728</title>\n<path fill=\"none\" stroke=\"black\" d=\"M170.01,-45.5C177.82,-45.5 186.67,-45.5 195.48,-45.5\"/>\n<polygon fill=\"black\" stroke=\"black\" points=\"195.73,-49 205.73,-45.5 195.73,-42 195.73,-49\"/>\n</g>\n<!-- 136787592776272 -->\n<g id=\"node3\" class=\"node\">\n<title>136787592776272</title>\n<polygon fill=\"none\" stroke=\"black\" points=\"412,-54.5 412,-90.5 492,-90.5 492,-54.5 412,-54.5\"/>\n<text text-anchor=\"middle\" x=\"452\" y=\"-68.8\" font-family=\"Times,serif\" font-size=\"14.00\">data 9.0000</text>\n</g>\n<!-- 136787592776272+&#45;&gt;136787592776272 -->\n<g id=\"edge2\" class=\"edge\">\n<title>136787592776272+&#45;&gt;136787592776272</title>\n<path fill=\"none\" stroke=\"black\" d=\"M376.01,-72.5C383.82,-72.5 392.67,-72.5 401.48,-72.5\"/>\n<polygon fill=\"black\" stroke=\"black\" points=\"401.73,-76 411.73,-72.5 401.73,-69 401.73,-76\"/>\n</g>\n<!-- 136787594714512 -->\n<g id=\"node5\" class=\"node\">\n<title>136787594714512</title>\n<polygon fill=\"none\" stroke=\"black\" points=\"206,-82.5 206,-118.5 286,-118.5 286,-82.5 206,-82.5\"/>\n<text text-anchor=\"middle\" x=\"246\" y=\"-96.8\" font-family=\"Times,serif\" font-size=\"14.00\">data 4.0000</text>\n</g>\n<!-- 136787594714512&#45;&gt;136787592776272+ -->\n<g id=\"edge4\" class=\"edge\">\n<title>136787594714512&#45;&gt;136787592776272+</title>\n<path fill=\"none\" stroke=\"black\" d=\"M286.05,-89.67C295.24,-87.13 304.98,-84.43 313.93,-81.94\"/>\n<polygon fill=\"black\" stroke=\"black\" points=\"314.94,-85.3 323.65,-79.25 313.07,-78.55 314.94,-85.3\"/>\n</g>\n<!-- 136787594528464 -->\n<g id=\"node6\" class=\"node\">\n<title>136787594528464</title>\n<polygon fill=\"none\" stroke=\"black\" points=\"0,-55.5 0,-91.5 80,-91.5 80,-55.5 0,-55.5\"/>\n<text text-anchor=\"middle\" x=\"40\" y=\"-69.8\" font-family=\"Times,serif\" font-size=\"14.00\">data 2.0000</text>\n</g>\n<!-- 136787594528464&#45;&gt;136787594163728+ -->\n<g id=\"edge3\" class=\"edge\">\n<title>136787594528464&#45;&gt;136787594163728+</title>\n<path fill=\"none\" stroke=\"black\" d=\"M80.05,-62.67C89.24,-60.13 98.98,-57.43 107.93,-54.94\"/>\n<polygon fill=\"black\" stroke=\"black\" points=\"108.94,-58.3 117.65,-52.25 107.07,-51.55 108.94,-58.3\"/>\n</g>\n<!-- 136787594541456 -->\n<g id=\"node7\" class=\"node\">\n<title>136787594541456</title>\n<polygon fill=\"none\" stroke=\"black\" points=\"0,-0.5 0,-36.5 80,-36.5 80,-0.5 0,-0.5\"/>\n<text text-anchor=\"middle\" x=\"40\" y=\"-14.8\" font-family=\"Times,serif\" font-size=\"14.00\">data 3.0000</text>\n</g>\n<!-- 136787594541456&#45;&gt;136787594163728+ -->\n<g id=\"edge6\" class=\"edge\">\n<title>136787594541456&#45;&gt;136787594163728+</title>\n<path fill=\"none\" stroke=\"black\" d=\"M80.05,-28.94C89.24,-31.4 98.98,-34 107.93,-36.39\"/>\n<polygon fill=\"black\" stroke=\"black\" points=\"107.08,-39.79 117.65,-38.99 108.89,-33.03 107.08,-39.79\"/>\n</g>\n</g>\n</svg>\n",
            "text/plain": [
              "<graphviz.graphs.Digraph at 0x7c6857fbbd50>"
            ]
          },
          "metadata": {},
          "execution_count": 572
        }
      ]
    },
    {
      "cell_type": "code",
      "source": [
        "from graphviz import Digraph\n",
        "\n",
        "def trace(root):\n",
        "  # builds a set of all nodes and edges in a graph\n",
        "  nodes, edges = set(), set()\n",
        "  def build(v):\n",
        "    if v not in nodes:\n",
        "      nodes.add(v)\n",
        "      for child in v._children:\n",
        "        edges.add((child, v))\n",
        "        build(child)\n",
        "  build(root)\n",
        "  return nodes, edges\n",
        "\n",
        "def draw_dot(root):\n",
        "  dot = Digraph(format='svg', graph_attr={'rankdir': 'LR'}) # LR = left to right\n",
        "\n",
        "  nodes, edges = trace(root)\n",
        "  for n in nodes:\n",
        "    uid = str(id(n))\n",
        "    # for any value in the graph, create a rectangular ('record') node for it\n",
        "    dot.node(name = uid, label = \"{  %s |data %.4f  }\" % (n.label, n.data), shape='record')\n",
        "    if n._op:\n",
        "      # if this value is a result of some operation, create an op node for it\n",
        "      dot.node(name = uid + n._op, label = n._op)\n",
        "      # and connect this node to it\n",
        "      dot.edge(uid + n._op, uid)\n",
        "\n",
        "  for n1, n2 in edges:\n",
        "    # connect n1 to the op node of n2\n",
        "    dot.edge(str(id(n1)), str(id(n2)) + n2._op)\n",
        "\n",
        "  return dot"
      ],
      "metadata": {
        "id": "BJSn9hu_eBzn"
      },
      "execution_count": 573,
      "outputs": []
    },
    {
      "cell_type": "code",
      "source": [
        "draw_dot(d)"
      ],
      "metadata": {
        "colab": {
          "base_uri": "https://localhost:8080/",
          "height": 190
        },
        "id": "gtyHbBpOeBw8",
        "outputId": "ee9b6bd3-0b49-4754-fa66-6baa39e47f22"
      },
      "execution_count": 574,
      "outputs": [
        {
          "output_type": "execute_result",
          "data": {
            "image/svg+xml": "<?xml version=\"1.0\" encoding=\"UTF-8\" standalone=\"no\"?>\n<!DOCTYPE svg PUBLIC \"-//W3C//DTD SVG 1.1//EN\"\n \"http://www.w3.org/Graphics/SVG/1.1/DTD/svg11.dtd\">\n<!-- Generated by graphviz version 2.43.0 (0)\n -->\n<!-- Title: %3 Pages: 1 -->\n<svg width=\"569pt\" height=\"127pt\"\n viewBox=\"0.00 0.00 569.00 127.00\" xmlns=\"http://www.w3.org/2000/svg\" xmlns:xlink=\"http://www.w3.org/1999/xlink\">\n<g id=\"graph0\" class=\"graph\" transform=\"scale(1 1) rotate(0) translate(4 123)\">\n<title>%3</title>\n<polygon fill=\"white\" stroke=\"transparent\" points=\"-4,4 -4,-123 565,-123 565,4 -4,4\"/>\n<!-- 136787594163728 -->\n<g id=\"node1\" class=\"node\">\n<title>136787594163728</title>\n<polygon fill=\"none\" stroke=\"black\" points=\"229,-27.5 229,-63.5 332,-63.5 332,-27.5 229,-27.5\"/>\n<text text-anchor=\"middle\" x=\"240.5\" y=\"-41.8\" font-family=\"Times,serif\" font-size=\"14.00\">e</text>\n<polyline fill=\"none\" stroke=\"black\" points=\"252,-27.5 252,-63.5 \"/>\n<text text-anchor=\"middle\" x=\"292\" y=\"-41.8\" font-family=\"Times,serif\" font-size=\"14.00\">data 5.0000</text>\n</g>\n<!-- 136787592776272+ -->\n<g id=\"node4\" class=\"node\">\n<title>136787592776272+</title>\n<ellipse fill=\"none\" stroke=\"black\" cx=\"395\" cy=\"-72.5\" rx=\"27\" ry=\"18\"/>\n<text text-anchor=\"middle\" x=\"395\" y=\"-68.8\" font-family=\"Times,serif\" font-size=\"14.00\">+</text>\n</g>\n<!-- 136787594163728&#45;&gt;136787592776272+ -->\n<g id=\"edge5\" class=\"edge\">\n<title>136787594163728&#45;&gt;136787592776272+</title>\n<path fill=\"none\" stroke=\"black\" d=\"M332.16,-57.66C341.46,-59.89 350.97,-62.17 359.66,-64.26\"/>\n<polygon fill=\"black\" stroke=\"black\" points=\"358.87,-67.67 369.41,-66.6 360.51,-60.86 358.87,-67.67\"/>\n</g>\n<!-- 136787594163728+ -->\n<g id=\"node2\" class=\"node\">\n<title>136787594163728+</title>\n<ellipse fill=\"none\" stroke=\"black\" cx=\"166\" cy=\"-45.5\" rx=\"27\" ry=\"18\"/>\n<text text-anchor=\"middle\" x=\"166\" y=\"-41.8\" font-family=\"Times,serif\" font-size=\"14.00\">+</text>\n</g>\n<!-- 136787594163728+&#45;&gt;136787594163728 -->\n<g id=\"edge1\" class=\"edge\">\n<title>136787594163728+&#45;&gt;136787594163728</title>\n<path fill=\"none\" stroke=\"black\" d=\"M193.09,-45.5C200.83,-45.5 209.64,-45.5 218.61,-45.5\"/>\n<polygon fill=\"black\" stroke=\"black\" points=\"218.76,-49 228.76,-45.5 218.76,-42 218.76,-49\"/>\n</g>\n<!-- 136787592776272 -->\n<g id=\"node3\" class=\"node\">\n<title>136787592776272</title>\n<polygon fill=\"none\" stroke=\"black\" points=\"458,-54.5 458,-90.5 561,-90.5 561,-54.5 458,-54.5\"/>\n<text text-anchor=\"middle\" x=\"469.5\" y=\"-68.8\" font-family=\"Times,serif\" font-size=\"14.00\">d</text>\n<polyline fill=\"none\" stroke=\"black\" points=\"481,-54.5 481,-90.5 \"/>\n<text text-anchor=\"middle\" x=\"521\" y=\"-68.8\" font-family=\"Times,serif\" font-size=\"14.00\">data 9.0000</text>\n</g>\n<!-- 136787592776272+&#45;&gt;136787592776272 -->\n<g id=\"edge2\" class=\"edge\">\n<title>136787592776272+&#45;&gt;136787592776272</title>\n<path fill=\"none\" stroke=\"black\" d=\"M422.09,-72.5C429.83,-72.5 438.64,-72.5 447.61,-72.5\"/>\n<polygon fill=\"black\" stroke=\"black\" points=\"447.76,-76 457.76,-72.5 447.76,-69 447.76,-76\"/>\n</g>\n<!-- 136787594714512 -->\n<g id=\"node5\" class=\"node\">\n<title>136787594714512</title>\n<polygon fill=\"none\" stroke=\"black\" points=\"229,-82.5 229,-118.5 332,-118.5 332,-82.5 229,-82.5\"/>\n<text text-anchor=\"middle\" x=\"240.5\" y=\"-96.8\" font-family=\"Times,serif\" font-size=\"14.00\">c</text>\n<polyline fill=\"none\" stroke=\"black\" points=\"252,-82.5 252,-118.5 \"/>\n<text text-anchor=\"middle\" x=\"292\" y=\"-96.8\" font-family=\"Times,serif\" font-size=\"14.00\">data 4.0000</text>\n</g>\n<!-- 136787594714512&#45;&gt;136787592776272+ -->\n<g id=\"edge4\" class=\"edge\">\n<title>136787594714512&#45;&gt;136787592776272+</title>\n<path fill=\"none\" stroke=\"black\" d=\"M332.16,-87.89C341.46,-85.58 350.97,-83.21 359.66,-81.05\"/>\n<polygon fill=\"black\" stroke=\"black\" points=\"360.56,-84.43 369.41,-78.62 358.87,-77.64 360.56,-84.43\"/>\n</g>\n<!-- 136787594528464 -->\n<g id=\"node6\" class=\"node\">\n<title>136787594528464</title>\n<polygon fill=\"none\" stroke=\"black\" points=\"0,-55.5 0,-91.5 103,-91.5 103,-55.5 0,-55.5\"/>\n<text text-anchor=\"middle\" x=\"11.5\" y=\"-69.8\" font-family=\"Times,serif\" font-size=\"14.00\">a</text>\n<polyline fill=\"none\" stroke=\"black\" points=\"23,-55.5 23,-91.5 \"/>\n<text text-anchor=\"middle\" x=\"63\" y=\"-69.8\" font-family=\"Times,serif\" font-size=\"14.00\">data 2.0000</text>\n</g>\n<!-- 136787594528464&#45;&gt;136787594163728+ -->\n<g id=\"edge3\" class=\"edge\">\n<title>136787594528464&#45;&gt;136787594163728+</title>\n<path fill=\"none\" stroke=\"black\" d=\"M103.16,-60.89C112.46,-58.58 121.97,-56.21 130.66,-54.05\"/>\n<polygon fill=\"black\" stroke=\"black\" points=\"131.56,-57.43 140.41,-51.62 129.87,-50.64 131.56,-57.43\"/>\n</g>\n<!-- 136787594541456 -->\n<g id=\"node7\" class=\"node\">\n<title>136787594541456</title>\n<polygon fill=\"none\" stroke=\"black\" points=\"0,-0.5 0,-36.5 103,-36.5 103,-0.5 0,-0.5\"/>\n<text text-anchor=\"middle\" x=\"11.5\" y=\"-14.8\" font-family=\"Times,serif\" font-size=\"14.00\">b</text>\n<polyline fill=\"none\" stroke=\"black\" points=\"23,-0.5 23,-36.5 \"/>\n<text text-anchor=\"middle\" x=\"63\" y=\"-14.8\" font-family=\"Times,serif\" font-size=\"14.00\">data 3.0000</text>\n</g>\n<!-- 136787594541456&#45;&gt;136787594163728+ -->\n<g id=\"edge6\" class=\"edge\">\n<title>136787594541456&#45;&gt;136787594163728+</title>\n<path fill=\"none\" stroke=\"black\" d=\"M103.16,-30.66C112.46,-32.89 121.97,-35.17 130.66,-37.26\"/>\n<polygon fill=\"black\" stroke=\"black\" points=\"129.87,-40.67 140.41,-39.6 131.51,-33.86 129.87,-40.67\"/>\n</g>\n</g>\n</svg>\n",
            "text/plain": [
              "<graphviz.graphs.Digraph at 0x7c6857e00c10>"
            ]
          },
          "metadata": {},
          "execution_count": 574
        }
      ]
    },
    {
      "cell_type": "code",
      "source": [
        "f=Rank(-2,label='f')\n",
        "L=d*f\n",
        "L.label='L'"
      ],
      "metadata": {
        "id": "9S3nYQR9eBuL"
      },
      "execution_count": 575,
      "outputs": []
    },
    {
      "cell_type": "code",
      "source": [
        "draw_dot(L)"
      ],
      "metadata": {
        "colab": {
          "base_uri": "https://localhost:8080/",
          "height": 192
        },
        "id": "oTB8NQZDeBrW",
        "outputId": "a08e5985-19a9-4225-e8bd-cfb6821099ea"
      },
      "execution_count": 576,
      "outputs": [
        {
          "output_type": "execute_result",
          "data": {
            "image/svg+xml": "<?xml version=\"1.0\" encoding=\"UTF-8\" standalone=\"no\"?>\n<!DOCTYPE svg PUBLIC \"-//W3C//DTD SVG 1.1//EN\"\n \"http://www.w3.org/Graphics/SVG/1.1/DTD/svg11.dtd\">\n<!-- Generated by graphviz version 2.43.0 (0)\n -->\n<!-- Title: %3 Pages: 1 -->\n<svg width=\"815pt\" height=\"128pt\"\n viewBox=\"0.00 0.00 815.00 128.00\" xmlns=\"http://www.w3.org/2000/svg\" xmlns:xlink=\"http://www.w3.org/1999/xlink\">\n<g id=\"graph0\" class=\"graph\" transform=\"scale(1 1) rotate(0) translate(4 124)\">\n<title>%3</title>\n<polygon fill=\"white\" stroke=\"transparent\" points=\"-4,4 -4,-124 811,-124 811,4 -4,4\"/>\n<!-- 136787594715152 -->\n<g id=\"node1\" class=\"node\">\n<title>136787594715152</title>\n<polygon fill=\"none\" stroke=\"black\" points=\"458,-82.5 458,-118.5 564,-118.5 564,-82.5 458,-82.5\"/>\n<text text-anchor=\"middle\" x=\"468.5\" y=\"-96.8\" font-family=\"Times,serif\" font-size=\"14.00\">f</text>\n<polyline fill=\"none\" stroke=\"black\" points=\"479,-82.5 479,-118.5 \"/>\n<text text-anchor=\"middle\" x=\"521.5\" y=\"-96.8\" font-family=\"Times,serif\" font-size=\"14.00\">data &#45;2.0000</text>\n</g>\n<!-- 136787606970704* -->\n<g id=\"node9\" class=\"node\">\n<title>136787606970704*</title>\n<ellipse fill=\"none\" stroke=\"black\" cx=\"627\" cy=\"-72.5\" rx=\"27\" ry=\"18\"/>\n<text text-anchor=\"middle\" x=\"627\" y=\"-68.8\" font-family=\"Times,serif\" font-size=\"14.00\">*</text>\n</g>\n<!-- 136787594715152&#45;&gt;136787606970704* -->\n<g id=\"edge9\" class=\"edge\">\n<title>136787594715152&#45;&gt;136787606970704*</title>\n<path fill=\"none\" stroke=\"black\" d=\"M564.33,-87.65C573.48,-85.4 582.8,-83.11 591.33,-81.02\"/>\n<polygon fill=\"black\" stroke=\"black\" points=\"592.39,-84.36 601.27,-78.57 590.72,-77.56 592.39,-84.36\"/>\n</g>\n<!-- 136787594163728 -->\n<g id=\"node2\" class=\"node\">\n<title>136787594163728</title>\n<polygon fill=\"none\" stroke=\"black\" points=\"229,-55.5 229,-91.5 332,-91.5 332,-55.5 229,-55.5\"/>\n<text text-anchor=\"middle\" x=\"240.5\" y=\"-69.8\" font-family=\"Times,serif\" font-size=\"14.00\">e</text>\n<polyline fill=\"none\" stroke=\"black\" points=\"252,-55.5 252,-91.5 \"/>\n<text text-anchor=\"middle\" x=\"292\" y=\"-69.8\" font-family=\"Times,serif\" font-size=\"14.00\">data 5.0000</text>\n</g>\n<!-- 136787592776272+ -->\n<g id=\"node5\" class=\"node\">\n<title>136787592776272+</title>\n<ellipse fill=\"none\" stroke=\"black\" cx=\"395\" cy=\"-45.5\" rx=\"27\" ry=\"18\"/>\n<text text-anchor=\"middle\" x=\"395\" y=\"-41.8\" font-family=\"Times,serif\" font-size=\"14.00\">+</text>\n</g>\n<!-- 136787594163728&#45;&gt;136787592776272+ -->\n<g id=\"edge7\" class=\"edge\">\n<title>136787594163728&#45;&gt;136787592776272+</title>\n<path fill=\"none\" stroke=\"black\" d=\"M332.16,-60.89C341.46,-58.58 350.97,-56.21 359.66,-54.05\"/>\n<polygon fill=\"black\" stroke=\"black\" points=\"360.56,-57.43 369.41,-51.62 358.87,-50.64 360.56,-57.43\"/>\n</g>\n<!-- 136787594163728+ -->\n<g id=\"node3\" class=\"node\">\n<title>136787594163728+</title>\n<ellipse fill=\"none\" stroke=\"black\" cx=\"166\" cy=\"-73.5\" rx=\"27\" ry=\"18\"/>\n<text text-anchor=\"middle\" x=\"166\" y=\"-69.8\" font-family=\"Times,serif\" font-size=\"14.00\">+</text>\n</g>\n<!-- 136787594163728+&#45;&gt;136787594163728 -->\n<g id=\"edge1\" class=\"edge\">\n<title>136787594163728+&#45;&gt;136787594163728</title>\n<path fill=\"none\" stroke=\"black\" d=\"M193.09,-73.5C200.83,-73.5 209.64,-73.5 218.61,-73.5\"/>\n<polygon fill=\"black\" stroke=\"black\" points=\"218.76,-77 228.76,-73.5 218.76,-70 218.76,-77\"/>\n</g>\n<!-- 136787592776272 -->\n<g id=\"node4\" class=\"node\">\n<title>136787592776272</title>\n<polygon fill=\"none\" stroke=\"black\" points=\"459.5,-27.5 459.5,-63.5 562.5,-63.5 562.5,-27.5 459.5,-27.5\"/>\n<text text-anchor=\"middle\" x=\"471\" y=\"-41.8\" font-family=\"Times,serif\" font-size=\"14.00\">d</text>\n<polyline fill=\"none\" stroke=\"black\" points=\"482.5,-27.5 482.5,-63.5 \"/>\n<text text-anchor=\"middle\" x=\"522.5\" y=\"-41.8\" font-family=\"Times,serif\" font-size=\"14.00\">data 9.0000</text>\n</g>\n<!-- 136787592776272&#45;&gt;136787606970704* -->\n<g id=\"edge6\" class=\"edge\">\n<title>136787592776272&#45;&gt;136787606970704*</title>\n<path fill=\"none\" stroke=\"black\" d=\"M562.67,-57.5C572.43,-59.81 582.45,-62.18 591.55,-64.34\"/>\n<polygon fill=\"black\" stroke=\"black\" points=\"590.83,-67.77 601.37,-66.67 592.45,-60.96 590.83,-67.77\"/>\n</g>\n<!-- 136787592776272+&#45;&gt;136787592776272 -->\n<g id=\"edge2\" class=\"edge\">\n<title>136787592776272+&#45;&gt;136787592776272</title>\n<path fill=\"none\" stroke=\"black\" d=\"M422.15,-45.5C430.26,-45.5 439.57,-45.5 449.02,-45.5\"/>\n<polygon fill=\"black\" stroke=\"black\" points=\"449.28,-49 459.28,-45.5 449.28,-42 449.28,-49\"/>\n</g>\n<!-- 136787594714512 -->\n<g id=\"node6\" class=\"node\">\n<title>136787594714512</title>\n<polygon fill=\"none\" stroke=\"black\" points=\"229,-0.5 229,-36.5 332,-36.5 332,-0.5 229,-0.5\"/>\n<text text-anchor=\"middle\" x=\"240.5\" y=\"-14.8\" font-family=\"Times,serif\" font-size=\"14.00\">c</text>\n<polyline fill=\"none\" stroke=\"black\" points=\"252,-0.5 252,-36.5 \"/>\n<text text-anchor=\"middle\" x=\"292\" y=\"-14.8\" font-family=\"Times,serif\" font-size=\"14.00\">data 4.0000</text>\n</g>\n<!-- 136787594714512&#45;&gt;136787592776272+ -->\n<g id=\"edge5\" class=\"edge\">\n<title>136787594714512&#45;&gt;136787592776272+</title>\n<path fill=\"none\" stroke=\"black\" d=\"M332.16,-30.66C341.46,-32.89 350.97,-35.17 359.66,-37.26\"/>\n<polygon fill=\"black\" stroke=\"black\" points=\"358.87,-40.67 369.41,-39.6 360.51,-33.86 358.87,-40.67\"/>\n</g>\n<!-- 136787594528464 -->\n<g id=\"node7\" class=\"node\">\n<title>136787594528464</title>\n<polygon fill=\"none\" stroke=\"black\" points=\"0,-83.5 0,-119.5 103,-119.5 103,-83.5 0,-83.5\"/>\n<text text-anchor=\"middle\" x=\"11.5\" y=\"-97.8\" font-family=\"Times,serif\" font-size=\"14.00\">a</text>\n<polyline fill=\"none\" stroke=\"black\" points=\"23,-83.5 23,-119.5 \"/>\n<text text-anchor=\"middle\" x=\"63\" y=\"-97.8\" font-family=\"Times,serif\" font-size=\"14.00\">data 2.0000</text>\n</g>\n<!-- 136787594528464&#45;&gt;136787594163728+ -->\n<g id=\"edge4\" class=\"edge\">\n<title>136787594528464&#45;&gt;136787594163728+</title>\n<path fill=\"none\" stroke=\"black\" d=\"M103.16,-88.89C112.46,-86.58 121.97,-84.21 130.66,-82.05\"/>\n<polygon fill=\"black\" stroke=\"black\" points=\"131.56,-85.43 140.41,-79.62 129.87,-78.64 131.56,-85.43\"/>\n</g>\n<!-- 136787606970704 -->\n<g id=\"node8\" class=\"node\">\n<title>136787606970704</title>\n<polygon fill=\"none\" stroke=\"black\" points=\"690,-54.5 690,-90.5 807,-90.5 807,-54.5 690,-54.5\"/>\n<text text-anchor=\"middle\" x=\"702.5\" y=\"-68.8\" font-family=\"Times,serif\" font-size=\"14.00\">L</text>\n<polyline fill=\"none\" stroke=\"black\" points=\"715,-54.5 715,-90.5 \"/>\n<text text-anchor=\"middle\" x=\"761\" y=\"-68.8\" font-family=\"Times,serif\" font-size=\"14.00\">data &#45;18.0000</text>\n</g>\n<!-- 136787606970704*&#45;&gt;136787606970704 -->\n<g id=\"edge3\" class=\"edge\">\n<title>136787606970704*&#45;&gt;136787606970704</title>\n<path fill=\"none\" stroke=\"black\" d=\"M654.22,-72.5C661.91,-72.5 670.69,-72.5 679.73,-72.5\"/>\n<polygon fill=\"black\" stroke=\"black\" points=\"679.98,-76 689.98,-72.5 679.98,-69 679.98,-76\"/>\n</g>\n<!-- 136787594541456 -->\n<g id=\"node10\" class=\"node\">\n<title>136787594541456</title>\n<polygon fill=\"none\" stroke=\"black\" points=\"0,-28.5 0,-64.5 103,-64.5 103,-28.5 0,-28.5\"/>\n<text text-anchor=\"middle\" x=\"11.5\" y=\"-42.8\" font-family=\"Times,serif\" font-size=\"14.00\">b</text>\n<polyline fill=\"none\" stroke=\"black\" points=\"23,-28.5 23,-64.5 \"/>\n<text text-anchor=\"middle\" x=\"63\" y=\"-42.8\" font-family=\"Times,serif\" font-size=\"14.00\">data 3.0000</text>\n</g>\n<!-- 136787594541456&#45;&gt;136787594163728+ -->\n<g id=\"edge8\" class=\"edge\">\n<title>136787594541456&#45;&gt;136787594163728+</title>\n<path fill=\"none\" stroke=\"black\" d=\"M103.16,-58.66C112.46,-60.89 121.97,-63.17 130.66,-65.26\"/>\n<polygon fill=\"black\" stroke=\"black\" points=\"129.87,-68.67 140.41,-67.6 131.51,-61.86 129.87,-68.67\"/>\n</g>\n</g>\n</svg>\n",
            "text/plain": [
              "<graphviz.graphs.Digraph at 0x7c6857e09810>"
            ]
          },
          "metadata": {},
          "execution_count": 576
        }
      ]
    },
    {
      "cell_type": "code",
      "source": [
        "# this is the output of the forward propagation for L=d*f where d=a*b+c"
      ],
      "metadata": {
        "id": "h-_yt_4Fh-cS"
      },
      "execution_count": 577,
      "outputs": []
    },
    {
      "cell_type": "markdown",
      "source": [
        "NOW BACKWARD PROPAGATION"
      ],
      "metadata": {
        "id": "5ERexrK2iNAv"
      }
    },
    {
      "cell_type": "code",
      "source": [
        "from graphviz import Digraph\n",
        "\n",
        "def trace(root):\n",
        "  # builds a set of all nodes and edges in a graph\n",
        "  nodes, edges = set(), set()\n",
        "  def build(v):\n",
        "    if v not in nodes:\n",
        "      nodes.add(v)\n",
        "      for child in v._children:\n",
        "        edges.add((child, v))\n",
        "        build(child)\n",
        "  build(root)\n",
        "  return nodes, edges\n",
        "\n",
        "def draw_dot(root):\n",
        "  dot = Digraph(format='svg', graph_attr={'rankdir': 'LR'}) # LR = left to right\n",
        "\n",
        "  nodes, edges = trace(root)\n",
        "  for n in nodes:\n",
        "    uid = str(id(n))\n",
        "    # for any value in the graph, create a rectangular ('record') node for it\n",
        "    dot.node(name = uid, label = \"{ %s | data %.4f | grad %.4f }\" % (n.label, n.data, n.grad), shape='record')\n",
        "    if n._op:\n",
        "      # if this value is a result of some operation, create an op node for it\n",
        "      dot.node(name = uid + n._op, label = n._op)\n",
        "      # and connect this node to it\n",
        "      dot.edge(uid + n._op, uid)\n",
        "\n",
        "  for n1, n2 in edges:\n",
        "    # connect n1 to the op node of n2\n",
        "    dot.edge(str(id(n1)), str(id(n2)) + n2._op)\n",
        "\n",
        "  return dot"
      ],
      "metadata": {
        "id": "_5AhZCefh-aO"
      },
      "execution_count": 578,
      "outputs": []
    },
    {
      "cell_type": "code",
      "source": [
        "draw_dot(L)"
      ],
      "metadata": {
        "colab": {
          "base_uri": "https://localhost:8080/",
          "height": 192
        },
        "id": "K8vril6Qh-X2",
        "outputId": "1c0142f7-de38-486d-8ae7-51daf617a4f9"
      },
      "execution_count": 579,
      "outputs": [
        {
          "output_type": "execute_result",
          "data": {
            "image/svg+xml": "<?xml version=\"1.0\" encoding=\"UTF-8\" standalone=\"no\"?>\n<!DOCTYPE svg PUBLIC \"-//W3C//DTD SVG 1.1//EN\"\n \"http://www.w3.org/Graphics/SVG/1.1/DTD/svg11.dtd\">\n<!-- Generated by graphviz version 2.43.0 (0)\n -->\n<!-- Title: %3 Pages: 1 -->\n<svg width=\"1143pt\" height=\"128pt\"\n viewBox=\"0.00 0.00 1143.00 128.00\" xmlns=\"http://www.w3.org/2000/svg\" xmlns:xlink=\"http://www.w3.org/1999/xlink\">\n<g id=\"graph0\" class=\"graph\" transform=\"scale(1 1) rotate(0) translate(4 124)\">\n<title>%3</title>\n<polygon fill=\"white\" stroke=\"transparent\" points=\"-4,4 -4,-124 1139,-124 1139,4 -4,4\"/>\n<!-- 136787594715152 -->\n<g id=\"node1\" class=\"node\">\n<title>136787594715152</title>\n<polygon fill=\"none\" stroke=\"black\" points=\"622,-82.5 622,-118.5 810,-118.5 810,-82.5 622,-82.5\"/>\n<text text-anchor=\"middle\" x=\"632.5\" y=\"-96.8\" font-family=\"Times,serif\" font-size=\"14.00\">f</text>\n<polyline fill=\"none\" stroke=\"black\" points=\"643,-82.5 643,-118.5 \"/>\n<text text-anchor=\"middle\" x=\"685.5\" y=\"-96.8\" font-family=\"Times,serif\" font-size=\"14.00\">data &#45;2.0000</text>\n<polyline fill=\"none\" stroke=\"black\" points=\"728,-82.5 728,-118.5 \"/>\n<text text-anchor=\"middle\" x=\"769\" y=\"-96.8\" font-family=\"Times,serif\" font-size=\"14.00\">grad 0.0000</text>\n</g>\n<!-- 136787606970704* -->\n<g id=\"node9\" class=\"node\">\n<title>136787606970704*</title>\n<ellipse fill=\"none\" stroke=\"black\" cx=\"873\" cy=\"-72.5\" rx=\"27\" ry=\"18\"/>\n<text text-anchor=\"middle\" x=\"873\" y=\"-68.8\" font-family=\"Times,serif\" font-size=\"14.00\">*</text>\n</g>\n<!-- 136787594715152&#45;&gt;136787606970704* -->\n<g id=\"edge9\" class=\"edge\">\n<title>136787594715152&#45;&gt;136787606970704*</title>\n<path fill=\"none\" stroke=\"black\" d=\"M810.29,-83.65C819.57,-81.97 828.52,-80.35 836.61,-78.89\"/>\n<polygon fill=\"black\" stroke=\"black\" points=\"837.46,-82.3 846.68,-77.07 836.21,-75.41 837.46,-82.3\"/>\n</g>\n<!-- 136787594163728 -->\n<g id=\"node2\" class=\"node\">\n<title>136787594163728</title>\n<polygon fill=\"none\" stroke=\"black\" points=\"311,-55.5 311,-91.5 496,-91.5 496,-55.5 311,-55.5\"/>\n<text text-anchor=\"middle\" x=\"322.5\" y=\"-69.8\" font-family=\"Times,serif\" font-size=\"14.00\">e</text>\n<polyline fill=\"none\" stroke=\"black\" points=\"334,-55.5 334,-91.5 \"/>\n<text text-anchor=\"middle\" x=\"374\" y=\"-69.8\" font-family=\"Times,serif\" font-size=\"14.00\">data 5.0000</text>\n<polyline fill=\"none\" stroke=\"black\" points=\"414,-55.5 414,-91.5 \"/>\n<text text-anchor=\"middle\" x=\"455\" y=\"-69.8\" font-family=\"Times,serif\" font-size=\"14.00\">grad 0.0000</text>\n</g>\n<!-- 136787592776272+ -->\n<g id=\"node5\" class=\"node\">\n<title>136787592776272+</title>\n<ellipse fill=\"none\" stroke=\"black\" cx=\"559\" cy=\"-45.5\" rx=\"27\" ry=\"18\"/>\n<text text-anchor=\"middle\" x=\"559\" y=\"-41.8\" font-family=\"Times,serif\" font-size=\"14.00\">+</text>\n</g>\n<!-- 136787594163728&#45;&gt;136787592776272+ -->\n<g id=\"edge7\" class=\"edge\">\n<title>136787594163728&#45;&gt;136787592776272+</title>\n<path fill=\"none\" stroke=\"black\" d=\"M496.01,-56.81C505.49,-55.08 514.66,-53.41 522.9,-51.9\"/>\n<polygon fill=\"black\" stroke=\"black\" points=\"523.6,-55.33 532.81,-50.09 522.35,-48.45 523.6,-55.33\"/>\n</g>\n<!-- 136787594163728+ -->\n<g id=\"node3\" class=\"node\">\n<title>136787594163728+</title>\n<ellipse fill=\"none\" stroke=\"black\" cx=\"248\" cy=\"-73.5\" rx=\"27\" ry=\"18\"/>\n<text text-anchor=\"middle\" x=\"248\" y=\"-69.8\" font-family=\"Times,serif\" font-size=\"14.00\">+</text>\n</g>\n<!-- 136787594163728+&#45;&gt;136787594163728 -->\n<g id=\"edge1\" class=\"edge\">\n<title>136787594163728+&#45;&gt;136787594163728</title>\n<path fill=\"none\" stroke=\"black\" d=\"M275.04,-73.5C282.58,-73.5 291.3,-73.5 300.57,-73.5\"/>\n<polygon fill=\"black\" stroke=\"black\" points=\"300.81,-77 310.81,-73.5 300.81,-70 300.81,-77\"/>\n</g>\n<!-- 136787592776272 -->\n<g id=\"node4\" class=\"node\">\n<title>136787592776272</title>\n<polygon fill=\"none\" stroke=\"black\" points=\"623.5,-27.5 623.5,-63.5 808.5,-63.5 808.5,-27.5 623.5,-27.5\"/>\n<text text-anchor=\"middle\" x=\"635\" y=\"-41.8\" font-family=\"Times,serif\" font-size=\"14.00\">d</text>\n<polyline fill=\"none\" stroke=\"black\" points=\"646.5,-27.5 646.5,-63.5 \"/>\n<text text-anchor=\"middle\" x=\"686.5\" y=\"-41.8\" font-family=\"Times,serif\" font-size=\"14.00\">data 9.0000</text>\n<polyline fill=\"none\" stroke=\"black\" points=\"726.5,-27.5 726.5,-63.5 \"/>\n<text text-anchor=\"middle\" x=\"767.5\" y=\"-41.8\" font-family=\"Times,serif\" font-size=\"14.00\">grad 0.0000</text>\n</g>\n<!-- 136787592776272&#45;&gt;136787606970704* -->\n<g id=\"edge6\" class=\"edge\">\n<title>136787592776272&#45;&gt;136787606970704*</title>\n<path fill=\"none\" stroke=\"black\" d=\"M808.51,-61.44C818.48,-63.18 828.13,-64.86 836.77,-66.36\"/>\n<polygon fill=\"black\" stroke=\"black\" points=\"836.31,-69.84 846.77,-68.1 837.52,-62.94 836.31,-69.84\"/>\n</g>\n<!-- 136787592776272+&#45;&gt;136787592776272 -->\n<g id=\"edge2\" class=\"edge\">\n<title>136787592776272+&#45;&gt;136787592776272</title>\n<path fill=\"none\" stroke=\"black\" d=\"M586.29,-45.5C594.26,-45.5 603.54,-45.5 613.39,-45.5\"/>\n<polygon fill=\"black\" stroke=\"black\" points=\"613.41,-49 623.41,-45.5 613.41,-42 613.41,-49\"/>\n</g>\n<!-- 136787594714512 -->\n<g id=\"node6\" class=\"node\">\n<title>136787594714512</title>\n<polygon fill=\"none\" stroke=\"black\" points=\"311,-0.5 311,-36.5 496,-36.5 496,-0.5 311,-0.5\"/>\n<text text-anchor=\"middle\" x=\"322.5\" y=\"-14.8\" font-family=\"Times,serif\" font-size=\"14.00\">c</text>\n<polyline fill=\"none\" stroke=\"black\" points=\"334,-0.5 334,-36.5 \"/>\n<text text-anchor=\"middle\" x=\"374\" y=\"-14.8\" font-family=\"Times,serif\" font-size=\"14.00\">data 4.0000</text>\n<polyline fill=\"none\" stroke=\"black\" points=\"414,-0.5 414,-36.5 \"/>\n<text text-anchor=\"middle\" x=\"455\" y=\"-14.8\" font-family=\"Times,serif\" font-size=\"14.00\">grad 0.0000</text>\n</g>\n<!-- 136787594714512&#45;&gt;136787592776272+ -->\n<g id=\"edge5\" class=\"edge\">\n<title>136787594714512&#45;&gt;136787592776272+</title>\n<path fill=\"none\" stroke=\"black\" d=\"M496.01,-34.6C505.49,-36.26 514.66,-37.88 522.9,-39.33\"/>\n<polygon fill=\"black\" stroke=\"black\" points=\"522.36,-42.78 532.81,-41.07 523.57,-35.89 522.36,-42.78\"/>\n</g>\n<!-- 136787594528464 -->\n<g id=\"node7\" class=\"node\">\n<title>136787594528464</title>\n<polygon fill=\"none\" stroke=\"black\" points=\"0,-83.5 0,-119.5 185,-119.5 185,-83.5 0,-83.5\"/>\n<text text-anchor=\"middle\" x=\"11.5\" y=\"-97.8\" font-family=\"Times,serif\" font-size=\"14.00\">a</text>\n<polyline fill=\"none\" stroke=\"black\" points=\"23,-83.5 23,-119.5 \"/>\n<text text-anchor=\"middle\" x=\"63\" y=\"-97.8\" font-family=\"Times,serif\" font-size=\"14.00\">data 2.0000</text>\n<polyline fill=\"none\" stroke=\"black\" points=\"103,-83.5 103,-119.5 \"/>\n<text text-anchor=\"middle\" x=\"144\" y=\"-97.8\" font-family=\"Times,serif\" font-size=\"14.00\">grad 0.0000</text>\n</g>\n<!-- 136787594528464&#45;&gt;136787594163728+ -->\n<g id=\"edge4\" class=\"edge\">\n<title>136787594528464&#45;&gt;136787594163728+</title>\n<path fill=\"none\" stroke=\"black\" d=\"M185.01,-84.81C194.49,-83.08 203.66,-81.41 211.9,-79.9\"/>\n<polygon fill=\"black\" stroke=\"black\" points=\"212.6,-83.33 221.81,-78.09 211.35,-76.45 212.6,-83.33\"/>\n</g>\n<!-- 136787606970704 -->\n<g id=\"node8\" class=\"node\">\n<title>136787606970704</title>\n<polygon fill=\"none\" stroke=\"black\" points=\"936,-54.5 936,-90.5 1135,-90.5 1135,-54.5 936,-54.5\"/>\n<text text-anchor=\"middle\" x=\"948.5\" y=\"-68.8\" font-family=\"Times,serif\" font-size=\"14.00\">L</text>\n<polyline fill=\"none\" stroke=\"black\" points=\"961,-54.5 961,-90.5 \"/>\n<text text-anchor=\"middle\" x=\"1007\" y=\"-68.8\" font-family=\"Times,serif\" font-size=\"14.00\">data &#45;18.0000</text>\n<polyline fill=\"none\" stroke=\"black\" points=\"1053,-54.5 1053,-90.5 \"/>\n<text text-anchor=\"middle\" x=\"1094\" y=\"-68.8\" font-family=\"Times,serif\" font-size=\"14.00\">grad 0.0000</text>\n</g>\n<!-- 136787606970704*&#45;&gt;136787606970704 -->\n<g id=\"edge3\" class=\"edge\">\n<title>136787606970704*&#45;&gt;136787606970704</title>\n<path fill=\"none\" stroke=\"black\" d=\"M900.14,-72.5C907.65,-72.5 916.33,-72.5 925.6,-72.5\"/>\n<polygon fill=\"black\" stroke=\"black\" points=\"925.86,-76 935.86,-72.5 925.86,-69 925.86,-76\"/>\n</g>\n<!-- 136787594541456 -->\n<g id=\"node10\" class=\"node\">\n<title>136787594541456</title>\n<polygon fill=\"none\" stroke=\"black\" points=\"0,-28.5 0,-64.5 185,-64.5 185,-28.5 0,-28.5\"/>\n<text text-anchor=\"middle\" x=\"11.5\" y=\"-42.8\" font-family=\"Times,serif\" font-size=\"14.00\">b</text>\n<polyline fill=\"none\" stroke=\"black\" points=\"23,-28.5 23,-64.5 \"/>\n<text text-anchor=\"middle\" x=\"63\" y=\"-42.8\" font-family=\"Times,serif\" font-size=\"14.00\">data 3.0000</text>\n<polyline fill=\"none\" stroke=\"black\" points=\"103,-28.5 103,-64.5 \"/>\n<text text-anchor=\"middle\" x=\"144\" y=\"-42.8\" font-family=\"Times,serif\" font-size=\"14.00\">grad 0.0000</text>\n</g>\n<!-- 136787594541456&#45;&gt;136787594163728+ -->\n<g id=\"edge8\" class=\"edge\">\n<title>136787594541456&#45;&gt;136787594163728+</title>\n<path fill=\"none\" stroke=\"black\" d=\"M185.01,-62.6C194.49,-64.26 203.66,-65.88 211.9,-67.33\"/>\n<polygon fill=\"black\" stroke=\"black\" points=\"211.36,-70.78 221.81,-69.07 212.57,-63.89 211.36,-70.78\"/>\n</g>\n</g>\n</svg>\n",
            "text/plain": [
              "<graphviz.graphs.Digraph at 0x7c6857e011d0>"
            ]
          },
          "metadata": {},
          "execution_count": 579
        }
      ]
    },
    {
      "cell_type": "code",
      "source": [
        "L.grad=1"
      ],
      "metadata": {
        "id": "vfif7jEFh-VV"
      },
      "execution_count": 580,
      "outputs": []
    },
    {
      "cell_type": "code",
      "source": [
        "f"
      ],
      "metadata": {
        "colab": {
          "base_uri": "https://localhost:8080/"
        },
        "id": "ecpY1UCwXaEz",
        "outputId": "bb425f3d-5ca6-4d09-9278-308adb7c3836"
      },
      "execution_count": 581,
      "outputs": [
        {
          "output_type": "execute_result",
          "data": {
            "text/plain": [
              "Rank(data=-2)"
            ]
          },
          "metadata": {},
          "execution_count": 581
        }
      ]
    },
    {
      "cell_type": "code",
      "source": [
        "# L=d*f\n",
        "# so we calculate dL/dd\n",
        "# which is f\n",
        "d.grad=-2\n",
        "f.grad=10"
      ],
      "metadata": {
        "id": "PlFrX9smh-TT"
      },
      "execution_count": 582,
      "outputs": []
    },
    {
      "cell_type": "code",
      "source": [
        "draw_dot(L)"
      ],
      "metadata": {
        "id": "6-WzSpgWh-RD",
        "colab": {
          "base_uri": "https://localhost:8080/",
          "height": 192
        },
        "outputId": "4cd538fb-9dac-4b6d-9ab8-69b2fa12f0bd"
      },
      "execution_count": 583,
      "outputs": [
        {
          "output_type": "execute_result",
          "data": {
            "image/svg+xml": "<?xml version=\"1.0\" encoding=\"UTF-8\" standalone=\"no\"?>\n<!DOCTYPE svg PUBLIC \"-//W3C//DTD SVG 1.1//EN\"\n \"http://www.w3.org/Graphics/SVG/1.1/DTD/svg11.dtd\">\n<!-- Generated by graphviz version 2.43.0 (0)\n -->\n<!-- Title: %3 Pages: 1 -->\n<svg width=\"1150pt\" height=\"128pt\"\n viewBox=\"0.00 0.00 1150.00 128.00\" xmlns=\"http://www.w3.org/2000/svg\" xmlns:xlink=\"http://www.w3.org/1999/xlink\">\n<g id=\"graph0\" class=\"graph\" transform=\"scale(1 1) rotate(0) translate(4 124)\">\n<title>%3</title>\n<polygon fill=\"white\" stroke=\"transparent\" points=\"-4,4 -4,-124 1146,-124 1146,4 -4,4\"/>\n<!-- 136787594715152 -->\n<g id=\"node1\" class=\"node\">\n<title>136787594715152</title>\n<polygon fill=\"none\" stroke=\"black\" points=\"622,-82.5 622,-118.5 817,-118.5 817,-82.5 622,-82.5\"/>\n<text text-anchor=\"middle\" x=\"632.5\" y=\"-96.8\" font-family=\"Times,serif\" font-size=\"14.00\">f</text>\n<polyline fill=\"none\" stroke=\"black\" points=\"643,-82.5 643,-118.5 \"/>\n<text text-anchor=\"middle\" x=\"685.5\" y=\"-96.8\" font-family=\"Times,serif\" font-size=\"14.00\">data &#45;2.0000</text>\n<polyline fill=\"none\" stroke=\"black\" points=\"728,-82.5 728,-118.5 \"/>\n<text text-anchor=\"middle\" x=\"772.5\" y=\"-96.8\" font-family=\"Times,serif\" font-size=\"14.00\">grad 10.0000</text>\n</g>\n<!-- 136787606970704* -->\n<g id=\"node9\" class=\"node\">\n<title>136787606970704*</title>\n<ellipse fill=\"none\" stroke=\"black\" cx=\"880\" cy=\"-72.5\" rx=\"27\" ry=\"18\"/>\n<text text-anchor=\"middle\" x=\"880\" y=\"-68.8\" font-family=\"Times,serif\" font-size=\"14.00\">*</text>\n</g>\n<!-- 136787594715152&#45;&gt;136787606970704* -->\n<g id=\"edge9\" class=\"edge\">\n<title>136787594715152&#45;&gt;136787606970704*</title>\n<path fill=\"none\" stroke=\"black\" d=\"M817.27,-83.41C826.59,-81.76 835.57,-80.17 843.66,-78.74\"/>\n<polygon fill=\"black\" stroke=\"black\" points=\"844.49,-82.15 853.73,-76.96 843.28,-75.26 844.49,-82.15\"/>\n</g>\n<!-- 136787594163728 -->\n<g id=\"node2\" class=\"node\">\n<title>136787594163728</title>\n<polygon fill=\"none\" stroke=\"black\" points=\"311,-55.5 311,-91.5 496,-91.5 496,-55.5 311,-55.5\"/>\n<text text-anchor=\"middle\" x=\"322.5\" y=\"-69.8\" font-family=\"Times,serif\" font-size=\"14.00\">e</text>\n<polyline fill=\"none\" stroke=\"black\" points=\"334,-55.5 334,-91.5 \"/>\n<text text-anchor=\"middle\" x=\"374\" y=\"-69.8\" font-family=\"Times,serif\" font-size=\"14.00\">data 5.0000</text>\n<polyline fill=\"none\" stroke=\"black\" points=\"414,-55.5 414,-91.5 \"/>\n<text text-anchor=\"middle\" x=\"455\" y=\"-69.8\" font-family=\"Times,serif\" font-size=\"14.00\">grad 0.0000</text>\n</g>\n<!-- 136787592776272+ -->\n<g id=\"node5\" class=\"node\">\n<title>136787592776272+</title>\n<ellipse fill=\"none\" stroke=\"black\" cx=\"559\" cy=\"-45.5\" rx=\"27\" ry=\"18\"/>\n<text text-anchor=\"middle\" x=\"559\" y=\"-41.8\" font-family=\"Times,serif\" font-size=\"14.00\">+</text>\n</g>\n<!-- 136787594163728&#45;&gt;136787592776272+ -->\n<g id=\"edge7\" class=\"edge\">\n<title>136787594163728&#45;&gt;136787592776272+</title>\n<path fill=\"none\" stroke=\"black\" d=\"M496.01,-56.81C505.49,-55.08 514.66,-53.41 522.9,-51.9\"/>\n<polygon fill=\"black\" stroke=\"black\" points=\"523.6,-55.33 532.81,-50.09 522.35,-48.45 523.6,-55.33\"/>\n</g>\n<!-- 136787594163728+ -->\n<g id=\"node3\" class=\"node\">\n<title>136787594163728+</title>\n<ellipse fill=\"none\" stroke=\"black\" cx=\"248\" cy=\"-73.5\" rx=\"27\" ry=\"18\"/>\n<text text-anchor=\"middle\" x=\"248\" y=\"-69.8\" font-family=\"Times,serif\" font-size=\"14.00\">+</text>\n</g>\n<!-- 136787594163728+&#45;&gt;136787594163728 -->\n<g id=\"edge1\" class=\"edge\">\n<title>136787594163728+&#45;&gt;136787594163728</title>\n<path fill=\"none\" stroke=\"black\" d=\"M275.04,-73.5C282.58,-73.5 291.3,-73.5 300.57,-73.5\"/>\n<polygon fill=\"black\" stroke=\"black\" points=\"300.81,-77 310.81,-73.5 300.81,-70 300.81,-77\"/>\n</g>\n<!-- 136787592776272 -->\n<g id=\"node4\" class=\"node\">\n<title>136787592776272</title>\n<polygon fill=\"none\" stroke=\"black\" points=\"625,-27.5 625,-63.5 814,-63.5 814,-27.5 625,-27.5\"/>\n<text text-anchor=\"middle\" x=\"636.5\" y=\"-41.8\" font-family=\"Times,serif\" font-size=\"14.00\">d</text>\n<polyline fill=\"none\" stroke=\"black\" points=\"648,-27.5 648,-63.5 \"/>\n<text text-anchor=\"middle\" x=\"688\" y=\"-41.8\" font-family=\"Times,serif\" font-size=\"14.00\">data 9.0000</text>\n<polyline fill=\"none\" stroke=\"black\" points=\"728,-27.5 728,-63.5 \"/>\n<text text-anchor=\"middle\" x=\"771\" y=\"-41.8\" font-family=\"Times,serif\" font-size=\"14.00\">grad &#45;2.0000</text>\n</g>\n<!-- 136787592776272&#45;&gt;136787606970704* -->\n<g id=\"edge6\" class=\"edge\">\n<title>136787592776272&#45;&gt;136787606970704*</title>\n<path fill=\"none\" stroke=\"black\" d=\"M814.07,-61.44C824.48,-63.21 834.54,-64.93 843.52,-66.46\"/>\n<polygon fill=\"black\" stroke=\"black\" points=\"843.06,-69.93 853.51,-68.16 844.24,-63.03 843.06,-69.93\"/>\n</g>\n<!-- 136787592776272+&#45;&gt;136787592776272 -->\n<g id=\"edge2\" class=\"edge\">\n<title>136787592776272+&#45;&gt;136787592776272</title>\n<path fill=\"none\" stroke=\"black\" d=\"M586.17,-45.5C594.5,-45.5 604.28,-45.5 614.68,-45.5\"/>\n<polygon fill=\"black\" stroke=\"black\" points=\"614.82,-49 624.82,-45.5 614.82,-42 614.82,-49\"/>\n</g>\n<!-- 136787594714512 -->\n<g id=\"node6\" class=\"node\">\n<title>136787594714512</title>\n<polygon fill=\"none\" stroke=\"black\" points=\"311,-0.5 311,-36.5 496,-36.5 496,-0.5 311,-0.5\"/>\n<text text-anchor=\"middle\" x=\"322.5\" y=\"-14.8\" font-family=\"Times,serif\" font-size=\"14.00\">c</text>\n<polyline fill=\"none\" stroke=\"black\" points=\"334,-0.5 334,-36.5 \"/>\n<text text-anchor=\"middle\" x=\"374\" y=\"-14.8\" font-family=\"Times,serif\" font-size=\"14.00\">data 4.0000</text>\n<polyline fill=\"none\" stroke=\"black\" points=\"414,-0.5 414,-36.5 \"/>\n<text text-anchor=\"middle\" x=\"455\" y=\"-14.8\" font-family=\"Times,serif\" font-size=\"14.00\">grad 0.0000</text>\n</g>\n<!-- 136787594714512&#45;&gt;136787592776272+ -->\n<g id=\"edge5\" class=\"edge\">\n<title>136787594714512&#45;&gt;136787592776272+</title>\n<path fill=\"none\" stroke=\"black\" d=\"M496.01,-34.6C505.49,-36.26 514.66,-37.88 522.9,-39.33\"/>\n<polygon fill=\"black\" stroke=\"black\" points=\"522.36,-42.78 532.81,-41.07 523.57,-35.89 522.36,-42.78\"/>\n</g>\n<!-- 136787594528464 -->\n<g id=\"node7\" class=\"node\">\n<title>136787594528464</title>\n<polygon fill=\"none\" stroke=\"black\" points=\"0,-83.5 0,-119.5 185,-119.5 185,-83.5 0,-83.5\"/>\n<text text-anchor=\"middle\" x=\"11.5\" y=\"-97.8\" font-family=\"Times,serif\" font-size=\"14.00\">a</text>\n<polyline fill=\"none\" stroke=\"black\" points=\"23,-83.5 23,-119.5 \"/>\n<text text-anchor=\"middle\" x=\"63\" y=\"-97.8\" font-family=\"Times,serif\" font-size=\"14.00\">data 2.0000</text>\n<polyline fill=\"none\" stroke=\"black\" points=\"103,-83.5 103,-119.5 \"/>\n<text text-anchor=\"middle\" x=\"144\" y=\"-97.8\" font-family=\"Times,serif\" font-size=\"14.00\">grad 0.0000</text>\n</g>\n<!-- 136787594528464&#45;&gt;136787594163728+ -->\n<g id=\"edge4\" class=\"edge\">\n<title>136787594528464&#45;&gt;136787594163728+</title>\n<path fill=\"none\" stroke=\"black\" d=\"M185.01,-84.81C194.49,-83.08 203.66,-81.41 211.9,-79.9\"/>\n<polygon fill=\"black\" stroke=\"black\" points=\"212.6,-83.33 221.81,-78.09 211.35,-76.45 212.6,-83.33\"/>\n</g>\n<!-- 136787606970704 -->\n<g id=\"node8\" class=\"node\">\n<title>136787606970704</title>\n<polygon fill=\"none\" stroke=\"black\" points=\"943,-54.5 943,-90.5 1142,-90.5 1142,-54.5 943,-54.5\"/>\n<text text-anchor=\"middle\" x=\"955.5\" y=\"-68.8\" font-family=\"Times,serif\" font-size=\"14.00\">L</text>\n<polyline fill=\"none\" stroke=\"black\" points=\"968,-54.5 968,-90.5 \"/>\n<text text-anchor=\"middle\" x=\"1014\" y=\"-68.8\" font-family=\"Times,serif\" font-size=\"14.00\">data &#45;18.0000</text>\n<polyline fill=\"none\" stroke=\"black\" points=\"1060,-54.5 1060,-90.5 \"/>\n<text text-anchor=\"middle\" x=\"1101\" y=\"-68.8\" font-family=\"Times,serif\" font-size=\"14.00\">grad 1.0000</text>\n</g>\n<!-- 136787606970704*&#45;&gt;136787606970704 -->\n<g id=\"edge3\" class=\"edge\">\n<title>136787606970704*&#45;&gt;136787606970704</title>\n<path fill=\"none\" stroke=\"black\" d=\"M907.14,-72.5C914.65,-72.5 923.33,-72.5 932.6,-72.5\"/>\n<polygon fill=\"black\" stroke=\"black\" points=\"932.86,-76 942.86,-72.5 932.86,-69 932.86,-76\"/>\n</g>\n<!-- 136787594541456 -->\n<g id=\"node10\" class=\"node\">\n<title>136787594541456</title>\n<polygon fill=\"none\" stroke=\"black\" points=\"0,-28.5 0,-64.5 185,-64.5 185,-28.5 0,-28.5\"/>\n<text text-anchor=\"middle\" x=\"11.5\" y=\"-42.8\" font-family=\"Times,serif\" font-size=\"14.00\">b</text>\n<polyline fill=\"none\" stroke=\"black\" points=\"23,-28.5 23,-64.5 \"/>\n<text text-anchor=\"middle\" x=\"63\" y=\"-42.8\" font-family=\"Times,serif\" font-size=\"14.00\">data 3.0000</text>\n<polyline fill=\"none\" stroke=\"black\" points=\"103,-28.5 103,-64.5 \"/>\n<text text-anchor=\"middle\" x=\"144\" y=\"-42.8\" font-family=\"Times,serif\" font-size=\"14.00\">grad 0.0000</text>\n</g>\n<!-- 136787594541456&#45;&gt;136787594163728+ -->\n<g id=\"edge8\" class=\"edge\">\n<title>136787594541456&#45;&gt;136787594163728+</title>\n<path fill=\"none\" stroke=\"black\" d=\"M185.01,-62.6C194.49,-64.26 203.66,-65.88 211.9,-67.33\"/>\n<polygon fill=\"black\" stroke=\"black\" points=\"211.36,-70.78 221.81,-69.07 212.57,-63.89 211.36,-70.78\"/>\n</g>\n</g>\n</svg>\n",
            "text/plain": [
              "<graphviz.graphs.Digraph at 0x7c6857e09c50>"
            ]
          },
          "metadata": {},
          "execution_count": 583
        }
      ]
    },
    {
      "cell_type": "markdown",
      "source": [
        "# basically we are calculating every backpropagation manually\n"
      ],
      "metadata": {
        "id": "C7b1j3YPXkzy"
      }
    },
    {
      "cell_type": "code",
      "source": [
        "def manualBackPropagation():\n",
        "  h=0.001\n",
        "  a=Rank(2,label='a')\n",
        "  b=Rank(3,label='b')\n",
        "  c=Rank(4,label='c')\n",
        "  f=Rank(-2,label='f')\n",
        "  e=a+b\n",
        "  d=e+c\n",
        "  L=d*f\n",
        "  L.label='L'\n",
        "  L1=L.data\n",
        "\n",
        "  a=Rank(2,label='a')\n",
        "  b=Rank(3,label='b')\n",
        "  c=Rank(4,label='c')\n",
        "  f=Rank(-2,label='f')\n",
        "  a.data+=h\n",
        "  e=a+b\n",
        "\n",
        "  d=e+c\n",
        "\n",
        "  L=d*f\n",
        "\n",
        "\n",
        "\n",
        "  L.label='L'\n",
        "  L2=L.data\n",
        "\n",
        "  print((L2-L1)/h)\n",
        "\n",
        "\n",
        "\n",
        "manualBackPropagation()\n"
      ],
      "metadata": {
        "colab": {
          "base_uri": "https://localhost:8080/"
        },
        "id": "T3wrMSeyXl4a",
        "outputId": "900ab1a9-c1d6-4263-b9f3-89303f623552"
      },
      "execution_count": 584,
      "outputs": [
        {
          "output_type": "stream",
          "name": "stdout",
          "text": [
            "-1.9999999999988916\n"
          ]
        }
      ]
    },
    {
      "cell_type": "code",
      "source": [
        "c.grad=-2\n",
        "\n"
      ],
      "metadata": {
        "id": "RDDcbS2ph-Ou"
      },
      "execution_count": 585,
      "outputs": []
    },
    {
      "cell_type": "code",
      "source": [
        "draw_dot(L)"
      ],
      "metadata": {
        "id": "Y9GqcPn0h-Mh",
        "colab": {
          "base_uri": "https://localhost:8080/",
          "height": 192
        },
        "outputId": "01a6df9d-3691-473d-9fd2-154aab6751cc"
      },
      "execution_count": 586,
      "outputs": [
        {
          "output_type": "execute_result",
          "data": {
            "image/svg+xml": "<?xml version=\"1.0\" encoding=\"UTF-8\" standalone=\"no\"?>\n<!DOCTYPE svg PUBLIC \"-//W3C//DTD SVG 1.1//EN\"\n \"http://www.w3.org/Graphics/SVG/1.1/DTD/svg11.dtd\">\n<!-- Generated by graphviz version 2.43.0 (0)\n -->\n<!-- Title: %3 Pages: 1 -->\n<svg width=\"1154pt\" height=\"128pt\"\n viewBox=\"0.00 0.00 1154.00 128.00\" xmlns=\"http://www.w3.org/2000/svg\" xmlns:xlink=\"http://www.w3.org/1999/xlink\">\n<g id=\"graph0\" class=\"graph\" transform=\"scale(1 1) rotate(0) translate(4 124)\">\n<title>%3</title>\n<polygon fill=\"white\" stroke=\"transparent\" points=\"-4,4 -4,-124 1150,-124 1150,4 -4,4\"/>\n<!-- 136787594715152 -->\n<g id=\"node1\" class=\"node\">\n<title>136787594715152</title>\n<polygon fill=\"none\" stroke=\"black\" points=\"626,-82.5 626,-118.5 821,-118.5 821,-82.5 626,-82.5\"/>\n<text text-anchor=\"middle\" x=\"636.5\" y=\"-96.8\" font-family=\"Times,serif\" font-size=\"14.00\">f</text>\n<polyline fill=\"none\" stroke=\"black\" points=\"647,-82.5 647,-118.5 \"/>\n<text text-anchor=\"middle\" x=\"689.5\" y=\"-96.8\" font-family=\"Times,serif\" font-size=\"14.00\">data &#45;2.0000</text>\n<polyline fill=\"none\" stroke=\"black\" points=\"732,-82.5 732,-118.5 \"/>\n<text text-anchor=\"middle\" x=\"776.5\" y=\"-96.8\" font-family=\"Times,serif\" font-size=\"14.00\">grad 10.0000</text>\n</g>\n<!-- 136787606970704* -->\n<g id=\"node9\" class=\"node\">\n<title>136787606970704*</title>\n<ellipse fill=\"none\" stroke=\"black\" cx=\"884\" cy=\"-72.5\" rx=\"27\" ry=\"18\"/>\n<text text-anchor=\"middle\" x=\"884\" y=\"-68.8\" font-family=\"Times,serif\" font-size=\"14.00\">*</text>\n</g>\n<!-- 136787594715152&#45;&gt;136787606970704* -->\n<g id=\"edge9\" class=\"edge\">\n<title>136787594715152&#45;&gt;136787606970704*</title>\n<path fill=\"none\" stroke=\"black\" d=\"M821.27,-83.41C830.59,-81.76 839.57,-80.17 847.66,-78.74\"/>\n<polygon fill=\"black\" stroke=\"black\" points=\"848.49,-82.15 857.73,-76.96 847.28,-75.26 848.49,-82.15\"/>\n</g>\n<!-- 136787594163728 -->\n<g id=\"node2\" class=\"node\">\n<title>136787594163728</title>\n<polygon fill=\"none\" stroke=\"black\" points=\"313,-55.5 313,-91.5 498,-91.5 498,-55.5 313,-55.5\"/>\n<text text-anchor=\"middle\" x=\"324.5\" y=\"-69.8\" font-family=\"Times,serif\" font-size=\"14.00\">e</text>\n<polyline fill=\"none\" stroke=\"black\" points=\"336,-55.5 336,-91.5 \"/>\n<text text-anchor=\"middle\" x=\"376\" y=\"-69.8\" font-family=\"Times,serif\" font-size=\"14.00\">data 5.0000</text>\n<polyline fill=\"none\" stroke=\"black\" points=\"416,-55.5 416,-91.5 \"/>\n<text text-anchor=\"middle\" x=\"457\" y=\"-69.8\" font-family=\"Times,serif\" font-size=\"14.00\">grad 0.0000</text>\n</g>\n<!-- 136787592776272+ -->\n<g id=\"node5\" class=\"node\">\n<title>136787592776272+</title>\n<ellipse fill=\"none\" stroke=\"black\" cx=\"563\" cy=\"-45.5\" rx=\"27\" ry=\"18\"/>\n<text text-anchor=\"middle\" x=\"563\" y=\"-41.8\" font-family=\"Times,serif\" font-size=\"14.00\">+</text>\n</g>\n<!-- 136787594163728&#45;&gt;136787592776272+ -->\n<g id=\"edge7\" class=\"edge\">\n<title>136787594163728&#45;&gt;136787592776272+</title>\n<path fill=\"none\" stroke=\"black\" d=\"M498.3,-56.97C508.31,-55.17 517.99,-53.42 526.66,-51.86\"/>\n<polygon fill=\"black\" stroke=\"black\" points=\"527.46,-55.28 536.69,-50.06 526.22,-48.39 527.46,-55.28\"/>\n</g>\n<!-- 136787594163728+ -->\n<g id=\"node3\" class=\"node\">\n<title>136787594163728+</title>\n<ellipse fill=\"none\" stroke=\"black\" cx=\"248\" cy=\"-73.5\" rx=\"27\" ry=\"18\"/>\n<text text-anchor=\"middle\" x=\"248\" y=\"-69.8\" font-family=\"Times,serif\" font-size=\"14.00\">+</text>\n</g>\n<!-- 136787594163728+&#45;&gt;136787594163728 -->\n<g id=\"edge1\" class=\"edge\">\n<title>136787594163728+&#45;&gt;136787594163728</title>\n<path fill=\"none\" stroke=\"black\" d=\"M275.03,-73.5C283.13,-73.5 292.61,-73.5 302.69,-73.5\"/>\n<polygon fill=\"black\" stroke=\"black\" points=\"302.93,-77 312.93,-73.5 302.93,-70 302.93,-77\"/>\n</g>\n<!-- 136787592776272 -->\n<g id=\"node4\" class=\"node\">\n<title>136787592776272</title>\n<polygon fill=\"none\" stroke=\"black\" points=\"629,-27.5 629,-63.5 818,-63.5 818,-27.5 629,-27.5\"/>\n<text text-anchor=\"middle\" x=\"640.5\" y=\"-41.8\" font-family=\"Times,serif\" font-size=\"14.00\">d</text>\n<polyline fill=\"none\" stroke=\"black\" points=\"652,-27.5 652,-63.5 \"/>\n<text text-anchor=\"middle\" x=\"692\" y=\"-41.8\" font-family=\"Times,serif\" font-size=\"14.00\">data 9.0000</text>\n<polyline fill=\"none\" stroke=\"black\" points=\"732,-27.5 732,-63.5 \"/>\n<text text-anchor=\"middle\" x=\"775\" y=\"-41.8\" font-family=\"Times,serif\" font-size=\"14.00\">grad &#45;2.0000</text>\n</g>\n<!-- 136787592776272&#45;&gt;136787606970704* -->\n<g id=\"edge6\" class=\"edge\">\n<title>136787592776272&#45;&gt;136787606970704*</title>\n<path fill=\"none\" stroke=\"black\" d=\"M818.07,-61.44C828.48,-63.21 838.54,-64.93 847.52,-66.46\"/>\n<polygon fill=\"black\" stroke=\"black\" points=\"847.06,-69.93 857.51,-68.16 848.24,-63.03 847.06,-69.93\"/>\n</g>\n<!-- 136787592776272+&#45;&gt;136787592776272 -->\n<g id=\"edge2\" class=\"edge\">\n<title>136787592776272+&#45;&gt;136787592776272</title>\n<path fill=\"none\" stroke=\"black\" d=\"M590.17,-45.5C598.5,-45.5 608.28,-45.5 618.68,-45.5\"/>\n<polygon fill=\"black\" stroke=\"black\" points=\"618.82,-49 628.82,-45.5 618.82,-42 618.82,-49\"/>\n</g>\n<!-- 136787594714512 -->\n<g id=\"node6\" class=\"node\">\n<title>136787594714512</title>\n<polygon fill=\"none\" stroke=\"black\" points=\"311,-0.5 311,-36.5 500,-36.5 500,-0.5 311,-0.5\"/>\n<text text-anchor=\"middle\" x=\"322.5\" y=\"-14.8\" font-family=\"Times,serif\" font-size=\"14.00\">c</text>\n<polyline fill=\"none\" stroke=\"black\" points=\"334,-0.5 334,-36.5 \"/>\n<text text-anchor=\"middle\" x=\"374\" y=\"-14.8\" font-family=\"Times,serif\" font-size=\"14.00\">data 4.0000</text>\n<polyline fill=\"none\" stroke=\"black\" points=\"414,-0.5 414,-36.5 \"/>\n<text text-anchor=\"middle\" x=\"457\" y=\"-14.8\" font-family=\"Times,serif\" font-size=\"14.00\">grad &#45;2.0000</text>\n</g>\n<!-- 136787594714512&#45;&gt;136787592776272+ -->\n<g id=\"edge5\" class=\"edge\">\n<title>136787594714512&#45;&gt;136787592776272+</title>\n<path fill=\"none\" stroke=\"black\" d=\"M500.1,-34.75C509.4,-36.37 518.38,-37.93 526.49,-39.33\"/>\n<polygon fill=\"black\" stroke=\"black\" points=\"526.14,-42.83 536.59,-41.09 527.34,-35.93 526.14,-42.83\"/>\n</g>\n<!-- 136787594528464 -->\n<g id=\"node7\" class=\"node\">\n<title>136787594528464</title>\n<polygon fill=\"none\" stroke=\"black\" points=\"0,-83.5 0,-119.5 185,-119.5 185,-83.5 0,-83.5\"/>\n<text text-anchor=\"middle\" x=\"11.5\" y=\"-97.8\" font-family=\"Times,serif\" font-size=\"14.00\">a</text>\n<polyline fill=\"none\" stroke=\"black\" points=\"23,-83.5 23,-119.5 \"/>\n<text text-anchor=\"middle\" x=\"63\" y=\"-97.8\" font-family=\"Times,serif\" font-size=\"14.00\">data 2.0000</text>\n<polyline fill=\"none\" stroke=\"black\" points=\"103,-83.5 103,-119.5 \"/>\n<text text-anchor=\"middle\" x=\"144\" y=\"-97.8\" font-family=\"Times,serif\" font-size=\"14.00\">grad 0.0000</text>\n</g>\n<!-- 136787594528464&#45;&gt;136787594163728+ -->\n<g id=\"edge4\" class=\"edge\">\n<title>136787594528464&#45;&gt;136787594163728+</title>\n<path fill=\"none\" stroke=\"black\" d=\"M185.01,-84.81C194.49,-83.08 203.66,-81.41 211.9,-79.9\"/>\n<polygon fill=\"black\" stroke=\"black\" points=\"212.6,-83.33 221.81,-78.09 211.35,-76.45 212.6,-83.33\"/>\n</g>\n<!-- 136787606970704 -->\n<g id=\"node8\" class=\"node\">\n<title>136787606970704</title>\n<polygon fill=\"none\" stroke=\"black\" points=\"947,-54.5 947,-90.5 1146,-90.5 1146,-54.5 947,-54.5\"/>\n<text text-anchor=\"middle\" x=\"959.5\" y=\"-68.8\" font-family=\"Times,serif\" font-size=\"14.00\">L</text>\n<polyline fill=\"none\" stroke=\"black\" points=\"972,-54.5 972,-90.5 \"/>\n<text text-anchor=\"middle\" x=\"1018\" y=\"-68.8\" font-family=\"Times,serif\" font-size=\"14.00\">data &#45;18.0000</text>\n<polyline fill=\"none\" stroke=\"black\" points=\"1064,-54.5 1064,-90.5 \"/>\n<text text-anchor=\"middle\" x=\"1105\" y=\"-68.8\" font-family=\"Times,serif\" font-size=\"14.00\">grad 1.0000</text>\n</g>\n<!-- 136787606970704*&#45;&gt;136787606970704 -->\n<g id=\"edge3\" class=\"edge\">\n<title>136787606970704*&#45;&gt;136787606970704</title>\n<path fill=\"none\" stroke=\"black\" d=\"M911.14,-72.5C918.65,-72.5 927.33,-72.5 936.6,-72.5\"/>\n<polygon fill=\"black\" stroke=\"black\" points=\"936.86,-76 946.86,-72.5 936.86,-69 936.86,-76\"/>\n</g>\n<!-- 136787594541456 -->\n<g id=\"node10\" class=\"node\">\n<title>136787594541456</title>\n<polygon fill=\"none\" stroke=\"black\" points=\"0,-28.5 0,-64.5 185,-64.5 185,-28.5 0,-28.5\"/>\n<text text-anchor=\"middle\" x=\"11.5\" y=\"-42.8\" font-family=\"Times,serif\" font-size=\"14.00\">b</text>\n<polyline fill=\"none\" stroke=\"black\" points=\"23,-28.5 23,-64.5 \"/>\n<text text-anchor=\"middle\" x=\"63\" y=\"-42.8\" font-family=\"Times,serif\" font-size=\"14.00\">data 3.0000</text>\n<polyline fill=\"none\" stroke=\"black\" points=\"103,-28.5 103,-64.5 \"/>\n<text text-anchor=\"middle\" x=\"144\" y=\"-42.8\" font-family=\"Times,serif\" font-size=\"14.00\">grad 0.0000</text>\n</g>\n<!-- 136787594541456&#45;&gt;136787594163728+ -->\n<g id=\"edge8\" class=\"edge\">\n<title>136787594541456&#45;&gt;136787594163728+</title>\n<path fill=\"none\" stroke=\"black\" d=\"M185.01,-62.6C194.49,-64.26 203.66,-65.88 211.9,-67.33\"/>\n<polygon fill=\"black\" stroke=\"black\" points=\"211.36,-70.78 221.81,-69.07 212.57,-63.89 211.36,-70.78\"/>\n</g>\n</g>\n</svg>\n",
            "text/plain": [
              "<graphviz.graphs.Digraph at 0x7c6857e1fbd0>"
            ]
          },
          "metadata": {},
          "execution_count": 586
        }
      ]
    },
    {
      "cell_type": "code",
      "source": [
        "e.grad=-2\n",
        "a.grad=-2\n",
        "b.grad=-2"
      ],
      "metadata": {
        "id": "L_tRsle7da1r"
      },
      "execution_count": 587,
      "outputs": []
    },
    {
      "cell_type": "code",
      "source": [
        "draw_dot(L)"
      ],
      "metadata": {
        "colab": {
          "base_uri": "https://localhost:8080/",
          "height": 192
        },
        "id": "zaM1xJiddaw9",
        "outputId": "7f27d334-7ff4-4de8-9194-1cab8abfbf95"
      },
      "execution_count": 588,
      "outputs": [
        {
          "output_type": "execute_result",
          "data": {
            "image/svg+xml": "<?xml version=\"1.0\" encoding=\"UTF-8\" standalone=\"no\"?>\n<!DOCTYPE svg PUBLIC \"-//W3C//DTD SVG 1.1//EN\"\n \"http://www.w3.org/Graphics/SVG/1.1/DTD/svg11.dtd\">\n<!-- Generated by graphviz version 2.43.0 (0)\n -->\n<!-- Title: %3 Pages: 1 -->\n<svg width=\"1158pt\" height=\"128pt\"\n viewBox=\"0.00 0.00 1158.00 128.00\" xmlns=\"http://www.w3.org/2000/svg\" xmlns:xlink=\"http://www.w3.org/1999/xlink\">\n<g id=\"graph0\" class=\"graph\" transform=\"scale(1 1) rotate(0) translate(4 124)\">\n<title>%3</title>\n<polygon fill=\"white\" stroke=\"transparent\" points=\"-4,4 -4,-124 1154,-124 1154,4 -4,4\"/>\n<!-- 136787594715152 -->\n<g id=\"node1\" class=\"node\">\n<title>136787594715152</title>\n<polygon fill=\"none\" stroke=\"black\" points=\"630,-82.5 630,-118.5 825,-118.5 825,-82.5 630,-82.5\"/>\n<text text-anchor=\"middle\" x=\"640.5\" y=\"-96.8\" font-family=\"Times,serif\" font-size=\"14.00\">f</text>\n<polyline fill=\"none\" stroke=\"black\" points=\"651,-82.5 651,-118.5 \"/>\n<text text-anchor=\"middle\" x=\"693.5\" y=\"-96.8\" font-family=\"Times,serif\" font-size=\"14.00\">data &#45;2.0000</text>\n<polyline fill=\"none\" stroke=\"black\" points=\"736,-82.5 736,-118.5 \"/>\n<text text-anchor=\"middle\" x=\"780.5\" y=\"-96.8\" font-family=\"Times,serif\" font-size=\"14.00\">grad 10.0000</text>\n</g>\n<!-- 136787606970704* -->\n<g id=\"node9\" class=\"node\">\n<title>136787606970704*</title>\n<ellipse fill=\"none\" stroke=\"black\" cx=\"888\" cy=\"-72.5\" rx=\"27\" ry=\"18\"/>\n<text text-anchor=\"middle\" x=\"888\" y=\"-68.8\" font-family=\"Times,serif\" font-size=\"14.00\">*</text>\n</g>\n<!-- 136787594715152&#45;&gt;136787606970704* -->\n<g id=\"edge9\" class=\"edge\">\n<title>136787594715152&#45;&gt;136787606970704*</title>\n<path fill=\"none\" stroke=\"black\" d=\"M825.27,-83.41C834.59,-81.76 843.57,-80.17 851.66,-78.74\"/>\n<polygon fill=\"black\" stroke=\"black\" points=\"852.49,-82.15 861.73,-76.96 851.28,-75.26 852.49,-82.15\"/>\n</g>\n<!-- 136787594163728 -->\n<g id=\"node2\" class=\"node\">\n<title>136787594163728</title>\n<polygon fill=\"none\" stroke=\"black\" points=\"315,-55.5 315,-91.5 504,-91.5 504,-55.5 315,-55.5\"/>\n<text text-anchor=\"middle\" x=\"326.5\" y=\"-69.8\" font-family=\"Times,serif\" font-size=\"14.00\">e</text>\n<polyline fill=\"none\" stroke=\"black\" points=\"338,-55.5 338,-91.5 \"/>\n<text text-anchor=\"middle\" x=\"378\" y=\"-69.8\" font-family=\"Times,serif\" font-size=\"14.00\">data 5.0000</text>\n<polyline fill=\"none\" stroke=\"black\" points=\"418,-55.5 418,-91.5 \"/>\n<text text-anchor=\"middle\" x=\"461\" y=\"-69.8\" font-family=\"Times,serif\" font-size=\"14.00\">grad &#45;2.0000</text>\n</g>\n<!-- 136787592776272+ -->\n<g id=\"node5\" class=\"node\">\n<title>136787592776272+</title>\n<ellipse fill=\"none\" stroke=\"black\" cx=\"567\" cy=\"-45.5\" rx=\"27\" ry=\"18\"/>\n<text text-anchor=\"middle\" x=\"567\" y=\"-41.8\" font-family=\"Times,serif\" font-size=\"14.00\">+</text>\n</g>\n<!-- 136787594163728&#45;&gt;136787592776272+ -->\n<g id=\"edge7\" class=\"edge\">\n<title>136787594163728&#45;&gt;136787592776272+</title>\n<path fill=\"none\" stroke=\"black\" d=\"M504.1,-56.65C513.4,-54.97 522.38,-53.35 530.49,-51.89\"/>\n<polygon fill=\"black\" stroke=\"black\" points=\"531.37,-55.29 540.59,-50.07 530.13,-48.4 531.37,-55.29\"/>\n</g>\n<!-- 136787594163728+ -->\n<g id=\"node3\" class=\"node\">\n<title>136787594163728+</title>\n<ellipse fill=\"none\" stroke=\"black\" cx=\"252\" cy=\"-73.5\" rx=\"27\" ry=\"18\"/>\n<text text-anchor=\"middle\" x=\"252\" y=\"-69.8\" font-family=\"Times,serif\" font-size=\"14.00\">+</text>\n</g>\n<!-- 136787594163728+&#45;&gt;136787594163728 -->\n<g id=\"edge1\" class=\"edge\">\n<title>136787594163728+&#45;&gt;136787594163728</title>\n<path fill=\"none\" stroke=\"black\" d=\"M279.03,-73.5C286.66,-73.5 295.52,-73.5 304.94,-73.5\"/>\n<polygon fill=\"black\" stroke=\"black\" points=\"304.94,-77 314.94,-73.5 304.94,-70 304.94,-77\"/>\n</g>\n<!-- 136787592776272 -->\n<g id=\"node4\" class=\"node\">\n<title>136787592776272</title>\n<polygon fill=\"none\" stroke=\"black\" points=\"633,-27.5 633,-63.5 822,-63.5 822,-27.5 633,-27.5\"/>\n<text text-anchor=\"middle\" x=\"644.5\" y=\"-41.8\" font-family=\"Times,serif\" font-size=\"14.00\">d</text>\n<polyline fill=\"none\" stroke=\"black\" points=\"656,-27.5 656,-63.5 \"/>\n<text text-anchor=\"middle\" x=\"696\" y=\"-41.8\" font-family=\"Times,serif\" font-size=\"14.00\">data 9.0000</text>\n<polyline fill=\"none\" stroke=\"black\" points=\"736,-27.5 736,-63.5 \"/>\n<text text-anchor=\"middle\" x=\"779\" y=\"-41.8\" font-family=\"Times,serif\" font-size=\"14.00\">grad &#45;2.0000</text>\n</g>\n<!-- 136787592776272&#45;&gt;136787606970704* -->\n<g id=\"edge6\" class=\"edge\">\n<title>136787592776272&#45;&gt;136787606970704*</title>\n<path fill=\"none\" stroke=\"black\" d=\"M822.07,-61.44C832.48,-63.21 842.54,-64.93 851.52,-66.46\"/>\n<polygon fill=\"black\" stroke=\"black\" points=\"851.06,-69.93 861.51,-68.16 852.24,-63.03 851.06,-69.93\"/>\n</g>\n<!-- 136787592776272+&#45;&gt;136787592776272 -->\n<g id=\"edge2\" class=\"edge\">\n<title>136787592776272+&#45;&gt;136787592776272</title>\n<path fill=\"none\" stroke=\"black\" d=\"M594.17,-45.5C602.5,-45.5 612.28,-45.5 622.68,-45.5\"/>\n<polygon fill=\"black\" stroke=\"black\" points=\"622.82,-49 632.82,-45.5 622.82,-42 622.82,-49\"/>\n</g>\n<!-- 136787594714512 -->\n<g id=\"node6\" class=\"node\">\n<title>136787594714512</title>\n<polygon fill=\"none\" stroke=\"black\" points=\"315,-0.5 315,-36.5 504,-36.5 504,-0.5 315,-0.5\"/>\n<text text-anchor=\"middle\" x=\"326.5\" y=\"-14.8\" font-family=\"Times,serif\" font-size=\"14.00\">c</text>\n<polyline fill=\"none\" stroke=\"black\" points=\"338,-0.5 338,-36.5 \"/>\n<text text-anchor=\"middle\" x=\"378\" y=\"-14.8\" font-family=\"Times,serif\" font-size=\"14.00\">data 4.0000</text>\n<polyline fill=\"none\" stroke=\"black\" points=\"418,-0.5 418,-36.5 \"/>\n<text text-anchor=\"middle\" x=\"461\" y=\"-14.8\" font-family=\"Times,serif\" font-size=\"14.00\">grad &#45;2.0000</text>\n</g>\n<!-- 136787594714512&#45;&gt;136787592776272+ -->\n<g id=\"edge5\" class=\"edge\">\n<title>136787594714512&#45;&gt;136787592776272+</title>\n<path fill=\"none\" stroke=\"black\" d=\"M504.1,-34.75C513.4,-36.37 522.38,-37.93 530.49,-39.33\"/>\n<polygon fill=\"black\" stroke=\"black\" points=\"530.14,-42.83 540.59,-41.09 531.34,-35.93 530.14,-42.83\"/>\n</g>\n<!-- 136787594528464 -->\n<g id=\"node7\" class=\"node\">\n<title>136787594528464</title>\n<polygon fill=\"none\" stroke=\"black\" points=\"0,-83.5 0,-119.5 189,-119.5 189,-83.5 0,-83.5\"/>\n<text text-anchor=\"middle\" x=\"11.5\" y=\"-97.8\" font-family=\"Times,serif\" font-size=\"14.00\">a</text>\n<polyline fill=\"none\" stroke=\"black\" points=\"23,-83.5 23,-119.5 \"/>\n<text text-anchor=\"middle\" x=\"63\" y=\"-97.8\" font-family=\"Times,serif\" font-size=\"14.00\">data 2.0000</text>\n<polyline fill=\"none\" stroke=\"black\" points=\"103,-83.5 103,-119.5 \"/>\n<text text-anchor=\"middle\" x=\"146\" y=\"-97.8\" font-family=\"Times,serif\" font-size=\"14.00\">grad &#45;2.0000</text>\n</g>\n<!-- 136787594528464&#45;&gt;136787594163728+ -->\n<g id=\"edge4\" class=\"edge\">\n<title>136787594528464&#45;&gt;136787594163728+</title>\n<path fill=\"none\" stroke=\"black\" d=\"M189.1,-84.65C198.4,-82.97 207.38,-81.35 215.49,-79.89\"/>\n<polygon fill=\"black\" stroke=\"black\" points=\"216.37,-83.29 225.59,-78.07 215.13,-76.4 216.37,-83.29\"/>\n</g>\n<!-- 136787606970704 -->\n<g id=\"node8\" class=\"node\">\n<title>136787606970704</title>\n<polygon fill=\"none\" stroke=\"black\" points=\"951,-54.5 951,-90.5 1150,-90.5 1150,-54.5 951,-54.5\"/>\n<text text-anchor=\"middle\" x=\"963.5\" y=\"-68.8\" font-family=\"Times,serif\" font-size=\"14.00\">L</text>\n<polyline fill=\"none\" stroke=\"black\" points=\"976,-54.5 976,-90.5 \"/>\n<text text-anchor=\"middle\" x=\"1022\" y=\"-68.8\" font-family=\"Times,serif\" font-size=\"14.00\">data &#45;18.0000</text>\n<polyline fill=\"none\" stroke=\"black\" points=\"1068,-54.5 1068,-90.5 \"/>\n<text text-anchor=\"middle\" x=\"1109\" y=\"-68.8\" font-family=\"Times,serif\" font-size=\"14.00\">grad 1.0000</text>\n</g>\n<!-- 136787606970704*&#45;&gt;136787606970704 -->\n<g id=\"edge3\" class=\"edge\">\n<title>136787606970704*&#45;&gt;136787606970704</title>\n<path fill=\"none\" stroke=\"black\" d=\"M915.14,-72.5C922.65,-72.5 931.33,-72.5 940.6,-72.5\"/>\n<polygon fill=\"black\" stroke=\"black\" points=\"940.86,-76 950.86,-72.5 940.86,-69 940.86,-76\"/>\n</g>\n<!-- 136787594541456 -->\n<g id=\"node10\" class=\"node\">\n<title>136787594541456</title>\n<polygon fill=\"none\" stroke=\"black\" points=\"0,-28.5 0,-64.5 189,-64.5 189,-28.5 0,-28.5\"/>\n<text text-anchor=\"middle\" x=\"11.5\" y=\"-42.8\" font-family=\"Times,serif\" font-size=\"14.00\">b</text>\n<polyline fill=\"none\" stroke=\"black\" points=\"23,-28.5 23,-64.5 \"/>\n<text text-anchor=\"middle\" x=\"63\" y=\"-42.8\" font-family=\"Times,serif\" font-size=\"14.00\">data 3.0000</text>\n<polyline fill=\"none\" stroke=\"black\" points=\"103,-28.5 103,-64.5 \"/>\n<text text-anchor=\"middle\" x=\"146\" y=\"-42.8\" font-family=\"Times,serif\" font-size=\"14.00\">grad &#45;2.0000</text>\n</g>\n<!-- 136787594541456&#45;&gt;136787594163728+ -->\n<g id=\"edge8\" class=\"edge\">\n<title>136787594541456&#45;&gt;136787594163728+</title>\n<path fill=\"none\" stroke=\"black\" d=\"M189.1,-62.75C198.4,-64.37 207.38,-65.93 215.49,-67.33\"/>\n<polygon fill=\"black\" stroke=\"black\" points=\"215.14,-70.83 225.59,-69.09 216.34,-63.93 215.14,-70.83\"/>\n</g>\n</g>\n</svg>\n",
            "text/plain": [
              "<graphviz.graphs.Digraph at 0x7c6857fb2b50>"
            ]
          },
          "metadata": {},
          "execution_count": 588
        }
      ]
    },
    {
      "cell_type": "markdown",
      "source": [
        "# after calculating the grad we can nudge the changeable nodes\n",
        "\n",
        "\n",
        "\n"
      ],
      "metadata": {
        "id": "nZk2Fu-6eMdH"
      }
    },
    {
      "cell_type": "code",
      "source": [
        "a.data+=0.01*a.grad\n",
        "b.data+=0.01*b.grad\n",
        "c.data+=0.01*c.grad\n",
        "f.data+=0.01*f.grad\n",
        "e=a+b\n",
        "d=e+c\n",
        "L=d*f\n",
        "\n",
        "print(L)\n",
        "\n",
        "\n"
      ],
      "metadata": {
        "colab": {
          "base_uri": "https://localhost:8080/"
        },
        "id": "3qbFjwqxdasy",
        "outputId": "615991f8-0256-4520-ced1-8e1ebee29c51"
      },
      "execution_count": 589,
      "outputs": [
        {
          "output_type": "stream",
          "name": "stdout",
          "text": [
            "Rank(data=-16.985999999999997)\n"
          ]
        }
      ]
    },
    {
      "cell_type": "code",
      "source": [
        "#the value of  l is changed"
      ],
      "metadata": {
        "id": "ncRY73Okdap8"
      },
      "execution_count": 590,
      "outputs": []
    },
    {
      "cell_type": "markdown",
      "source": [
        "# making whole neural network using tanh as activation function\n",
        "\n",
        "---\n",
        "\n"
      ],
      "metadata": {
        "id": "C5R5aZxWg8iF"
      }
    },
    {
      "cell_type": "code",
      "source": [
        "# inputs x1,x2\n",
        "x1 = Rank(2.0, label='x1')\n",
        "x2 = Rank(0.0, label='x2')\n",
        "# weights w1,w2\n",
        "w1 = Rank(-3.0, label='w1')\n",
        "w2 = Rank(1.0, label='w2')\n",
        "# bias of the neuron\n",
        "b = Rank(6.8813735870195432, label='b')\n",
        "# x1*w1 + x2*w2 + b\n",
        "x1w1 = x1*w1; x1w1.label = 'x1*w1'\n",
        "x2w2 = x2*w2; x2w2.label = 'x2*w2'\n",
        "x1w1x2w2 = x1w1 + x2w2; x1w1x2w2.label = 'x1*w1 + x2*w2'\n",
        "n = x1w1x2w2 + b; n.label = 'n'\n",
        "o = n.tanh()\n",
        "o.label='o'\n"
      ],
      "metadata": {
        "id": "_lvczM-ggoTA"
      },
      "execution_count": 591,
      "outputs": []
    },
    {
      "cell_type": "code",
      "source": [
        "draw_dot(o)"
      ],
      "metadata": {
        "colab": {
          "base_uri": "https://localhost:8080/",
          "height": 321
        },
        "id": "fIQdZPpmgoPc",
        "outputId": "7015097f-e377-46aa-86ba-8356eb0a7eba"
      },
      "execution_count": 592,
      "outputs": [
        {
          "output_type": "execute_result",
          "data": {
            "image/svg+xml": "<?xml version=\"1.0\" encoding=\"UTF-8\" standalone=\"no\"?>\n<!DOCTYPE svg PUBLIC \"-//W3C//DTD SVG 1.1//EN\"\n \"http://www.w3.org/Graphics/SVG/1.1/DTD/svg11.dtd\">\n<!-- Generated by graphviz version 2.43.0 (0)\n -->\n<!-- Title: %3 Pages: 1 -->\n<svg width=\"1575pt\" height=\"210pt\"\n viewBox=\"0.00 0.00 1575.00 210.00\" xmlns=\"http://www.w3.org/2000/svg\" xmlns:xlink=\"http://www.w3.org/1999/xlink\">\n<g id=\"graph0\" class=\"graph\" transform=\"scale(1 1) rotate(0) translate(4 206)\">\n<title>%3</title>\n<polygon fill=\"white\" stroke=\"transparent\" points=\"-4,4 -4,-206 1571,-206 1571,4 -4,4\"/>\n<!-- 136787594522640 -->\n<g id=\"node1\" class=\"node\">\n<title>136787594522640</title>\n<polygon fill=\"none\" stroke=\"black\" points=\"1382,-109.5 1382,-145.5 1567,-145.5 1567,-109.5 1382,-109.5\"/>\n<text text-anchor=\"middle\" x=\"1393.5\" y=\"-123.8\" font-family=\"Times,serif\" font-size=\"14.00\">o</text>\n<polyline fill=\"none\" stroke=\"black\" points=\"1405,-109.5 1405,-145.5 \"/>\n<text text-anchor=\"middle\" x=\"1445\" y=\"-123.8\" font-family=\"Times,serif\" font-size=\"14.00\">data 0.7071</text>\n<polyline fill=\"none\" stroke=\"black\" points=\"1485,-109.5 1485,-145.5 \"/>\n<text text-anchor=\"middle\" x=\"1526\" y=\"-123.8\" font-family=\"Times,serif\" font-size=\"14.00\">grad 0.0000</text>\n</g>\n<!-- 136787594522640tanh -->\n<g id=\"node2\" class=\"node\">\n<title>136787594522640tanh</title>\n<ellipse fill=\"none\" stroke=\"black\" cx=\"1319\" cy=\"-127.5\" rx=\"27\" ry=\"18\"/>\n<text text-anchor=\"middle\" x=\"1319\" y=\"-123.8\" font-family=\"Times,serif\" font-size=\"14.00\">tanh</text>\n</g>\n<!-- 136787594522640tanh&#45;&gt;136787594522640 -->\n<g id=\"edge1\" class=\"edge\">\n<title>136787594522640tanh&#45;&gt;136787594522640</title>\n<path fill=\"none\" stroke=\"black\" d=\"M1346.04,-127.5C1353.58,-127.5 1362.3,-127.5 1371.57,-127.5\"/>\n<polygon fill=\"black\" stroke=\"black\" points=\"1371.81,-131 1381.81,-127.5 1371.81,-124 1371.81,-131\"/>\n</g>\n<!-- 136787594823760 -->\n<g id=\"node3\" class=\"node\">\n<title>136787594823760</title>\n<polygon fill=\"none\" stroke=\"black\" points=\"4,-165.5 4,-201.5 196,-201.5 196,-165.5 4,-165.5\"/>\n<text text-anchor=\"middle\" x=\"19\" y=\"-179.8\" font-family=\"Times,serif\" font-size=\"14.00\">x1</text>\n<polyline fill=\"none\" stroke=\"black\" points=\"34,-165.5 34,-201.5 \"/>\n<text text-anchor=\"middle\" x=\"74\" y=\"-179.8\" font-family=\"Times,serif\" font-size=\"14.00\">data 2.0000</text>\n<polyline fill=\"none\" stroke=\"black\" points=\"114,-165.5 114,-201.5 \"/>\n<text text-anchor=\"middle\" x=\"155\" y=\"-179.8\" font-family=\"Times,serif\" font-size=\"14.00\">grad 0.0000</text>\n</g>\n<!-- 136787594827920* -->\n<g id=\"node5\" class=\"node\">\n<title>136787594827920*</title>\n<ellipse fill=\"none\" stroke=\"black\" cx=\"263\" cy=\"-128.5\" rx=\"27\" ry=\"18\"/>\n<text text-anchor=\"middle\" x=\"263\" y=\"-124.8\" font-family=\"Times,serif\" font-size=\"14.00\">*</text>\n</g>\n<!-- 136787594823760&#45;&gt;136787594827920* -->\n<g id=\"edge6\" class=\"edge\">\n<title>136787594823760&#45;&gt;136787594827920*</title>\n<path fill=\"none\" stroke=\"black\" d=\"M172.53,-165.44C181.84,-162.67 191.2,-159.67 200,-156.5 210.53,-152.71 221.75,-147.9 231.72,-143.33\"/>\n<polygon fill=\"black\" stroke=\"black\" points=\"233.25,-146.48 240.82,-139.07 230.28,-140.14 233.25,-146.48\"/>\n</g>\n<!-- 136787594827920 -->\n<g id=\"node4\" class=\"node\">\n<title>136787594827920</title>\n<polygon fill=\"none\" stroke=\"black\" points=\"326,-110.5 326,-146.5 546,-146.5 546,-110.5 326,-110.5\"/>\n<text text-anchor=\"middle\" x=\"352.5\" y=\"-124.8\" font-family=\"Times,serif\" font-size=\"14.00\">x1*w1</text>\n<polyline fill=\"none\" stroke=\"black\" points=\"379,-110.5 379,-146.5 \"/>\n<text text-anchor=\"middle\" x=\"421.5\" y=\"-124.8\" font-family=\"Times,serif\" font-size=\"14.00\">data &#45;6.0000</text>\n<polyline fill=\"none\" stroke=\"black\" points=\"464,-110.5 464,-146.5 \"/>\n<text text-anchor=\"middle\" x=\"505\" y=\"-124.8\" font-family=\"Times,serif\" font-size=\"14.00\">grad 0.0000</text>\n</g>\n<!-- 136787594522000+ -->\n<g id=\"node14\" class=\"node\">\n<title>136787594522000+</title>\n<ellipse fill=\"none\" stroke=\"black\" cx=\"609\" cy=\"-100.5\" rx=\"27\" ry=\"18\"/>\n<text text-anchor=\"middle\" x=\"609\" y=\"-96.8\" font-family=\"Times,serif\" font-size=\"14.00\">+</text>\n</g>\n<!-- 136787594827920&#45;&gt;136787594522000+ -->\n<g id=\"edge13\" class=\"edge\">\n<title>136787594827920&#45;&gt;136787594522000+</title>\n<path fill=\"none\" stroke=\"black\" d=\"M546.27,-110.61C555.64,-109.07 564.6,-107.61 572.65,-106.29\"/>\n<polygon fill=\"black\" stroke=\"black\" points=\"573.35,-109.72 582.65,-104.65 572.22,-102.81 573.35,-109.72\"/>\n</g>\n<!-- 136787594827920*&#45;&gt;136787594827920 -->\n<g id=\"edge2\" class=\"edge\">\n<title>136787594827920*&#45;&gt;136787594827920</title>\n<path fill=\"none\" stroke=\"black\" d=\"M290.34,-128.5C297.77,-128.5 306.37,-128.5 315.6,-128.5\"/>\n<polygon fill=\"black\" stroke=\"black\" points=\"315.84,-132 325.84,-128.5 315.84,-125 315.84,-132\"/>\n</g>\n<!-- 136787594827664 -->\n<g id=\"node6\" class=\"node\">\n<title>136787594827664</title>\n<polygon fill=\"none\" stroke=\"black\" points=\"328.5,-55.5 328.5,-91.5 543.5,-91.5 543.5,-55.5 328.5,-55.5\"/>\n<text text-anchor=\"middle\" x=\"355\" y=\"-69.8\" font-family=\"Times,serif\" font-size=\"14.00\">x2*w2</text>\n<polyline fill=\"none\" stroke=\"black\" points=\"381.5,-55.5 381.5,-91.5 \"/>\n<text text-anchor=\"middle\" x=\"421.5\" y=\"-69.8\" font-family=\"Times,serif\" font-size=\"14.00\">data 0.0000</text>\n<polyline fill=\"none\" stroke=\"black\" points=\"461.5,-55.5 461.5,-91.5 \"/>\n<text text-anchor=\"middle\" x=\"502.5\" y=\"-69.8\" font-family=\"Times,serif\" font-size=\"14.00\">grad 0.0000</text>\n</g>\n<!-- 136787594827664&#45;&gt;136787594522000+ -->\n<g id=\"edge14\" class=\"edge\">\n<title>136787594827664&#45;&gt;136787594522000+</title>\n<path fill=\"none\" stroke=\"black\" d=\"M543.84,-90.37C554.01,-91.98 563.76,-93.51 572.44,-94.89\"/>\n<polygon fill=\"black\" stroke=\"black\" points=\"572.05,-98.37 582.47,-96.47 573.14,-91.45 572.05,-98.37\"/>\n</g>\n<!-- 136787594827664* -->\n<g id=\"node7\" class=\"node\">\n<title>136787594827664*</title>\n<ellipse fill=\"none\" stroke=\"black\" cx=\"263\" cy=\"-73.5\" rx=\"27\" ry=\"18\"/>\n<text text-anchor=\"middle\" x=\"263\" y=\"-69.8\" font-family=\"Times,serif\" font-size=\"14.00\">*</text>\n</g>\n<!-- 136787594827664*&#45;&gt;136787594827664 -->\n<g id=\"edge3\" class=\"edge\">\n<title>136787594827664*&#45;&gt;136787594827664</title>\n<path fill=\"none\" stroke=\"black\" d=\"M290.34,-73.5C298.51,-73.5 308.08,-73.5 318.36,-73.5\"/>\n<polygon fill=\"black\" stroke=\"black\" points=\"318.39,-77 328.39,-73.5 318.39,-70 318.39,-77\"/>\n</g>\n<!-- 136787594827408 -->\n<g id=\"node8\" class=\"node\">\n<title>136787594827408</title>\n<polygon fill=\"none\" stroke=\"black\" points=\"4,-55.5 4,-91.5 196,-91.5 196,-55.5 4,-55.5\"/>\n<text text-anchor=\"middle\" x=\"19\" y=\"-69.8\" font-family=\"Times,serif\" font-size=\"14.00\">x2</text>\n<polyline fill=\"none\" stroke=\"black\" points=\"34,-55.5 34,-91.5 \"/>\n<text text-anchor=\"middle\" x=\"74\" y=\"-69.8\" font-family=\"Times,serif\" font-size=\"14.00\">data 0.0000</text>\n<polyline fill=\"none\" stroke=\"black\" points=\"114,-55.5 114,-91.5 \"/>\n<text text-anchor=\"middle\" x=\"155\" y=\"-69.8\" font-family=\"Times,serif\" font-size=\"14.00\">grad 0.0000</text>\n</g>\n<!-- 136787594827408&#45;&gt;136787594827664* -->\n<g id=\"edge7\" class=\"edge\">\n<title>136787594827408&#45;&gt;136787594827664*</title>\n<path fill=\"none\" stroke=\"black\" d=\"M196.05,-73.5C206.52,-73.5 216.65,-73.5 225.71,-73.5\"/>\n<polygon fill=\"black\" stroke=\"black\" points=\"225.79,-77 235.79,-73.5 225.79,-70 225.79,-77\"/>\n</g>\n<!-- 136787594826960 -->\n<g id=\"node9\" class=\"node\">\n<title>136787594826960</title>\n<polygon fill=\"none\" stroke=\"black\" points=\"716,-137.5 716,-173.5 901,-173.5 901,-137.5 716,-137.5\"/>\n<text text-anchor=\"middle\" x=\"727.5\" y=\"-151.8\" font-family=\"Times,serif\" font-size=\"14.00\">b</text>\n<polyline fill=\"none\" stroke=\"black\" points=\"739,-137.5 739,-173.5 \"/>\n<text text-anchor=\"middle\" x=\"779\" y=\"-151.8\" font-family=\"Times,serif\" font-size=\"14.00\">data 6.8814</text>\n<polyline fill=\"none\" stroke=\"black\" points=\"819,-137.5 819,-173.5 \"/>\n<text text-anchor=\"middle\" x=\"860\" y=\"-151.8\" font-family=\"Times,serif\" font-size=\"14.00\">grad 0.0000</text>\n</g>\n<!-- 136787594518352+ -->\n<g id=\"node11\" class=\"node\">\n<title>136787594518352+</title>\n<ellipse fill=\"none\" stroke=\"black\" cx=\"1008\" cy=\"-127.5\" rx=\"27\" ry=\"18\"/>\n<text text-anchor=\"middle\" x=\"1008\" y=\"-123.8\" font-family=\"Times,serif\" font-size=\"14.00\">+</text>\n</g>\n<!-- 136787594826960&#45;&gt;136787594518352+ -->\n<g id=\"edge11\" class=\"edge\">\n<title>136787594826960&#45;&gt;136787594518352+</title>\n<path fill=\"none\" stroke=\"black\" d=\"M901.02,-142.52C926,-138.98 951.59,-135.36 971.37,-132.55\"/>\n<polygon fill=\"black\" stroke=\"black\" points=\"972.03,-135.99 981.43,-131.12 971.04,-129.06 972.03,-135.99\"/>\n</g>\n<!-- 136787594518352 -->\n<g id=\"node10\" class=\"node\">\n<title>136787594518352</title>\n<polygon fill=\"none\" stroke=\"black\" points=\"1071,-109.5 1071,-145.5 1256,-145.5 1256,-109.5 1071,-109.5\"/>\n<text text-anchor=\"middle\" x=\"1082.5\" y=\"-123.8\" font-family=\"Times,serif\" font-size=\"14.00\">n</text>\n<polyline fill=\"none\" stroke=\"black\" points=\"1094,-109.5 1094,-145.5 \"/>\n<text text-anchor=\"middle\" x=\"1134\" y=\"-123.8\" font-family=\"Times,serif\" font-size=\"14.00\">data 0.8814</text>\n<polyline fill=\"none\" stroke=\"black\" points=\"1174,-109.5 1174,-145.5 \"/>\n<text text-anchor=\"middle\" x=\"1215\" y=\"-123.8\" font-family=\"Times,serif\" font-size=\"14.00\">grad 0.0000</text>\n</g>\n<!-- 136787594518352&#45;&gt;136787594522640tanh -->\n<g id=\"edge9\" class=\"edge\">\n<title>136787594518352&#45;&gt;136787594522640tanh</title>\n<path fill=\"none\" stroke=\"black\" d=\"M1256.01,-127.5C1265.01,-127.5 1273.74,-127.5 1281.66,-127.5\"/>\n<polygon fill=\"black\" stroke=\"black\" points=\"1281.91,-131 1291.91,-127.5 1281.91,-124 1281.91,-131\"/>\n</g>\n<!-- 136787594518352+&#45;&gt;136787594518352 -->\n<g id=\"edge4\" class=\"edge\">\n<title>136787594518352+&#45;&gt;136787594518352</title>\n<path fill=\"none\" stroke=\"black\" d=\"M1035.04,-127.5C1042.58,-127.5 1051.3,-127.5 1060.57,-127.5\"/>\n<polygon fill=\"black\" stroke=\"black\" points=\"1060.81,-131 1070.81,-127.5 1060.81,-124 1060.81,-131\"/>\n</g>\n<!-- 136787594828112 -->\n<g id=\"node12\" class=\"node\">\n<title>136787594828112</title>\n<polygon fill=\"none\" stroke=\"black\" points=\"2.5,-0.5 2.5,-36.5 197.5,-36.5 197.5,-0.5 2.5,-0.5\"/>\n<text text-anchor=\"middle\" x=\"19\" y=\"-14.8\" font-family=\"Times,serif\" font-size=\"14.00\">w2</text>\n<polyline fill=\"none\" stroke=\"black\" points=\"35.5,-0.5 35.5,-36.5 \"/>\n<text text-anchor=\"middle\" x=\"75.5\" y=\"-14.8\" font-family=\"Times,serif\" font-size=\"14.00\">data 1.0000</text>\n<polyline fill=\"none\" stroke=\"black\" points=\"115.5,-0.5 115.5,-36.5 \"/>\n<text text-anchor=\"middle\" x=\"156.5\" y=\"-14.8\" font-family=\"Times,serif\" font-size=\"14.00\">grad 0.0000</text>\n</g>\n<!-- 136787594828112&#45;&gt;136787594827664* -->\n<g id=\"edge8\" class=\"edge\">\n<title>136787594828112&#45;&gt;136787594827664*</title>\n<path fill=\"none\" stroke=\"black\" d=\"M169.28,-36.5C179.65,-39.61 190.16,-42.98 200,-46.5 210.28,-50.17 221.28,-54.74 231.11,-59.07\"/>\n<polygon fill=\"black\" stroke=\"black\" points=\"229.93,-62.37 240.48,-63.27 232.79,-55.99 229.93,-62.37\"/>\n</g>\n<!-- 136787594522000 -->\n<g id=\"node13\" class=\"node\">\n<title>136787594522000</title>\n<polygon fill=\"none\" stroke=\"black\" points=\"672,-82.5 672,-118.5 945,-118.5 945,-82.5 672,-82.5\"/>\n<text text-anchor=\"middle\" x=\"725\" y=\"-96.8\" font-family=\"Times,serif\" font-size=\"14.00\">x1*w1 + x2*w2</text>\n<polyline fill=\"none\" stroke=\"black\" points=\"778,-82.5 778,-118.5 \"/>\n<text text-anchor=\"middle\" x=\"820.5\" y=\"-96.8\" font-family=\"Times,serif\" font-size=\"14.00\">data &#45;6.0000</text>\n<polyline fill=\"none\" stroke=\"black\" points=\"863,-82.5 863,-118.5 \"/>\n<text text-anchor=\"middle\" x=\"904\" y=\"-96.8\" font-family=\"Times,serif\" font-size=\"14.00\">grad 0.0000</text>\n</g>\n<!-- 136787594522000&#45;&gt;136787594518352+ -->\n<g id=\"edge12\" class=\"edge\">\n<title>136787594522000&#45;&gt;136787594518352+</title>\n<path fill=\"none\" stroke=\"black\" d=\"M941.24,-118.51C952.12,-120 962.4,-121.4 971.45,-122.64\"/>\n<polygon fill=\"black\" stroke=\"black\" points=\"971.11,-126.13 981.49,-124.01 972.05,-119.19 971.11,-126.13\"/>\n</g>\n<!-- 136787594522000+&#45;&gt;136787594522000 -->\n<g id=\"edge5\" class=\"edge\">\n<title>136787594522000+&#45;&gt;136787594522000</title>\n<path fill=\"none\" stroke=\"black\" d=\"M636.23,-100.5C643.7,-100.5 652.41,-100.5 661.87,-100.5\"/>\n<polygon fill=\"black\" stroke=\"black\" points=\"661.98,-104 671.98,-100.5 661.98,-97 661.98,-104\"/>\n</g>\n<!-- 136787594828240 -->\n<g id=\"node15\" class=\"node\">\n<title>136787594828240</title>\n<polygon fill=\"none\" stroke=\"black\" points=\"0,-110.5 0,-146.5 200,-146.5 200,-110.5 0,-110.5\"/>\n<text text-anchor=\"middle\" x=\"16.5\" y=\"-124.8\" font-family=\"Times,serif\" font-size=\"14.00\">w1</text>\n<polyline fill=\"none\" stroke=\"black\" points=\"33,-110.5 33,-146.5 \"/>\n<text text-anchor=\"middle\" x=\"75.5\" y=\"-124.8\" font-family=\"Times,serif\" font-size=\"14.00\">data &#45;3.0000</text>\n<polyline fill=\"none\" stroke=\"black\" points=\"118,-110.5 118,-146.5 \"/>\n<text text-anchor=\"middle\" x=\"159\" y=\"-124.8\" font-family=\"Times,serif\" font-size=\"14.00\">grad 0.0000</text>\n</g>\n<!-- 136787594828240&#45;&gt;136787594827920* -->\n<g id=\"edge10\" class=\"edge\">\n<title>136787594828240&#45;&gt;136787594827920*</title>\n<path fill=\"none\" stroke=\"black\" d=\"M200.21,-128.5C209.2,-128.5 217.86,-128.5 225.7,-128.5\"/>\n<polygon fill=\"black\" stroke=\"black\" points=\"225.85,-132 235.85,-128.5 225.85,-125 225.85,-132\"/>\n</g>\n</g>\n</svg>\n",
            "text/plain": [
              "<graphviz.graphs.Digraph at 0x7c6857e1fb10>"
            ]
          },
          "metadata": {},
          "execution_count": 592
        }
      ]
    },
    {
      "cell_type": "code",
      "source": [
        "o.grad=1"
      ],
      "metadata": {
        "id": "pz7m1sL3goMx"
      },
      "execution_count": 593,
      "outputs": []
    },
    {
      "cell_type": "code",
      "source": [
        "draw_dot(o)"
      ],
      "metadata": {
        "colab": {
          "base_uri": "https://localhost:8080/",
          "height": 321
        },
        "id": "iKAkO8LugoJ5",
        "outputId": "cdcbc50f-0c08-44f1-e51b-4a278cd7fb4b"
      },
      "execution_count": 594,
      "outputs": [
        {
          "output_type": "execute_result",
          "data": {
            "image/svg+xml": "<?xml version=\"1.0\" encoding=\"UTF-8\" standalone=\"no\"?>\n<!DOCTYPE svg PUBLIC \"-//W3C//DTD SVG 1.1//EN\"\n \"http://www.w3.org/Graphics/SVG/1.1/DTD/svg11.dtd\">\n<!-- Generated by graphviz version 2.43.0 (0)\n -->\n<!-- Title: %3 Pages: 1 -->\n<svg width=\"1575pt\" height=\"210pt\"\n viewBox=\"0.00 0.00 1575.00 210.00\" xmlns=\"http://www.w3.org/2000/svg\" xmlns:xlink=\"http://www.w3.org/1999/xlink\">\n<g id=\"graph0\" class=\"graph\" transform=\"scale(1 1) rotate(0) translate(4 206)\">\n<title>%3</title>\n<polygon fill=\"white\" stroke=\"transparent\" points=\"-4,4 -4,-206 1571,-206 1571,4 -4,4\"/>\n<!-- 136787594522640 -->\n<g id=\"node1\" class=\"node\">\n<title>136787594522640</title>\n<polygon fill=\"none\" stroke=\"black\" points=\"1382,-109.5 1382,-145.5 1567,-145.5 1567,-109.5 1382,-109.5\"/>\n<text text-anchor=\"middle\" x=\"1393.5\" y=\"-123.8\" font-family=\"Times,serif\" font-size=\"14.00\">o</text>\n<polyline fill=\"none\" stroke=\"black\" points=\"1405,-109.5 1405,-145.5 \"/>\n<text text-anchor=\"middle\" x=\"1445\" y=\"-123.8\" font-family=\"Times,serif\" font-size=\"14.00\">data 0.7071</text>\n<polyline fill=\"none\" stroke=\"black\" points=\"1485,-109.5 1485,-145.5 \"/>\n<text text-anchor=\"middle\" x=\"1526\" y=\"-123.8\" font-family=\"Times,serif\" font-size=\"14.00\">grad 1.0000</text>\n</g>\n<!-- 136787594522640tanh -->\n<g id=\"node2\" class=\"node\">\n<title>136787594522640tanh</title>\n<ellipse fill=\"none\" stroke=\"black\" cx=\"1319\" cy=\"-127.5\" rx=\"27\" ry=\"18\"/>\n<text text-anchor=\"middle\" x=\"1319\" y=\"-123.8\" font-family=\"Times,serif\" font-size=\"14.00\">tanh</text>\n</g>\n<!-- 136787594522640tanh&#45;&gt;136787594522640 -->\n<g id=\"edge1\" class=\"edge\">\n<title>136787594522640tanh&#45;&gt;136787594522640</title>\n<path fill=\"none\" stroke=\"black\" d=\"M1346.04,-127.5C1353.58,-127.5 1362.3,-127.5 1371.57,-127.5\"/>\n<polygon fill=\"black\" stroke=\"black\" points=\"1371.81,-131 1381.81,-127.5 1371.81,-124 1371.81,-131\"/>\n</g>\n<!-- 136787594823760 -->\n<g id=\"node3\" class=\"node\">\n<title>136787594823760</title>\n<polygon fill=\"none\" stroke=\"black\" points=\"4,-165.5 4,-201.5 196,-201.5 196,-165.5 4,-165.5\"/>\n<text text-anchor=\"middle\" x=\"19\" y=\"-179.8\" font-family=\"Times,serif\" font-size=\"14.00\">x1</text>\n<polyline fill=\"none\" stroke=\"black\" points=\"34,-165.5 34,-201.5 \"/>\n<text text-anchor=\"middle\" x=\"74\" y=\"-179.8\" font-family=\"Times,serif\" font-size=\"14.00\">data 2.0000</text>\n<polyline fill=\"none\" stroke=\"black\" points=\"114,-165.5 114,-201.5 \"/>\n<text text-anchor=\"middle\" x=\"155\" y=\"-179.8\" font-family=\"Times,serif\" font-size=\"14.00\">grad 0.0000</text>\n</g>\n<!-- 136787594827920* -->\n<g id=\"node5\" class=\"node\">\n<title>136787594827920*</title>\n<ellipse fill=\"none\" stroke=\"black\" cx=\"263\" cy=\"-128.5\" rx=\"27\" ry=\"18\"/>\n<text text-anchor=\"middle\" x=\"263\" y=\"-124.8\" font-family=\"Times,serif\" font-size=\"14.00\">*</text>\n</g>\n<!-- 136787594823760&#45;&gt;136787594827920* -->\n<g id=\"edge6\" class=\"edge\">\n<title>136787594823760&#45;&gt;136787594827920*</title>\n<path fill=\"none\" stroke=\"black\" d=\"M172.53,-165.44C181.84,-162.67 191.2,-159.67 200,-156.5 210.53,-152.71 221.75,-147.9 231.72,-143.33\"/>\n<polygon fill=\"black\" stroke=\"black\" points=\"233.25,-146.48 240.82,-139.07 230.28,-140.14 233.25,-146.48\"/>\n</g>\n<!-- 136787594827920 -->\n<g id=\"node4\" class=\"node\">\n<title>136787594827920</title>\n<polygon fill=\"none\" stroke=\"black\" points=\"326,-110.5 326,-146.5 546,-146.5 546,-110.5 326,-110.5\"/>\n<text text-anchor=\"middle\" x=\"352.5\" y=\"-124.8\" font-family=\"Times,serif\" font-size=\"14.00\">x1*w1</text>\n<polyline fill=\"none\" stroke=\"black\" points=\"379,-110.5 379,-146.5 \"/>\n<text text-anchor=\"middle\" x=\"421.5\" y=\"-124.8\" font-family=\"Times,serif\" font-size=\"14.00\">data &#45;6.0000</text>\n<polyline fill=\"none\" stroke=\"black\" points=\"464,-110.5 464,-146.5 \"/>\n<text text-anchor=\"middle\" x=\"505\" y=\"-124.8\" font-family=\"Times,serif\" font-size=\"14.00\">grad 0.0000</text>\n</g>\n<!-- 136787594522000+ -->\n<g id=\"node14\" class=\"node\">\n<title>136787594522000+</title>\n<ellipse fill=\"none\" stroke=\"black\" cx=\"609\" cy=\"-100.5\" rx=\"27\" ry=\"18\"/>\n<text text-anchor=\"middle\" x=\"609\" y=\"-96.8\" font-family=\"Times,serif\" font-size=\"14.00\">+</text>\n</g>\n<!-- 136787594827920&#45;&gt;136787594522000+ -->\n<g id=\"edge13\" class=\"edge\">\n<title>136787594827920&#45;&gt;136787594522000+</title>\n<path fill=\"none\" stroke=\"black\" d=\"M546.27,-110.61C555.64,-109.07 564.6,-107.61 572.65,-106.29\"/>\n<polygon fill=\"black\" stroke=\"black\" points=\"573.35,-109.72 582.65,-104.65 572.22,-102.81 573.35,-109.72\"/>\n</g>\n<!-- 136787594827920*&#45;&gt;136787594827920 -->\n<g id=\"edge2\" class=\"edge\">\n<title>136787594827920*&#45;&gt;136787594827920</title>\n<path fill=\"none\" stroke=\"black\" d=\"M290.34,-128.5C297.77,-128.5 306.37,-128.5 315.6,-128.5\"/>\n<polygon fill=\"black\" stroke=\"black\" points=\"315.84,-132 325.84,-128.5 315.84,-125 315.84,-132\"/>\n</g>\n<!-- 136787594827664 -->\n<g id=\"node6\" class=\"node\">\n<title>136787594827664</title>\n<polygon fill=\"none\" stroke=\"black\" points=\"328.5,-55.5 328.5,-91.5 543.5,-91.5 543.5,-55.5 328.5,-55.5\"/>\n<text text-anchor=\"middle\" x=\"355\" y=\"-69.8\" font-family=\"Times,serif\" font-size=\"14.00\">x2*w2</text>\n<polyline fill=\"none\" stroke=\"black\" points=\"381.5,-55.5 381.5,-91.5 \"/>\n<text text-anchor=\"middle\" x=\"421.5\" y=\"-69.8\" font-family=\"Times,serif\" font-size=\"14.00\">data 0.0000</text>\n<polyline fill=\"none\" stroke=\"black\" points=\"461.5,-55.5 461.5,-91.5 \"/>\n<text text-anchor=\"middle\" x=\"502.5\" y=\"-69.8\" font-family=\"Times,serif\" font-size=\"14.00\">grad 0.0000</text>\n</g>\n<!-- 136787594827664&#45;&gt;136787594522000+ -->\n<g id=\"edge14\" class=\"edge\">\n<title>136787594827664&#45;&gt;136787594522000+</title>\n<path fill=\"none\" stroke=\"black\" d=\"M543.84,-90.37C554.01,-91.98 563.76,-93.51 572.44,-94.89\"/>\n<polygon fill=\"black\" stroke=\"black\" points=\"572.05,-98.37 582.47,-96.47 573.14,-91.45 572.05,-98.37\"/>\n</g>\n<!-- 136787594827664* -->\n<g id=\"node7\" class=\"node\">\n<title>136787594827664*</title>\n<ellipse fill=\"none\" stroke=\"black\" cx=\"263\" cy=\"-73.5\" rx=\"27\" ry=\"18\"/>\n<text text-anchor=\"middle\" x=\"263\" y=\"-69.8\" font-family=\"Times,serif\" font-size=\"14.00\">*</text>\n</g>\n<!-- 136787594827664*&#45;&gt;136787594827664 -->\n<g id=\"edge3\" class=\"edge\">\n<title>136787594827664*&#45;&gt;136787594827664</title>\n<path fill=\"none\" stroke=\"black\" d=\"M290.34,-73.5C298.51,-73.5 308.08,-73.5 318.36,-73.5\"/>\n<polygon fill=\"black\" stroke=\"black\" points=\"318.39,-77 328.39,-73.5 318.39,-70 318.39,-77\"/>\n</g>\n<!-- 136787594827408 -->\n<g id=\"node8\" class=\"node\">\n<title>136787594827408</title>\n<polygon fill=\"none\" stroke=\"black\" points=\"4,-55.5 4,-91.5 196,-91.5 196,-55.5 4,-55.5\"/>\n<text text-anchor=\"middle\" x=\"19\" y=\"-69.8\" font-family=\"Times,serif\" font-size=\"14.00\">x2</text>\n<polyline fill=\"none\" stroke=\"black\" points=\"34,-55.5 34,-91.5 \"/>\n<text text-anchor=\"middle\" x=\"74\" y=\"-69.8\" font-family=\"Times,serif\" font-size=\"14.00\">data 0.0000</text>\n<polyline fill=\"none\" stroke=\"black\" points=\"114,-55.5 114,-91.5 \"/>\n<text text-anchor=\"middle\" x=\"155\" y=\"-69.8\" font-family=\"Times,serif\" font-size=\"14.00\">grad 0.0000</text>\n</g>\n<!-- 136787594827408&#45;&gt;136787594827664* -->\n<g id=\"edge7\" class=\"edge\">\n<title>136787594827408&#45;&gt;136787594827664*</title>\n<path fill=\"none\" stroke=\"black\" d=\"M196.05,-73.5C206.52,-73.5 216.65,-73.5 225.71,-73.5\"/>\n<polygon fill=\"black\" stroke=\"black\" points=\"225.79,-77 235.79,-73.5 225.79,-70 225.79,-77\"/>\n</g>\n<!-- 136787594826960 -->\n<g id=\"node9\" class=\"node\">\n<title>136787594826960</title>\n<polygon fill=\"none\" stroke=\"black\" points=\"716,-137.5 716,-173.5 901,-173.5 901,-137.5 716,-137.5\"/>\n<text text-anchor=\"middle\" x=\"727.5\" y=\"-151.8\" font-family=\"Times,serif\" font-size=\"14.00\">b</text>\n<polyline fill=\"none\" stroke=\"black\" points=\"739,-137.5 739,-173.5 \"/>\n<text text-anchor=\"middle\" x=\"779\" y=\"-151.8\" font-family=\"Times,serif\" font-size=\"14.00\">data 6.8814</text>\n<polyline fill=\"none\" stroke=\"black\" points=\"819,-137.5 819,-173.5 \"/>\n<text text-anchor=\"middle\" x=\"860\" y=\"-151.8\" font-family=\"Times,serif\" font-size=\"14.00\">grad 0.0000</text>\n</g>\n<!-- 136787594518352+ -->\n<g id=\"node11\" class=\"node\">\n<title>136787594518352+</title>\n<ellipse fill=\"none\" stroke=\"black\" cx=\"1008\" cy=\"-127.5\" rx=\"27\" ry=\"18\"/>\n<text text-anchor=\"middle\" x=\"1008\" y=\"-123.8\" font-family=\"Times,serif\" font-size=\"14.00\">+</text>\n</g>\n<!-- 136787594826960&#45;&gt;136787594518352+ -->\n<g id=\"edge11\" class=\"edge\">\n<title>136787594826960&#45;&gt;136787594518352+</title>\n<path fill=\"none\" stroke=\"black\" d=\"M901.02,-142.52C926,-138.98 951.59,-135.36 971.37,-132.55\"/>\n<polygon fill=\"black\" stroke=\"black\" points=\"972.03,-135.99 981.43,-131.12 971.04,-129.06 972.03,-135.99\"/>\n</g>\n<!-- 136787594518352 -->\n<g id=\"node10\" class=\"node\">\n<title>136787594518352</title>\n<polygon fill=\"none\" stroke=\"black\" points=\"1071,-109.5 1071,-145.5 1256,-145.5 1256,-109.5 1071,-109.5\"/>\n<text text-anchor=\"middle\" x=\"1082.5\" y=\"-123.8\" font-family=\"Times,serif\" font-size=\"14.00\">n</text>\n<polyline fill=\"none\" stroke=\"black\" points=\"1094,-109.5 1094,-145.5 \"/>\n<text text-anchor=\"middle\" x=\"1134\" y=\"-123.8\" font-family=\"Times,serif\" font-size=\"14.00\">data 0.8814</text>\n<polyline fill=\"none\" stroke=\"black\" points=\"1174,-109.5 1174,-145.5 \"/>\n<text text-anchor=\"middle\" x=\"1215\" y=\"-123.8\" font-family=\"Times,serif\" font-size=\"14.00\">grad 0.0000</text>\n</g>\n<!-- 136787594518352&#45;&gt;136787594522640tanh -->\n<g id=\"edge9\" class=\"edge\">\n<title>136787594518352&#45;&gt;136787594522640tanh</title>\n<path fill=\"none\" stroke=\"black\" d=\"M1256.01,-127.5C1265.01,-127.5 1273.74,-127.5 1281.66,-127.5\"/>\n<polygon fill=\"black\" stroke=\"black\" points=\"1281.91,-131 1291.91,-127.5 1281.91,-124 1281.91,-131\"/>\n</g>\n<!-- 136787594518352+&#45;&gt;136787594518352 -->\n<g id=\"edge4\" class=\"edge\">\n<title>136787594518352+&#45;&gt;136787594518352</title>\n<path fill=\"none\" stroke=\"black\" d=\"M1035.04,-127.5C1042.58,-127.5 1051.3,-127.5 1060.57,-127.5\"/>\n<polygon fill=\"black\" stroke=\"black\" points=\"1060.81,-131 1070.81,-127.5 1060.81,-124 1060.81,-131\"/>\n</g>\n<!-- 136787594828112 -->\n<g id=\"node12\" class=\"node\">\n<title>136787594828112</title>\n<polygon fill=\"none\" stroke=\"black\" points=\"2.5,-0.5 2.5,-36.5 197.5,-36.5 197.5,-0.5 2.5,-0.5\"/>\n<text text-anchor=\"middle\" x=\"19\" y=\"-14.8\" font-family=\"Times,serif\" font-size=\"14.00\">w2</text>\n<polyline fill=\"none\" stroke=\"black\" points=\"35.5,-0.5 35.5,-36.5 \"/>\n<text text-anchor=\"middle\" x=\"75.5\" y=\"-14.8\" font-family=\"Times,serif\" font-size=\"14.00\">data 1.0000</text>\n<polyline fill=\"none\" stroke=\"black\" points=\"115.5,-0.5 115.5,-36.5 \"/>\n<text text-anchor=\"middle\" x=\"156.5\" y=\"-14.8\" font-family=\"Times,serif\" font-size=\"14.00\">grad 0.0000</text>\n</g>\n<!-- 136787594828112&#45;&gt;136787594827664* -->\n<g id=\"edge8\" class=\"edge\">\n<title>136787594828112&#45;&gt;136787594827664*</title>\n<path fill=\"none\" stroke=\"black\" d=\"M169.28,-36.5C179.65,-39.61 190.16,-42.98 200,-46.5 210.28,-50.17 221.28,-54.74 231.11,-59.07\"/>\n<polygon fill=\"black\" stroke=\"black\" points=\"229.93,-62.37 240.48,-63.27 232.79,-55.99 229.93,-62.37\"/>\n</g>\n<!-- 136787594522000 -->\n<g id=\"node13\" class=\"node\">\n<title>136787594522000</title>\n<polygon fill=\"none\" stroke=\"black\" points=\"672,-82.5 672,-118.5 945,-118.5 945,-82.5 672,-82.5\"/>\n<text text-anchor=\"middle\" x=\"725\" y=\"-96.8\" font-family=\"Times,serif\" font-size=\"14.00\">x1*w1 + x2*w2</text>\n<polyline fill=\"none\" stroke=\"black\" points=\"778,-82.5 778,-118.5 \"/>\n<text text-anchor=\"middle\" x=\"820.5\" y=\"-96.8\" font-family=\"Times,serif\" font-size=\"14.00\">data &#45;6.0000</text>\n<polyline fill=\"none\" stroke=\"black\" points=\"863,-82.5 863,-118.5 \"/>\n<text text-anchor=\"middle\" x=\"904\" y=\"-96.8\" font-family=\"Times,serif\" font-size=\"14.00\">grad 0.0000</text>\n</g>\n<!-- 136787594522000&#45;&gt;136787594518352+ -->\n<g id=\"edge12\" class=\"edge\">\n<title>136787594522000&#45;&gt;136787594518352+</title>\n<path fill=\"none\" stroke=\"black\" d=\"M941.24,-118.51C952.12,-120 962.4,-121.4 971.45,-122.64\"/>\n<polygon fill=\"black\" stroke=\"black\" points=\"971.11,-126.13 981.49,-124.01 972.05,-119.19 971.11,-126.13\"/>\n</g>\n<!-- 136787594522000+&#45;&gt;136787594522000 -->\n<g id=\"edge5\" class=\"edge\">\n<title>136787594522000+&#45;&gt;136787594522000</title>\n<path fill=\"none\" stroke=\"black\" d=\"M636.23,-100.5C643.7,-100.5 652.41,-100.5 661.87,-100.5\"/>\n<polygon fill=\"black\" stroke=\"black\" points=\"661.98,-104 671.98,-100.5 661.98,-97 661.98,-104\"/>\n</g>\n<!-- 136787594828240 -->\n<g id=\"node15\" class=\"node\">\n<title>136787594828240</title>\n<polygon fill=\"none\" stroke=\"black\" points=\"0,-110.5 0,-146.5 200,-146.5 200,-110.5 0,-110.5\"/>\n<text text-anchor=\"middle\" x=\"16.5\" y=\"-124.8\" font-family=\"Times,serif\" font-size=\"14.00\">w1</text>\n<polyline fill=\"none\" stroke=\"black\" points=\"33,-110.5 33,-146.5 \"/>\n<text text-anchor=\"middle\" x=\"75.5\" y=\"-124.8\" font-family=\"Times,serif\" font-size=\"14.00\">data &#45;3.0000</text>\n<polyline fill=\"none\" stroke=\"black\" points=\"118,-110.5 118,-146.5 \"/>\n<text text-anchor=\"middle\" x=\"159\" y=\"-124.8\" font-family=\"Times,serif\" font-size=\"14.00\">grad 0.0000</text>\n</g>\n<!-- 136787594828240&#45;&gt;136787594827920* -->\n<g id=\"edge10\" class=\"edge\">\n<title>136787594828240&#45;&gt;136787594827920*</title>\n<path fill=\"none\" stroke=\"black\" d=\"M200.21,-128.5C209.2,-128.5 217.86,-128.5 225.7,-128.5\"/>\n<polygon fill=\"black\" stroke=\"black\" points=\"225.85,-132 235.85,-128.5 225.85,-125 225.85,-132\"/>\n</g>\n</g>\n</svg>\n",
            "text/plain": [
              "<graphviz.graphs.Digraph at 0x7c6857ffcc50>"
            ]
          },
          "metadata": {},
          "execution_count": 594
        }
      ]
    },
    {
      "cell_type": "code",
      "source": [
        "# d(tanh)/dx= 1 - tanh**2"
      ],
      "metadata": {
        "id": "ji3C4upIgoHV"
      },
      "execution_count": 595,
      "outputs": []
    },
    {
      "cell_type": "code",
      "source": [
        "# o = tanh(n)\n",
        "# do/dn = 1 - o**2"
      ],
      "metadata": {
        "id": "Qw5DUwovgoEt"
      },
      "execution_count": 596,
      "outputs": []
    },
    {
      "cell_type": "code",
      "source": [
        "n.grad=0.5"
      ],
      "metadata": {
        "id": "venXkU4agoB3"
      },
      "execution_count": 597,
      "outputs": []
    },
    {
      "cell_type": "code",
      "source": [
        "x1w1x2w2.grad=0.5\n",
        "x1w1.grad=0.5\n",
        "x2w2.grad=0.5\n",
        "b.grad=0.5\n"
      ],
      "metadata": {
        "id": "trbXo-Q4gn_e"
      },
      "execution_count": 598,
      "outputs": []
    },
    {
      "cell_type": "code",
      "source": [
        "x2.grad=w2.data * x2w2.grad\n",
        "w2.grad= x2.data *x2w2.grad"
      ],
      "metadata": {
        "id": "qpj6GReXgn8p"
      },
      "execution_count": 599,
      "outputs": []
    },
    {
      "cell_type": "code",
      "source": [
        "draw_dot(o)"
      ],
      "metadata": {
        "id": "0iFMBlaVgn55",
        "colab": {
          "base_uri": "https://localhost:8080/",
          "height": 321
        },
        "outputId": "ccc68951-ee13-4851-e42b-3559144a4a5b"
      },
      "execution_count": 600,
      "outputs": [
        {
          "output_type": "execute_result",
          "data": {
            "image/svg+xml": "<?xml version=\"1.0\" encoding=\"UTF-8\" standalone=\"no\"?>\n<!DOCTYPE svg PUBLIC \"-//W3C//DTD SVG 1.1//EN\"\n \"http://www.w3.org/Graphics/SVG/1.1/DTD/svg11.dtd\">\n<!-- Generated by graphviz version 2.43.0 (0)\n -->\n<!-- Title: %3 Pages: 1 -->\n<svg width=\"1575pt\" height=\"210pt\"\n viewBox=\"0.00 0.00 1575.00 210.00\" xmlns=\"http://www.w3.org/2000/svg\" xmlns:xlink=\"http://www.w3.org/1999/xlink\">\n<g id=\"graph0\" class=\"graph\" transform=\"scale(1 1) rotate(0) translate(4 206)\">\n<title>%3</title>\n<polygon fill=\"white\" stroke=\"transparent\" points=\"-4,4 -4,-206 1571,-206 1571,4 -4,4\"/>\n<!-- 136787594522640 -->\n<g id=\"node1\" class=\"node\">\n<title>136787594522640</title>\n<polygon fill=\"none\" stroke=\"black\" points=\"1382,-109.5 1382,-145.5 1567,-145.5 1567,-109.5 1382,-109.5\"/>\n<text text-anchor=\"middle\" x=\"1393.5\" y=\"-123.8\" font-family=\"Times,serif\" font-size=\"14.00\">o</text>\n<polyline fill=\"none\" stroke=\"black\" points=\"1405,-109.5 1405,-145.5 \"/>\n<text text-anchor=\"middle\" x=\"1445\" y=\"-123.8\" font-family=\"Times,serif\" font-size=\"14.00\">data 0.7071</text>\n<polyline fill=\"none\" stroke=\"black\" points=\"1485,-109.5 1485,-145.5 \"/>\n<text text-anchor=\"middle\" x=\"1526\" y=\"-123.8\" font-family=\"Times,serif\" font-size=\"14.00\">grad 1.0000</text>\n</g>\n<!-- 136787594522640tanh -->\n<g id=\"node2\" class=\"node\">\n<title>136787594522640tanh</title>\n<ellipse fill=\"none\" stroke=\"black\" cx=\"1319\" cy=\"-127.5\" rx=\"27\" ry=\"18\"/>\n<text text-anchor=\"middle\" x=\"1319\" y=\"-123.8\" font-family=\"Times,serif\" font-size=\"14.00\">tanh</text>\n</g>\n<!-- 136787594522640tanh&#45;&gt;136787594522640 -->\n<g id=\"edge1\" class=\"edge\">\n<title>136787594522640tanh&#45;&gt;136787594522640</title>\n<path fill=\"none\" stroke=\"black\" d=\"M1346.04,-127.5C1353.58,-127.5 1362.3,-127.5 1371.57,-127.5\"/>\n<polygon fill=\"black\" stroke=\"black\" points=\"1371.81,-131 1381.81,-127.5 1371.81,-124 1371.81,-131\"/>\n</g>\n<!-- 136787594823760 -->\n<g id=\"node3\" class=\"node\">\n<title>136787594823760</title>\n<polygon fill=\"none\" stroke=\"black\" points=\"4,-165.5 4,-201.5 196,-201.5 196,-165.5 4,-165.5\"/>\n<text text-anchor=\"middle\" x=\"19\" y=\"-179.8\" font-family=\"Times,serif\" font-size=\"14.00\">x1</text>\n<polyline fill=\"none\" stroke=\"black\" points=\"34,-165.5 34,-201.5 \"/>\n<text text-anchor=\"middle\" x=\"74\" y=\"-179.8\" font-family=\"Times,serif\" font-size=\"14.00\">data 2.0000</text>\n<polyline fill=\"none\" stroke=\"black\" points=\"114,-165.5 114,-201.5 \"/>\n<text text-anchor=\"middle\" x=\"155\" y=\"-179.8\" font-family=\"Times,serif\" font-size=\"14.00\">grad 0.0000</text>\n</g>\n<!-- 136787594827920* -->\n<g id=\"node5\" class=\"node\">\n<title>136787594827920*</title>\n<ellipse fill=\"none\" stroke=\"black\" cx=\"263\" cy=\"-128.5\" rx=\"27\" ry=\"18\"/>\n<text text-anchor=\"middle\" x=\"263\" y=\"-124.8\" font-family=\"Times,serif\" font-size=\"14.00\">*</text>\n</g>\n<!-- 136787594823760&#45;&gt;136787594827920* -->\n<g id=\"edge6\" class=\"edge\">\n<title>136787594823760&#45;&gt;136787594827920*</title>\n<path fill=\"none\" stroke=\"black\" d=\"M172.53,-165.44C181.84,-162.67 191.2,-159.67 200,-156.5 210.53,-152.71 221.75,-147.9 231.72,-143.33\"/>\n<polygon fill=\"black\" stroke=\"black\" points=\"233.25,-146.48 240.82,-139.07 230.28,-140.14 233.25,-146.48\"/>\n</g>\n<!-- 136787594827920 -->\n<g id=\"node4\" class=\"node\">\n<title>136787594827920</title>\n<polygon fill=\"none\" stroke=\"black\" points=\"326,-110.5 326,-146.5 546,-146.5 546,-110.5 326,-110.5\"/>\n<text text-anchor=\"middle\" x=\"352.5\" y=\"-124.8\" font-family=\"Times,serif\" font-size=\"14.00\">x1*w1</text>\n<polyline fill=\"none\" stroke=\"black\" points=\"379,-110.5 379,-146.5 \"/>\n<text text-anchor=\"middle\" x=\"421.5\" y=\"-124.8\" font-family=\"Times,serif\" font-size=\"14.00\">data &#45;6.0000</text>\n<polyline fill=\"none\" stroke=\"black\" points=\"464,-110.5 464,-146.5 \"/>\n<text text-anchor=\"middle\" x=\"505\" y=\"-124.8\" font-family=\"Times,serif\" font-size=\"14.00\">grad 0.5000</text>\n</g>\n<!-- 136787594522000+ -->\n<g id=\"node14\" class=\"node\">\n<title>136787594522000+</title>\n<ellipse fill=\"none\" stroke=\"black\" cx=\"609\" cy=\"-100.5\" rx=\"27\" ry=\"18\"/>\n<text text-anchor=\"middle\" x=\"609\" y=\"-96.8\" font-family=\"Times,serif\" font-size=\"14.00\">+</text>\n</g>\n<!-- 136787594827920&#45;&gt;136787594522000+ -->\n<g id=\"edge13\" class=\"edge\">\n<title>136787594827920&#45;&gt;136787594522000+</title>\n<path fill=\"none\" stroke=\"black\" d=\"M546.27,-110.61C555.64,-109.07 564.6,-107.61 572.65,-106.29\"/>\n<polygon fill=\"black\" stroke=\"black\" points=\"573.35,-109.72 582.65,-104.65 572.22,-102.81 573.35,-109.72\"/>\n</g>\n<!-- 136787594827920*&#45;&gt;136787594827920 -->\n<g id=\"edge2\" class=\"edge\">\n<title>136787594827920*&#45;&gt;136787594827920</title>\n<path fill=\"none\" stroke=\"black\" d=\"M290.34,-128.5C297.77,-128.5 306.37,-128.5 315.6,-128.5\"/>\n<polygon fill=\"black\" stroke=\"black\" points=\"315.84,-132 325.84,-128.5 315.84,-125 315.84,-132\"/>\n</g>\n<!-- 136787594827664 -->\n<g id=\"node6\" class=\"node\">\n<title>136787594827664</title>\n<polygon fill=\"none\" stroke=\"black\" points=\"328.5,-55.5 328.5,-91.5 543.5,-91.5 543.5,-55.5 328.5,-55.5\"/>\n<text text-anchor=\"middle\" x=\"355\" y=\"-69.8\" font-family=\"Times,serif\" font-size=\"14.00\">x2*w2</text>\n<polyline fill=\"none\" stroke=\"black\" points=\"381.5,-55.5 381.5,-91.5 \"/>\n<text text-anchor=\"middle\" x=\"421.5\" y=\"-69.8\" font-family=\"Times,serif\" font-size=\"14.00\">data 0.0000</text>\n<polyline fill=\"none\" stroke=\"black\" points=\"461.5,-55.5 461.5,-91.5 \"/>\n<text text-anchor=\"middle\" x=\"502.5\" y=\"-69.8\" font-family=\"Times,serif\" font-size=\"14.00\">grad 0.5000</text>\n</g>\n<!-- 136787594827664&#45;&gt;136787594522000+ -->\n<g id=\"edge14\" class=\"edge\">\n<title>136787594827664&#45;&gt;136787594522000+</title>\n<path fill=\"none\" stroke=\"black\" d=\"M543.84,-90.37C554.01,-91.98 563.76,-93.51 572.44,-94.89\"/>\n<polygon fill=\"black\" stroke=\"black\" points=\"572.05,-98.37 582.47,-96.47 573.14,-91.45 572.05,-98.37\"/>\n</g>\n<!-- 136787594827664* -->\n<g id=\"node7\" class=\"node\">\n<title>136787594827664*</title>\n<ellipse fill=\"none\" stroke=\"black\" cx=\"263\" cy=\"-73.5\" rx=\"27\" ry=\"18\"/>\n<text text-anchor=\"middle\" x=\"263\" y=\"-69.8\" font-family=\"Times,serif\" font-size=\"14.00\">*</text>\n</g>\n<!-- 136787594827664*&#45;&gt;136787594827664 -->\n<g id=\"edge3\" class=\"edge\">\n<title>136787594827664*&#45;&gt;136787594827664</title>\n<path fill=\"none\" stroke=\"black\" d=\"M290.34,-73.5C298.51,-73.5 308.08,-73.5 318.36,-73.5\"/>\n<polygon fill=\"black\" stroke=\"black\" points=\"318.39,-77 328.39,-73.5 318.39,-70 318.39,-77\"/>\n</g>\n<!-- 136787594827408 -->\n<g id=\"node8\" class=\"node\">\n<title>136787594827408</title>\n<polygon fill=\"none\" stroke=\"black\" points=\"4,-55.5 4,-91.5 196,-91.5 196,-55.5 4,-55.5\"/>\n<text text-anchor=\"middle\" x=\"19\" y=\"-69.8\" font-family=\"Times,serif\" font-size=\"14.00\">x2</text>\n<polyline fill=\"none\" stroke=\"black\" points=\"34,-55.5 34,-91.5 \"/>\n<text text-anchor=\"middle\" x=\"74\" y=\"-69.8\" font-family=\"Times,serif\" font-size=\"14.00\">data 0.0000</text>\n<polyline fill=\"none\" stroke=\"black\" points=\"114,-55.5 114,-91.5 \"/>\n<text text-anchor=\"middle\" x=\"155\" y=\"-69.8\" font-family=\"Times,serif\" font-size=\"14.00\">grad 0.5000</text>\n</g>\n<!-- 136787594827408&#45;&gt;136787594827664* -->\n<g id=\"edge7\" class=\"edge\">\n<title>136787594827408&#45;&gt;136787594827664*</title>\n<path fill=\"none\" stroke=\"black\" d=\"M196.05,-73.5C206.52,-73.5 216.65,-73.5 225.71,-73.5\"/>\n<polygon fill=\"black\" stroke=\"black\" points=\"225.79,-77 235.79,-73.5 225.79,-70 225.79,-77\"/>\n</g>\n<!-- 136787594826960 -->\n<g id=\"node9\" class=\"node\">\n<title>136787594826960</title>\n<polygon fill=\"none\" stroke=\"black\" points=\"716,-137.5 716,-173.5 901,-173.5 901,-137.5 716,-137.5\"/>\n<text text-anchor=\"middle\" x=\"727.5\" y=\"-151.8\" font-family=\"Times,serif\" font-size=\"14.00\">b</text>\n<polyline fill=\"none\" stroke=\"black\" points=\"739,-137.5 739,-173.5 \"/>\n<text text-anchor=\"middle\" x=\"779\" y=\"-151.8\" font-family=\"Times,serif\" font-size=\"14.00\">data 6.8814</text>\n<polyline fill=\"none\" stroke=\"black\" points=\"819,-137.5 819,-173.5 \"/>\n<text text-anchor=\"middle\" x=\"860\" y=\"-151.8\" font-family=\"Times,serif\" font-size=\"14.00\">grad 0.5000</text>\n</g>\n<!-- 136787594518352+ -->\n<g id=\"node11\" class=\"node\">\n<title>136787594518352+</title>\n<ellipse fill=\"none\" stroke=\"black\" cx=\"1008\" cy=\"-127.5\" rx=\"27\" ry=\"18\"/>\n<text text-anchor=\"middle\" x=\"1008\" y=\"-123.8\" font-family=\"Times,serif\" font-size=\"14.00\">+</text>\n</g>\n<!-- 136787594826960&#45;&gt;136787594518352+ -->\n<g id=\"edge11\" class=\"edge\">\n<title>136787594826960&#45;&gt;136787594518352+</title>\n<path fill=\"none\" stroke=\"black\" d=\"M901.02,-142.52C926,-138.98 951.59,-135.36 971.37,-132.55\"/>\n<polygon fill=\"black\" stroke=\"black\" points=\"972.03,-135.99 981.43,-131.12 971.04,-129.06 972.03,-135.99\"/>\n</g>\n<!-- 136787594518352 -->\n<g id=\"node10\" class=\"node\">\n<title>136787594518352</title>\n<polygon fill=\"none\" stroke=\"black\" points=\"1071,-109.5 1071,-145.5 1256,-145.5 1256,-109.5 1071,-109.5\"/>\n<text text-anchor=\"middle\" x=\"1082.5\" y=\"-123.8\" font-family=\"Times,serif\" font-size=\"14.00\">n</text>\n<polyline fill=\"none\" stroke=\"black\" points=\"1094,-109.5 1094,-145.5 \"/>\n<text text-anchor=\"middle\" x=\"1134\" y=\"-123.8\" font-family=\"Times,serif\" font-size=\"14.00\">data 0.8814</text>\n<polyline fill=\"none\" stroke=\"black\" points=\"1174,-109.5 1174,-145.5 \"/>\n<text text-anchor=\"middle\" x=\"1215\" y=\"-123.8\" font-family=\"Times,serif\" font-size=\"14.00\">grad 0.5000</text>\n</g>\n<!-- 136787594518352&#45;&gt;136787594522640tanh -->\n<g id=\"edge9\" class=\"edge\">\n<title>136787594518352&#45;&gt;136787594522640tanh</title>\n<path fill=\"none\" stroke=\"black\" d=\"M1256.01,-127.5C1265.01,-127.5 1273.74,-127.5 1281.66,-127.5\"/>\n<polygon fill=\"black\" stroke=\"black\" points=\"1281.91,-131 1291.91,-127.5 1281.91,-124 1281.91,-131\"/>\n</g>\n<!-- 136787594518352+&#45;&gt;136787594518352 -->\n<g id=\"edge4\" class=\"edge\">\n<title>136787594518352+&#45;&gt;136787594518352</title>\n<path fill=\"none\" stroke=\"black\" d=\"M1035.04,-127.5C1042.58,-127.5 1051.3,-127.5 1060.57,-127.5\"/>\n<polygon fill=\"black\" stroke=\"black\" points=\"1060.81,-131 1070.81,-127.5 1060.81,-124 1060.81,-131\"/>\n</g>\n<!-- 136787594828112 -->\n<g id=\"node12\" class=\"node\">\n<title>136787594828112</title>\n<polygon fill=\"none\" stroke=\"black\" points=\"2.5,-0.5 2.5,-36.5 197.5,-36.5 197.5,-0.5 2.5,-0.5\"/>\n<text text-anchor=\"middle\" x=\"19\" y=\"-14.8\" font-family=\"Times,serif\" font-size=\"14.00\">w2</text>\n<polyline fill=\"none\" stroke=\"black\" points=\"35.5,-0.5 35.5,-36.5 \"/>\n<text text-anchor=\"middle\" x=\"75.5\" y=\"-14.8\" font-family=\"Times,serif\" font-size=\"14.00\">data 1.0000</text>\n<polyline fill=\"none\" stroke=\"black\" points=\"115.5,-0.5 115.5,-36.5 \"/>\n<text text-anchor=\"middle\" x=\"156.5\" y=\"-14.8\" font-family=\"Times,serif\" font-size=\"14.00\">grad 0.0000</text>\n</g>\n<!-- 136787594828112&#45;&gt;136787594827664* -->\n<g id=\"edge8\" class=\"edge\">\n<title>136787594828112&#45;&gt;136787594827664*</title>\n<path fill=\"none\" stroke=\"black\" d=\"M169.28,-36.5C179.65,-39.61 190.16,-42.98 200,-46.5 210.28,-50.17 221.28,-54.74 231.11,-59.07\"/>\n<polygon fill=\"black\" stroke=\"black\" points=\"229.93,-62.37 240.48,-63.27 232.79,-55.99 229.93,-62.37\"/>\n</g>\n<!-- 136787594522000 -->\n<g id=\"node13\" class=\"node\">\n<title>136787594522000</title>\n<polygon fill=\"none\" stroke=\"black\" points=\"672,-82.5 672,-118.5 945,-118.5 945,-82.5 672,-82.5\"/>\n<text text-anchor=\"middle\" x=\"725\" y=\"-96.8\" font-family=\"Times,serif\" font-size=\"14.00\">x1*w1 + x2*w2</text>\n<polyline fill=\"none\" stroke=\"black\" points=\"778,-82.5 778,-118.5 \"/>\n<text text-anchor=\"middle\" x=\"820.5\" y=\"-96.8\" font-family=\"Times,serif\" font-size=\"14.00\">data &#45;6.0000</text>\n<polyline fill=\"none\" stroke=\"black\" points=\"863,-82.5 863,-118.5 \"/>\n<text text-anchor=\"middle\" x=\"904\" y=\"-96.8\" font-family=\"Times,serif\" font-size=\"14.00\">grad 0.5000</text>\n</g>\n<!-- 136787594522000&#45;&gt;136787594518352+ -->\n<g id=\"edge12\" class=\"edge\">\n<title>136787594522000&#45;&gt;136787594518352+</title>\n<path fill=\"none\" stroke=\"black\" d=\"M941.24,-118.51C952.12,-120 962.4,-121.4 971.45,-122.64\"/>\n<polygon fill=\"black\" stroke=\"black\" points=\"971.11,-126.13 981.49,-124.01 972.05,-119.19 971.11,-126.13\"/>\n</g>\n<!-- 136787594522000+&#45;&gt;136787594522000 -->\n<g id=\"edge5\" class=\"edge\">\n<title>136787594522000+&#45;&gt;136787594522000</title>\n<path fill=\"none\" stroke=\"black\" d=\"M636.23,-100.5C643.7,-100.5 652.41,-100.5 661.87,-100.5\"/>\n<polygon fill=\"black\" stroke=\"black\" points=\"661.98,-104 671.98,-100.5 661.98,-97 661.98,-104\"/>\n</g>\n<!-- 136787594828240 -->\n<g id=\"node15\" class=\"node\">\n<title>136787594828240</title>\n<polygon fill=\"none\" stroke=\"black\" points=\"0,-110.5 0,-146.5 200,-146.5 200,-110.5 0,-110.5\"/>\n<text text-anchor=\"middle\" x=\"16.5\" y=\"-124.8\" font-family=\"Times,serif\" font-size=\"14.00\">w1</text>\n<polyline fill=\"none\" stroke=\"black\" points=\"33,-110.5 33,-146.5 \"/>\n<text text-anchor=\"middle\" x=\"75.5\" y=\"-124.8\" font-family=\"Times,serif\" font-size=\"14.00\">data &#45;3.0000</text>\n<polyline fill=\"none\" stroke=\"black\" points=\"118,-110.5 118,-146.5 \"/>\n<text text-anchor=\"middle\" x=\"159\" y=\"-124.8\" font-family=\"Times,serif\" font-size=\"14.00\">grad 0.0000</text>\n</g>\n<!-- 136787594828240&#45;&gt;136787594827920* -->\n<g id=\"edge10\" class=\"edge\">\n<title>136787594828240&#45;&gt;136787594827920*</title>\n<path fill=\"none\" stroke=\"black\" d=\"M200.21,-128.5C209.2,-128.5 217.86,-128.5 225.7,-128.5\"/>\n<polygon fill=\"black\" stroke=\"black\" points=\"225.85,-132 235.85,-128.5 225.85,-125 225.85,-132\"/>\n</g>\n</g>\n</svg>\n",
            "text/plain": [
              "<graphviz.graphs.Digraph at 0x7c6857ffd5d0>"
            ]
          },
          "metadata": {},
          "execution_count": 600
        }
      ]
    },
    {
      "cell_type": "code",
      "source": [
        "x1.grad=w1.data * x1w1.grad\n",
        "w1.grad= x1.data * x1w1.grad"
      ],
      "metadata": {
        "id": "I8hBPh0qgn3H"
      },
      "execution_count": 601,
      "outputs": []
    },
    {
      "cell_type": "code",
      "source": [
        "draw_dot(o)"
      ],
      "metadata": {
        "id": "2fJHGlXCgn0c",
        "colab": {
          "base_uri": "https://localhost:8080/",
          "height": 321
        },
        "outputId": "71ee7d49-e495-400a-e3d3-13e1e422b559"
      },
      "execution_count": 602,
      "outputs": [
        {
          "output_type": "execute_result",
          "data": {
            "image/svg+xml": "<?xml version=\"1.0\" encoding=\"UTF-8\" standalone=\"no\"?>\n<!DOCTYPE svg PUBLIC \"-//W3C//DTD SVG 1.1//EN\"\n \"http://www.w3.org/Graphics/SVG/1.1/DTD/svg11.dtd\">\n<!-- Generated by graphviz version 2.43.0 (0)\n -->\n<!-- Title: %3 Pages: 1 -->\n<svg width=\"1575pt\" height=\"210pt\"\n viewBox=\"0.00 0.00 1575.00 210.00\" xmlns=\"http://www.w3.org/2000/svg\" xmlns:xlink=\"http://www.w3.org/1999/xlink\">\n<g id=\"graph0\" class=\"graph\" transform=\"scale(1 1) rotate(0) translate(4 206)\">\n<title>%3</title>\n<polygon fill=\"white\" stroke=\"transparent\" points=\"-4,4 -4,-206 1571,-206 1571,4 -4,4\"/>\n<!-- 136787594522640 -->\n<g id=\"node1\" class=\"node\">\n<title>136787594522640</title>\n<polygon fill=\"none\" stroke=\"black\" points=\"1382,-109.5 1382,-145.5 1567,-145.5 1567,-109.5 1382,-109.5\"/>\n<text text-anchor=\"middle\" x=\"1393.5\" y=\"-123.8\" font-family=\"Times,serif\" font-size=\"14.00\">o</text>\n<polyline fill=\"none\" stroke=\"black\" points=\"1405,-109.5 1405,-145.5 \"/>\n<text text-anchor=\"middle\" x=\"1445\" y=\"-123.8\" font-family=\"Times,serif\" font-size=\"14.00\">data 0.7071</text>\n<polyline fill=\"none\" stroke=\"black\" points=\"1485,-109.5 1485,-145.5 \"/>\n<text text-anchor=\"middle\" x=\"1526\" y=\"-123.8\" font-family=\"Times,serif\" font-size=\"14.00\">grad 1.0000</text>\n</g>\n<!-- 136787594522640tanh -->\n<g id=\"node2\" class=\"node\">\n<title>136787594522640tanh</title>\n<ellipse fill=\"none\" stroke=\"black\" cx=\"1319\" cy=\"-127.5\" rx=\"27\" ry=\"18\"/>\n<text text-anchor=\"middle\" x=\"1319\" y=\"-123.8\" font-family=\"Times,serif\" font-size=\"14.00\">tanh</text>\n</g>\n<!-- 136787594522640tanh&#45;&gt;136787594522640 -->\n<g id=\"edge1\" class=\"edge\">\n<title>136787594522640tanh&#45;&gt;136787594522640</title>\n<path fill=\"none\" stroke=\"black\" d=\"M1346.04,-127.5C1353.58,-127.5 1362.3,-127.5 1371.57,-127.5\"/>\n<polygon fill=\"black\" stroke=\"black\" points=\"1371.81,-131 1381.81,-127.5 1371.81,-124 1371.81,-131\"/>\n</g>\n<!-- 136787594823760 -->\n<g id=\"node3\" class=\"node\">\n<title>136787594823760</title>\n<polygon fill=\"none\" stroke=\"black\" points=\"2,-165.5 2,-201.5 198,-201.5 198,-165.5 2,-165.5\"/>\n<text text-anchor=\"middle\" x=\"17\" y=\"-179.8\" font-family=\"Times,serif\" font-size=\"14.00\">x1</text>\n<polyline fill=\"none\" stroke=\"black\" points=\"32,-165.5 32,-201.5 \"/>\n<text text-anchor=\"middle\" x=\"72\" y=\"-179.8\" font-family=\"Times,serif\" font-size=\"14.00\">data 2.0000</text>\n<polyline fill=\"none\" stroke=\"black\" points=\"112,-165.5 112,-201.5 \"/>\n<text text-anchor=\"middle\" x=\"155\" y=\"-179.8\" font-family=\"Times,serif\" font-size=\"14.00\">grad &#45;1.5000</text>\n</g>\n<!-- 136787594827920* -->\n<g id=\"node5\" class=\"node\">\n<title>136787594827920*</title>\n<ellipse fill=\"none\" stroke=\"black\" cx=\"263\" cy=\"-128.5\" rx=\"27\" ry=\"18\"/>\n<text text-anchor=\"middle\" x=\"263\" y=\"-124.8\" font-family=\"Times,serif\" font-size=\"14.00\">*</text>\n</g>\n<!-- 136787594823760&#45;&gt;136787594827920* -->\n<g id=\"edge6\" class=\"edge\">\n<title>136787594823760&#45;&gt;136787594827920*</title>\n<path fill=\"none\" stroke=\"black\" d=\"M172.53,-165.44C181.84,-162.67 191.2,-159.67 200,-156.5 210.53,-152.71 221.75,-147.9 231.72,-143.33\"/>\n<polygon fill=\"black\" stroke=\"black\" points=\"233.25,-146.48 240.82,-139.07 230.28,-140.14 233.25,-146.48\"/>\n</g>\n<!-- 136787594827920 -->\n<g id=\"node4\" class=\"node\">\n<title>136787594827920</title>\n<polygon fill=\"none\" stroke=\"black\" points=\"326,-110.5 326,-146.5 546,-146.5 546,-110.5 326,-110.5\"/>\n<text text-anchor=\"middle\" x=\"352.5\" y=\"-124.8\" font-family=\"Times,serif\" font-size=\"14.00\">x1*w1</text>\n<polyline fill=\"none\" stroke=\"black\" points=\"379,-110.5 379,-146.5 \"/>\n<text text-anchor=\"middle\" x=\"421.5\" y=\"-124.8\" font-family=\"Times,serif\" font-size=\"14.00\">data &#45;6.0000</text>\n<polyline fill=\"none\" stroke=\"black\" points=\"464,-110.5 464,-146.5 \"/>\n<text text-anchor=\"middle\" x=\"505\" y=\"-124.8\" font-family=\"Times,serif\" font-size=\"14.00\">grad 0.5000</text>\n</g>\n<!-- 136787594522000+ -->\n<g id=\"node14\" class=\"node\">\n<title>136787594522000+</title>\n<ellipse fill=\"none\" stroke=\"black\" cx=\"609\" cy=\"-100.5\" rx=\"27\" ry=\"18\"/>\n<text text-anchor=\"middle\" x=\"609\" y=\"-96.8\" font-family=\"Times,serif\" font-size=\"14.00\">+</text>\n</g>\n<!-- 136787594827920&#45;&gt;136787594522000+ -->\n<g id=\"edge13\" class=\"edge\">\n<title>136787594827920&#45;&gt;136787594522000+</title>\n<path fill=\"none\" stroke=\"black\" d=\"M546.27,-110.61C555.64,-109.07 564.6,-107.61 572.65,-106.29\"/>\n<polygon fill=\"black\" stroke=\"black\" points=\"573.35,-109.72 582.65,-104.65 572.22,-102.81 573.35,-109.72\"/>\n</g>\n<!-- 136787594827920*&#45;&gt;136787594827920 -->\n<g id=\"edge2\" class=\"edge\">\n<title>136787594827920*&#45;&gt;136787594827920</title>\n<path fill=\"none\" stroke=\"black\" d=\"M290.34,-128.5C297.77,-128.5 306.37,-128.5 315.6,-128.5\"/>\n<polygon fill=\"black\" stroke=\"black\" points=\"315.84,-132 325.84,-128.5 315.84,-125 315.84,-132\"/>\n</g>\n<!-- 136787594827664 -->\n<g id=\"node6\" class=\"node\">\n<title>136787594827664</title>\n<polygon fill=\"none\" stroke=\"black\" points=\"328.5,-55.5 328.5,-91.5 543.5,-91.5 543.5,-55.5 328.5,-55.5\"/>\n<text text-anchor=\"middle\" x=\"355\" y=\"-69.8\" font-family=\"Times,serif\" font-size=\"14.00\">x2*w2</text>\n<polyline fill=\"none\" stroke=\"black\" points=\"381.5,-55.5 381.5,-91.5 \"/>\n<text text-anchor=\"middle\" x=\"421.5\" y=\"-69.8\" font-family=\"Times,serif\" font-size=\"14.00\">data 0.0000</text>\n<polyline fill=\"none\" stroke=\"black\" points=\"461.5,-55.5 461.5,-91.5 \"/>\n<text text-anchor=\"middle\" x=\"502.5\" y=\"-69.8\" font-family=\"Times,serif\" font-size=\"14.00\">grad 0.5000</text>\n</g>\n<!-- 136787594827664&#45;&gt;136787594522000+ -->\n<g id=\"edge14\" class=\"edge\">\n<title>136787594827664&#45;&gt;136787594522000+</title>\n<path fill=\"none\" stroke=\"black\" d=\"M543.84,-90.37C554.01,-91.98 563.76,-93.51 572.44,-94.89\"/>\n<polygon fill=\"black\" stroke=\"black\" points=\"572.05,-98.37 582.47,-96.47 573.14,-91.45 572.05,-98.37\"/>\n</g>\n<!-- 136787594827664* -->\n<g id=\"node7\" class=\"node\">\n<title>136787594827664*</title>\n<ellipse fill=\"none\" stroke=\"black\" cx=\"263\" cy=\"-73.5\" rx=\"27\" ry=\"18\"/>\n<text text-anchor=\"middle\" x=\"263\" y=\"-69.8\" font-family=\"Times,serif\" font-size=\"14.00\">*</text>\n</g>\n<!-- 136787594827664*&#45;&gt;136787594827664 -->\n<g id=\"edge3\" class=\"edge\">\n<title>136787594827664*&#45;&gt;136787594827664</title>\n<path fill=\"none\" stroke=\"black\" d=\"M290.34,-73.5C298.51,-73.5 308.08,-73.5 318.36,-73.5\"/>\n<polygon fill=\"black\" stroke=\"black\" points=\"318.39,-77 328.39,-73.5 318.39,-70 318.39,-77\"/>\n</g>\n<!-- 136787594827408 -->\n<g id=\"node8\" class=\"node\">\n<title>136787594827408</title>\n<polygon fill=\"none\" stroke=\"black\" points=\"4,-55.5 4,-91.5 196,-91.5 196,-55.5 4,-55.5\"/>\n<text text-anchor=\"middle\" x=\"19\" y=\"-69.8\" font-family=\"Times,serif\" font-size=\"14.00\">x2</text>\n<polyline fill=\"none\" stroke=\"black\" points=\"34,-55.5 34,-91.5 \"/>\n<text text-anchor=\"middle\" x=\"74\" y=\"-69.8\" font-family=\"Times,serif\" font-size=\"14.00\">data 0.0000</text>\n<polyline fill=\"none\" stroke=\"black\" points=\"114,-55.5 114,-91.5 \"/>\n<text text-anchor=\"middle\" x=\"155\" y=\"-69.8\" font-family=\"Times,serif\" font-size=\"14.00\">grad 0.5000</text>\n</g>\n<!-- 136787594827408&#45;&gt;136787594827664* -->\n<g id=\"edge7\" class=\"edge\">\n<title>136787594827408&#45;&gt;136787594827664*</title>\n<path fill=\"none\" stroke=\"black\" d=\"M196.05,-73.5C206.52,-73.5 216.65,-73.5 225.71,-73.5\"/>\n<polygon fill=\"black\" stroke=\"black\" points=\"225.79,-77 235.79,-73.5 225.79,-70 225.79,-77\"/>\n</g>\n<!-- 136787594826960 -->\n<g id=\"node9\" class=\"node\">\n<title>136787594826960</title>\n<polygon fill=\"none\" stroke=\"black\" points=\"716,-137.5 716,-173.5 901,-173.5 901,-137.5 716,-137.5\"/>\n<text text-anchor=\"middle\" x=\"727.5\" y=\"-151.8\" font-family=\"Times,serif\" font-size=\"14.00\">b</text>\n<polyline fill=\"none\" stroke=\"black\" points=\"739,-137.5 739,-173.5 \"/>\n<text text-anchor=\"middle\" x=\"779\" y=\"-151.8\" font-family=\"Times,serif\" font-size=\"14.00\">data 6.8814</text>\n<polyline fill=\"none\" stroke=\"black\" points=\"819,-137.5 819,-173.5 \"/>\n<text text-anchor=\"middle\" x=\"860\" y=\"-151.8\" font-family=\"Times,serif\" font-size=\"14.00\">grad 0.5000</text>\n</g>\n<!-- 136787594518352+ -->\n<g id=\"node11\" class=\"node\">\n<title>136787594518352+</title>\n<ellipse fill=\"none\" stroke=\"black\" cx=\"1008\" cy=\"-127.5\" rx=\"27\" ry=\"18\"/>\n<text text-anchor=\"middle\" x=\"1008\" y=\"-123.8\" font-family=\"Times,serif\" font-size=\"14.00\">+</text>\n</g>\n<!-- 136787594826960&#45;&gt;136787594518352+ -->\n<g id=\"edge11\" class=\"edge\">\n<title>136787594826960&#45;&gt;136787594518352+</title>\n<path fill=\"none\" stroke=\"black\" d=\"M901.02,-142.52C926,-138.98 951.59,-135.36 971.37,-132.55\"/>\n<polygon fill=\"black\" stroke=\"black\" points=\"972.03,-135.99 981.43,-131.12 971.04,-129.06 972.03,-135.99\"/>\n</g>\n<!-- 136787594518352 -->\n<g id=\"node10\" class=\"node\">\n<title>136787594518352</title>\n<polygon fill=\"none\" stroke=\"black\" points=\"1071,-109.5 1071,-145.5 1256,-145.5 1256,-109.5 1071,-109.5\"/>\n<text text-anchor=\"middle\" x=\"1082.5\" y=\"-123.8\" font-family=\"Times,serif\" font-size=\"14.00\">n</text>\n<polyline fill=\"none\" stroke=\"black\" points=\"1094,-109.5 1094,-145.5 \"/>\n<text text-anchor=\"middle\" x=\"1134\" y=\"-123.8\" font-family=\"Times,serif\" font-size=\"14.00\">data 0.8814</text>\n<polyline fill=\"none\" stroke=\"black\" points=\"1174,-109.5 1174,-145.5 \"/>\n<text text-anchor=\"middle\" x=\"1215\" y=\"-123.8\" font-family=\"Times,serif\" font-size=\"14.00\">grad 0.5000</text>\n</g>\n<!-- 136787594518352&#45;&gt;136787594522640tanh -->\n<g id=\"edge9\" class=\"edge\">\n<title>136787594518352&#45;&gt;136787594522640tanh</title>\n<path fill=\"none\" stroke=\"black\" d=\"M1256.01,-127.5C1265.01,-127.5 1273.74,-127.5 1281.66,-127.5\"/>\n<polygon fill=\"black\" stroke=\"black\" points=\"1281.91,-131 1291.91,-127.5 1281.91,-124 1281.91,-131\"/>\n</g>\n<!-- 136787594518352+&#45;&gt;136787594518352 -->\n<g id=\"edge4\" class=\"edge\">\n<title>136787594518352+&#45;&gt;136787594518352</title>\n<path fill=\"none\" stroke=\"black\" d=\"M1035.04,-127.5C1042.58,-127.5 1051.3,-127.5 1060.57,-127.5\"/>\n<polygon fill=\"black\" stroke=\"black\" points=\"1060.81,-131 1070.81,-127.5 1060.81,-124 1060.81,-131\"/>\n</g>\n<!-- 136787594828112 -->\n<g id=\"node12\" class=\"node\">\n<title>136787594828112</title>\n<polygon fill=\"none\" stroke=\"black\" points=\"2.5,-0.5 2.5,-36.5 197.5,-36.5 197.5,-0.5 2.5,-0.5\"/>\n<text text-anchor=\"middle\" x=\"19\" y=\"-14.8\" font-family=\"Times,serif\" font-size=\"14.00\">w2</text>\n<polyline fill=\"none\" stroke=\"black\" points=\"35.5,-0.5 35.5,-36.5 \"/>\n<text text-anchor=\"middle\" x=\"75.5\" y=\"-14.8\" font-family=\"Times,serif\" font-size=\"14.00\">data 1.0000</text>\n<polyline fill=\"none\" stroke=\"black\" points=\"115.5,-0.5 115.5,-36.5 \"/>\n<text text-anchor=\"middle\" x=\"156.5\" y=\"-14.8\" font-family=\"Times,serif\" font-size=\"14.00\">grad 0.0000</text>\n</g>\n<!-- 136787594828112&#45;&gt;136787594827664* -->\n<g id=\"edge8\" class=\"edge\">\n<title>136787594828112&#45;&gt;136787594827664*</title>\n<path fill=\"none\" stroke=\"black\" d=\"M169.28,-36.5C179.65,-39.61 190.16,-42.98 200,-46.5 210.28,-50.17 221.28,-54.74 231.11,-59.07\"/>\n<polygon fill=\"black\" stroke=\"black\" points=\"229.93,-62.37 240.48,-63.27 232.79,-55.99 229.93,-62.37\"/>\n</g>\n<!-- 136787594522000 -->\n<g id=\"node13\" class=\"node\">\n<title>136787594522000</title>\n<polygon fill=\"none\" stroke=\"black\" points=\"672,-82.5 672,-118.5 945,-118.5 945,-82.5 672,-82.5\"/>\n<text text-anchor=\"middle\" x=\"725\" y=\"-96.8\" font-family=\"Times,serif\" font-size=\"14.00\">x1*w1 + x2*w2</text>\n<polyline fill=\"none\" stroke=\"black\" points=\"778,-82.5 778,-118.5 \"/>\n<text text-anchor=\"middle\" x=\"820.5\" y=\"-96.8\" font-family=\"Times,serif\" font-size=\"14.00\">data &#45;6.0000</text>\n<polyline fill=\"none\" stroke=\"black\" points=\"863,-82.5 863,-118.5 \"/>\n<text text-anchor=\"middle\" x=\"904\" y=\"-96.8\" font-family=\"Times,serif\" font-size=\"14.00\">grad 0.5000</text>\n</g>\n<!-- 136787594522000&#45;&gt;136787594518352+ -->\n<g id=\"edge12\" class=\"edge\">\n<title>136787594522000&#45;&gt;136787594518352+</title>\n<path fill=\"none\" stroke=\"black\" d=\"M941.24,-118.51C952.12,-120 962.4,-121.4 971.45,-122.64\"/>\n<polygon fill=\"black\" stroke=\"black\" points=\"971.11,-126.13 981.49,-124.01 972.05,-119.19 971.11,-126.13\"/>\n</g>\n<!-- 136787594522000+&#45;&gt;136787594522000 -->\n<g id=\"edge5\" class=\"edge\">\n<title>136787594522000+&#45;&gt;136787594522000</title>\n<path fill=\"none\" stroke=\"black\" d=\"M636.23,-100.5C643.7,-100.5 652.41,-100.5 661.87,-100.5\"/>\n<polygon fill=\"black\" stroke=\"black\" points=\"661.98,-104 671.98,-100.5 661.98,-97 661.98,-104\"/>\n</g>\n<!-- 136787594828240 -->\n<g id=\"node15\" class=\"node\">\n<title>136787594828240</title>\n<polygon fill=\"none\" stroke=\"black\" points=\"0,-110.5 0,-146.5 200,-146.5 200,-110.5 0,-110.5\"/>\n<text text-anchor=\"middle\" x=\"16.5\" y=\"-124.8\" font-family=\"Times,serif\" font-size=\"14.00\">w1</text>\n<polyline fill=\"none\" stroke=\"black\" points=\"33,-110.5 33,-146.5 \"/>\n<text text-anchor=\"middle\" x=\"75.5\" y=\"-124.8\" font-family=\"Times,serif\" font-size=\"14.00\">data &#45;3.0000</text>\n<polyline fill=\"none\" stroke=\"black\" points=\"118,-110.5 118,-146.5 \"/>\n<text text-anchor=\"middle\" x=\"159\" y=\"-124.8\" font-family=\"Times,serif\" font-size=\"14.00\">grad 1.0000</text>\n</g>\n<!-- 136787594828240&#45;&gt;136787594827920* -->\n<g id=\"edge10\" class=\"edge\">\n<title>136787594828240&#45;&gt;136787594827920*</title>\n<path fill=\"none\" stroke=\"black\" d=\"M200.21,-128.5C209.2,-128.5 217.86,-128.5 225.7,-128.5\"/>\n<polygon fill=\"black\" stroke=\"black\" points=\"225.85,-132 235.85,-128.5 225.85,-125 225.85,-132\"/>\n</g>\n</g>\n</svg>\n",
            "text/plain": [
              "<graphviz.graphs.Digraph at 0x7c6857ffe490>"
            ]
          },
          "metadata": {},
          "execution_count": 602
        }
      ]
    },
    {
      "cell_type": "markdown",
      "source": [
        "# redefining expression so it can be calculated using backward func"
      ],
      "metadata": {
        "id": "7UntGjUfuLCp"
      }
    },
    {
      "cell_type": "code",
      "source": [
        "# inputs x1,x2\n",
        "x1 = Rank(2.0, label='x1')\n",
        "x2 = Rank(0.0, label='x2')\n",
        "# weights w1,w2\n",
        "w1 = Rank(-3.0, label='w1')\n",
        "w2 = Rank(1.0, label='w2')\n",
        "# bias of the neuron\n",
        "b = Rank(6.8813735870195432, label='b')\n",
        "# x1*w1 + x2*w2 + b\n",
        "x1w1 = x1*w1; x1w1.label = 'x1*w1'\n",
        "x2w2 = x2*w2; x2w2.label = 'x2*w2'\n",
        "x1w1x2w2 = x1w1 + x2w2; x1w1x2w2.label = 'x1*w1 + x2*w2'\n",
        "n = x1w1x2w2 + b; n.label = 'n'\n",
        "o = n.tanh()\n",
        "o.label='o'\n"
      ],
      "metadata": {
        "id": "QtOv-CJ7gnx4"
      },
      "execution_count": 603,
      "outputs": []
    },
    {
      "cell_type": "code",
      "source": [
        "o.grad=1\n",
        "o._backward()"
      ],
      "metadata": {
        "id": "aV25dJ5Tpup7"
      },
      "execution_count": 604,
      "outputs": []
    },
    {
      "cell_type": "code",
      "source": [
        "draw_dot(o)"
      ],
      "metadata": {
        "colab": {
          "base_uri": "https://localhost:8080/",
          "height": 321
        },
        "id": "uM3SilZapuml",
        "outputId": "f0de5690-ce26-4bb3-c476-9b824aacc845"
      },
      "execution_count": 605,
      "outputs": [
        {
          "output_type": "execute_result",
          "data": {
            "image/svg+xml": "<?xml version=\"1.0\" encoding=\"UTF-8\" standalone=\"no\"?>\n<!DOCTYPE svg PUBLIC \"-//W3C//DTD SVG 1.1//EN\"\n \"http://www.w3.org/Graphics/SVG/1.1/DTD/svg11.dtd\">\n<!-- Generated by graphviz version 2.43.0 (0)\n -->\n<!-- Title: %3 Pages: 1 -->\n<svg width=\"1575pt\" height=\"210pt\"\n viewBox=\"0.00 0.00 1575.00 210.00\" xmlns=\"http://www.w3.org/2000/svg\" xmlns:xlink=\"http://www.w3.org/1999/xlink\">\n<g id=\"graph0\" class=\"graph\" transform=\"scale(1 1) rotate(0) translate(4 206)\">\n<title>%3</title>\n<polygon fill=\"white\" stroke=\"transparent\" points=\"-4,4 -4,-206 1571,-206 1571,4 -4,4\"/>\n<!-- 136787594828304 -->\n<g id=\"node1\" class=\"node\">\n<title>136787594828304</title>\n<polygon fill=\"none\" stroke=\"black\" points=\"1382,-54.5 1382,-90.5 1567,-90.5 1567,-54.5 1382,-54.5\"/>\n<text text-anchor=\"middle\" x=\"1393.5\" y=\"-68.8\" font-family=\"Times,serif\" font-size=\"14.00\">o</text>\n<polyline fill=\"none\" stroke=\"black\" points=\"1405,-54.5 1405,-90.5 \"/>\n<text text-anchor=\"middle\" x=\"1445\" y=\"-68.8\" font-family=\"Times,serif\" font-size=\"14.00\">data 0.7071</text>\n<polyline fill=\"none\" stroke=\"black\" points=\"1485,-54.5 1485,-90.5 \"/>\n<text text-anchor=\"middle\" x=\"1526\" y=\"-68.8\" font-family=\"Times,serif\" font-size=\"14.00\">grad 1.0000</text>\n</g>\n<!-- 136787594828304tanh -->\n<g id=\"node2\" class=\"node\">\n<title>136787594828304tanh</title>\n<ellipse fill=\"none\" stroke=\"black\" cx=\"1319\" cy=\"-72.5\" rx=\"27\" ry=\"18\"/>\n<text text-anchor=\"middle\" x=\"1319\" y=\"-68.8\" font-family=\"Times,serif\" font-size=\"14.00\">tanh</text>\n</g>\n<!-- 136787594828304tanh&#45;&gt;136787594828304 -->\n<g id=\"edge1\" class=\"edge\">\n<title>136787594828304tanh&#45;&gt;136787594828304</title>\n<path fill=\"none\" stroke=\"black\" d=\"M1346.04,-72.5C1353.58,-72.5 1362.3,-72.5 1371.57,-72.5\"/>\n<polygon fill=\"black\" stroke=\"black\" points=\"1371.81,-76 1381.81,-72.5 1371.81,-69 1371.81,-76\"/>\n</g>\n<!-- 136787592923664 -->\n<g id=\"node3\" class=\"node\">\n<title>136787592923664</title>\n<polygon fill=\"none\" stroke=\"black\" points=\"0,-55.5 0,-91.5 200,-91.5 200,-55.5 0,-55.5\"/>\n<text text-anchor=\"middle\" x=\"16.5\" y=\"-69.8\" font-family=\"Times,serif\" font-size=\"14.00\">w1</text>\n<polyline fill=\"none\" stroke=\"black\" points=\"33,-55.5 33,-91.5 \"/>\n<text text-anchor=\"middle\" x=\"75.5\" y=\"-69.8\" font-family=\"Times,serif\" font-size=\"14.00\">data &#45;3.0000</text>\n<polyline fill=\"none\" stroke=\"black\" points=\"118,-55.5 118,-91.5 \"/>\n<text text-anchor=\"middle\" x=\"159\" y=\"-69.8\" font-family=\"Times,serif\" font-size=\"14.00\">grad 0.0000</text>\n</g>\n<!-- 136787592923600* -->\n<g id=\"node15\" class=\"node\">\n<title>136787592923600*</title>\n<ellipse fill=\"none\" stroke=\"black\" cx=\"263\" cy=\"-73.5\" rx=\"27\" ry=\"18\"/>\n<text text-anchor=\"middle\" x=\"263\" y=\"-69.8\" font-family=\"Times,serif\" font-size=\"14.00\">*</text>\n</g>\n<!-- 136787592923664&#45;&gt;136787592923600* -->\n<g id=\"edge8\" class=\"edge\">\n<title>136787592923664&#45;&gt;136787592923600*</title>\n<path fill=\"none\" stroke=\"black\" d=\"M200.21,-73.5C209.2,-73.5 217.86,-73.5 225.7,-73.5\"/>\n<polygon fill=\"black\" stroke=\"black\" points=\"225.85,-77 235.85,-73.5 225.85,-70 225.85,-77\"/>\n</g>\n<!-- 136787592923536 -->\n<g id=\"node4\" class=\"node\">\n<title>136787592923536</title>\n<polygon fill=\"none\" stroke=\"black\" points=\"2.5,-165.5 2.5,-201.5 197.5,-201.5 197.5,-165.5 2.5,-165.5\"/>\n<text text-anchor=\"middle\" x=\"19\" y=\"-179.8\" font-family=\"Times,serif\" font-size=\"14.00\">w2</text>\n<polyline fill=\"none\" stroke=\"black\" points=\"35.5,-165.5 35.5,-201.5 \"/>\n<text text-anchor=\"middle\" x=\"75.5\" y=\"-179.8\" font-family=\"Times,serif\" font-size=\"14.00\">data 1.0000</text>\n<polyline fill=\"none\" stroke=\"black\" points=\"115.5,-165.5 115.5,-201.5 \"/>\n<text text-anchor=\"middle\" x=\"156.5\" y=\"-179.8\" font-family=\"Times,serif\" font-size=\"14.00\">grad 0.0000</text>\n</g>\n<!-- 136787592923856* -->\n<g id=\"node9\" class=\"node\">\n<title>136787592923856*</title>\n<ellipse fill=\"none\" stroke=\"black\" cx=\"263\" cy=\"-128.5\" rx=\"27\" ry=\"18\"/>\n<text text-anchor=\"middle\" x=\"263\" y=\"-124.8\" font-family=\"Times,serif\" font-size=\"14.00\">*</text>\n</g>\n<!-- 136787592923536&#45;&gt;136787592923856* -->\n<g id=\"edge10\" class=\"edge\">\n<title>136787592923536&#45;&gt;136787592923856*</title>\n<path fill=\"none\" stroke=\"black\" d=\"M172.53,-165.44C181.84,-162.67 191.2,-159.67 200,-156.5 210.53,-152.71 221.75,-147.9 231.72,-143.33\"/>\n<polygon fill=\"black\" stroke=\"black\" points=\"233.25,-146.48 240.82,-139.07 230.28,-140.14 233.25,-146.48\"/>\n</g>\n<!-- 136787592923728 -->\n<g id=\"node5\" class=\"node\">\n<title>136787592923728</title>\n<polygon fill=\"none\" stroke=\"black\" points=\"1071,-54.5 1071,-90.5 1256,-90.5 1256,-54.5 1071,-54.5\"/>\n<text text-anchor=\"middle\" x=\"1082.5\" y=\"-68.8\" font-family=\"Times,serif\" font-size=\"14.00\">n</text>\n<polyline fill=\"none\" stroke=\"black\" points=\"1094,-54.5 1094,-90.5 \"/>\n<text text-anchor=\"middle\" x=\"1134\" y=\"-68.8\" font-family=\"Times,serif\" font-size=\"14.00\">data 0.8814</text>\n<polyline fill=\"none\" stroke=\"black\" points=\"1174,-54.5 1174,-90.5 \"/>\n<text text-anchor=\"middle\" x=\"1215\" y=\"-68.8\" font-family=\"Times,serif\" font-size=\"14.00\">grad 0.5000</text>\n</g>\n<!-- 136787592923728&#45;&gt;136787594828304tanh -->\n<g id=\"edge6\" class=\"edge\">\n<title>136787592923728&#45;&gt;136787594828304tanh</title>\n<path fill=\"none\" stroke=\"black\" d=\"M1256.01,-72.5C1265.01,-72.5 1273.74,-72.5 1281.66,-72.5\"/>\n<polygon fill=\"black\" stroke=\"black\" points=\"1281.91,-76 1291.91,-72.5 1281.91,-69 1281.91,-76\"/>\n</g>\n<!-- 136787592923728+ -->\n<g id=\"node6\" class=\"node\">\n<title>136787592923728+</title>\n<ellipse fill=\"none\" stroke=\"black\" cx=\"1008\" cy=\"-72.5\" rx=\"27\" ry=\"18\"/>\n<text text-anchor=\"middle\" x=\"1008\" y=\"-68.8\" font-family=\"Times,serif\" font-size=\"14.00\">+</text>\n</g>\n<!-- 136787592923728+&#45;&gt;136787592923728 -->\n<g id=\"edge2\" class=\"edge\">\n<title>136787592923728+&#45;&gt;136787592923728</title>\n<path fill=\"none\" stroke=\"black\" d=\"M1035.04,-72.5C1042.58,-72.5 1051.3,-72.5 1060.57,-72.5\"/>\n<polygon fill=\"black\" stroke=\"black\" points=\"1060.81,-76 1070.81,-72.5 1060.81,-69 1060.81,-76\"/>\n</g>\n<!-- 136787592922768 -->\n<g id=\"node7\" class=\"node\">\n<title>136787592922768</title>\n<polygon fill=\"none\" stroke=\"black\" points=\"4,-0.5 4,-36.5 196,-36.5 196,-0.5 4,-0.5\"/>\n<text text-anchor=\"middle\" x=\"19\" y=\"-14.8\" font-family=\"Times,serif\" font-size=\"14.00\">x1</text>\n<polyline fill=\"none\" stroke=\"black\" points=\"34,-0.5 34,-36.5 \"/>\n<text text-anchor=\"middle\" x=\"74\" y=\"-14.8\" font-family=\"Times,serif\" font-size=\"14.00\">data 2.0000</text>\n<polyline fill=\"none\" stroke=\"black\" points=\"114,-0.5 114,-36.5 \"/>\n<text text-anchor=\"middle\" x=\"155\" y=\"-14.8\" font-family=\"Times,serif\" font-size=\"14.00\">grad 0.0000</text>\n</g>\n<!-- 136787592922768&#45;&gt;136787592923600* -->\n<g id=\"edge11\" class=\"edge\">\n<title>136787592922768&#45;&gt;136787592923600*</title>\n<path fill=\"none\" stroke=\"black\" d=\"M172.53,-36.56C181.84,-39.33 191.2,-42.33 200,-45.5 210.53,-49.29 221.75,-54.1 231.72,-58.67\"/>\n<polygon fill=\"black\" stroke=\"black\" points=\"230.28,-61.86 240.82,-62.93 233.25,-55.52 230.28,-61.86\"/>\n</g>\n<!-- 136787592923856 -->\n<g id=\"node8\" class=\"node\">\n<title>136787592923856</title>\n<polygon fill=\"none\" stroke=\"black\" points=\"328.5,-110.5 328.5,-146.5 543.5,-146.5 543.5,-110.5 328.5,-110.5\"/>\n<text text-anchor=\"middle\" x=\"355\" y=\"-124.8\" font-family=\"Times,serif\" font-size=\"14.00\">x2*w2</text>\n<polyline fill=\"none\" stroke=\"black\" points=\"381.5,-110.5 381.5,-146.5 \"/>\n<text text-anchor=\"middle\" x=\"421.5\" y=\"-124.8\" font-family=\"Times,serif\" font-size=\"14.00\">data 0.0000</text>\n<polyline fill=\"none\" stroke=\"black\" points=\"461.5,-110.5 461.5,-146.5 \"/>\n<text text-anchor=\"middle\" x=\"502.5\" y=\"-124.8\" font-family=\"Times,serif\" font-size=\"14.00\">grad 0.0000</text>\n</g>\n<!-- 136787592923984+ -->\n<g id=\"node11\" class=\"node\">\n<title>136787592923984+</title>\n<ellipse fill=\"none\" stroke=\"black\" cx=\"609\" cy=\"-100.5\" rx=\"27\" ry=\"18\"/>\n<text text-anchor=\"middle\" x=\"609\" y=\"-96.8\" font-family=\"Times,serif\" font-size=\"14.00\">+</text>\n</g>\n<!-- 136787592923856&#45;&gt;136787592923984+ -->\n<g id=\"edge13\" class=\"edge\">\n<title>136787592923856&#45;&gt;136787592923984+</title>\n<path fill=\"none\" stroke=\"black\" d=\"M543.84,-111.01C554.01,-109.34 563.76,-107.74 572.44,-106.32\"/>\n<polygon fill=\"black\" stroke=\"black\" points=\"573.17,-109.75 582.47,-104.68 572.04,-102.84 573.17,-109.75\"/>\n</g>\n<!-- 136787592923856*&#45;&gt;136787592923856 -->\n<g id=\"edge3\" class=\"edge\">\n<title>136787592923856*&#45;&gt;136787592923856</title>\n<path fill=\"none\" stroke=\"black\" d=\"M290.34,-128.5C298.51,-128.5 308.08,-128.5 318.36,-128.5\"/>\n<polygon fill=\"black\" stroke=\"black\" points=\"318.39,-132 328.39,-128.5 318.39,-125 318.39,-132\"/>\n</g>\n<!-- 136787592923984 -->\n<g id=\"node10\" class=\"node\">\n<title>136787592923984</title>\n<polygon fill=\"none\" stroke=\"black\" points=\"672,-82.5 672,-118.5 945,-118.5 945,-82.5 672,-82.5\"/>\n<text text-anchor=\"middle\" x=\"725\" y=\"-96.8\" font-family=\"Times,serif\" font-size=\"14.00\">x1*w1 + x2*w2</text>\n<polyline fill=\"none\" stroke=\"black\" points=\"778,-82.5 778,-118.5 \"/>\n<text text-anchor=\"middle\" x=\"820.5\" y=\"-96.8\" font-family=\"Times,serif\" font-size=\"14.00\">data &#45;6.0000</text>\n<polyline fill=\"none\" stroke=\"black\" points=\"863,-82.5 863,-118.5 \"/>\n<text text-anchor=\"middle\" x=\"904\" y=\"-96.8\" font-family=\"Times,serif\" font-size=\"14.00\">grad 0.0000</text>\n</g>\n<!-- 136787592923984&#45;&gt;136787592923728+ -->\n<g id=\"edge7\" class=\"edge\">\n<title>136787592923984&#45;&gt;136787592923728+</title>\n<path fill=\"none\" stroke=\"black\" d=\"M936.53,-82.49C949.09,-80.71 960.99,-79.02 971.3,-77.56\"/>\n<polygon fill=\"black\" stroke=\"black\" points=\"972.03,-80.99 981.44,-76.12 971.05,-74.06 972.03,-80.99\"/>\n</g>\n<!-- 136787592923984+&#45;&gt;136787592923984 -->\n<g id=\"edge4\" class=\"edge\">\n<title>136787592923984+&#45;&gt;136787592923984</title>\n<path fill=\"none\" stroke=\"black\" d=\"M636.23,-100.5C643.7,-100.5 652.41,-100.5 661.87,-100.5\"/>\n<polygon fill=\"black\" stroke=\"black\" points=\"661.98,-104 671.98,-100.5 661.98,-97 661.98,-104\"/>\n</g>\n<!-- 136787592922960 -->\n<g id=\"node12\" class=\"node\">\n<title>136787592922960</title>\n<polygon fill=\"none\" stroke=\"black\" points=\"716,-27.5 716,-63.5 901,-63.5 901,-27.5 716,-27.5\"/>\n<text text-anchor=\"middle\" x=\"727.5\" y=\"-41.8\" font-family=\"Times,serif\" font-size=\"14.00\">b</text>\n<polyline fill=\"none\" stroke=\"black\" points=\"739,-27.5 739,-63.5 \"/>\n<text text-anchor=\"middle\" x=\"779\" y=\"-41.8\" font-family=\"Times,serif\" font-size=\"14.00\">data 6.8814</text>\n<polyline fill=\"none\" stroke=\"black\" points=\"819,-27.5 819,-63.5 \"/>\n<text text-anchor=\"middle\" x=\"860\" y=\"-41.8\" font-family=\"Times,serif\" font-size=\"14.00\">grad 0.0000</text>\n</g>\n<!-- 136787592922960&#45;&gt;136787592923728+ -->\n<g id=\"edge12\" class=\"edge\">\n<title>136787592922960&#45;&gt;136787592923728+</title>\n<path fill=\"none\" stroke=\"black\" d=\"M901.02,-58.01C926,-61.43 951.59,-64.93 971.37,-67.63\"/>\n<polygon fill=\"black\" stroke=\"black\" points=\"971.05,-71.12 981.43,-69.01 972,-64.18 971.05,-71.12\"/>\n</g>\n<!-- 136787592923024 -->\n<g id=\"node13\" class=\"node\">\n<title>136787592923024</title>\n<polygon fill=\"none\" stroke=\"black\" points=\"4,-110.5 4,-146.5 196,-146.5 196,-110.5 4,-110.5\"/>\n<text text-anchor=\"middle\" x=\"19\" y=\"-124.8\" font-family=\"Times,serif\" font-size=\"14.00\">x2</text>\n<polyline fill=\"none\" stroke=\"black\" points=\"34,-110.5 34,-146.5 \"/>\n<text text-anchor=\"middle\" x=\"74\" y=\"-124.8\" font-family=\"Times,serif\" font-size=\"14.00\">data 0.0000</text>\n<polyline fill=\"none\" stroke=\"black\" points=\"114,-110.5 114,-146.5 \"/>\n<text text-anchor=\"middle\" x=\"155\" y=\"-124.8\" font-family=\"Times,serif\" font-size=\"14.00\">grad 0.0000</text>\n</g>\n<!-- 136787592923024&#45;&gt;136787592923856* -->\n<g id=\"edge9\" class=\"edge\">\n<title>136787592923024&#45;&gt;136787592923856*</title>\n<path fill=\"none\" stroke=\"black\" d=\"M196.05,-128.5C206.52,-128.5 216.65,-128.5 225.71,-128.5\"/>\n<polygon fill=\"black\" stroke=\"black\" points=\"225.79,-132 235.79,-128.5 225.79,-125 225.79,-132\"/>\n</g>\n<!-- 136787592923600 -->\n<g id=\"node14\" class=\"node\">\n<title>136787592923600</title>\n<polygon fill=\"none\" stroke=\"black\" points=\"326,-55.5 326,-91.5 546,-91.5 546,-55.5 326,-55.5\"/>\n<text text-anchor=\"middle\" x=\"352.5\" y=\"-69.8\" font-family=\"Times,serif\" font-size=\"14.00\">x1*w1</text>\n<polyline fill=\"none\" stroke=\"black\" points=\"379,-55.5 379,-91.5 \"/>\n<text text-anchor=\"middle\" x=\"421.5\" y=\"-69.8\" font-family=\"Times,serif\" font-size=\"14.00\">data &#45;6.0000</text>\n<polyline fill=\"none\" stroke=\"black\" points=\"464,-55.5 464,-91.5 \"/>\n<text text-anchor=\"middle\" x=\"505\" y=\"-69.8\" font-family=\"Times,serif\" font-size=\"14.00\">grad 0.0000</text>\n</g>\n<!-- 136787592923600&#45;&gt;136787592923984+ -->\n<g id=\"edge14\" class=\"edge\">\n<title>136787592923600&#45;&gt;136787592923984+</title>\n<path fill=\"none\" stroke=\"black\" d=\"M546.27,-90.75C555.64,-92.23 564.6,-93.65 572.65,-94.92\"/>\n<polygon fill=\"black\" stroke=\"black\" points=\"572.23,-98.4 582.65,-96.5 573.32,-91.48 572.23,-98.4\"/>\n</g>\n<!-- 136787592923600*&#45;&gt;136787592923600 -->\n<g id=\"edge5\" class=\"edge\">\n<title>136787592923600*&#45;&gt;136787592923600</title>\n<path fill=\"none\" stroke=\"black\" d=\"M290.34,-73.5C297.77,-73.5 306.37,-73.5 315.6,-73.5\"/>\n<polygon fill=\"black\" stroke=\"black\" points=\"315.84,-77 325.84,-73.5 315.84,-70 315.84,-77\"/>\n</g>\n</g>\n</svg>\n",
            "text/plain": [
              "<graphviz.graphs.Digraph at 0x7c6857e02410>"
            ]
          },
          "metadata": {},
          "execution_count": 605
        }
      ]
    },
    {
      "cell_type": "code",
      "source": [
        "n._backward()"
      ],
      "metadata": {
        "id": "7rlAKoJ_pugk"
      },
      "execution_count": 606,
      "outputs": []
    },
    {
      "cell_type": "code",
      "source": [
        "draw_dot(o)"
      ],
      "metadata": {
        "colab": {
          "base_uri": "https://localhost:8080/",
          "height": 321
        },
        "id": "-PHGAvlFpudY",
        "outputId": "fea71eb0-5ea8-4fb6-88a1-16648ebfc40c"
      },
      "execution_count": 607,
      "outputs": [
        {
          "output_type": "execute_result",
          "data": {
            "image/svg+xml": "<?xml version=\"1.0\" encoding=\"UTF-8\" standalone=\"no\"?>\n<!DOCTYPE svg PUBLIC \"-//W3C//DTD SVG 1.1//EN\"\n \"http://www.w3.org/Graphics/SVG/1.1/DTD/svg11.dtd\">\n<!-- Generated by graphviz version 2.43.0 (0)\n -->\n<!-- Title: %3 Pages: 1 -->\n<svg width=\"1575pt\" height=\"210pt\"\n viewBox=\"0.00 0.00 1575.00 210.00\" xmlns=\"http://www.w3.org/2000/svg\" xmlns:xlink=\"http://www.w3.org/1999/xlink\">\n<g id=\"graph0\" class=\"graph\" transform=\"scale(1 1) rotate(0) translate(4 206)\">\n<title>%3</title>\n<polygon fill=\"white\" stroke=\"transparent\" points=\"-4,4 -4,-206 1571,-206 1571,4 -4,4\"/>\n<!-- 136787594828304 -->\n<g id=\"node1\" class=\"node\">\n<title>136787594828304</title>\n<polygon fill=\"none\" stroke=\"black\" points=\"1382,-54.5 1382,-90.5 1567,-90.5 1567,-54.5 1382,-54.5\"/>\n<text text-anchor=\"middle\" x=\"1393.5\" y=\"-68.8\" font-family=\"Times,serif\" font-size=\"14.00\">o</text>\n<polyline fill=\"none\" stroke=\"black\" points=\"1405,-54.5 1405,-90.5 \"/>\n<text text-anchor=\"middle\" x=\"1445\" y=\"-68.8\" font-family=\"Times,serif\" font-size=\"14.00\">data 0.7071</text>\n<polyline fill=\"none\" stroke=\"black\" points=\"1485,-54.5 1485,-90.5 \"/>\n<text text-anchor=\"middle\" x=\"1526\" y=\"-68.8\" font-family=\"Times,serif\" font-size=\"14.00\">grad 1.0000</text>\n</g>\n<!-- 136787594828304tanh -->\n<g id=\"node2\" class=\"node\">\n<title>136787594828304tanh</title>\n<ellipse fill=\"none\" stroke=\"black\" cx=\"1319\" cy=\"-72.5\" rx=\"27\" ry=\"18\"/>\n<text text-anchor=\"middle\" x=\"1319\" y=\"-68.8\" font-family=\"Times,serif\" font-size=\"14.00\">tanh</text>\n</g>\n<!-- 136787594828304tanh&#45;&gt;136787594828304 -->\n<g id=\"edge1\" class=\"edge\">\n<title>136787594828304tanh&#45;&gt;136787594828304</title>\n<path fill=\"none\" stroke=\"black\" d=\"M1346.04,-72.5C1353.58,-72.5 1362.3,-72.5 1371.57,-72.5\"/>\n<polygon fill=\"black\" stroke=\"black\" points=\"1371.81,-76 1381.81,-72.5 1371.81,-69 1371.81,-76\"/>\n</g>\n<!-- 136787592923664 -->\n<g id=\"node3\" class=\"node\">\n<title>136787592923664</title>\n<polygon fill=\"none\" stroke=\"black\" points=\"0,-55.5 0,-91.5 200,-91.5 200,-55.5 0,-55.5\"/>\n<text text-anchor=\"middle\" x=\"16.5\" y=\"-69.8\" font-family=\"Times,serif\" font-size=\"14.00\">w1</text>\n<polyline fill=\"none\" stroke=\"black\" points=\"33,-55.5 33,-91.5 \"/>\n<text text-anchor=\"middle\" x=\"75.5\" y=\"-69.8\" font-family=\"Times,serif\" font-size=\"14.00\">data &#45;3.0000</text>\n<polyline fill=\"none\" stroke=\"black\" points=\"118,-55.5 118,-91.5 \"/>\n<text text-anchor=\"middle\" x=\"159\" y=\"-69.8\" font-family=\"Times,serif\" font-size=\"14.00\">grad 0.0000</text>\n</g>\n<!-- 136787592923600* -->\n<g id=\"node15\" class=\"node\">\n<title>136787592923600*</title>\n<ellipse fill=\"none\" stroke=\"black\" cx=\"263\" cy=\"-73.5\" rx=\"27\" ry=\"18\"/>\n<text text-anchor=\"middle\" x=\"263\" y=\"-69.8\" font-family=\"Times,serif\" font-size=\"14.00\">*</text>\n</g>\n<!-- 136787592923664&#45;&gt;136787592923600* -->\n<g id=\"edge8\" class=\"edge\">\n<title>136787592923664&#45;&gt;136787592923600*</title>\n<path fill=\"none\" stroke=\"black\" d=\"M200.21,-73.5C209.2,-73.5 217.86,-73.5 225.7,-73.5\"/>\n<polygon fill=\"black\" stroke=\"black\" points=\"225.85,-77 235.85,-73.5 225.85,-70 225.85,-77\"/>\n</g>\n<!-- 136787592923536 -->\n<g id=\"node4\" class=\"node\">\n<title>136787592923536</title>\n<polygon fill=\"none\" stroke=\"black\" points=\"2.5,-165.5 2.5,-201.5 197.5,-201.5 197.5,-165.5 2.5,-165.5\"/>\n<text text-anchor=\"middle\" x=\"19\" y=\"-179.8\" font-family=\"Times,serif\" font-size=\"14.00\">w2</text>\n<polyline fill=\"none\" stroke=\"black\" points=\"35.5,-165.5 35.5,-201.5 \"/>\n<text text-anchor=\"middle\" x=\"75.5\" y=\"-179.8\" font-family=\"Times,serif\" font-size=\"14.00\">data 1.0000</text>\n<polyline fill=\"none\" stroke=\"black\" points=\"115.5,-165.5 115.5,-201.5 \"/>\n<text text-anchor=\"middle\" x=\"156.5\" y=\"-179.8\" font-family=\"Times,serif\" font-size=\"14.00\">grad 0.0000</text>\n</g>\n<!-- 136787592923856* -->\n<g id=\"node9\" class=\"node\">\n<title>136787592923856*</title>\n<ellipse fill=\"none\" stroke=\"black\" cx=\"263\" cy=\"-128.5\" rx=\"27\" ry=\"18\"/>\n<text text-anchor=\"middle\" x=\"263\" y=\"-124.8\" font-family=\"Times,serif\" font-size=\"14.00\">*</text>\n</g>\n<!-- 136787592923536&#45;&gt;136787592923856* -->\n<g id=\"edge10\" class=\"edge\">\n<title>136787592923536&#45;&gt;136787592923856*</title>\n<path fill=\"none\" stroke=\"black\" d=\"M172.53,-165.44C181.84,-162.67 191.2,-159.67 200,-156.5 210.53,-152.71 221.75,-147.9 231.72,-143.33\"/>\n<polygon fill=\"black\" stroke=\"black\" points=\"233.25,-146.48 240.82,-139.07 230.28,-140.14 233.25,-146.48\"/>\n</g>\n<!-- 136787592923728 -->\n<g id=\"node5\" class=\"node\">\n<title>136787592923728</title>\n<polygon fill=\"none\" stroke=\"black\" points=\"1071,-54.5 1071,-90.5 1256,-90.5 1256,-54.5 1071,-54.5\"/>\n<text text-anchor=\"middle\" x=\"1082.5\" y=\"-68.8\" font-family=\"Times,serif\" font-size=\"14.00\">n</text>\n<polyline fill=\"none\" stroke=\"black\" points=\"1094,-54.5 1094,-90.5 \"/>\n<text text-anchor=\"middle\" x=\"1134\" y=\"-68.8\" font-family=\"Times,serif\" font-size=\"14.00\">data 0.8814</text>\n<polyline fill=\"none\" stroke=\"black\" points=\"1174,-54.5 1174,-90.5 \"/>\n<text text-anchor=\"middle\" x=\"1215\" y=\"-68.8\" font-family=\"Times,serif\" font-size=\"14.00\">grad 0.5000</text>\n</g>\n<!-- 136787592923728&#45;&gt;136787594828304tanh -->\n<g id=\"edge6\" class=\"edge\">\n<title>136787592923728&#45;&gt;136787594828304tanh</title>\n<path fill=\"none\" stroke=\"black\" d=\"M1256.01,-72.5C1265.01,-72.5 1273.74,-72.5 1281.66,-72.5\"/>\n<polygon fill=\"black\" stroke=\"black\" points=\"1281.91,-76 1291.91,-72.5 1281.91,-69 1281.91,-76\"/>\n</g>\n<!-- 136787592923728+ -->\n<g id=\"node6\" class=\"node\">\n<title>136787592923728+</title>\n<ellipse fill=\"none\" stroke=\"black\" cx=\"1008\" cy=\"-72.5\" rx=\"27\" ry=\"18\"/>\n<text text-anchor=\"middle\" x=\"1008\" y=\"-68.8\" font-family=\"Times,serif\" font-size=\"14.00\">+</text>\n</g>\n<!-- 136787592923728+&#45;&gt;136787592923728 -->\n<g id=\"edge2\" class=\"edge\">\n<title>136787592923728+&#45;&gt;136787592923728</title>\n<path fill=\"none\" stroke=\"black\" d=\"M1035.04,-72.5C1042.58,-72.5 1051.3,-72.5 1060.57,-72.5\"/>\n<polygon fill=\"black\" stroke=\"black\" points=\"1060.81,-76 1070.81,-72.5 1060.81,-69 1060.81,-76\"/>\n</g>\n<!-- 136787592922768 -->\n<g id=\"node7\" class=\"node\">\n<title>136787592922768</title>\n<polygon fill=\"none\" stroke=\"black\" points=\"4,-0.5 4,-36.5 196,-36.5 196,-0.5 4,-0.5\"/>\n<text text-anchor=\"middle\" x=\"19\" y=\"-14.8\" font-family=\"Times,serif\" font-size=\"14.00\">x1</text>\n<polyline fill=\"none\" stroke=\"black\" points=\"34,-0.5 34,-36.5 \"/>\n<text text-anchor=\"middle\" x=\"74\" y=\"-14.8\" font-family=\"Times,serif\" font-size=\"14.00\">data 2.0000</text>\n<polyline fill=\"none\" stroke=\"black\" points=\"114,-0.5 114,-36.5 \"/>\n<text text-anchor=\"middle\" x=\"155\" y=\"-14.8\" font-family=\"Times,serif\" font-size=\"14.00\">grad 0.0000</text>\n</g>\n<!-- 136787592922768&#45;&gt;136787592923600* -->\n<g id=\"edge11\" class=\"edge\">\n<title>136787592922768&#45;&gt;136787592923600*</title>\n<path fill=\"none\" stroke=\"black\" d=\"M172.53,-36.56C181.84,-39.33 191.2,-42.33 200,-45.5 210.53,-49.29 221.75,-54.1 231.72,-58.67\"/>\n<polygon fill=\"black\" stroke=\"black\" points=\"230.28,-61.86 240.82,-62.93 233.25,-55.52 230.28,-61.86\"/>\n</g>\n<!-- 136787592923856 -->\n<g id=\"node8\" class=\"node\">\n<title>136787592923856</title>\n<polygon fill=\"none\" stroke=\"black\" points=\"328.5,-110.5 328.5,-146.5 543.5,-146.5 543.5,-110.5 328.5,-110.5\"/>\n<text text-anchor=\"middle\" x=\"355\" y=\"-124.8\" font-family=\"Times,serif\" font-size=\"14.00\">x2*w2</text>\n<polyline fill=\"none\" stroke=\"black\" points=\"381.5,-110.5 381.5,-146.5 \"/>\n<text text-anchor=\"middle\" x=\"421.5\" y=\"-124.8\" font-family=\"Times,serif\" font-size=\"14.00\">data 0.0000</text>\n<polyline fill=\"none\" stroke=\"black\" points=\"461.5,-110.5 461.5,-146.5 \"/>\n<text text-anchor=\"middle\" x=\"502.5\" y=\"-124.8\" font-family=\"Times,serif\" font-size=\"14.00\">grad 0.0000</text>\n</g>\n<!-- 136787592923984+ -->\n<g id=\"node11\" class=\"node\">\n<title>136787592923984+</title>\n<ellipse fill=\"none\" stroke=\"black\" cx=\"609\" cy=\"-100.5\" rx=\"27\" ry=\"18\"/>\n<text text-anchor=\"middle\" x=\"609\" y=\"-96.8\" font-family=\"Times,serif\" font-size=\"14.00\">+</text>\n</g>\n<!-- 136787592923856&#45;&gt;136787592923984+ -->\n<g id=\"edge13\" class=\"edge\">\n<title>136787592923856&#45;&gt;136787592923984+</title>\n<path fill=\"none\" stroke=\"black\" d=\"M543.84,-111.01C554.01,-109.34 563.76,-107.74 572.44,-106.32\"/>\n<polygon fill=\"black\" stroke=\"black\" points=\"573.17,-109.75 582.47,-104.68 572.04,-102.84 573.17,-109.75\"/>\n</g>\n<!-- 136787592923856*&#45;&gt;136787592923856 -->\n<g id=\"edge3\" class=\"edge\">\n<title>136787592923856*&#45;&gt;136787592923856</title>\n<path fill=\"none\" stroke=\"black\" d=\"M290.34,-128.5C298.51,-128.5 308.08,-128.5 318.36,-128.5\"/>\n<polygon fill=\"black\" stroke=\"black\" points=\"318.39,-132 328.39,-128.5 318.39,-125 318.39,-132\"/>\n</g>\n<!-- 136787592923984 -->\n<g id=\"node10\" class=\"node\">\n<title>136787592923984</title>\n<polygon fill=\"none\" stroke=\"black\" points=\"672,-82.5 672,-118.5 945,-118.5 945,-82.5 672,-82.5\"/>\n<text text-anchor=\"middle\" x=\"725\" y=\"-96.8\" font-family=\"Times,serif\" font-size=\"14.00\">x1*w1 + x2*w2</text>\n<polyline fill=\"none\" stroke=\"black\" points=\"778,-82.5 778,-118.5 \"/>\n<text text-anchor=\"middle\" x=\"820.5\" y=\"-96.8\" font-family=\"Times,serif\" font-size=\"14.00\">data &#45;6.0000</text>\n<polyline fill=\"none\" stroke=\"black\" points=\"863,-82.5 863,-118.5 \"/>\n<text text-anchor=\"middle\" x=\"904\" y=\"-96.8\" font-family=\"Times,serif\" font-size=\"14.00\">grad 0.5000</text>\n</g>\n<!-- 136787592923984&#45;&gt;136787592923728+ -->\n<g id=\"edge7\" class=\"edge\">\n<title>136787592923984&#45;&gt;136787592923728+</title>\n<path fill=\"none\" stroke=\"black\" d=\"M936.53,-82.49C949.09,-80.71 960.99,-79.02 971.3,-77.56\"/>\n<polygon fill=\"black\" stroke=\"black\" points=\"972.03,-80.99 981.44,-76.12 971.05,-74.06 972.03,-80.99\"/>\n</g>\n<!-- 136787592923984+&#45;&gt;136787592923984 -->\n<g id=\"edge4\" class=\"edge\">\n<title>136787592923984+&#45;&gt;136787592923984</title>\n<path fill=\"none\" stroke=\"black\" d=\"M636.23,-100.5C643.7,-100.5 652.41,-100.5 661.87,-100.5\"/>\n<polygon fill=\"black\" stroke=\"black\" points=\"661.98,-104 671.98,-100.5 661.98,-97 661.98,-104\"/>\n</g>\n<!-- 136787592922960 -->\n<g id=\"node12\" class=\"node\">\n<title>136787592922960</title>\n<polygon fill=\"none\" stroke=\"black\" points=\"716,-27.5 716,-63.5 901,-63.5 901,-27.5 716,-27.5\"/>\n<text text-anchor=\"middle\" x=\"727.5\" y=\"-41.8\" font-family=\"Times,serif\" font-size=\"14.00\">b</text>\n<polyline fill=\"none\" stroke=\"black\" points=\"739,-27.5 739,-63.5 \"/>\n<text text-anchor=\"middle\" x=\"779\" y=\"-41.8\" font-family=\"Times,serif\" font-size=\"14.00\">data 6.8814</text>\n<polyline fill=\"none\" stroke=\"black\" points=\"819,-27.5 819,-63.5 \"/>\n<text text-anchor=\"middle\" x=\"860\" y=\"-41.8\" font-family=\"Times,serif\" font-size=\"14.00\">grad 0.5000</text>\n</g>\n<!-- 136787592922960&#45;&gt;136787592923728+ -->\n<g id=\"edge12\" class=\"edge\">\n<title>136787592922960&#45;&gt;136787592923728+</title>\n<path fill=\"none\" stroke=\"black\" d=\"M901.02,-58.01C926,-61.43 951.59,-64.93 971.37,-67.63\"/>\n<polygon fill=\"black\" stroke=\"black\" points=\"971.05,-71.12 981.43,-69.01 972,-64.18 971.05,-71.12\"/>\n</g>\n<!-- 136787592923024 -->\n<g id=\"node13\" class=\"node\">\n<title>136787592923024</title>\n<polygon fill=\"none\" stroke=\"black\" points=\"4,-110.5 4,-146.5 196,-146.5 196,-110.5 4,-110.5\"/>\n<text text-anchor=\"middle\" x=\"19\" y=\"-124.8\" font-family=\"Times,serif\" font-size=\"14.00\">x2</text>\n<polyline fill=\"none\" stroke=\"black\" points=\"34,-110.5 34,-146.5 \"/>\n<text text-anchor=\"middle\" x=\"74\" y=\"-124.8\" font-family=\"Times,serif\" font-size=\"14.00\">data 0.0000</text>\n<polyline fill=\"none\" stroke=\"black\" points=\"114,-110.5 114,-146.5 \"/>\n<text text-anchor=\"middle\" x=\"155\" y=\"-124.8\" font-family=\"Times,serif\" font-size=\"14.00\">grad 0.0000</text>\n</g>\n<!-- 136787592923024&#45;&gt;136787592923856* -->\n<g id=\"edge9\" class=\"edge\">\n<title>136787592923024&#45;&gt;136787592923856*</title>\n<path fill=\"none\" stroke=\"black\" d=\"M196.05,-128.5C206.52,-128.5 216.65,-128.5 225.71,-128.5\"/>\n<polygon fill=\"black\" stroke=\"black\" points=\"225.79,-132 235.79,-128.5 225.79,-125 225.79,-132\"/>\n</g>\n<!-- 136787592923600 -->\n<g id=\"node14\" class=\"node\">\n<title>136787592923600</title>\n<polygon fill=\"none\" stroke=\"black\" points=\"326,-55.5 326,-91.5 546,-91.5 546,-55.5 326,-55.5\"/>\n<text text-anchor=\"middle\" x=\"352.5\" y=\"-69.8\" font-family=\"Times,serif\" font-size=\"14.00\">x1*w1</text>\n<polyline fill=\"none\" stroke=\"black\" points=\"379,-55.5 379,-91.5 \"/>\n<text text-anchor=\"middle\" x=\"421.5\" y=\"-69.8\" font-family=\"Times,serif\" font-size=\"14.00\">data &#45;6.0000</text>\n<polyline fill=\"none\" stroke=\"black\" points=\"464,-55.5 464,-91.5 \"/>\n<text text-anchor=\"middle\" x=\"505\" y=\"-69.8\" font-family=\"Times,serif\" font-size=\"14.00\">grad 0.0000</text>\n</g>\n<!-- 136787592923600&#45;&gt;136787592923984+ -->\n<g id=\"edge14\" class=\"edge\">\n<title>136787592923600&#45;&gt;136787592923984+</title>\n<path fill=\"none\" stroke=\"black\" d=\"M546.27,-90.75C555.64,-92.23 564.6,-93.65 572.65,-94.92\"/>\n<polygon fill=\"black\" stroke=\"black\" points=\"572.23,-98.4 582.65,-96.5 573.32,-91.48 572.23,-98.4\"/>\n</g>\n<!-- 136787592923600*&#45;&gt;136787592923600 -->\n<g id=\"edge5\" class=\"edge\">\n<title>136787592923600*&#45;&gt;136787592923600</title>\n<path fill=\"none\" stroke=\"black\" d=\"M290.34,-73.5C297.77,-73.5 306.37,-73.5 315.6,-73.5\"/>\n<polygon fill=\"black\" stroke=\"black\" points=\"315.84,-77 325.84,-73.5 315.84,-70 315.84,-77\"/>\n</g>\n</g>\n</svg>\n",
            "text/plain": [
              "<graphviz.graphs.Digraph at 0x7c6857e2d210>"
            ]
          },
          "metadata": {},
          "execution_count": 607
        }
      ]
    },
    {
      "cell_type": "code",
      "source": [
        "b._backward()"
      ],
      "metadata": {
        "id": "n2l4LneognvT"
      },
      "execution_count": 608,
      "outputs": []
    },
    {
      "cell_type": "code",
      "source": [
        "x1w1x2w2._backward()\n",
        "x1w1._backward()\n",
        "b._backward()"
      ],
      "metadata": {
        "id": "mXPPE54Tgnsv"
      },
      "execution_count": 609,
      "outputs": []
    },
    {
      "cell_type": "markdown",
      "source": [
        "#using backward function"
      ],
      "metadata": {
        "id": "fRQ0z7ufyrA0"
      }
    },
    {
      "cell_type": "code",
      "source": [
        "# inputs x1,x2\n",
        "x1 = Rank(2.0, label='x1')\n",
        "x2 = Rank(0.0, label='x2')\n",
        "# weights w1,w2\n",
        "w1 = Rank(-3.0, label='w1')\n",
        "w2 = Rank(1.0, label='w2')\n",
        "# bias of the neuron\n",
        "b = Rank(6.8813735870195432, label='b')\n",
        "# x1*w1 + x2*w2 + b\n",
        "x1w1 = x1*w1; x1w1.label = 'x1*w1'\n",
        "x2w2 = x2*w2; x2w2.label = 'x2*w2'\n",
        "x1w1x2w2 = x1w1 + x2w2; x1w1x2w2.label = 'x1*w1 + x2*w2'\n",
        "n = x1w1x2w2 + b; n.label = 'n'\n",
        "o = n.tanh()\n",
        "o.label='o'\n"
      ],
      "metadata": {
        "id": "LDsE6CGagnqM"
      },
      "execution_count": 610,
      "outputs": []
    },
    {
      "cell_type": "code",
      "source": [
        "draw_dot(o)"
      ],
      "metadata": {
        "id": "vJvcUO5ignni",
        "colab": {
          "base_uri": "https://localhost:8080/",
          "height": 321
        },
        "outputId": "986befce-1515-4136-fb49-bfb6335ab64a"
      },
      "execution_count": 611,
      "outputs": [
        {
          "output_type": "execute_result",
          "data": {
            "image/svg+xml": "<?xml version=\"1.0\" encoding=\"UTF-8\" standalone=\"no\"?>\n<!DOCTYPE svg PUBLIC \"-//W3C//DTD SVG 1.1//EN\"\n \"http://www.w3.org/Graphics/SVG/1.1/DTD/svg11.dtd\">\n<!-- Generated by graphviz version 2.43.0 (0)\n -->\n<!-- Title: %3 Pages: 1 -->\n<svg width=\"1575pt\" height=\"210pt\"\n viewBox=\"0.00 0.00 1575.00 210.00\" xmlns=\"http://www.w3.org/2000/svg\" xmlns:xlink=\"http://www.w3.org/1999/xlink\">\n<g id=\"graph0\" class=\"graph\" transform=\"scale(1 1) rotate(0) translate(4 206)\">\n<title>%3</title>\n<polygon fill=\"white\" stroke=\"transparent\" points=\"-4,4 -4,-206 1571,-206 1571,4 -4,4\"/>\n<!-- 136787592927760 -->\n<g id=\"node1\" class=\"node\">\n<title>136787592927760</title>\n<polygon fill=\"none\" stroke=\"black\" points=\"1382,-109.5 1382,-145.5 1567,-145.5 1567,-109.5 1382,-109.5\"/>\n<text text-anchor=\"middle\" x=\"1393.5\" y=\"-123.8\" font-family=\"Times,serif\" font-size=\"14.00\">o</text>\n<polyline fill=\"none\" stroke=\"black\" points=\"1405,-109.5 1405,-145.5 \"/>\n<text text-anchor=\"middle\" x=\"1445\" y=\"-123.8\" font-family=\"Times,serif\" font-size=\"14.00\">data 0.7071</text>\n<polyline fill=\"none\" stroke=\"black\" points=\"1485,-109.5 1485,-145.5 \"/>\n<text text-anchor=\"middle\" x=\"1526\" y=\"-123.8\" font-family=\"Times,serif\" font-size=\"14.00\">grad 0.0000</text>\n</g>\n<!-- 136787592927760tanh -->\n<g id=\"node2\" class=\"node\">\n<title>136787592927760tanh</title>\n<ellipse fill=\"none\" stroke=\"black\" cx=\"1319\" cy=\"-127.5\" rx=\"27\" ry=\"18\"/>\n<text text-anchor=\"middle\" x=\"1319\" y=\"-123.8\" font-family=\"Times,serif\" font-size=\"14.00\">tanh</text>\n</g>\n<!-- 136787592927760tanh&#45;&gt;136787592927760 -->\n<g id=\"edge1\" class=\"edge\">\n<title>136787592927760tanh&#45;&gt;136787592927760</title>\n<path fill=\"none\" stroke=\"black\" d=\"M1346.04,-127.5C1353.58,-127.5 1362.3,-127.5 1371.57,-127.5\"/>\n<polygon fill=\"black\" stroke=\"black\" points=\"1371.81,-131 1381.81,-127.5 1371.81,-124 1371.81,-131\"/>\n</g>\n<!-- 136787592931856 -->\n<g id=\"node3\" class=\"node\">\n<title>136787592931856</title>\n<polygon fill=\"none\" stroke=\"black\" points=\"326,-110.5 326,-146.5 546,-146.5 546,-110.5 326,-110.5\"/>\n<text text-anchor=\"middle\" x=\"352.5\" y=\"-124.8\" font-family=\"Times,serif\" font-size=\"14.00\">x1*w1</text>\n<polyline fill=\"none\" stroke=\"black\" points=\"379,-110.5 379,-146.5 \"/>\n<text text-anchor=\"middle\" x=\"421.5\" y=\"-124.8\" font-family=\"Times,serif\" font-size=\"14.00\">data &#45;6.0000</text>\n<polyline fill=\"none\" stroke=\"black\" points=\"464,-110.5 464,-146.5 \"/>\n<text text-anchor=\"middle\" x=\"505\" y=\"-124.8\" font-family=\"Times,serif\" font-size=\"14.00\">grad 0.0000</text>\n</g>\n<!-- 136787592932240+ -->\n<g id=\"node14\" class=\"node\">\n<title>136787592932240+</title>\n<ellipse fill=\"none\" stroke=\"black\" cx=\"609\" cy=\"-100.5\" rx=\"27\" ry=\"18\"/>\n<text text-anchor=\"middle\" x=\"609\" y=\"-96.8\" font-family=\"Times,serif\" font-size=\"14.00\">+</text>\n</g>\n<!-- 136787592931856&#45;&gt;136787592932240+ -->\n<g id=\"edge10\" class=\"edge\">\n<title>136787592931856&#45;&gt;136787592932240+</title>\n<path fill=\"none\" stroke=\"black\" d=\"M546.27,-110.61C555.64,-109.07 564.6,-107.61 572.65,-106.29\"/>\n<polygon fill=\"black\" stroke=\"black\" points=\"573.35,-109.72 582.65,-104.65 572.22,-102.81 573.35,-109.72\"/>\n</g>\n<!-- 136787592931856* -->\n<g id=\"node4\" class=\"node\">\n<title>136787592931856*</title>\n<ellipse fill=\"none\" stroke=\"black\" cx=\"263\" cy=\"-128.5\" rx=\"27\" ry=\"18\"/>\n<text text-anchor=\"middle\" x=\"263\" y=\"-124.8\" font-family=\"Times,serif\" font-size=\"14.00\">*</text>\n</g>\n<!-- 136787592931856*&#45;&gt;136787592931856 -->\n<g id=\"edge2\" class=\"edge\">\n<title>136787592931856*&#45;&gt;136787592931856</title>\n<path fill=\"none\" stroke=\"black\" d=\"M290.34,-128.5C297.77,-128.5 306.37,-128.5 315.6,-128.5\"/>\n<polygon fill=\"black\" stroke=\"black\" points=\"315.84,-132 325.84,-128.5 315.84,-125 315.84,-132\"/>\n</g>\n<!-- 136787592930896 -->\n<g id=\"node5\" class=\"node\">\n<title>136787592930896</title>\n<polygon fill=\"none\" stroke=\"black\" points=\"4,-165.5 4,-201.5 196,-201.5 196,-165.5 4,-165.5\"/>\n<text text-anchor=\"middle\" x=\"19\" y=\"-179.8\" font-family=\"Times,serif\" font-size=\"14.00\">x1</text>\n<polyline fill=\"none\" stroke=\"black\" points=\"34,-165.5 34,-201.5 \"/>\n<text text-anchor=\"middle\" x=\"74\" y=\"-179.8\" font-family=\"Times,serif\" font-size=\"14.00\">data 2.0000</text>\n<polyline fill=\"none\" stroke=\"black\" points=\"114,-165.5 114,-201.5 \"/>\n<text text-anchor=\"middle\" x=\"155\" y=\"-179.8\" font-family=\"Times,serif\" font-size=\"14.00\">grad 0.0000</text>\n</g>\n<!-- 136787592930896&#45;&gt;136787592931856* -->\n<g id=\"edge11\" class=\"edge\">\n<title>136787592930896&#45;&gt;136787592931856*</title>\n<path fill=\"none\" stroke=\"black\" d=\"M172.53,-165.44C181.84,-162.67 191.2,-159.67 200,-156.5 210.53,-152.71 221.75,-147.9 231.72,-143.33\"/>\n<polygon fill=\"black\" stroke=\"black\" points=\"233.25,-146.48 240.82,-139.07 230.28,-140.14 233.25,-146.48\"/>\n</g>\n<!-- 136787592931920 -->\n<g id=\"node6\" class=\"node\">\n<title>136787592931920</title>\n<polygon fill=\"none\" stroke=\"black\" points=\"0,-110.5 0,-146.5 200,-146.5 200,-110.5 0,-110.5\"/>\n<text text-anchor=\"middle\" x=\"16.5\" y=\"-124.8\" font-family=\"Times,serif\" font-size=\"14.00\">w1</text>\n<polyline fill=\"none\" stroke=\"black\" points=\"33,-110.5 33,-146.5 \"/>\n<text text-anchor=\"middle\" x=\"75.5\" y=\"-124.8\" font-family=\"Times,serif\" font-size=\"14.00\">data &#45;3.0000</text>\n<polyline fill=\"none\" stroke=\"black\" points=\"118,-110.5 118,-146.5 \"/>\n<text text-anchor=\"middle\" x=\"159\" y=\"-124.8\" font-family=\"Times,serif\" font-size=\"14.00\">grad 0.0000</text>\n</g>\n<!-- 136787592931920&#45;&gt;136787592931856* -->\n<g id=\"edge14\" class=\"edge\">\n<title>136787592931920&#45;&gt;136787592931856*</title>\n<path fill=\"none\" stroke=\"black\" d=\"M200.21,-128.5C209.2,-128.5 217.86,-128.5 225.7,-128.5\"/>\n<polygon fill=\"black\" stroke=\"black\" points=\"225.85,-132 235.85,-128.5 225.85,-125 225.85,-132\"/>\n</g>\n<!-- 136787592931792 -->\n<g id=\"node7\" class=\"node\">\n<title>136787592931792</title>\n<polygon fill=\"none\" stroke=\"black\" points=\"2.5,-55.5 2.5,-91.5 197.5,-91.5 197.5,-55.5 2.5,-55.5\"/>\n<text text-anchor=\"middle\" x=\"19\" y=\"-69.8\" font-family=\"Times,serif\" font-size=\"14.00\">w2</text>\n<polyline fill=\"none\" stroke=\"black\" points=\"35.5,-55.5 35.5,-91.5 \"/>\n<text text-anchor=\"middle\" x=\"75.5\" y=\"-69.8\" font-family=\"Times,serif\" font-size=\"14.00\">data 1.0000</text>\n<polyline fill=\"none\" stroke=\"black\" points=\"115.5,-55.5 115.5,-91.5 \"/>\n<text text-anchor=\"middle\" x=\"156.5\" y=\"-69.8\" font-family=\"Times,serif\" font-size=\"14.00\">grad 0.0000</text>\n</g>\n<!-- 136787592932112* -->\n<g id=\"node11\" class=\"node\">\n<title>136787592932112*</title>\n<ellipse fill=\"none\" stroke=\"black\" cx=\"263\" cy=\"-73.5\" rx=\"27\" ry=\"18\"/>\n<text text-anchor=\"middle\" x=\"263\" y=\"-69.8\" font-family=\"Times,serif\" font-size=\"14.00\">*</text>\n</g>\n<!-- 136787592931792&#45;&gt;136787592932112* -->\n<g id=\"edge8\" class=\"edge\">\n<title>136787592931792&#45;&gt;136787592932112*</title>\n<path fill=\"none\" stroke=\"black\" d=\"M197.91,-73.5C207.65,-73.5 217.05,-73.5 225.52,-73.5\"/>\n<polygon fill=\"black\" stroke=\"black\" points=\"225.7,-77 235.7,-73.5 225.7,-70 225.7,-77\"/>\n</g>\n<!-- 136787592931984 -->\n<g id=\"node8\" class=\"node\">\n<title>136787592931984</title>\n<polygon fill=\"none\" stroke=\"black\" points=\"1071,-109.5 1071,-145.5 1256,-145.5 1256,-109.5 1071,-109.5\"/>\n<text text-anchor=\"middle\" x=\"1082.5\" y=\"-123.8\" font-family=\"Times,serif\" font-size=\"14.00\">n</text>\n<polyline fill=\"none\" stroke=\"black\" points=\"1094,-109.5 1094,-145.5 \"/>\n<text text-anchor=\"middle\" x=\"1134\" y=\"-123.8\" font-family=\"Times,serif\" font-size=\"14.00\">data 0.8814</text>\n<polyline fill=\"none\" stroke=\"black\" points=\"1174,-109.5 1174,-145.5 \"/>\n<text text-anchor=\"middle\" x=\"1215\" y=\"-123.8\" font-family=\"Times,serif\" font-size=\"14.00\">grad 0.0000</text>\n</g>\n<!-- 136787592931984&#45;&gt;136787592927760tanh -->\n<g id=\"edge12\" class=\"edge\">\n<title>136787592931984&#45;&gt;136787592927760tanh</title>\n<path fill=\"none\" stroke=\"black\" d=\"M1256.01,-127.5C1265.01,-127.5 1273.74,-127.5 1281.66,-127.5\"/>\n<polygon fill=\"black\" stroke=\"black\" points=\"1281.91,-131 1291.91,-127.5 1281.91,-124 1281.91,-131\"/>\n</g>\n<!-- 136787592931984+ -->\n<g id=\"node9\" class=\"node\">\n<title>136787592931984+</title>\n<ellipse fill=\"none\" stroke=\"black\" cx=\"1008\" cy=\"-127.5\" rx=\"27\" ry=\"18\"/>\n<text text-anchor=\"middle\" x=\"1008\" y=\"-123.8\" font-family=\"Times,serif\" font-size=\"14.00\">+</text>\n</g>\n<!-- 136787592931984+&#45;&gt;136787592931984 -->\n<g id=\"edge3\" class=\"edge\">\n<title>136787592931984+&#45;&gt;136787592931984</title>\n<path fill=\"none\" stroke=\"black\" d=\"M1035.04,-127.5C1042.58,-127.5 1051.3,-127.5 1060.57,-127.5\"/>\n<polygon fill=\"black\" stroke=\"black\" points=\"1060.81,-131 1070.81,-127.5 1060.81,-124 1060.81,-131\"/>\n</g>\n<!-- 136787592932112 -->\n<g id=\"node10\" class=\"node\">\n<title>136787592932112</title>\n<polygon fill=\"none\" stroke=\"black\" points=\"328.5,-55.5 328.5,-91.5 543.5,-91.5 543.5,-55.5 328.5,-55.5\"/>\n<text text-anchor=\"middle\" x=\"355\" y=\"-69.8\" font-family=\"Times,serif\" font-size=\"14.00\">x2*w2</text>\n<polyline fill=\"none\" stroke=\"black\" points=\"381.5,-55.5 381.5,-91.5 \"/>\n<text text-anchor=\"middle\" x=\"421.5\" y=\"-69.8\" font-family=\"Times,serif\" font-size=\"14.00\">data 0.0000</text>\n<polyline fill=\"none\" stroke=\"black\" points=\"461.5,-55.5 461.5,-91.5 \"/>\n<text text-anchor=\"middle\" x=\"502.5\" y=\"-69.8\" font-family=\"Times,serif\" font-size=\"14.00\">grad 0.0000</text>\n</g>\n<!-- 136787592932112&#45;&gt;136787592932240+ -->\n<g id=\"edge6\" class=\"edge\">\n<title>136787592932112&#45;&gt;136787592932240+</title>\n<path fill=\"none\" stroke=\"black\" d=\"M543.84,-90.37C554.01,-91.98 563.76,-93.51 572.44,-94.89\"/>\n<polygon fill=\"black\" stroke=\"black\" points=\"572.05,-98.37 582.47,-96.47 573.14,-91.45 572.05,-98.37\"/>\n</g>\n<!-- 136787592932112*&#45;&gt;136787592932112 -->\n<g id=\"edge4\" class=\"edge\">\n<title>136787592932112*&#45;&gt;136787592932112</title>\n<path fill=\"none\" stroke=\"black\" d=\"M290.34,-73.5C298.51,-73.5 308.08,-73.5 318.36,-73.5\"/>\n<polygon fill=\"black\" stroke=\"black\" points=\"318.39,-77 328.39,-73.5 318.39,-70 318.39,-77\"/>\n</g>\n<!-- 136787592931088 -->\n<g id=\"node12\" class=\"node\">\n<title>136787592931088</title>\n<polygon fill=\"none\" stroke=\"black\" points=\"716,-137.5 716,-173.5 901,-173.5 901,-137.5 716,-137.5\"/>\n<text text-anchor=\"middle\" x=\"727.5\" y=\"-151.8\" font-family=\"Times,serif\" font-size=\"14.00\">b</text>\n<polyline fill=\"none\" stroke=\"black\" points=\"739,-137.5 739,-173.5 \"/>\n<text text-anchor=\"middle\" x=\"779\" y=\"-151.8\" font-family=\"Times,serif\" font-size=\"14.00\">data 6.8814</text>\n<polyline fill=\"none\" stroke=\"black\" points=\"819,-137.5 819,-173.5 \"/>\n<text text-anchor=\"middle\" x=\"860\" y=\"-151.8\" font-family=\"Times,serif\" font-size=\"14.00\">grad 0.0000</text>\n</g>\n<!-- 136787592931088&#45;&gt;136787592931984+ -->\n<g id=\"edge9\" class=\"edge\">\n<title>136787592931088&#45;&gt;136787592931984+</title>\n<path fill=\"none\" stroke=\"black\" d=\"M901.02,-142.52C926,-138.98 951.59,-135.36 971.37,-132.55\"/>\n<polygon fill=\"black\" stroke=\"black\" points=\"972.03,-135.99 981.43,-131.12 971.04,-129.06 972.03,-135.99\"/>\n</g>\n<!-- 136787592932240 -->\n<g id=\"node13\" class=\"node\">\n<title>136787592932240</title>\n<polygon fill=\"none\" stroke=\"black\" points=\"672,-82.5 672,-118.5 945,-118.5 945,-82.5 672,-82.5\"/>\n<text text-anchor=\"middle\" x=\"725\" y=\"-96.8\" font-family=\"Times,serif\" font-size=\"14.00\">x1*w1 + x2*w2</text>\n<polyline fill=\"none\" stroke=\"black\" points=\"778,-82.5 778,-118.5 \"/>\n<text text-anchor=\"middle\" x=\"820.5\" y=\"-96.8\" font-family=\"Times,serif\" font-size=\"14.00\">data &#45;6.0000</text>\n<polyline fill=\"none\" stroke=\"black\" points=\"863,-82.5 863,-118.5 \"/>\n<text text-anchor=\"middle\" x=\"904\" y=\"-96.8\" font-family=\"Times,serif\" font-size=\"14.00\">grad 0.0000</text>\n</g>\n<!-- 136787592932240&#45;&gt;136787592931984+ -->\n<g id=\"edge7\" class=\"edge\">\n<title>136787592932240&#45;&gt;136787592931984+</title>\n<path fill=\"none\" stroke=\"black\" d=\"M941.24,-118.51C952.12,-120 962.4,-121.4 971.45,-122.64\"/>\n<polygon fill=\"black\" stroke=\"black\" points=\"971.11,-126.13 981.49,-124.01 972.05,-119.19 971.11,-126.13\"/>\n</g>\n<!-- 136787592932240+&#45;&gt;136787592932240 -->\n<g id=\"edge5\" class=\"edge\">\n<title>136787592932240+&#45;&gt;136787592932240</title>\n<path fill=\"none\" stroke=\"black\" d=\"M636.23,-100.5C643.7,-100.5 652.41,-100.5 661.87,-100.5\"/>\n<polygon fill=\"black\" stroke=\"black\" points=\"661.98,-104 671.98,-100.5 661.98,-97 661.98,-104\"/>\n</g>\n<!-- 136787592931280 -->\n<g id=\"node15\" class=\"node\">\n<title>136787592931280</title>\n<polygon fill=\"none\" stroke=\"black\" points=\"4,-0.5 4,-36.5 196,-36.5 196,-0.5 4,-0.5\"/>\n<text text-anchor=\"middle\" x=\"19\" y=\"-14.8\" font-family=\"Times,serif\" font-size=\"14.00\">x2</text>\n<polyline fill=\"none\" stroke=\"black\" points=\"34,-0.5 34,-36.5 \"/>\n<text text-anchor=\"middle\" x=\"74\" y=\"-14.8\" font-family=\"Times,serif\" font-size=\"14.00\">data 0.0000</text>\n<polyline fill=\"none\" stroke=\"black\" points=\"114,-0.5 114,-36.5 \"/>\n<text text-anchor=\"middle\" x=\"155\" y=\"-14.8\" font-family=\"Times,serif\" font-size=\"14.00\">grad 0.0000</text>\n</g>\n<!-- 136787592931280&#45;&gt;136787592932112* -->\n<g id=\"edge13\" class=\"edge\">\n<title>136787592931280&#45;&gt;136787592932112*</title>\n<path fill=\"none\" stroke=\"black\" d=\"M169.28,-36.5C179.65,-39.61 190.16,-42.98 200,-46.5 210.28,-50.17 221.28,-54.74 231.11,-59.07\"/>\n<polygon fill=\"black\" stroke=\"black\" points=\"229.93,-62.37 240.48,-63.27 232.79,-55.99 229.93,-62.37\"/>\n</g>\n</g>\n</svg>\n",
            "text/plain": [
              "<graphviz.graphs.Digraph at 0x7c6857e2df50>"
            ]
          },
          "metadata": {},
          "execution_count": 611
        }
      ]
    },
    {
      "cell_type": "code",
      "source": [
        "o.backward()"
      ],
      "metadata": {
        "id": "WMEgOim1dan3"
      },
      "execution_count": 612,
      "outputs": []
    },
    {
      "cell_type": "code",
      "source": [
        "draw_dot(o)"
      ],
      "metadata": {
        "id": "CzROw90MdalD",
        "colab": {
          "base_uri": "https://localhost:8080/",
          "height": 321
        },
        "outputId": "dc118bc3-37c9-4d36-8686-3bfe79e09d21"
      },
      "execution_count": 613,
      "outputs": [
        {
          "output_type": "execute_result",
          "data": {
            "image/svg+xml": "<?xml version=\"1.0\" encoding=\"UTF-8\" standalone=\"no\"?>\n<!DOCTYPE svg PUBLIC \"-//W3C//DTD SVG 1.1//EN\"\n \"http://www.w3.org/Graphics/SVG/1.1/DTD/svg11.dtd\">\n<!-- Generated by graphviz version 2.43.0 (0)\n -->\n<!-- Title: %3 Pages: 1 -->\n<svg width=\"1575pt\" height=\"210pt\"\n viewBox=\"0.00 0.00 1575.00 210.00\" xmlns=\"http://www.w3.org/2000/svg\" xmlns:xlink=\"http://www.w3.org/1999/xlink\">\n<g id=\"graph0\" class=\"graph\" transform=\"scale(1 1) rotate(0) translate(4 206)\">\n<title>%3</title>\n<polygon fill=\"white\" stroke=\"transparent\" points=\"-4,4 -4,-206 1571,-206 1571,4 -4,4\"/>\n<!-- 136787592927760 -->\n<g id=\"node1\" class=\"node\">\n<title>136787592927760</title>\n<polygon fill=\"none\" stroke=\"black\" points=\"1382,-109.5 1382,-145.5 1567,-145.5 1567,-109.5 1382,-109.5\"/>\n<text text-anchor=\"middle\" x=\"1393.5\" y=\"-123.8\" font-family=\"Times,serif\" font-size=\"14.00\">o</text>\n<polyline fill=\"none\" stroke=\"black\" points=\"1405,-109.5 1405,-145.5 \"/>\n<text text-anchor=\"middle\" x=\"1445\" y=\"-123.8\" font-family=\"Times,serif\" font-size=\"14.00\">data 0.7071</text>\n<polyline fill=\"none\" stroke=\"black\" points=\"1485,-109.5 1485,-145.5 \"/>\n<text text-anchor=\"middle\" x=\"1526\" y=\"-123.8\" font-family=\"Times,serif\" font-size=\"14.00\">grad 1.0000</text>\n</g>\n<!-- 136787592927760tanh -->\n<g id=\"node2\" class=\"node\">\n<title>136787592927760tanh</title>\n<ellipse fill=\"none\" stroke=\"black\" cx=\"1319\" cy=\"-127.5\" rx=\"27\" ry=\"18\"/>\n<text text-anchor=\"middle\" x=\"1319\" y=\"-123.8\" font-family=\"Times,serif\" font-size=\"14.00\">tanh</text>\n</g>\n<!-- 136787592927760tanh&#45;&gt;136787592927760 -->\n<g id=\"edge1\" class=\"edge\">\n<title>136787592927760tanh&#45;&gt;136787592927760</title>\n<path fill=\"none\" stroke=\"black\" d=\"M1346.04,-127.5C1353.58,-127.5 1362.3,-127.5 1371.57,-127.5\"/>\n<polygon fill=\"black\" stroke=\"black\" points=\"1371.81,-131 1381.81,-127.5 1371.81,-124 1371.81,-131\"/>\n</g>\n<!-- 136787592931856 -->\n<g id=\"node3\" class=\"node\">\n<title>136787592931856</title>\n<polygon fill=\"none\" stroke=\"black\" points=\"326,-110.5 326,-146.5 546,-146.5 546,-110.5 326,-110.5\"/>\n<text text-anchor=\"middle\" x=\"352.5\" y=\"-124.8\" font-family=\"Times,serif\" font-size=\"14.00\">x1*w1</text>\n<polyline fill=\"none\" stroke=\"black\" points=\"379,-110.5 379,-146.5 \"/>\n<text text-anchor=\"middle\" x=\"421.5\" y=\"-124.8\" font-family=\"Times,serif\" font-size=\"14.00\">data &#45;6.0000</text>\n<polyline fill=\"none\" stroke=\"black\" points=\"464,-110.5 464,-146.5 \"/>\n<text text-anchor=\"middle\" x=\"505\" y=\"-124.8\" font-family=\"Times,serif\" font-size=\"14.00\">grad 0.5000</text>\n</g>\n<!-- 136787592932240+ -->\n<g id=\"node14\" class=\"node\">\n<title>136787592932240+</title>\n<ellipse fill=\"none\" stroke=\"black\" cx=\"609\" cy=\"-100.5\" rx=\"27\" ry=\"18\"/>\n<text text-anchor=\"middle\" x=\"609\" y=\"-96.8\" font-family=\"Times,serif\" font-size=\"14.00\">+</text>\n</g>\n<!-- 136787592931856&#45;&gt;136787592932240+ -->\n<g id=\"edge10\" class=\"edge\">\n<title>136787592931856&#45;&gt;136787592932240+</title>\n<path fill=\"none\" stroke=\"black\" d=\"M546.27,-110.61C555.64,-109.07 564.6,-107.61 572.65,-106.29\"/>\n<polygon fill=\"black\" stroke=\"black\" points=\"573.35,-109.72 582.65,-104.65 572.22,-102.81 573.35,-109.72\"/>\n</g>\n<!-- 136787592931856* -->\n<g id=\"node4\" class=\"node\">\n<title>136787592931856*</title>\n<ellipse fill=\"none\" stroke=\"black\" cx=\"263\" cy=\"-128.5\" rx=\"27\" ry=\"18\"/>\n<text text-anchor=\"middle\" x=\"263\" y=\"-124.8\" font-family=\"Times,serif\" font-size=\"14.00\">*</text>\n</g>\n<!-- 136787592931856*&#45;&gt;136787592931856 -->\n<g id=\"edge2\" class=\"edge\">\n<title>136787592931856*&#45;&gt;136787592931856</title>\n<path fill=\"none\" stroke=\"black\" d=\"M290.34,-128.5C297.77,-128.5 306.37,-128.5 315.6,-128.5\"/>\n<polygon fill=\"black\" stroke=\"black\" points=\"315.84,-132 325.84,-128.5 315.84,-125 315.84,-132\"/>\n</g>\n<!-- 136787592930896 -->\n<g id=\"node5\" class=\"node\">\n<title>136787592930896</title>\n<polygon fill=\"none\" stroke=\"black\" points=\"2,-165.5 2,-201.5 198,-201.5 198,-165.5 2,-165.5\"/>\n<text text-anchor=\"middle\" x=\"17\" y=\"-179.8\" font-family=\"Times,serif\" font-size=\"14.00\">x1</text>\n<polyline fill=\"none\" stroke=\"black\" points=\"32,-165.5 32,-201.5 \"/>\n<text text-anchor=\"middle\" x=\"72\" y=\"-179.8\" font-family=\"Times,serif\" font-size=\"14.00\">data 2.0000</text>\n<polyline fill=\"none\" stroke=\"black\" points=\"112,-165.5 112,-201.5 \"/>\n<text text-anchor=\"middle\" x=\"155\" y=\"-179.8\" font-family=\"Times,serif\" font-size=\"14.00\">grad &#45;1.5000</text>\n</g>\n<!-- 136787592930896&#45;&gt;136787592931856* -->\n<g id=\"edge11\" class=\"edge\">\n<title>136787592930896&#45;&gt;136787592931856*</title>\n<path fill=\"none\" stroke=\"black\" d=\"M172.53,-165.44C181.84,-162.67 191.2,-159.67 200,-156.5 210.53,-152.71 221.75,-147.9 231.72,-143.33\"/>\n<polygon fill=\"black\" stroke=\"black\" points=\"233.25,-146.48 240.82,-139.07 230.28,-140.14 233.25,-146.48\"/>\n</g>\n<!-- 136787592931920 -->\n<g id=\"node6\" class=\"node\">\n<title>136787592931920</title>\n<polygon fill=\"none\" stroke=\"black\" points=\"0,-110.5 0,-146.5 200,-146.5 200,-110.5 0,-110.5\"/>\n<text text-anchor=\"middle\" x=\"16.5\" y=\"-124.8\" font-family=\"Times,serif\" font-size=\"14.00\">w1</text>\n<polyline fill=\"none\" stroke=\"black\" points=\"33,-110.5 33,-146.5 \"/>\n<text text-anchor=\"middle\" x=\"75.5\" y=\"-124.8\" font-family=\"Times,serif\" font-size=\"14.00\">data &#45;3.0000</text>\n<polyline fill=\"none\" stroke=\"black\" points=\"118,-110.5 118,-146.5 \"/>\n<text text-anchor=\"middle\" x=\"159\" y=\"-124.8\" font-family=\"Times,serif\" font-size=\"14.00\">grad 1.0000</text>\n</g>\n<!-- 136787592931920&#45;&gt;136787592931856* -->\n<g id=\"edge14\" class=\"edge\">\n<title>136787592931920&#45;&gt;136787592931856*</title>\n<path fill=\"none\" stroke=\"black\" d=\"M200.21,-128.5C209.2,-128.5 217.86,-128.5 225.7,-128.5\"/>\n<polygon fill=\"black\" stroke=\"black\" points=\"225.85,-132 235.85,-128.5 225.85,-125 225.85,-132\"/>\n</g>\n<!-- 136787592931792 -->\n<g id=\"node7\" class=\"node\">\n<title>136787592931792</title>\n<polygon fill=\"none\" stroke=\"black\" points=\"2.5,-55.5 2.5,-91.5 197.5,-91.5 197.5,-55.5 2.5,-55.5\"/>\n<text text-anchor=\"middle\" x=\"19\" y=\"-69.8\" font-family=\"Times,serif\" font-size=\"14.00\">w2</text>\n<polyline fill=\"none\" stroke=\"black\" points=\"35.5,-55.5 35.5,-91.5 \"/>\n<text text-anchor=\"middle\" x=\"75.5\" y=\"-69.8\" font-family=\"Times,serif\" font-size=\"14.00\">data 1.0000</text>\n<polyline fill=\"none\" stroke=\"black\" points=\"115.5,-55.5 115.5,-91.5 \"/>\n<text text-anchor=\"middle\" x=\"156.5\" y=\"-69.8\" font-family=\"Times,serif\" font-size=\"14.00\">grad 0.0000</text>\n</g>\n<!-- 136787592932112* -->\n<g id=\"node11\" class=\"node\">\n<title>136787592932112*</title>\n<ellipse fill=\"none\" stroke=\"black\" cx=\"263\" cy=\"-73.5\" rx=\"27\" ry=\"18\"/>\n<text text-anchor=\"middle\" x=\"263\" y=\"-69.8\" font-family=\"Times,serif\" font-size=\"14.00\">*</text>\n</g>\n<!-- 136787592931792&#45;&gt;136787592932112* -->\n<g id=\"edge8\" class=\"edge\">\n<title>136787592931792&#45;&gt;136787592932112*</title>\n<path fill=\"none\" stroke=\"black\" d=\"M197.91,-73.5C207.65,-73.5 217.05,-73.5 225.52,-73.5\"/>\n<polygon fill=\"black\" stroke=\"black\" points=\"225.7,-77 235.7,-73.5 225.7,-70 225.7,-77\"/>\n</g>\n<!-- 136787592931984 -->\n<g id=\"node8\" class=\"node\">\n<title>136787592931984</title>\n<polygon fill=\"none\" stroke=\"black\" points=\"1071,-109.5 1071,-145.5 1256,-145.5 1256,-109.5 1071,-109.5\"/>\n<text text-anchor=\"middle\" x=\"1082.5\" y=\"-123.8\" font-family=\"Times,serif\" font-size=\"14.00\">n</text>\n<polyline fill=\"none\" stroke=\"black\" points=\"1094,-109.5 1094,-145.5 \"/>\n<text text-anchor=\"middle\" x=\"1134\" y=\"-123.8\" font-family=\"Times,serif\" font-size=\"14.00\">data 0.8814</text>\n<polyline fill=\"none\" stroke=\"black\" points=\"1174,-109.5 1174,-145.5 \"/>\n<text text-anchor=\"middle\" x=\"1215\" y=\"-123.8\" font-family=\"Times,serif\" font-size=\"14.00\">grad 0.5000</text>\n</g>\n<!-- 136787592931984&#45;&gt;136787592927760tanh -->\n<g id=\"edge12\" class=\"edge\">\n<title>136787592931984&#45;&gt;136787592927760tanh</title>\n<path fill=\"none\" stroke=\"black\" d=\"M1256.01,-127.5C1265.01,-127.5 1273.74,-127.5 1281.66,-127.5\"/>\n<polygon fill=\"black\" stroke=\"black\" points=\"1281.91,-131 1291.91,-127.5 1281.91,-124 1281.91,-131\"/>\n</g>\n<!-- 136787592931984+ -->\n<g id=\"node9\" class=\"node\">\n<title>136787592931984+</title>\n<ellipse fill=\"none\" stroke=\"black\" cx=\"1008\" cy=\"-127.5\" rx=\"27\" ry=\"18\"/>\n<text text-anchor=\"middle\" x=\"1008\" y=\"-123.8\" font-family=\"Times,serif\" font-size=\"14.00\">+</text>\n</g>\n<!-- 136787592931984+&#45;&gt;136787592931984 -->\n<g id=\"edge3\" class=\"edge\">\n<title>136787592931984+&#45;&gt;136787592931984</title>\n<path fill=\"none\" stroke=\"black\" d=\"M1035.04,-127.5C1042.58,-127.5 1051.3,-127.5 1060.57,-127.5\"/>\n<polygon fill=\"black\" stroke=\"black\" points=\"1060.81,-131 1070.81,-127.5 1060.81,-124 1060.81,-131\"/>\n</g>\n<!-- 136787592932112 -->\n<g id=\"node10\" class=\"node\">\n<title>136787592932112</title>\n<polygon fill=\"none\" stroke=\"black\" points=\"328.5,-55.5 328.5,-91.5 543.5,-91.5 543.5,-55.5 328.5,-55.5\"/>\n<text text-anchor=\"middle\" x=\"355\" y=\"-69.8\" font-family=\"Times,serif\" font-size=\"14.00\">x2*w2</text>\n<polyline fill=\"none\" stroke=\"black\" points=\"381.5,-55.5 381.5,-91.5 \"/>\n<text text-anchor=\"middle\" x=\"421.5\" y=\"-69.8\" font-family=\"Times,serif\" font-size=\"14.00\">data 0.0000</text>\n<polyline fill=\"none\" stroke=\"black\" points=\"461.5,-55.5 461.5,-91.5 \"/>\n<text text-anchor=\"middle\" x=\"502.5\" y=\"-69.8\" font-family=\"Times,serif\" font-size=\"14.00\">grad 0.5000</text>\n</g>\n<!-- 136787592932112&#45;&gt;136787592932240+ -->\n<g id=\"edge6\" class=\"edge\">\n<title>136787592932112&#45;&gt;136787592932240+</title>\n<path fill=\"none\" stroke=\"black\" d=\"M543.84,-90.37C554.01,-91.98 563.76,-93.51 572.44,-94.89\"/>\n<polygon fill=\"black\" stroke=\"black\" points=\"572.05,-98.37 582.47,-96.47 573.14,-91.45 572.05,-98.37\"/>\n</g>\n<!-- 136787592932112*&#45;&gt;136787592932112 -->\n<g id=\"edge4\" class=\"edge\">\n<title>136787592932112*&#45;&gt;136787592932112</title>\n<path fill=\"none\" stroke=\"black\" d=\"M290.34,-73.5C298.51,-73.5 308.08,-73.5 318.36,-73.5\"/>\n<polygon fill=\"black\" stroke=\"black\" points=\"318.39,-77 328.39,-73.5 318.39,-70 318.39,-77\"/>\n</g>\n<!-- 136787592931088 -->\n<g id=\"node12\" class=\"node\">\n<title>136787592931088</title>\n<polygon fill=\"none\" stroke=\"black\" points=\"716,-137.5 716,-173.5 901,-173.5 901,-137.5 716,-137.5\"/>\n<text text-anchor=\"middle\" x=\"727.5\" y=\"-151.8\" font-family=\"Times,serif\" font-size=\"14.00\">b</text>\n<polyline fill=\"none\" stroke=\"black\" points=\"739,-137.5 739,-173.5 \"/>\n<text text-anchor=\"middle\" x=\"779\" y=\"-151.8\" font-family=\"Times,serif\" font-size=\"14.00\">data 6.8814</text>\n<polyline fill=\"none\" stroke=\"black\" points=\"819,-137.5 819,-173.5 \"/>\n<text text-anchor=\"middle\" x=\"860\" y=\"-151.8\" font-family=\"Times,serif\" font-size=\"14.00\">grad 0.5000</text>\n</g>\n<!-- 136787592931088&#45;&gt;136787592931984+ -->\n<g id=\"edge9\" class=\"edge\">\n<title>136787592931088&#45;&gt;136787592931984+</title>\n<path fill=\"none\" stroke=\"black\" d=\"M901.02,-142.52C926,-138.98 951.59,-135.36 971.37,-132.55\"/>\n<polygon fill=\"black\" stroke=\"black\" points=\"972.03,-135.99 981.43,-131.12 971.04,-129.06 972.03,-135.99\"/>\n</g>\n<!-- 136787592932240 -->\n<g id=\"node13\" class=\"node\">\n<title>136787592932240</title>\n<polygon fill=\"none\" stroke=\"black\" points=\"672,-82.5 672,-118.5 945,-118.5 945,-82.5 672,-82.5\"/>\n<text text-anchor=\"middle\" x=\"725\" y=\"-96.8\" font-family=\"Times,serif\" font-size=\"14.00\">x1*w1 + x2*w2</text>\n<polyline fill=\"none\" stroke=\"black\" points=\"778,-82.5 778,-118.5 \"/>\n<text text-anchor=\"middle\" x=\"820.5\" y=\"-96.8\" font-family=\"Times,serif\" font-size=\"14.00\">data &#45;6.0000</text>\n<polyline fill=\"none\" stroke=\"black\" points=\"863,-82.5 863,-118.5 \"/>\n<text text-anchor=\"middle\" x=\"904\" y=\"-96.8\" font-family=\"Times,serif\" font-size=\"14.00\">grad 0.5000</text>\n</g>\n<!-- 136787592932240&#45;&gt;136787592931984+ -->\n<g id=\"edge7\" class=\"edge\">\n<title>136787592932240&#45;&gt;136787592931984+</title>\n<path fill=\"none\" stroke=\"black\" d=\"M941.24,-118.51C952.12,-120 962.4,-121.4 971.45,-122.64\"/>\n<polygon fill=\"black\" stroke=\"black\" points=\"971.11,-126.13 981.49,-124.01 972.05,-119.19 971.11,-126.13\"/>\n</g>\n<!-- 136787592932240+&#45;&gt;136787592932240 -->\n<g id=\"edge5\" class=\"edge\">\n<title>136787592932240+&#45;&gt;136787592932240</title>\n<path fill=\"none\" stroke=\"black\" d=\"M636.23,-100.5C643.7,-100.5 652.41,-100.5 661.87,-100.5\"/>\n<polygon fill=\"black\" stroke=\"black\" points=\"661.98,-104 671.98,-100.5 661.98,-97 661.98,-104\"/>\n</g>\n<!-- 136787592931280 -->\n<g id=\"node15\" class=\"node\">\n<title>136787592931280</title>\n<polygon fill=\"none\" stroke=\"black\" points=\"4,-0.5 4,-36.5 196,-36.5 196,-0.5 4,-0.5\"/>\n<text text-anchor=\"middle\" x=\"19\" y=\"-14.8\" font-family=\"Times,serif\" font-size=\"14.00\">x2</text>\n<polyline fill=\"none\" stroke=\"black\" points=\"34,-0.5 34,-36.5 \"/>\n<text text-anchor=\"middle\" x=\"74\" y=\"-14.8\" font-family=\"Times,serif\" font-size=\"14.00\">data 0.0000</text>\n<polyline fill=\"none\" stroke=\"black\" points=\"114,-0.5 114,-36.5 \"/>\n<text text-anchor=\"middle\" x=\"155\" y=\"-14.8\" font-family=\"Times,serif\" font-size=\"14.00\">grad 0.5000</text>\n</g>\n<!-- 136787592931280&#45;&gt;136787592932112* -->\n<g id=\"edge13\" class=\"edge\">\n<title>136787592931280&#45;&gt;136787592932112*</title>\n<path fill=\"none\" stroke=\"black\" d=\"M169.28,-36.5C179.65,-39.61 190.16,-42.98 200,-46.5 210.28,-50.17 221.28,-54.74 231.11,-59.07\"/>\n<polygon fill=\"black\" stroke=\"black\" points=\"229.93,-62.37 240.48,-63.27 232.79,-55.99 229.93,-62.37\"/>\n</g>\n</g>\n</svg>\n",
            "text/plain": [
              "<graphviz.graphs.Digraph at 0x7c6857e2f3d0>"
            ]
          },
          "metadata": {},
          "execution_count": 613
        }
      ]
    },
    {
      "cell_type": "markdown",
      "source": [
        "# verified using backward function\n"
      ],
      "metadata": {
        "id": "G5MpWEWBzJGx"
      }
    },
    {
      "cell_type": "code",
      "source": [
        "import torch"
      ],
      "metadata": {
        "id": "KJczVv10h-KS"
      },
      "execution_count": 616,
      "outputs": []
    },
    {
      "cell_type": "code",
      "source": [
        "x1 = torch.Tensor([2.0]).double()                ; x1.requires_grad = True\n",
        "x2 = torch.Tensor([0.0]).double()                ; x2.requires_grad = True\n",
        "w1 = torch.Tensor([-3.0]).double()               ; w1.requires_grad = True\n",
        "w2 = torch.Tensor([1.0]).double()                ; w2.requires_grad = True\n",
        "b = torch.Tensor([6.8813735870195432]).double()  ; b.requires_grad = True\n",
        "n = x1*w1 + x2*w2 + b\n",
        "o = torch.tanh(n)\n",
        "\n",
        "print(o.data.item())\n",
        "o.backward()\n",
        "print('x2', x2.grad.item())\n",
        "print('w2', w2.grad.item())\n",
        "print('x1', x1.grad.item())\n",
        "print('w1', w1.grad.item())"
      ],
      "metadata": {
        "id": "iWo8ROVTh-Hm",
        "colab": {
          "base_uri": "https://localhost:8080/"
        },
        "outputId": "9337548e-c810-47b5-c58a-66a4cf7a7a10"
      },
      "execution_count": 618,
      "outputs": [
        {
          "output_type": "stream",
          "name": "stdout",
          "text": [
            "0.7071066904050358\n",
            "x2 0.5000001283844369\n",
            "w2 0.0\n",
            "x1 -1.5000003851533106\n",
            "w1 1.0000002567688737\n"
          ]
        }
      ]
    },
    {
      "cell_type": "code",
      "source": [],
      "metadata": {
        "id": "XK-g1Alyh-Et"
      },
      "execution_count": 613,
      "outputs": []
    },
    {
      "cell_type": "code",
      "source": [],
      "metadata": {
        "id": "OKawz-ZDh-Bo"
      },
      "execution_count": 613,
      "outputs": []
    },
    {
      "cell_type": "code",
      "source": [],
      "metadata": {
        "id": "-n5CQHJWYmLi"
      },
      "execution_count": 614,
      "outputs": []
    },
    {
      "cell_type": "code",
      "source": [],
      "metadata": {
        "id": "70tYQTk5Y0I-"
      },
      "execution_count": 617,
      "outputs": []
    },
    {
      "cell_type": "code",
      "source": [],
      "metadata": {
        "id": "7vDbmEhiZANC"
      },
      "execution_count": 615,
      "outputs": []
    }
  ]
}